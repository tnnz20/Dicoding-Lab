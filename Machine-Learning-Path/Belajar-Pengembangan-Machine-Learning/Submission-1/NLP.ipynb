{
  "nbformat": 4,
  "nbformat_minor": 0,
  "metadata": {
    "colab": {
      "name": "subsmission NLP.ipynb",
      "provenance": [],
      "collapsed_sections": []
    },
    "kernelspec": {
      "name": "python3",
      "display_name": "Python 3"
    },
    "language_info": {
      "name": "python"
    }
  },
  "cells": [
    {
      "cell_type": "code",
      "metadata": {
        "id": "m-1_nd367h0j"
      },
      "source": [
        "# import library yang diperlukan\n",
        "\n",
        "import tensorflow as tf\n",
        "from sklearn.model_selection import train_test_split\n",
        "from tensorflow.keras.preprocessing.text import Tokenizer\n",
        "from tensorflow.keras.preprocessing.sequence import pad_sequences"
      ],
      "execution_count": 58,
      "outputs": []
    },
    {
      "cell_type": "code",
      "metadata": {
        "colab": {
          "base_uri": "https://localhost:8080/",
          "height": 204
        },
        "id": "ok243tu34z-m",
        "outputId": "2625f3ec-3644-4d87-afe4-cd4caf7eee5b"
      },
      "source": [
        "import pandas as pd\n",
        "\n",
        "df = pd.read_csv('clickbait_data.csv')\n",
        "df.tail()"
      ],
      "execution_count": 59,
      "outputs": [
        {
          "output_type": "execute_result",
          "data": {
            "text/html": [
              "<div>\n",
              "<style scoped>\n",
              "    .dataframe tbody tr th:only-of-type {\n",
              "        vertical-align: middle;\n",
              "    }\n",
              "\n",
              "    .dataframe tbody tr th {\n",
              "        vertical-align: top;\n",
              "    }\n",
              "\n",
              "    .dataframe thead th {\n",
              "        text-align: right;\n",
              "    }\n",
              "</style>\n",
              "<table border=\"1\" class=\"dataframe\">\n",
              "  <thead>\n",
              "    <tr style=\"text-align: right;\">\n",
              "      <th></th>\n",
              "      <th>headline</th>\n",
              "      <th>clickbait</th>\n",
              "    </tr>\n",
              "  </thead>\n",
              "  <tbody>\n",
              "    <tr>\n",
              "      <th>31995</th>\n",
              "      <td>To Make Female Hearts Flutter in Iraq, Throw a...</td>\n",
              "      <td>0</td>\n",
              "    </tr>\n",
              "    <tr>\n",
              "      <th>31996</th>\n",
              "      <td>British Liberal Democrat Patsy Calton, 56, die...</td>\n",
              "      <td>0</td>\n",
              "    </tr>\n",
              "    <tr>\n",
              "      <th>31997</th>\n",
              "      <td>Drone smartphone app to help heart attack vict...</td>\n",
              "      <td>0</td>\n",
              "    </tr>\n",
              "    <tr>\n",
              "      <th>31998</th>\n",
              "      <td>Netanyahu Urges Pope Benedict, in Israel, to D...</td>\n",
              "      <td>0</td>\n",
              "    </tr>\n",
              "    <tr>\n",
              "      <th>31999</th>\n",
              "      <td>Computer Makers Prepare to Stake Bigger Claim ...</td>\n",
              "      <td>0</td>\n",
              "    </tr>\n",
              "  </tbody>\n",
              "</table>\n",
              "</div>"
            ],
            "text/plain": [
              "                                                headline  clickbait\n",
              "31995  To Make Female Hearts Flutter in Iraq, Throw a...          0\n",
              "31996  British Liberal Democrat Patsy Calton, 56, die...          0\n",
              "31997  Drone smartphone app to help heart attack vict...          0\n",
              "31998  Netanyahu Urges Pope Benedict, in Israel, to D...          0\n",
              "31999  Computer Makers Prepare to Stake Bigger Claim ...          0"
            ]
          },
          "metadata": {},
          "execution_count": 59
        }
      ]
    },
    {
      "cell_type": "code",
      "metadata": {
        "id": "rngjPz418KUo"
      },
      "source": [
        "# membagi attribut dan label\n",
        "text = df['headline'].values\n",
        "y = df['clickbait'].values\n",
        "\n",
        "# split menggunakan train_test_split\n",
        "text_latih, text_test, y_latih, y_test = train_test_split(text, y, test_size=0.2)"
      ],
      "execution_count": 60,
      "outputs": []
    },
    {
      "cell_type": "code",
      "metadata": {
        "id": "e3_4afSy84zD"
      },
      "source": [
        "vocab_size = 5000\n",
        "maxlen = 500\n",
        "embbedding_size = 32\n",
        "\n",
        "# Tokenize text (padding dan sequences)\n",
        "tokenizer = Tokenizer(num_words=vocab_size, oov_token='x')\n",
        "tokenizer.fit_on_texts(text)\n",
        "\n",
        "sekuens_latih = tokenizer.texts_to_sequences(text_latih)\n",
        "sekuens_test = tokenizer.texts_to_sequences(text_test)\n",
        "\n",
        "padded_latih = pad_sequences(sekuens_latih, maxlen=maxlen)\n",
        "padded_test = pad_sequences(sekuens_test, maxlen=maxlen)"
      ],
      "execution_count": 61,
      "outputs": []
    },
    {
      "cell_type": "code",
      "metadata": {
        "id": "od5tGZlJ-F8s"
      },
      "source": [
        "# latih model\n",
        "model = tf.keras.Sequential([\n",
        "    tf.keras.layers.Embedding(vocab_size, embbedding_size, input_length=maxlen),\n",
        "    tf.keras.layers.LSTM(32, return_sequences=True),\n",
        "    tf.keras.layers.GlobalAveragePooling1D(),\n",
        "    tf.keras.layers.Dropout(0.2),\n",
        "    tf.keras.layers.Dense(1, activation='sigmoid')\n",
        "])\n",
        "model.compile(loss='binary_crossentropy',optimizer='adam',metrics=['accuracy'])"
      ],
      "execution_count": 62,
      "outputs": []
    },
    {
      "cell_type": "code",
      "metadata": {
        "id": "XkmDGaPdIs7M"
      },
      "source": [
        "# Callback\n",
        "\n",
        "class myCallback(tf.keras.callbacks.Callback):\n",
        "  def on_epoch_end(self, epoch, logs={}):\n",
        "    if(logs.get('accuracy','val_accuracy')>0.8):\n",
        "      print(\"\\nAkurasi telah mencapai >80%!\")\n",
        "      self.model.stop_training = True\n",
        "callbacks = myCallback()"
      ],
      "execution_count": 63,
      "outputs": []
    },
    {
      "cell_type": "code",
      "metadata": {
        "colab": {
          "base_uri": "https://localhost:8080/"
        },
        "id": "8yLHeGrr_351",
        "outputId": "915d59dd-753d-44fa-abf9-eccc727d16ea"
      },
      "source": [
        "num_epochs = 20\n",
        "history = model.fit(padded_latih, y_latih, epochs=num_epochs, batch_size=512, \n",
        "                    validation_data=(padded_test, y_test), verbose=2, callbacks=[callbacks])"
      ],
      "execution_count": 64,
      "outputs": [
        {
          "output_type": "stream",
          "name": "stdout",
          "text": [
            "Epoch 1/20\n",
            "50/50 - 45s - loss: 0.6932 - accuracy: 0.5066 - val_loss: 0.6930 - val_accuracy: 0.4930\n",
            "Epoch 2/20\n",
            "50/50 - 42s - loss: 0.6924 - accuracy: 0.5245 - val_loss: 0.6914 - val_accuracy: 0.5070\n",
            "Epoch 3/20\n",
            "50/50 - 42s - loss: 0.6861 - accuracy: 0.5849 - val_loss: 0.6724 - val_accuracy: 0.8278\n",
            "Epoch 4/20\n",
            "50/50 - 42s - loss: 0.6585 - accuracy: 0.8346 - val_loss: 0.6480 - val_accuracy: 0.9445\n",
            "\n",
            "Akurasi telah mencapai >80%!\n"
          ]
        }
      ]
    },
    {
      "cell_type": "code",
      "metadata": {
        "colab": {
          "base_uri": "https://localhost:8080/",
          "height": 336
        },
        "id": "jJcpC5caKCqG",
        "outputId": "d3e072ea-3d78-48a3-9ca4-e4e041a1ca90"
      },
      "source": [
        "import matplotlib.pyplot as plt\n",
        "\n",
        "acc = history.history['accuracy']\n",
        "val_acc = history.history['val_accuracy']\n",
        "loss = history.history['loss']\n",
        "val_loss = history.history['val_loss']\n",
        "x = range(1, len(acc) + 1)\n",
        "\n",
        "plt.figure(figsize=(12, 5))\n",
        "plt.subplot(1, 2, 1)\n",
        "plt.plot(x, acc, 'b', label='Training acc')\n",
        "plt.plot(x, val_acc, 'r', label='Validation acc')\n",
        "plt.title('Training and validation accuracy')\n",
        "plt.legend()\n",
        "plt.subplot(1, 2, 2)\n",
        "plt.plot(x, loss, 'b', label='Training loss')\n",
        "plt.plot(x, val_loss, 'r', label='Validation loss')\n",
        "plt.title('Training and validation loss')\n",
        "plt.legend()\n",
        "plt.show()"
      ],
      "execution_count": 65,
      "outputs": [
        {
          "output_type": "display_data",
          "data": {
            "image/png": "[encoded data removed]",
            "text/plain": [
              "<Figure size 864x360 with 2 Axes>"
            ]
          },
          "metadata": {
            "needs_background": "light"
          }
        }
      ]
    }
  ]
}