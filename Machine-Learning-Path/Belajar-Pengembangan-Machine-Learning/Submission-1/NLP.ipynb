{
  "nbformat": 4,
  "nbformat_minor": 0,
  "metadata": {
    "colab": {
      "name": "subsmission NLP.ipynb",
      "provenance": [],
      "collapsed_sections": []
    },
    "kernelspec": {
      "name": "python3",
      "display_name": "Python 3"
    },
    "language_info": {
      "name": "python"
    },
    "accelerator": "GPU"
  },
  "cells": [
    {
      "cell_type": "markdown",
      "source": [
        "# Clickbait Classifiers - Sentiment Analisys"
      ],
      "metadata": {
        "id": "oB84HPlDweq9"
      }
    },
    {
      "cell_type": "markdown",
      "source": [
        "## Download Package"
      ],
      "metadata": {
        "id": "rejN6QtEyKAQ"
      }
    },
    {
      "cell_type": "code",
      "source": [
        "! pip install opendatasets"
      ],
      "metadata": {
        "colab": {
          "base_uri": "https://localhost:8080/"
        },
        "id": "68Ol-t-PwPgA",
        "outputId": "f268e720-babc-4cfa-bb4d-19b1c81e0ced"
      },
      "execution_count": 1,
      "outputs": [
        {
          "output_type": "stream",
          "name": "stdout",
          "text": [
            "Collecting opendatasets\n",
            "  Downloading opendatasets-0.1.22-py3-none-any.whl (15 kB)\n",
            "Requirement already satisfied: tqdm in /usr/local/lib/python3.7/dist-packages (from opendatasets) (4.64.0)\n",
            "Requirement already satisfied: kaggle in /usr/local/lib/python3.7/dist-packages (from opendatasets) (1.5.12)\n",
            "Requirement already satisfied: click in /usr/local/lib/python3.7/dist-packages (from opendatasets) (7.1.2)\n",
            "Requirement already satisfied: urllib3 in /usr/local/lib/python3.7/dist-packages (from kaggle->opendatasets) (1.24.3)\n",
            "Requirement already satisfied: six>=1.10 in /usr/local/lib/python3.7/dist-packages (from kaggle->opendatasets) (1.15.0)\n",
            "Requirement already satisfied: python-dateutil in /usr/local/lib/python3.7/dist-packages (from kaggle->opendatasets) (2.8.2)\n",
            "Requirement already satisfied: requests in /usr/local/lib/python3.7/dist-packages (from kaggle->opendatasets) (2.23.0)\n",
            "Requirement already satisfied: certifi in /usr/local/lib/python3.7/dist-packages (from kaggle->opendatasets) (2021.10.8)\n",
            "Requirement already satisfied: python-slugify in /usr/local/lib/python3.7/dist-packages (from kaggle->opendatasets) (6.1.2)\n",
            "Requirement already satisfied: text-unidecode>=1.3 in /usr/local/lib/python3.7/dist-packages (from python-slugify->kaggle->opendatasets) (1.3)\n",
            "Requirement already satisfied: chardet<4,>=3.0.2 in /usr/local/lib/python3.7/dist-packages (from requests->kaggle->opendatasets) (3.0.4)\n",
            "Requirement already satisfied: idna<3,>=2.5 in /usr/local/lib/python3.7/dist-packages (from requests->kaggle->opendatasets) (2.10)\n",
            "Installing collected packages: opendatasets\n",
            "Successfully installed opendatasets-0.1.22\n"
          ]
        }
      ]
    },
    {
      "cell_type": "markdown",
      "source": [
        "## Import Library and Datasets"
      ],
      "metadata": {
        "id": "fD1p11wSyMs3"
      }
    },
    {
      "cell_type": "code",
      "metadata": {
        "id": "m-1_nd367h0j"
      },
      "source": [
        "import numpy as np\n",
        "import pandas as pd\n",
        "import tensorflow as tf\n",
        "import matplotlib.pyplot as plt\n",
        "import opendatasets as od\n",
        "\n",
        "from tensorflow.keras.preprocessing.text import Tokenizer\n",
        "from tensorflow.keras.preprocessing.sequence import pad_sequences\n",
        "from sklearn.model_selection import train_test_split\n",
        "\n",
        "\n",
        "\n",
        "import nltk\n",
        "from nltk.corpus import stopwords\n",
        "from nltk.stem import SnowballStemmer"
      ],
      "execution_count": 2,
      "outputs": []
    },
    {
      "cell_type": "markdown",
      "source": [
        "Sumber : [dataset]('https://www.kaggle.com/datasets/amananandrai/clickbait-dataset')"
      ],
      "metadata": {
        "id": "tMdn_41tJkWw"
      }
    },
    {
      "cell_type": "code",
      "source": [
        "od.download('https://www.kaggle.com/datasets/amananandrai/clickbait-dataset/code')"
      ],
      "metadata": {
        "colab": {
          "base_uri": "https://localhost:8080/"
        },
        "id": "xhXk49D9xHZi",
        "outputId": "2e118f97-2722-44a9-e399-e17724b7cf21"
      },
      "execution_count": 3,
      "outputs": [
        {
          "output_type": "stream",
          "name": "stdout",
          "text": [
            "Please provide your Kaggle credentials to download this dataset. Learn more: http://bit.ly/kaggle-creds\n",
            "Your Kaggle username: tnnz20\n",
            "Your Kaggle Key: ··········\n",
            "Downloading clickbait-dataset.zip to ./clickbait-dataset\n"
          ]
        },
        {
          "output_type": "stream",
          "name": "stderr",
          "text": [
            "100%|██████████| 743k/743k [00:00<00:00, 35.9MB/s]"
          ]
        },
        {
          "output_type": "stream",
          "name": "stdout",
          "text": [
            "\n"
          ]
        },
        {
          "output_type": "stream",
          "name": "stderr",
          "text": [
            "\n"
          ]
        }
      ]
    },
    {
      "cell_type": "markdown",
      "source": [
        "## Load Datasets"
      ],
      "metadata": {
        "id": "vWHhgWTXZirY"
      }
    },
    {
      "cell_type": "code",
      "metadata": {
        "colab": {
          "base_uri": "https://localhost:8080/",
          "height": 224
        },
        "id": "ok243tu34z-m",
        "outputId": "b9278b44-b986-446a-9b01-726a706d0489"
      },
      "source": [
        "df = pd.read_csv('/content/clickbait-dataset/clickbait_data.csv')\n",
        "print(f'Total Data : {df.shape[0]}')\n",
        "df.head()"
      ],
      "execution_count": 4,
      "outputs": [
        {
          "output_type": "stream",
          "name": "stdout",
          "text": [
            "Total Data : 32000\n"
          ]
        },
        {
          "output_type": "execute_result",
          "data": {
            "text/plain": [
              "                                            headline  clickbait\n",
              "0                                 Should I Get Bings          1\n",
              "1      Which TV Female Friend Group Do You Belong In          1\n",
              "2  The New \"Star Wars: The Force Awakens\" Trailer...          1\n",
              "3  This Vine Of New York On \"Celebrity Big Brothe...          1\n",
              "4  A Couple Did A Stunning Photo Shoot With Their...          1"
            ],
            "text/html": [
              "\n",
              "  <div id=\"df-aec200bc-9354-4666-b180-be081e2cc5ad\">\n",
              "    <div class=\"colab-df-container\">\n",
              "      <div>\n",
              "<style scoped>\n",
              "    .dataframe tbody tr th:only-of-type {\n",
              "        vertical-align: middle;\n",
              "    }\n",
              "\n",
              "    .dataframe tbody tr th {\n",
              "        vertical-align: top;\n",
              "    }\n",
              "\n",
              "    .dataframe thead th {\n",
              "        text-align: right;\n",
              "    }\n",
              "</style>\n",
              "<table border=\"1\" class=\"dataframe\">\n",
              "  <thead>\n",
              "    <tr style=\"text-align: right;\">\n",
              "      <th></th>\n",
              "      <th>headline</th>\n",
              "      <th>clickbait</th>\n",
              "    </tr>\n",
              "  </thead>\n",
              "  <tbody>\n",
              "    <tr>\n",
              "      <th>0</th>\n",
              "      <td>Should I Get Bings</td>\n",
              "      <td>1</td>\n",
              "    </tr>\n",
              "    <tr>\n",
              "      <th>1</th>\n",
              "      <td>Which TV Female Friend Group Do You Belong In</td>\n",
              "      <td>1</td>\n",
              "    </tr>\n",
              "    <tr>\n",
              "      <th>2</th>\n",
              "      <td>The New \"Star Wars: The Force Awakens\" Trailer...</td>\n",
              "      <td>1</td>\n",
              "    </tr>\n",
              "    <tr>\n",
              "      <th>3</th>\n",
              "      <td>This Vine Of New York On \"Celebrity Big Brothe...</td>\n",
              "      <td>1</td>\n",
              "    </tr>\n",
              "    <tr>\n",
              "      <th>4</th>\n",
              "      <td>A Couple Did A Stunning Photo Shoot With Their...</td>\n",
              "      <td>1</td>\n",
              "    </tr>\n",
              "  </tbody>\n",
              "</table>\n",
              "</div>\n",
              "      <button class=\"colab-df-convert\" onclick=\"convertToInteractive('df-aec200bc-9354-4666-b180-be081e2cc5ad')\"\n",
              "              title=\"Convert this dataframe to an interactive table.\"\n",
              "              style=\"display:none;\">\n",
              "        \n",
              "  <svg xmlns=\"http://www.w3.org/2000/svg\" height=\"24px\"viewBox=\"0 0 24 24\"\n",
              "       width=\"24px\">\n",
              "    <path d=\"M0 0h24v24H0V0z\" fill=\"none\"/>\n",
              "    <path d=\"M18.56 5.44l.94 2.06.94-2.06 2.06-.94-2.06-.94-.94-2.06-.94 2.06-2.06.94zm-11 1L8.5 8.5l.94-2.06 2.06-.94-2.06-.94L8.5 2.5l-.94 2.06-2.06.94zm10 10l.94 2.06.94-2.06 2.06-.94-2.06-.94-.94-2.06-.94 2.06-2.06.94z\"/><path d=\"M17.41 7.96l-1.37-1.37c-.4-.4-.92-.59-1.43-.59-.52 0-1.04.2-1.43.59L10.3 9.45l-7.72 7.72c-.78.78-.78 2.05 0 2.83L4 21.41c.39.39.9.59 1.41.59.51 0 1.02-.2 1.41-.59l7.78-7.78 2.81-2.81c.8-.78.8-2.07 0-2.86zM5.41 20L4 18.59l7.72-7.72 1.47 1.35L5.41 20z\"/>\n",
              "  </svg>\n",
              "      </button>\n",
              "      \n",
              "  <style>\n",
              "    .colab-df-container {\n",
              "      display:flex;\n",
              "      flex-wrap:wrap;\n",
              "      gap: 12px;\n",
              "    }\n",
              "\n",
              "    .colab-df-convert {\n",
              "      background-color: #E8F0FE;\n",
              "      border: none;\n",
              "      border-radius: 50%;\n",
              "      cursor: pointer;\n",
              "      display: none;\n",
              "      fill: #1967D2;\n",
              "      height: 32px;\n",
              "      padding: 0 0 0 0;\n",
              "      width: 32px;\n",
              "    }\n",
              "\n",
              "    .colab-df-convert:hover {\n",
              "      background-color: #E2EBFA;\n",
              "      box-shadow: 0px 1px 2px rgba(60, 64, 67, 0.3), 0px 1px 3px 1px rgba(60, 64, 67, 0.15);\n",
              "      fill: #174EA6;\n",
              "    }\n",
              "\n",
              "    [theme=dark] .colab-df-convert {\n",
              "      background-color: #3B4455;\n",
              "      fill: #D2E3FC;\n",
              "    }\n",
              "\n",
              "    [theme=dark] .colab-df-convert:hover {\n",
              "      background-color: #434B5C;\n",
              "      box-shadow: 0px 1px 3px 1px rgba(0, 0, 0, 0.15);\n",
              "      filter: drop-shadow(0px 1px 2px rgba(0, 0, 0, 0.3));\n",
              "      fill: #FFFFFF;\n",
              "    }\n",
              "  </style>\n",
              "\n",
              "      <script>\n",
              "        const buttonEl =\n",
              "          document.querySelector('#df-aec200bc-9354-4666-b180-be081e2cc5ad button.colab-df-convert');\n",
              "        buttonEl.style.display =\n",
              "          google.colab.kernel.accessAllowed ? 'block' : 'none';\n",
              "\n",
              "        async function convertToInteractive(key) {\n",
              "          const element = document.querySelector('#df-aec200bc-9354-4666-b180-be081e2cc5ad');\n",
              "          const dataTable =\n",
              "            await google.colab.kernel.invokeFunction('convertToInteractive',\n",
              "                                                     [key], {});\n",
              "          if (!dataTable) return;\n",
              "\n",
              "          const docLinkHtml = 'Like what you see? Visit the ' +\n",
              "            '<a target=\"_blank\" href=https://colab.research.google.com/notebooks/data_table.ipynb>data table notebook</a>'\n",
              "            + ' to learn more about interactive tables.';\n",
              "          element.innerHTML = '';\n",
              "          dataTable['output_type'] = 'display_data';\n",
              "          await google.colab.output.renderOutput(dataTable, element);\n",
              "          const docLink = document.createElement('div');\n",
              "          docLink.innerHTML = docLinkHtml;\n",
              "          element.appendChild(docLink);\n",
              "        }\n",
              "      </script>\n",
              "    </div>\n",
              "  </div>\n",
              "  "
            ]
          },
          "metadata": {},
          "execution_count": 4
        }
      ]
    },
    {
      "cell_type": "markdown",
      "source": [
        "## Check Missing Value"
      ],
      "metadata": {
        "id": "V-bzlu5CyTYc"
      }
    },
    {
      "cell_type": "code",
      "source": [
        "df.isna().sum()"
      ],
      "metadata": {
        "colab": {
          "base_uri": "https://localhost:8080/"
        },
        "id": "1foPrkB6xbW-",
        "outputId": "35765b13-cfab-4e8c-bac2-22ad07969537"
      },
      "execution_count": 5,
      "outputs": [
        {
          "output_type": "execute_result",
          "data": {
            "text/plain": [
              "headline     0\n",
              "clickbait    0\n",
              "dtype: int64"
            ]
          },
          "metadata": {},
          "execution_count": 5
        }
      ]
    },
    {
      "cell_type": "markdown",
      "source": [
        "# Check Total Click Bait Distribution"
      ],
      "metadata": {
        "id": "c2fQsVHeyWNw"
      }
    },
    {
      "cell_type": "code",
      "source": [
        "df['clickbait'].value_counts()"
      ],
      "metadata": {
        "colab": {
          "base_uri": "https://localhost:8080/"
        },
        "id": "wem8i8z4x6Gx",
        "outputId": "89961146-31ca-4619-90e0-7192c95b360a"
      },
      "execution_count": 6,
      "outputs": [
        {
          "output_type": "execute_result",
          "data": {
            "text/plain": [
              "0    16001\n",
              "1    15999\n",
              "Name: clickbait, dtype: int64"
            ]
          },
          "metadata": {},
          "execution_count": 6
        }
      ]
    },
    {
      "cell_type": "markdown",
      "source": [
        "## Show random text"
      ],
      "metadata": {
        "id": "TnribcxP32y1"
      }
    },
    {
      "cell_type": "code",
      "source": [
        "random = np.random.randint(100)\n",
        "\n",
        "df['headline'][random]"
      ],
      "metadata": {
        "colab": {
          "base_uri": "https://localhost:8080/",
          "height": 35
        },
        "id": "6khfnBiIy8eW",
        "outputId": "f8876dab-d7a3-4358-d869-68252b1e8a3f"
      },
      "execution_count": 7,
      "outputs": [
        {
          "output_type": "execute_result",
          "data": {
            "text/plain": [
              "\"There's An Amazing New Beauty Box Catering To Women Of Color\""
            ],
            "application/vnd.google.colaboratory.intrinsic+json": {
              "type": "string"
            }
          },
          "metadata": {},
          "execution_count": 7
        }
      ]
    },
    {
      "cell_type": "markdown",
      "source": [
        "## Convert headline text into lower case"
      ],
      "metadata": {
        "id": "GpVcr3T-ZmJJ"
      }
    },
    {
      "cell_type": "code",
      "source": [
        "df['headline'] = df['headline'].str.lower()"
      ],
      "metadata": {
        "id": "6iYrfi9M8HiI"
      },
      "execution_count": 8,
      "outputs": []
    },
    {
      "cell_type": "markdown",
      "source": [
        "## Remove stopwords using nltk"
      ],
      "metadata": {
        "id": "OvBfWGqn7ZTY"
      }
    },
    {
      "cell_type": "code",
      "source": [
        "nltk.download('stopwords')"
      ],
      "metadata": {
        "colab": {
          "base_uri": "https://localhost:8080/"
        },
        "id": "8-xvnl9qHg5j",
        "outputId": "f6daddb5-90a5-4eb5-f1d5-973bdf926e41"
      },
      "execution_count": 9,
      "outputs": [
        {
          "output_type": "stream",
          "name": "stdout",
          "text": [
            "[nltk_data] Downloading package stopwords to /root/nltk_data...\n",
            "[nltk_data]   Unzipping corpora/stopwords.zip.\n"
          ]
        },
        {
          "output_type": "execute_result",
          "data": {
            "text/plain": [
              "True"
            ]
          },
          "metadata": {},
          "execution_count": 9
        }
      ]
    },
    {
      "cell_type": "code",
      "source": [
        "stop = set(stopwords.words('english'))\n",
        "df['new_headline'] = df['headline'].apply(lambda x:' '.join([word for word in x.split() if word not in (stop)]))\n",
        "df.head(10)"
      ],
      "metadata": {
        "colab": {
          "base_uri": "https://localhost:8080/",
          "height": 363
        },
        "id": "p6wkHwcW6K--",
        "outputId": "70e415f0-8963-49cc-d5cd-1465bf83ff30"
      },
      "execution_count": 10,
      "outputs": [
        {
          "output_type": "execute_result",
          "data": {
            "text/plain": [
              "                                            headline  clickbait  \\\n",
              "0                                 should i get bings          1   \n",
              "1      which tv female friend group do you belong in          1   \n",
              "2  the new \"star wars: the force awakens\" trailer...          1   \n",
              "3  this vine of new york on \"celebrity big brothe...          1   \n",
              "4  a couple did a stunning photo shoot with their...          1   \n",
              "5  how to flirt with queer girls without making a...          1   \n",
              "6  32 cute things to distract from your awkward t...          1   \n",
              "7             if disney princesses were from florida          1   \n",
              "8  what's a quote or lyric that best describes yo...          1   \n",
              "9  natalie dormer and sam claflin play a game to ...          1   \n",
              "\n",
              "                                        new_headline  \n",
              "0                                          get bings  \n",
              "1                      tv female friend group belong  \n",
              "2  new \"star wars: force awakens\" trailer give ch...  \n",
              "3  vine new york \"celebrity big brother\" fucking ...  \n",
              "4  couple stunning photo shoot baby learning inop...  \n",
              "5        flirt queer girls without making total fool  \n",
              "6       32 cute things distract awkward thanksgiving  \n",
              "7                          disney princesses florida  \n",
              "8       what's quote lyric best describes depression  \n",
              "9  natalie dormer sam claflin play game see they'...  "
            ],
            "text/html": [
              "\n",
              "  <div id=\"df-1837b455-e105-442c-bd6a-b71b233d0393\">\n",
              "    <div class=\"colab-df-container\">\n",
              "      <div>\n",
              "<style scoped>\n",
              "    .dataframe tbody tr th:only-of-type {\n",
              "        vertical-align: middle;\n",
              "    }\n",
              "\n",
              "    .dataframe tbody tr th {\n",
              "        vertical-align: top;\n",
              "    }\n",
              "\n",
              "    .dataframe thead th {\n",
              "        text-align: right;\n",
              "    }\n",
              "</style>\n",
              "<table border=\"1\" class=\"dataframe\">\n",
              "  <thead>\n",
              "    <tr style=\"text-align: right;\">\n",
              "      <th></th>\n",
              "      <th>headline</th>\n",
              "      <th>clickbait</th>\n",
              "      <th>new_headline</th>\n",
              "    </tr>\n",
              "  </thead>\n",
              "  <tbody>\n",
              "    <tr>\n",
              "      <th>0</th>\n",
              "      <td>should i get bings</td>\n",
              "      <td>1</td>\n",
              "      <td>get bings</td>\n",
              "    </tr>\n",
              "    <tr>\n",
              "      <th>1</th>\n",
              "      <td>which tv female friend group do you belong in</td>\n",
              "      <td>1</td>\n",
              "      <td>tv female friend group belong</td>\n",
              "    </tr>\n",
              "    <tr>\n",
              "      <th>2</th>\n",
              "      <td>the new \"star wars: the force awakens\" trailer...</td>\n",
              "      <td>1</td>\n",
              "      <td>new \"star wars: force awakens\" trailer give ch...</td>\n",
              "    </tr>\n",
              "    <tr>\n",
              "      <th>3</th>\n",
              "      <td>this vine of new york on \"celebrity big brothe...</td>\n",
              "      <td>1</td>\n",
              "      <td>vine new york \"celebrity big brother\" fucking ...</td>\n",
              "    </tr>\n",
              "    <tr>\n",
              "      <th>4</th>\n",
              "      <td>a couple did a stunning photo shoot with their...</td>\n",
              "      <td>1</td>\n",
              "      <td>couple stunning photo shoot baby learning inop...</td>\n",
              "    </tr>\n",
              "    <tr>\n",
              "      <th>5</th>\n",
              "      <td>how to flirt with queer girls without making a...</td>\n",
              "      <td>1</td>\n",
              "      <td>flirt queer girls without making total fool</td>\n",
              "    </tr>\n",
              "    <tr>\n",
              "      <th>6</th>\n",
              "      <td>32 cute things to distract from your awkward t...</td>\n",
              "      <td>1</td>\n",
              "      <td>32 cute things distract awkward thanksgiving</td>\n",
              "    </tr>\n",
              "    <tr>\n",
              "      <th>7</th>\n",
              "      <td>if disney princesses were from florida</td>\n",
              "      <td>1</td>\n",
              "      <td>disney princesses florida</td>\n",
              "    </tr>\n",
              "    <tr>\n",
              "      <th>8</th>\n",
              "      <td>what's a quote or lyric that best describes yo...</td>\n",
              "      <td>1</td>\n",
              "      <td>what's quote lyric best describes depression</td>\n",
              "    </tr>\n",
              "    <tr>\n",
              "      <th>9</th>\n",
              "      <td>natalie dormer and sam claflin play a game to ...</td>\n",
              "      <td>1</td>\n",
              "      <td>natalie dormer sam claflin play game see they'...</td>\n",
              "    </tr>\n",
              "  </tbody>\n",
              "</table>\n",
              "</div>\n",
              "      <button class=\"colab-df-convert\" onclick=\"convertToInteractive('df-1837b455-e105-442c-bd6a-b71b233d0393')\"\n",
              "              title=\"Convert this dataframe to an interactive table.\"\n",
              "              style=\"display:none;\">\n",
              "        \n",
              "  <svg xmlns=\"http://www.w3.org/2000/svg\" height=\"24px\"viewBox=\"0 0 24 24\"\n",
              "       width=\"24px\">\n",
              "    <path d=\"M0 0h24v24H0V0z\" fill=\"none\"/>\n",
              "    <path d=\"M18.56 5.44l.94 2.06.94-2.06 2.06-.94-2.06-.94-.94-2.06-.94 2.06-2.06.94zm-11 1L8.5 8.5l.94-2.06 2.06-.94-2.06-.94L8.5 2.5l-.94 2.06-2.06.94zm10 10l.94 2.06.94-2.06 2.06-.94-2.06-.94-.94-2.06-.94 2.06-2.06.94z\"/><path d=\"M17.41 7.96l-1.37-1.37c-.4-.4-.92-.59-1.43-.59-.52 0-1.04.2-1.43.59L10.3 9.45l-7.72 7.72c-.78.78-.78 2.05 0 2.83L4 21.41c.39.39.9.59 1.41.59.51 0 1.02-.2 1.41-.59l7.78-7.78 2.81-2.81c.8-.78.8-2.07 0-2.86zM5.41 20L4 18.59l7.72-7.72 1.47 1.35L5.41 20z\"/>\n",
              "  </svg>\n",
              "      </button>\n",
              "      \n",
              "  <style>\n",
              "    .colab-df-container {\n",
              "      display:flex;\n",
              "      flex-wrap:wrap;\n",
              "      gap: 12px;\n",
              "    }\n",
              "\n",
              "    .colab-df-convert {\n",
              "      background-color: #E8F0FE;\n",
              "      border: none;\n",
              "      border-radius: 50%;\n",
              "      cursor: pointer;\n",
              "      display: none;\n",
              "      fill: #1967D2;\n",
              "      height: 32px;\n",
              "      padding: 0 0 0 0;\n",
              "      width: 32px;\n",
              "    }\n",
              "\n",
              "    .colab-df-convert:hover {\n",
              "      background-color: #E2EBFA;\n",
              "      box-shadow: 0px 1px 2px rgba(60, 64, 67, 0.3), 0px 1px 3px 1px rgba(60, 64, 67, 0.15);\n",
              "      fill: #174EA6;\n",
              "    }\n",
              "\n",
              "    [theme=dark] .colab-df-convert {\n",
              "      background-color: #3B4455;\n",
              "      fill: #D2E3FC;\n",
              "    }\n",
              "\n",
              "    [theme=dark] .colab-df-convert:hover {\n",
              "      background-color: #434B5C;\n",
              "      box-shadow: 0px 1px 3px 1px rgba(0, 0, 0, 0.15);\n",
              "      filter: drop-shadow(0px 1px 2px rgba(0, 0, 0, 0.3));\n",
              "      fill: #FFFFFF;\n",
              "    }\n",
              "  </style>\n",
              "\n",
              "      <script>\n",
              "        const buttonEl =\n",
              "          document.querySelector('#df-1837b455-e105-442c-bd6a-b71b233d0393 button.colab-df-convert');\n",
              "        buttonEl.style.display =\n",
              "          google.colab.kernel.accessAllowed ? 'block' : 'none';\n",
              "\n",
              "        async function convertToInteractive(key) {\n",
              "          const element = document.querySelector('#df-1837b455-e105-442c-bd6a-b71b233d0393');\n",
              "          const dataTable =\n",
              "            await google.colab.kernel.invokeFunction('convertToInteractive',\n",
              "                                                     [key], {});\n",
              "          if (!dataTable) return;\n",
              "\n",
              "          const docLinkHtml = 'Like what you see? Visit the ' +\n",
              "            '<a target=\"_blank\" href=https://colab.research.google.com/notebooks/data_table.ipynb>data table notebook</a>'\n",
              "            + ' to learn more about interactive tables.';\n",
              "          element.innerHTML = '';\n",
              "          dataTable['output_type'] = 'display_data';\n",
              "          await google.colab.output.renderOutput(dataTable, element);\n",
              "          const docLink = document.createElement('div');\n",
              "          docLink.innerHTML = docLinkHtml;\n",
              "          element.appendChild(docLink);\n",
              "        }\n",
              "      </script>\n",
              "    </div>\n",
              "  </div>\n",
              "  "
            ]
          },
          "metadata": {},
          "execution_count": 10
        }
      ]
    },
    {
      "cell_type": "markdown",
      "source": [
        "## Stemming headline with Snowball Stemmer nltk"
      ],
      "metadata": {
        "id": "8CE9P8UNJRE9"
      }
    },
    {
      "cell_type": "code",
      "source": [
        "def stemming(sentences):\n",
        "    snowball = SnowballStemmer(language='english')\n",
        "    \n",
        "    return snowball.stem(sentences)"
      ],
      "metadata": {
        "id": "KCvuB_UiGq7C"
      },
      "execution_count": 11,
      "outputs": []
    },
    {
      "cell_type": "code",
      "source": [
        "df['new_headline'] = df['new_headline'].apply(stemming)\n",
        "df.head(10)"
      ],
      "metadata": {
        "colab": {
          "base_uri": "https://localhost:8080/",
          "height": 363
        },
        "id": "kVVwFbrEHAFa",
        "outputId": "b249d8fe-623e-41ad-ba69-31942ca0df00"
      },
      "execution_count": 12,
      "outputs": [
        {
          "output_type": "execute_result",
          "data": {
            "text/plain": [
              "                                            headline  clickbait  \\\n",
              "0                                 should i get bings          1   \n",
              "1      which tv female friend group do you belong in          1   \n",
              "2  the new \"star wars: the force awakens\" trailer...          1   \n",
              "3  this vine of new york on \"celebrity big brothe...          1   \n",
              "4  a couple did a stunning photo shoot with their...          1   \n",
              "5  how to flirt with queer girls without making a...          1   \n",
              "6  32 cute things to distract from your awkward t...          1   \n",
              "7             if disney princesses were from florida          1   \n",
              "8  what's a quote or lyric that best describes yo...          1   \n",
              "9  natalie dormer and sam claflin play a game to ...          1   \n",
              "\n",
              "                                        new_headline  \n",
              "0                                              get b  \n",
              "1                      tv female friend group belong  \n",
              "2   new \"star wars: force awakens\" trailer give chil  \n",
              "3  vine new york \"celebrity big brother\" fucking ...  \n",
              "4  couple stunning photo shoot baby learning inop...  \n",
              "5        flirt queer girls without making total fool  \n",
              "6          32 cute things distract awkward thanksgiv  \n",
              "7                          disney princesses florida  \n",
              "8          what's quote lyric best describes depress  \n",
              "9  natalie dormer sam claflin play game see they'...  "
            ],
            "text/html": [
              "\n",
              "  <div id=\"df-bdeff85a-a8ea-4947-9df2-6080d44ef958\">\n",
              "    <div class=\"colab-df-container\">\n",
              "      <div>\n",
              "<style scoped>\n",
              "    .dataframe tbody tr th:only-of-type {\n",
              "        vertical-align: middle;\n",
              "    }\n",
              "\n",
              "    .dataframe tbody tr th {\n",
              "        vertical-align: top;\n",
              "    }\n",
              "\n",
              "    .dataframe thead th {\n",
              "        text-align: right;\n",
              "    }\n",
              "</style>\n",
              "<table border=\"1\" class=\"dataframe\">\n",
              "  <thead>\n",
              "    <tr style=\"text-align: right;\">\n",
              "      <th></th>\n",
              "      <th>headline</th>\n",
              "      <th>clickbait</th>\n",
              "      <th>new_headline</th>\n",
              "    </tr>\n",
              "  </thead>\n",
              "  <tbody>\n",
              "    <tr>\n",
              "      <th>0</th>\n",
              "      <td>should i get bings</td>\n",
              "      <td>1</td>\n",
              "      <td>get b</td>\n",
              "    </tr>\n",
              "    <tr>\n",
              "      <th>1</th>\n",
              "      <td>which tv female friend group do you belong in</td>\n",
              "      <td>1</td>\n",
              "      <td>tv female friend group belong</td>\n",
              "    </tr>\n",
              "    <tr>\n",
              "      <th>2</th>\n",
              "      <td>the new \"star wars: the force awakens\" trailer...</td>\n",
              "      <td>1</td>\n",
              "      <td>new \"star wars: force awakens\" trailer give chil</td>\n",
              "    </tr>\n",
              "    <tr>\n",
              "      <th>3</th>\n",
              "      <td>this vine of new york on \"celebrity big brothe...</td>\n",
              "      <td>1</td>\n",
              "      <td>vine new york \"celebrity big brother\" fucking ...</td>\n",
              "    </tr>\n",
              "    <tr>\n",
              "      <th>4</th>\n",
              "      <td>a couple did a stunning photo shoot with their...</td>\n",
              "      <td>1</td>\n",
              "      <td>couple stunning photo shoot baby learning inop...</td>\n",
              "    </tr>\n",
              "    <tr>\n",
              "      <th>5</th>\n",
              "      <td>how to flirt with queer girls without making a...</td>\n",
              "      <td>1</td>\n",
              "      <td>flirt queer girls without making total fool</td>\n",
              "    </tr>\n",
              "    <tr>\n",
              "      <th>6</th>\n",
              "      <td>32 cute things to distract from your awkward t...</td>\n",
              "      <td>1</td>\n",
              "      <td>32 cute things distract awkward thanksgiv</td>\n",
              "    </tr>\n",
              "    <tr>\n",
              "      <th>7</th>\n",
              "      <td>if disney princesses were from florida</td>\n",
              "      <td>1</td>\n",
              "      <td>disney princesses florida</td>\n",
              "    </tr>\n",
              "    <tr>\n",
              "      <th>8</th>\n",
              "      <td>what's a quote or lyric that best describes yo...</td>\n",
              "      <td>1</td>\n",
              "      <td>what's quote lyric best describes depress</td>\n",
              "    </tr>\n",
              "    <tr>\n",
              "      <th>9</th>\n",
              "      <td>natalie dormer and sam claflin play a game to ...</td>\n",
              "      <td>1</td>\n",
              "      <td>natalie dormer sam claflin play game see they'...</td>\n",
              "    </tr>\n",
              "  </tbody>\n",
              "</table>\n",
              "</div>\n",
              "      <button class=\"colab-df-convert\" onclick=\"convertToInteractive('df-bdeff85a-a8ea-4947-9df2-6080d44ef958')\"\n",
              "              title=\"Convert this dataframe to an interactive table.\"\n",
              "              style=\"display:none;\">\n",
              "        \n",
              "  <svg xmlns=\"http://www.w3.org/2000/svg\" height=\"24px\"viewBox=\"0 0 24 24\"\n",
              "       width=\"24px\">\n",
              "    <path d=\"M0 0h24v24H0V0z\" fill=\"none\"/>\n",
              "    <path d=\"M18.56 5.44l.94 2.06.94-2.06 2.06-.94-2.06-.94-.94-2.06-.94 2.06-2.06.94zm-11 1L8.5 8.5l.94-2.06 2.06-.94-2.06-.94L8.5 2.5l-.94 2.06-2.06.94zm10 10l.94 2.06.94-2.06 2.06-.94-2.06-.94-.94-2.06-.94 2.06-2.06.94z\"/><path d=\"M17.41 7.96l-1.37-1.37c-.4-.4-.92-.59-1.43-.59-.52 0-1.04.2-1.43.59L10.3 9.45l-7.72 7.72c-.78.78-.78 2.05 0 2.83L4 21.41c.39.39.9.59 1.41.59.51 0 1.02-.2 1.41-.59l7.78-7.78 2.81-2.81c.8-.78.8-2.07 0-2.86zM5.41 20L4 18.59l7.72-7.72 1.47 1.35L5.41 20z\"/>\n",
              "  </svg>\n",
              "      </button>\n",
              "      \n",
              "  <style>\n",
              "    .colab-df-container {\n",
              "      display:flex;\n",
              "      flex-wrap:wrap;\n",
              "      gap: 12px;\n",
              "    }\n",
              "\n",
              "    .colab-df-convert {\n",
              "      background-color: #E8F0FE;\n",
              "      border: none;\n",
              "      border-radius: 50%;\n",
              "      cursor: pointer;\n",
              "      display: none;\n",
              "      fill: #1967D2;\n",
              "      height: 32px;\n",
              "      padding: 0 0 0 0;\n",
              "      width: 32px;\n",
              "    }\n",
              "\n",
              "    .colab-df-convert:hover {\n",
              "      background-color: #E2EBFA;\n",
              "      box-shadow: 0px 1px 2px rgba(60, 64, 67, 0.3), 0px 1px 3px 1px rgba(60, 64, 67, 0.15);\n",
              "      fill: #174EA6;\n",
              "    }\n",
              "\n",
              "    [theme=dark] .colab-df-convert {\n",
              "      background-color: #3B4455;\n",
              "      fill: #D2E3FC;\n",
              "    }\n",
              "\n",
              "    [theme=dark] .colab-df-convert:hover {\n",
              "      background-color: #434B5C;\n",
              "      box-shadow: 0px 1px 3px 1px rgba(0, 0, 0, 0.15);\n",
              "      filter: drop-shadow(0px 1px 2px rgba(0, 0, 0, 0.3));\n",
              "      fill: #FFFFFF;\n",
              "    }\n",
              "  </style>\n",
              "\n",
              "      <script>\n",
              "        const buttonEl =\n",
              "          document.querySelector('#df-bdeff85a-a8ea-4947-9df2-6080d44ef958 button.colab-df-convert');\n",
              "        buttonEl.style.display =\n",
              "          google.colab.kernel.accessAllowed ? 'block' : 'none';\n",
              "\n",
              "        async function convertToInteractive(key) {\n",
              "          const element = document.querySelector('#df-bdeff85a-a8ea-4947-9df2-6080d44ef958');\n",
              "          const dataTable =\n",
              "            await google.colab.kernel.invokeFunction('convertToInteractive',\n",
              "                                                     [key], {});\n",
              "          if (!dataTable) return;\n",
              "\n",
              "          const docLinkHtml = 'Like what you see? Visit the ' +\n",
              "            '<a target=\"_blank\" href=https://colab.research.google.com/notebooks/data_table.ipynb>data table notebook</a>'\n",
              "            + ' to learn more about interactive tables.';\n",
              "          element.innerHTML = '';\n",
              "          dataTable['output_type'] = 'display_data';\n",
              "          await google.colab.output.renderOutput(dataTable, element);\n",
              "          const docLink = document.createElement('div');\n",
              "          docLink.innerHTML = docLinkHtml;\n",
              "          element.appendChild(docLink);\n",
              "        }\n",
              "      </script>\n",
              "    </div>\n",
              "  </div>\n",
              "  "
            ]
          },
          "metadata": {},
          "execution_count": 12
        }
      ]
    },
    {
      "cell_type": "markdown",
      "source": [
        "## Separate out the sentences and labels into training and test sets"
      ],
      "metadata": {
        "id": "UdIplBaSygJB"
      }
    },
    {
      "cell_type": "code",
      "metadata": {
        "id": "rngjPz418KUo",
        "colab": {
          "base_uri": "https://localhost:8080/"
        },
        "outputId": "db07d62b-ec45-42b8-bf8f-65bf0f06eb23"
      },
      "source": [
        "sentences = df['new_headline']\n",
        "label = df['clickbait']\n",
        "\n",
        "training_sentences, testing_sentences, training_label, testing_label = train_test_split(sentences, label, test_size=0.2, random_state=42)\n",
        "\n",
        "print(f'Total data training : {len(training_sentences)}')\n",
        "print(f'Total data testing : {len(testing_sentences)}')"
      ],
      "execution_count": 13,
      "outputs": [
        {
          "output_type": "stream",
          "name": "stdout",
          "text": [
            "Total data training : 25600\n",
            "Total data testing : 6400\n"
          ]
        }
      ]
    },
    {
      "cell_type": "markdown",
      "source": [
        "## Tokenize Data"
      ],
      "metadata": {
        "id": "sXYzpt9dYsrv"
      }
    },
    {
      "cell_type": "code",
      "metadata": {
        "id": "e3_4afSy84zD"
      },
      "source": [
        "vocab_size = 5000\n",
        "maxlen = 100\n",
        "embedding_dim = 32\n",
        "filters = '!\"#$%&()*+.,-/:;=?@[\\]^_`{|}'\n",
        "oov_token = \"<OOV>\"\n",
        "\n",
        "# Tokenize text (padding dan sequences)\n",
        "tokenizer = Tokenizer(num_words=vocab_size, oov_token=oov_token, filters = filters)\n",
        "tokenizer.fit_on_texts(training_sentences)\n",
        "\n",
        "training_sequences = tokenizer.texts_to_sequences(training_sentences)\n",
        "training_padded = pad_sequences(training_sequences, maxlen=maxlen)\n",
        "\n",
        "testing_sequences = tokenizer.texts_to_sequences(testing_sentences)\n",
        "testing_padded = pad_sequences(testing_sequences, maxlen=maxlen)"
      ],
      "execution_count": 14,
      "outputs": []
    },
    {
      "cell_type": "code",
      "source": [
        "model_checkpoint = tf.keras.callbacks.ModelCheckpoint(\n",
        "    \"my_checkpoint.h5\", save_best_only=True)\n",
        "\n",
        "early_stopping = tf.keras.callbacks.EarlyStopping(patience=10)"
      ],
      "metadata": {
        "id": "cV2mrw7_O9qh"
      },
      "execution_count": 18,
      "outputs": []
    },
    {
      "cell_type": "code",
      "metadata": {
        "id": "od5tGZlJ-F8s"
      },
      "source": [
        "model = tf.keras.Sequential([\n",
        "    tf.keras.layers.Embedding(vocab_size, embedding_dim, input_length=maxlen),\n",
        "    tf.keras.layers.LSTM(64),\n",
        "    tf.keras.layers.Dense(24, activation='relu'),\n",
        "    tf.keras.layers.Dense(1, activation='sigmoid')\n",
        "])\n",
        "\n",
        "model.compile(loss=tf.keras.losses.BinaryCrossentropy(),\n",
        "              optimizer=tf.keras.optimizers.Adam(),\n",
        "              metrics=['accuracy'])"
      ],
      "execution_count": 19,
      "outputs": []
    },
    {
      "cell_type": "code",
      "metadata": {
        "colab": {
          "base_uri": "https://localhost:8080/"
        },
        "id": "8yLHeGrr_351",
        "outputId": "bb45ae2b-8db4-40d3-8bb8-53acee8a56a6"
      },
      "source": [
        "num_epochs = 100\n",
        "history = model.fit(training_padded, training_label, epochs=num_epochs, batch_size=512, \n",
        "                    validation_data=(testing_padded, testing_label), callbacks=[model_checkpoint,early_stopping])"
      ],
      "execution_count": 20,
      "outputs": [
        {
          "output_type": "stream",
          "name": "stdout",
          "text": [
            "Epoch 1/100\n",
            "50/50 [==============================] - 7s 73ms/step - loss: 0.5892 - accuracy: 0.7326 - val_loss: 0.4204 - val_accuracy: 0.8902\n",
            "Epoch 2/100\n",
            "50/50 [==============================] - 2s 39ms/step - loss: 0.2456 - accuracy: 0.9391 - val_loss: 0.1535 - val_accuracy: 0.9480\n",
            "Epoch 3/100\n",
            "50/50 [==============================] - 2s 43ms/step - loss: 0.0969 - accuracy: 0.9664 - val_loss: 0.1175 - val_accuracy: 0.9580\n",
            "Epoch 4/100\n",
            "50/50 [==============================] - 2s 40ms/step - loss: 0.0680 - accuracy: 0.9761 - val_loss: 0.1203 - val_accuracy: 0.9575\n",
            "Epoch 5/100\n",
            "50/50 [==============================] - 2s 34ms/step - loss: 0.0543 - accuracy: 0.9812 - val_loss: 0.1244 - val_accuracy: 0.9559\n",
            "Epoch 6/100\n",
            "50/50 [==============================] - 2s 35ms/step - loss: 0.0458 - accuracy: 0.9842 - val_loss: 0.1328 - val_accuracy: 0.9561\n",
            "Epoch 7/100\n",
            "50/50 [==============================] - 2s 36ms/step - loss: 0.0380 - accuracy: 0.9866 - val_loss: 0.1440 - val_accuracy: 0.9544\n",
            "Epoch 8/100\n",
            "50/50 [==============================] - 2s 35ms/step - loss: 0.0323 - accuracy: 0.9893 - val_loss: 0.1547 - val_accuracy: 0.9517\n",
            "Epoch 9/100\n",
            "50/50 [==============================] - 2s 34ms/step - loss: 0.0279 - accuracy: 0.9910 - val_loss: 0.1721 - val_accuracy: 0.9495\n",
            "Epoch 10/100\n",
            "50/50 [==============================] - 2s 32ms/step - loss: 0.0240 - accuracy: 0.9923 - val_loss: 0.1988 - val_accuracy: 0.9459\n",
            "Epoch 11/100\n",
            "50/50 [==============================] - 2s 31ms/step - loss: 0.0217 - accuracy: 0.9930 - val_loss: 0.1954 - val_accuracy: 0.9478\n",
            "Epoch 12/100\n",
            "50/50 [==============================] - 2s 31ms/step - loss: 0.0198 - accuracy: 0.9938 - val_loss: 0.2079 - val_accuracy: 0.9447\n",
            "Epoch 13/100\n",
            "50/50 [==============================] - 2s 31ms/step - loss: 0.0178 - accuracy: 0.9946 - val_loss: 0.2225 - val_accuracy: 0.9464\n"
          ]
        }
      ]
    },
    {
      "cell_type": "markdown",
      "source": [
        "## Plot Accuracy and Loss "
      ],
      "metadata": {
        "id": "N1nygWtDYpBt"
      }
    },
    {
      "cell_type": "code",
      "metadata": {
        "colab": {
          "base_uri": "https://localhost:8080/",
          "height": 404
        },
        "id": "jJcpC5caKCqG",
        "outputId": "95a6275e-6c09-4ed0-fc33-2d59e468398e"
      },
      "source": [
        "plt.figure(figsize=(15, 6))\n",
        "plt.subplot(1,2,1)\n",
        "plt.plot(history.history['accuracy'])\n",
        "plt.plot(history.history['val_accuracy'])\n",
        "plt.title('Accuracy')\n",
        "plt.ylabel('Accuracy')\n",
        "plt.xlabel('epoch')\n",
        "plt.legend(['train','val'])\n",
        "plt.grid()\n",
        "\n",
        "plt.subplot(1,2,2)\n",
        "plt.plot(history.history['loss'])\n",
        "plt.plot(history.history['val_loss'])\n",
        "plt.title('Loss')\n",
        "plt.ylabel('loss')\n",
        "plt.xlabel('epoch')\n",
        "plt.legend(['train','val'])\n",
        "plt.grid()\n",
        "plt.show()"
      ],
      "execution_count": 22,
      "outputs": [
        {
          "output_type": "display_data",
          "data": {
            "text/plain": [
              "<Figure size 1080x432 with 2 Axes>"
            ],
            "image/png": "[encoded data removed]"
          },
          "metadata": {
            "needs_background": "light"
          }
        }
      ]
    },
    {
      "cell_type": "markdown",
      "source": [
        "## Load Model"
      ],
      "metadata": {
        "id": "SADTBM8oYj7N"
      }
    },
    {
      "cell_type": "code",
      "source": [
        "load_model = tf.keras.models.load_model('my_checkpoint.h5')"
      ],
      "metadata": {
        "id": "GFEDk6aYXoKW"
      },
      "execution_count": 23,
      "outputs": []
    },
    {
      "cell_type": "markdown",
      "source": [
        "## Predict Model"
      ],
      "metadata": {
        "id": "SelldAKFYnJN"
      }
    },
    {
      "cell_type": "code",
      "source": [
        "test = ['My biggest laugh reveal ever!', \n",
        "        'Learning game development with Unity', \n",
        "        'A tour of Japan\\'s Kansai region', \n",
        "        '12 things NOT to do in Europe']\n",
        "\n",
        "token_text = pad_sequences(tokenizer.texts_to_sequences(test), maxlen=maxlen)\n",
        "\n",
        "preds = [round(i[0]) for i in load_model.predict(token_text)]\n",
        "for (text, pred) in zip(test, preds):\n",
        "    label = 'Clickbait' if pred == 1.0 else 'Not Clickbait'\n",
        "    print(\"{} - {}\".format(text, label))"
      ],
      "metadata": {
        "colab": {
          "base_uri": "https://localhost:8080/"
        },
        "id": "2LkoU_MdVp5k",
        "outputId": "25c464e4-98f9-44e4-a0c1-c3c13b51c8ff"
      },
      "execution_count": 24,
      "outputs": [
        {
          "output_type": "stream",
          "name": "stdout",
          "text": [
            "My biggest laugh reveal ever! - Clickbait\n",
            "Learning game development with Unity - Clickbait\n",
            "A tour of Japan's Kansai region - Not Clickbait\n",
            "12 things NOT to do in Europe - Clickbait\n"
          ]
        }
      ]
    },
    {
      "cell_type": "code",
      "source": [
        "from google.colab import files\n",
        "files.download('my_checkpoint.h5') "
      ],
      "metadata": {
        "colab": {
          "base_uri": "https://localhost:8080/",
          "height": 17
        },
        "id": "WXDptcdQZUn-",
        "outputId": "4de0ea50-8af6-48d2-e6a5-cf76d05b405c"
      },
      "execution_count": 25,
      "outputs": [
        {
          "output_type": "display_data",
          "data": {
            "text/plain": [
              "<IPython.core.display.Javascript object>"
            ],
            "application/javascript": [
              "\n",
              "    async function download(id, filename, size) {\n",
              "      if (!google.colab.kernel.accessAllowed) {\n",
              "        return;\n",
              "      }\n",
              "      const div = document.createElement('div');\n",
              "      const label = document.createElement('label');\n",
              "      label.textContent = `Downloading \"${filename}\": `;\n",
              "      div.appendChild(label);\n",
              "      const progress = document.createElement('progress');\n",
              "      progress.max = size;\n",
              "      div.appendChild(progress);\n",
              "      document.body.appendChild(div);\n",
              "\n",
              "      const buffers = [];\n",
              "      let downloaded = 0;\n",
              "\n",
              "      const channel = await google.colab.kernel.comms.open(id);\n",
              "      // Send a message to notify the kernel that we're ready.\n",
              "      channel.send({})\n",
              "\n",
              "      for await (const message of channel.messages) {\n",
              "        // Send a message to notify the kernel that we're ready.\n",
              "        channel.send({})\n",
              "        if (message.buffers) {\n",
              "          for (const buffer of message.buffers) {\n",
              "            buffers.push(buffer);\n",
              "            downloaded += buffer.byteLength;\n",
              "            progress.value = downloaded;\n",
              "          }\n",
              "        }\n",
              "      }\n",
              "      const blob = new Blob(buffers, {type: 'application/binary'});\n",
              "      const a = document.createElement('a');\n",
              "      a.href = window.URL.createObjectURL(blob);\n",
              "      a.download = filename;\n",
              "      div.appendChild(a);\n",
              "      a.click();\n",
              "      div.remove();\n",
              "    }\n",
              "  "
            ]
          },
          "metadata": {}
        },
        {
          "output_type": "display_data",
          "data": {
            "text/plain": [
              "<IPython.core.display.Javascript object>"
            ],
            "application/javascript": [
              "download(\"download_e1e5a576-0a68-49c1-989c-8d6348d152cd\", \"my_checkpoint.h5\", 2282168)"
            ]
          },
          "metadata": {}
        }
      ]
    }
  ]
}