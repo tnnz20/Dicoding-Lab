{
  "nbformat": 4,
  "nbformat_minor": 0,
  "metadata": {
    "colab": {
      "name": "Submission Time Series2.ipynb",
      "provenance": [],
      "collapsed_sections": []
    },
    "kernelspec": {
      "name": "python3",
      "display_name": "Python 3"
    },
    "language_info": {
      "name": "python"
    }
  },
  "cells": [
    {
      "cell_type": "markdown",
      "metadata": {
        "id": "trSsryVzb_mZ"
      },
      "source": [
        "# **Data Diri**\n",
        "\n",
        "---\n",
        "(Peserta Kampus merdeka - Student Indepentdent)\n",
        "\n",
        "\n",
        "Nama : Gusti Muhammad Aulia Nur Sulthan\n",
        "\n",
        "Alamat :  Kabupaten Hulu Sungai Selatan, Kalimantan Selatan\n",
        "\n",
        "SIB Id : M247R6216\n",
        "\n",
        "SIB Email : M247R6216@dicoding.org\t\n",
        "\n",
        "SIB Group : M3"
      ]
    },
    {
      "cell_type": "markdown",
      "metadata": {
        "id": "c5vxm1z6cSRL"
      },
      "source": [
        "# **Import Library dan Dataset**"
      ]
    },
    {
      "cell_type": "code",
      "metadata": {
        "id": "F8RFWn6f2jhp"
      },
      "source": [
        "import pandas as pd\n",
        "import numpy as np\n",
        "import matplotlib.pyplot as plt\n",
        "\n",
        "from keras.layers import Dense, LSTM\n",
        "from sklearn.preprocessing import MinMaxScaler\n",
        "import tensorflow as tf"
      ],
      "execution_count": 1,
      "outputs": []
    },
    {
      "cell_type": "markdown",
      "metadata": {
        "id": "8XJvkuWKciq_"
      },
      "source": [
        "Sumber : [dataset](https://www.kaggle.com/aayushmishra1512/netflix-stock-data)"
      ]
    },
    {
      "cell_type": "code",
      "metadata": {
        "colab": {
          "base_uri": "https://localhost:8080/",
          "height": 204
        },
        "id": "52-rNmo23KqB",
        "outputId": "6b110088-6e5e-4c99-da2a-ad51b015f622"
      },
      "source": [
        "df = pd.read_csv('NFLX.csv')\n",
        "df.head()"
      ],
      "execution_count": 2,
      "outputs": [
        {
          "output_type": "execute_result",
          "data": {
            "text/html": [
              "<div>\n",
              "<style scoped>\n",
              "    .dataframe tbody tr th:only-of-type {\n",
              "        vertical-align: middle;\n",
              "    }\n",
              "\n",
              "    .dataframe tbody tr th {\n",
              "        vertical-align: top;\n",
              "    }\n",
              "\n",
              "    .dataframe thead th {\n",
              "        text-align: right;\n",
              "    }\n",
              "</style>\n",
              "<table border=\"1\" class=\"dataframe\">\n",
              "  <thead>\n",
              "    <tr style=\"text-align: right;\">\n",
              "      <th></th>\n",
              "      <th>Date</th>\n",
              "      <th>Open</th>\n",
              "      <th>High</th>\n",
              "      <th>Low</th>\n",
              "      <th>Close</th>\n",
              "      <th>Adj Close</th>\n",
              "      <th>Volume</th>\n",
              "    </tr>\n",
              "  </thead>\n",
              "  <tbody>\n",
              "    <tr>\n",
              "      <th>0</th>\n",
              "      <td>2002-05-23</td>\n",
              "      <td>1.156429</td>\n",
              "      <td>1.242857</td>\n",
              "      <td>1.145714</td>\n",
              "      <td>1.196429</td>\n",
              "      <td>1.196429</td>\n",
              "      <td>104790000</td>\n",
              "    </tr>\n",
              "    <tr>\n",
              "      <th>1</th>\n",
              "      <td>2002-05-24</td>\n",
              "      <td>1.214286</td>\n",
              "      <td>1.225000</td>\n",
              "      <td>1.197143</td>\n",
              "      <td>1.210000</td>\n",
              "      <td>1.210000</td>\n",
              "      <td>11104800</td>\n",
              "    </tr>\n",
              "    <tr>\n",
              "      <th>2</th>\n",
              "      <td>2002-05-28</td>\n",
              "      <td>1.213571</td>\n",
              "      <td>1.232143</td>\n",
              "      <td>1.157143</td>\n",
              "      <td>1.157143</td>\n",
              "      <td>1.157143</td>\n",
              "      <td>6609400</td>\n",
              "    </tr>\n",
              "    <tr>\n",
              "      <th>3</th>\n",
              "      <td>2002-05-29</td>\n",
              "      <td>1.164286</td>\n",
              "      <td>1.164286</td>\n",
              "      <td>1.085714</td>\n",
              "      <td>1.103571</td>\n",
              "      <td>1.103571</td>\n",
              "      <td>6757800</td>\n",
              "    </tr>\n",
              "    <tr>\n",
              "      <th>4</th>\n",
              "      <td>2002-05-30</td>\n",
              "      <td>1.107857</td>\n",
              "      <td>1.107857</td>\n",
              "      <td>1.071429</td>\n",
              "      <td>1.071429</td>\n",
              "      <td>1.071429</td>\n",
              "      <td>10154200</td>\n",
              "    </tr>\n",
              "  </tbody>\n",
              "</table>\n",
              "</div>"
            ],
            "text/plain": [
              "         Date      Open      High       Low     Close  Adj Close     Volume\n",
              "0  2002-05-23  1.156429  1.242857  1.145714  1.196429   1.196429  104790000\n",
              "1  2002-05-24  1.214286  1.225000  1.197143  1.210000   1.210000   11104800\n",
              "2  2002-05-28  1.213571  1.232143  1.157143  1.157143   1.157143    6609400\n",
              "3  2002-05-29  1.164286  1.164286  1.085714  1.103571   1.103571    6757800\n",
              "4  2002-05-30  1.107857  1.107857  1.071429  1.071429   1.071429   10154200"
            ]
          },
          "metadata": {},
          "execution_count": 2
        }
      ]
    },
    {
      "cell_type": "code",
      "metadata": {
        "colab": {
          "base_uri": "https://localhost:8080/"
        },
        "id": "UQ26oikt3TQt",
        "outputId": "a01be0aa-ace4-4a31-e64a-18a36384e1a6"
      },
      "source": [
        "# Total data\n",
        "df.shape"
      ],
      "execution_count": 3,
      "outputs": [
        {
          "output_type": "execute_result",
          "data": {
            "text/plain": [
              "(4581, 7)"
            ]
          },
          "metadata": {},
          "execution_count": 3
        }
      ]
    },
    {
      "cell_type": "code",
      "metadata": {
        "colab": {
          "base_uri": "https://localhost:8080/"
        },
        "id": "tecda2Bo3X7r",
        "outputId": "2a8df1bb-53b9-4c04-faf2-50fdc1131c28"
      },
      "source": [
        "# Check data\n",
        "df.isnull().sum()"
      ],
      "execution_count": 6,
      "outputs": [
        {
          "output_type": "execute_result",
          "data": {
            "text/plain": [
              "Date         0\n",
              "Open         0\n",
              "High         0\n",
              "Low          0\n",
              "Close        0\n",
              "Adj Close    0\n",
              "Volume       0\n",
              "dtype: int64"
            ]
          },
          "metadata": {},
          "execution_count": 6
        }
      ]
    },
    {
      "cell_type": "code",
      "metadata": {
        "id": "Pvdqdhrc3hG9"
      },
      "source": [
        "# Bagi data train dan validation\n",
        "df_train = df[1:3601]\n",
        "df_val = df[3602:4002]"
      ],
      "execution_count": 29,
      "outputs": []
    },
    {
      "cell_type": "code",
      "metadata": {
        "colab": {
          "base_uri": "https://localhost:8080/",
          "height": 349
        },
        "id": "qAf2qZIZ4olz",
        "outputId": "d1ac700c-ae80-4ada-d64a-7f5970a24a7c"
      },
      "source": [
        "plt.figure(figsize=(15,5))\n",
        "plt.plot(df_train.index, df_train['Open'])\n",
        "plt.plot(df_val.index, df_val['Open'])\n",
        "plt.title('Opening Price Netflix',\n",
        "          fontsize=30);"
      ],
      "execution_count": 18,
      "outputs": [
        {
          "output_type": "display_data",
          "data": {
            "image/png": "[encoded data removed]",
            "text/plain": [
              "<Figure size 1080x360 with 1 Axes>"
            ]
          },
          "metadata": {
            "needs_background": "light"
          }
        }
      ]
    },
    {
      "cell_type": "markdown",
      "metadata": {
        "id": "7waF_BYTczcv"
      },
      "source": [
        "Bagi data *Training* dan *Validation*"
      ]
    },
    {
      "cell_type": "code",
      "metadata": {
        "id": "MYQSBdE9Mrhr"
      },
      "source": [
        "T_date = df_train['Date']\n",
        "T_price = df_train['Open'].values\n",
        "\n",
        "V_date = df_val['Date'].values\n",
        "V_price = df_val['Open'].values\n",
        "\n",
        "# reshape matrix\n",
        "T_price_r = T_price.reshape(-1,1)\n",
        "V_price_r = T_price.reshape(-1,1)"
      ],
      "execution_count": 30,
      "outputs": []
    },
    {
      "cell_type": "code",
      "metadata": {
        "id": "n3JK8wdxPDgd"
      },
      "source": [
        "scaler = MinMaxScaler()\n",
        "T_price_r_s = scaler.fit_transform(T_price_r)\n",
        "V_price_r_s = scaler.fit_transform(T_price_r)"
      ],
      "execution_count": 37,
      "outputs": []
    },
    {
      "cell_type": "code",
      "metadata": {
        "id": "qbuMROniR1rY"
      },
      "source": [
        "def windowed_dataset(series, window_size, batch_size, shuffle_buffer):\n",
        "    ds = tf.data.Dataset.from_tensor_slices(series)\n",
        "    ds = ds.window(window_size + 1, shift=1, drop_remainder=True)\n",
        "    ds = ds.flat_map(lambda w: w.batch(window_size + 1))\n",
        "    ds = ds.shuffle(shuffle_buffer)\n",
        "    ds = ds.map(lambda w: (w[:-1], w[-1:]))\n",
        "    return ds.batch(batch_size).prefetch(1)"
      ],
      "execution_count": 40,
      "outputs": []
    },
    {
      "cell_type": "markdown",
      "metadata": {
        "id": "JrGAXm9gdBhk"
      },
      "source": [
        "# **LSTM Model**"
      ]
    },
    {
      "cell_type": "code",
      "metadata": {
        "id": "6b55yZanSNtk"
      },
      "source": [
        "data_x_train = windowed_dataset(T_price_r_s, window_size=60, batch_size=68, shuffle_buffer=1000)\n",
        "data_x_test = windowed_dataset(V_price_r_s, window_size=60, batch_size=68, shuffle_buffer=1000)\n",
        "\n",
        "model = tf.keras.models.Sequential([\n",
        "  tf.keras.layers.LSTM(128, return_sequences=True), \n",
        "  tf.keras.layers.LSTM(64, return_sequences=True),\n",
        "  tf.keras.layers.LSTM(64, return_sequences=True),\n",
        "    \n",
        "  tf.keras.layers.Dense(60, activation=\"relu\"),\n",
        "  tf.keras.layers.Dense(30, activation=\"relu\"),\n",
        "  tf.keras.layers.Dense(10, activation=\"relu\"),\n",
        "  tf.keras.layers.Dense(1),\n",
        "  tf.keras.layers.Lambda(lambda x: x * 400)\n",
        "])\n",
        "\n",
        "lr_schedule = tf.keras.callbacks.LearningRateScheduler(\n",
        "    lambda epoch: 1e-8 * 10**(epoch / 20))\n",
        "optimizer = tf.keras.optimizers.Adam(learning_rate=1e-8)\n",
        "\n",
        "model.compile(loss=tf.keras.losses.Huber(),\n",
        "              optimizer=optimizer,\n",
        "              metrics=[\"mae\"])"
      ],
      "execution_count": 41,
      "outputs": []
    },
    {
      "cell_type": "code",
      "metadata": {
        "colab": {
          "base_uri": "https://localhost:8080/"
        },
        "id": "ehjY2TTnShk0",
        "outputId": "e889a0b3-050e-4bbf-f708-e7e46301d815"
      },
      "source": [
        "hist = model.fit(data_x_train ,epochs=65, validation_data=data_x_test, callbacks=[lr_schedule])"
      ],
      "execution_count": 42,
      "outputs": [
        {
          "output_type": "stream",
          "name": "stdout",
          "text": [
            "Epoch 1/65\n",
            "53/53 [==============================] - 24s 321ms/step - loss: 5.1555 - mae: 5.5870 - val_loss: 5.1514 - val_mae: 5.5823\n",
            "Epoch 2/65\n",
            "53/53 [==============================] - 16s 298ms/step - loss: 5.1466 - mae: 5.5771 - val_loss: 5.1427 - val_mae: 5.5724\n",
            "Epoch 3/65\n",
            "53/53 [==============================] - 16s 296ms/step - loss: 5.1375 - mae: 5.5669 - val_loss: 5.1332 - val_mae: 5.5618\n",
            "Epoch 4/65\n",
            "53/53 [==============================] - 16s 297ms/step - loss: 5.1276 - mae: 5.5559 - val_loss: 5.1228 - val_mae: 5.5502\n",
            "Epoch 5/65\n",
            "53/53 [==============================] - 16s 300ms/step - loss: 5.1166 - mae: 5.5435 - val_loss: 5.1113 - val_mae: 5.5373\n",
            "Epoch 6/65\n",
            "53/53 [==============================] - 16s 300ms/step - loss: 5.1046 - mae: 5.5301 - val_loss: 5.0988 - val_mae: 5.5232\n",
            "Epoch 7/65\n",
            "53/53 [==============================] - 16s 297ms/step - loss: 5.0915 - mae: 5.5154 - val_loss: 5.0851 - val_mae: 5.5077\n",
            "Epoch 8/65\n",
            "53/53 [==============================] - 16s 305ms/step - loss: 5.0769 - mae: 5.4989 - val_loss: 5.0699 - val_mae: 5.4905\n",
            "Epoch 9/65\n",
            "53/53 [==============================] - 16s 302ms/step - loss: 5.0607 - mae: 5.4808 - val_loss: 5.0529 - val_mae: 5.4714\n",
            "Epoch 10/65\n",
            "53/53 [==============================] - 16s 300ms/step - loss: 5.0427 - mae: 5.4604 - val_loss: 5.0341 - val_mae: 5.4502\n",
            "Epoch 11/65\n",
            "53/53 [==============================] - 16s 300ms/step - loss: 5.0231 - mae: 5.4384 - val_loss: 5.0137 - val_mae: 5.4271\n",
            "Epoch 12/65\n",
            "53/53 [==============================] - 16s 298ms/step - loss: 5.0014 - mae: 5.4139 - val_loss: 4.9910 - val_mae: 5.4014\n",
            "Epoch 13/65\n",
            "53/53 [==============================] - 16s 300ms/step - loss: 4.9774 - mae: 5.3869 - val_loss: 4.9660 - val_mae: 5.3731\n",
            "Epoch 14/65\n",
            "53/53 [==============================] - 16s 304ms/step - loss: 4.9509 - mae: 5.3570 - val_loss: 4.9382 - val_mae: 5.3416\n",
            "Epoch 15/65\n",
            "53/53 [==============================] - 16s 299ms/step - loss: 4.9214 - mae: 5.3237 - val_loss: 4.9076 - val_mae: 5.3069\n",
            "Epoch 16/65\n",
            "53/53 [==============================] - 16s 300ms/step - loss: 4.8893 - mae: 5.2874 - val_loss: 4.8740 - val_mae: 5.2689\n",
            "Epoch 17/65\n",
            "53/53 [==============================] - 16s 302ms/step - loss: 4.8532 - mae: 5.2467 - val_loss: 4.8362 - val_mae: 5.2260\n",
            "Epoch 18/65\n",
            "53/53 [==============================] - 16s 302ms/step - loss: 4.8133 - mae: 5.2015 - val_loss: 4.7947 - val_mae: 5.1788\n",
            "Epoch 19/65\n",
            "53/53 [==============================] - 16s 300ms/step - loss: 4.7694 - mae: 5.1517 - val_loss: 4.7490 - val_mae: 5.1266\n",
            "Epoch 20/65\n",
            "53/53 [==============================] - 16s 304ms/step - loss: 4.7217 - mae: 5.0974 - val_loss: 4.6992 - val_mae: 5.0699\n",
            "Epoch 21/65\n",
            "53/53 [==============================] - 16s 300ms/step - loss: 4.6693 - mae: 5.0378 - val_loss: 4.6450 - val_mae: 5.0081\n",
            "Epoch 22/65\n",
            "53/53 [==============================] - 16s 302ms/step - loss: 4.6120 - mae: 4.9728 - val_loss: 4.5854 - val_mae: 4.9403\n",
            "Epoch 23/65\n",
            "53/53 [==============================] - 16s 299ms/step - loss: 4.5488 - mae: 4.9009 - val_loss: 4.5201 - val_mae: 4.8655\n",
            "Epoch 24/65\n",
            "53/53 [==============================] - 16s 300ms/step - loss: 4.4805 - mae: 4.8229 - val_loss: 4.4494 - val_mae: 4.7848\n",
            "Epoch 25/65\n",
            "53/53 [==============================] - 16s 303ms/step - loss: 4.4061 - mae: 4.7382 - val_loss: 4.3729 - val_mae: 4.6975\n",
            "Epoch 26/65\n",
            "53/53 [==============================] - 16s 305ms/step - loss: 4.3265 - mae: 4.6476 - val_loss: 4.2907 - val_mae: 4.6037\n",
            "Epoch 27/65\n",
            "53/53 [==============================] - 16s 303ms/step - loss: 4.2398 - mae: 4.5492 - val_loss: 4.2013 - val_mae: 4.5022\n",
            "Epoch 28/65\n",
            "53/53 [==============================] - 16s 304ms/step - loss: 4.1459 - mae: 4.4431 - val_loss: 4.1045 - val_mae: 4.3938\n",
            "Epoch 29/65\n",
            "53/53 [==============================] - 16s 304ms/step - loss: 4.0449 - mae: 4.3308 - val_loss: 4.0003 - val_mae: 4.2791\n",
            "Epoch 30/65\n",
            "53/53 [==============================] - 17s 311ms/step - loss: 3.9371 - mae: 4.2127 - val_loss: 3.8893 - val_mae: 4.1587\n",
            "Epoch 31/65\n",
            "53/53 [==============================] - 16s 308ms/step - loss: 3.8187 - mae: 4.0850 - val_loss: 3.7662 - val_mae: 4.0268\n",
            "Epoch 32/65\n",
            "53/53 [==============================] - 16s 302ms/step - loss: 3.6897 - mae: 3.9475 - val_loss: 3.6336 - val_mae: 3.8868\n",
            "Epoch 33/65\n",
            "53/53 [==============================] - 16s 301ms/step - loss: 3.5471 - mae: 3.7975 - val_loss: 3.4864 - val_mae: 3.7330\n",
            "Epoch 34/65\n",
            "53/53 [==============================] - 16s 299ms/step - loss: 3.3955 - mae: 3.6394 - val_loss: 3.3288 - val_mae: 3.5693\n",
            "Epoch 35/65\n",
            "53/53 [==============================] - 16s 302ms/step - loss: 3.2328 - mae: 3.4703 - val_loss: 3.1620 - val_mae: 3.3964\n",
            "Epoch 36/65\n",
            "53/53 [==============================] - 16s 301ms/step - loss: 3.0522 - mae: 3.2835 - val_loss: 2.9772 - val_mae: 3.2052\n",
            "Epoch 37/65\n",
            "53/53 [==============================] - 16s 299ms/step - loss: 2.8636 - mae: 3.0885 - val_loss: 2.7832 - val_mae: 3.0048\n",
            "Epoch 38/65\n",
            "53/53 [==============================] - 16s 304ms/step - loss: 2.6611 - mae: 2.8799 - val_loss: 2.5741 - val_mae: 2.7901\n",
            "Epoch 39/65\n",
            "53/53 [==============================] - 16s 305ms/step - loss: 2.4389 - mae: 2.6519 - val_loss: 2.3483 - val_mae: 2.5579\n",
            "Epoch 40/65\n",
            "53/53 [==============================] - 16s 303ms/step - loss: 2.2161 - mae: 2.4222 - val_loss: 2.1227 - val_mae: 2.3255\n",
            "Epoch 41/65\n",
            "53/53 [==============================] - 16s 302ms/step - loss: 1.9779 - mae: 2.1768 - val_loss: 1.8777 - val_mae: 2.0736\n",
            "Epoch 42/65\n",
            "53/53 [==============================] - 16s 308ms/step - loss: 1.7218 - mae: 1.9143 - val_loss: 1.6160 - val_mae: 1.8055\n",
            "Epoch 43/65\n",
            "53/53 [==============================] - 16s 303ms/step - loss: 1.4560 - mae: 1.6426 - val_loss: 1.3474 - val_mae: 1.5345\n",
            "Epoch 44/65\n",
            "53/53 [==============================] - 16s 304ms/step - loss: 1.1820 - mae: 1.3645 - val_loss: 1.0824 - val_mae: 1.2739\n",
            "Epoch 45/65\n",
            "53/53 [==============================] - 16s 306ms/step - loss: 0.9401 - mae: 1.1208 - val_loss: 0.8585 - val_mae: 1.0390\n",
            "Epoch 46/65\n",
            "53/53 [==============================] - 17s 317ms/step - loss: 0.7548 - mae: 0.9296 - val_loss: 0.6885 - val_mae: 0.8642\n",
            "Epoch 47/65\n",
            "53/53 [==============================] - 17s 319ms/step - loss: 0.5948 - mae: 0.7646 - val_loss: 0.5382 - val_mae: 0.7037\n",
            "Epoch 48/65\n",
            "53/53 [==============================] - 17s 315ms/step - loss: 0.4581 - mae: 0.6169 - val_loss: 0.4116 - val_mae: 0.5656\n",
            "Epoch 49/65\n",
            "53/53 [==============================] - 17s 314ms/step - loss: 0.3456 - mae: 0.4940 - val_loss: 0.3061 - val_mae: 0.4532\n",
            "Epoch 50/65\n",
            "53/53 [==============================] - 17s 318ms/step - loss: 0.2497 - mae: 0.3938 - val_loss: 0.2172 - val_mae: 0.3592\n",
            "Epoch 51/65\n",
            "53/53 [==============================] - 17s 313ms/step - loss: 0.1722 - mae: 0.3082 - val_loss: 0.1462 - val_mae: 0.2743\n",
            "Epoch 52/65\n",
            "53/53 [==============================] - 17s 316ms/step - loss: 0.1102 - mae: 0.2334 - val_loss: 0.0918 - val_mae: 0.2082\n",
            "Epoch 53/65\n",
            "53/53 [==============================] - 17s 310ms/step - loss: 0.0677 - mae: 0.1810 - val_loss: 0.0521 - val_mae: 0.1617\n",
            "Epoch 54/65\n",
            "53/53 [==============================] - 17s 318ms/step - loss: 0.0316 - mae: 0.1308 - val_loss: 0.0207 - val_mae: 0.1120\n",
            "Epoch 55/65\n",
            "53/53 [==============================] - 17s 312ms/step - loss: 0.0118 - mae: 0.0875 - val_loss: 0.0086 - val_mae: 0.0769\n",
            "Epoch 56/65\n",
            "53/53 [==============================] - 16s 304ms/step - loss: 0.0064 - mae: 0.0639 - val_loss: 0.0056 - val_mae: 0.0674\n",
            "Epoch 57/65\n",
            "53/53 [==============================] - 16s 309ms/step - loss: 0.0047 - mae: 0.0556 - val_loss: 0.0043 - val_mae: 0.0571\n",
            "Epoch 58/65\n",
            "53/53 [==============================] - 16s 304ms/step - loss: 0.0039 - mae: 0.0505 - val_loss: 0.0038 - val_mae: 0.0545\n",
            "Epoch 59/65\n",
            "53/53 [==============================] - 16s 301ms/step - loss: 0.0035 - mae: 0.0486 - val_loss: 0.0034 - val_mae: 0.0500\n",
            "Epoch 60/65\n",
            "53/53 [==============================] - 16s 302ms/step - loss: 0.0033 - mae: 0.0464 - val_loss: 0.0033 - val_mae: 0.0494\n",
            "Epoch 61/65\n",
            "53/53 [==============================] - 16s 301ms/step - loss: 0.0031 - mae: 0.0451 - val_loss: 0.0030 - val_mae: 0.0453\n",
            "Epoch 62/65\n",
            "53/53 [==============================] - 16s 304ms/step - loss: 0.0029 - mae: 0.0431 - val_loss: 0.0029 - val_mae: 0.0438\n",
            "Epoch 63/65\n",
            "53/53 [==============================] - 16s 308ms/step - loss: 0.0028 - mae: 0.0417 - val_loss: 0.0027 - val_mae: 0.0417\n",
            "Epoch 64/65\n",
            "53/53 [==============================] - 16s 303ms/step - loss: 0.0026 - mae: 0.0400 - val_loss: 0.0025 - val_mae: 0.0391\n",
            "Epoch 65/65\n",
            "53/53 [==============================] - 16s 306ms/step - loss: 0.0025 - mae: 0.0387 - val_loss: 0.0024 - val_mae: 0.0380\n"
          ]
        }
      ]
    },
    {
      "cell_type": "markdown",
      "metadata": {
        "id": "lc8oLzbCdIuI"
      },
      "source": [
        "**Plot MAE dan Loss**"
      ]
    },
    {
      "cell_type": "code",
      "metadata": {
        "colab": {
          "base_uri": "https://localhost:8080/",
          "height": 295
        },
        "id": "zhCUAzsGaWWj",
        "outputId": "f7f27a42-ec19-4c23-c048-277a5c0b2aa0"
      },
      "source": [
        "# plot MAE\n",
        "\n",
        "plt.plot(hist.history['mae'])\n",
        "plt.plot(hist.history['val_mae'])\n",
        "plt.title('MAE')\n",
        "plt.ylabel('mae')\n",
        "plt.xlabel('epoch')\n",
        "plt.legend(['train','val'])\n",
        "plt.show()"
      ],
      "execution_count": 44,
      "outputs": [
        {
          "output_type": "display_data",
          "data": {
            "image/png": "[encoded data removed]",
            "text/plain": [
              "<Figure size 432x288 with 1 Axes>"
            ]
          },
          "metadata": {
            "needs_background": "light"
          }
        }
      ]
    },
    {
      "cell_type": "code",
      "metadata": {
        "colab": {
          "base_uri": "https://localhost:8080/",
          "height": 295
        },
        "id": "d-3IRrSQbrUn",
        "outputId": "c5504900-98ec-4c45-fd04-f2c792f1321f"
      },
      "source": [
        "# plot loss\n",
        "\n",
        "plt.plot(hist.history['loss'])\n",
        "plt.plot(hist.history['val_loss'])\n",
        "plt.title('Model Loss')\n",
        "plt.ylabel('loss')\n",
        "plt.xlabel('epoch')\n",
        "plt.legend(['train','val'])\n",
        "plt.show()"
      ],
      "execution_count": 45,
      "outputs": [
        {
          "output_type": "display_data",
          "data": {
            "image/png": "[encoded data removed]",
            "text/plain": [
              "<Figure size 432x288 with 1 Axes>"
            ]
          },
          "metadata": {
            "needs_background": "light"
          }
        }
      ]
    }
  ]
}