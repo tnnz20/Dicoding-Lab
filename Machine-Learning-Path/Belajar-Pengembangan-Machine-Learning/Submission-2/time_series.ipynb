{
  "nbformat": 4,
  "nbformat_minor": 0,
  "metadata": {
    "colab": {
      "name": "Submission Time Series2.ipynb",
      "provenance": [],
      "collapsed_sections": [],
      "toc_visible": true
    },
    "kernelspec": {
      "name": "python3",
      "display_name": "Python 3"
    },
    "language_info": {
      "name": "python"
    },
    "accelerator": "GPU"
  },
  "cells": [
    {
      "cell_type": "markdown",
      "source": [
        "# Forecast Netflix Price : Time Series"
      ],
      "metadata": {
        "id": "FPhrnRaD3D8r"
      }
    },
    {
      "cell_type": "markdown",
      "source": [
        "## Downloading Package"
      ],
      "metadata": {
        "id": "DqAO-fOJ3B3y"
      }
    },
    {
      "cell_type": "code",
      "source": [
        "! pip install opendatasets"
      ],
      "metadata": {
        "id": "PPzxiea5z1py",
        "outputId": "7a94f80b-5f97-4f84-f3c4-b77c92cd7435",
        "colab": {
          "base_uri": "https://localhost:8080/"
        }
      },
      "execution_count": 5,
      "outputs": [
        {
          "output_type": "stream",
          "name": "stdout",
          "text": [
            "Requirement already satisfied: opendatasets in /usr/local/lib/python3.7/dist-packages (0.1.22)\n",
            "Requirement already satisfied: tqdm in /usr/local/lib/python3.7/dist-packages (from opendatasets) (4.64.0)\n",
            "Requirement already satisfied: kaggle in /usr/local/lib/python3.7/dist-packages (from opendatasets) (1.5.12)\n",
            "Requirement already satisfied: click in /usr/local/lib/python3.7/dist-packages (from opendatasets) (7.1.2)\n",
            "Requirement already satisfied: urllib3 in /usr/local/lib/python3.7/dist-packages (from kaggle->opendatasets) (1.24.3)\n",
            "Requirement already satisfied: python-slugify in /usr/local/lib/python3.7/dist-packages (from kaggle->opendatasets) (6.1.2)\n",
            "Requirement already satisfied: certifi in /usr/local/lib/python3.7/dist-packages (from kaggle->opendatasets) (2021.10.8)\n",
            "Requirement already satisfied: requests in /usr/local/lib/python3.7/dist-packages (from kaggle->opendatasets) (2.23.0)\n",
            "Requirement already satisfied: python-dateutil in /usr/local/lib/python3.7/dist-packages (from kaggle->opendatasets) (2.8.2)\n",
            "Requirement already satisfied: six>=1.10 in /usr/local/lib/python3.7/dist-packages (from kaggle->opendatasets) (1.15.0)\n",
            "Requirement already satisfied: text-unidecode>=1.3 in /usr/local/lib/python3.7/dist-packages (from python-slugify->kaggle->opendatasets) (1.3)\n",
            "Requirement already satisfied: idna<3,>=2.5 in /usr/local/lib/python3.7/dist-packages (from requests->kaggle->opendatasets) (2.10)\n",
            "Requirement already satisfied: chardet<4,>=3.0.2 in /usr/local/lib/python3.7/dist-packages (from requests->kaggle->opendatasets) (3.0.4)\n"
          ]
        }
      ]
    },
    {
      "cell_type": "markdown",
      "metadata": {
        "id": "c5vxm1z6cSRL"
      },
      "source": [
        "# **Import Library dan Dataset**"
      ]
    },
    {
      "cell_type": "code",
      "metadata": {
        "id": "F8RFWn6f2jhp"
      },
      "source": [
        "import tensorflow as tf\n",
        "import pandas as pd\n",
        "import numpy as np\n",
        "import matplotlib.pyplot as plt\n",
        "\n",
        "import opendatasets as od\n",
        "\n",
        "from sklearn.preprocessing import MinMaxScaler\n"
      ],
      "execution_count": 6,
      "outputs": []
    },
    {
      "cell_type": "markdown",
      "metadata": {
        "id": "8XJvkuWKciq_"
      },
      "source": [
        "Sumber : [dataset](https://www.kaggle.com/aayushmishra1512/netflix-stock-data)"
      ]
    },
    {
      "cell_type": "code",
      "source": [
        "od.download('https://www.kaggle.com/datasets/aayushmishra1512/netflix-stock-data')"
      ],
      "metadata": {
        "id": "RlkpFcNlz_xi",
        "outputId": "f7241433-0d90-4c87-b318-211b1b9eb3b2",
        "colab": {
          "base_uri": "https://localhost:8080/"
        }
      },
      "execution_count": 7,
      "outputs": [
        {
          "output_type": "stream",
          "name": "stdout",
          "text": [
            "Skipping, found downloaded files in \"./netflix-stock-data\" (use force=True to force download)\n"
          ]
        }
      ]
    },
    {
      "cell_type": "code",
      "metadata": {
        "colab": {
          "base_uri": "https://localhost:8080/",
          "height": 224
        },
        "id": "52-rNmo23KqB",
        "outputId": "f5622473-4bb9-446b-e25d-5da4548664a1"
      },
      "source": [
        "df = pd.read_csv('/content/netflix-stock-data/NFLX.csv')\n",
        "print(f'Total data : {df.shape[0]}')\n",
        "df.head()"
      ],
      "execution_count": 8,
      "outputs": [
        {
          "output_type": "stream",
          "name": "stdout",
          "text": [
            "Total data : 4581\n"
          ]
        },
        {
          "output_type": "execute_result",
          "data": {
            "text/plain": [
              "         Date      Open      High       Low     Close  Adj Close     Volume\n",
              "0  2002-05-23  1.156429  1.242857  1.145714  1.196429   1.196429  104790000\n",
              "1  2002-05-24  1.214286  1.225000  1.197143  1.210000   1.210000   11104800\n",
              "2  2002-05-28  1.213571  1.232143  1.157143  1.157143   1.157143    6609400\n",
              "3  2002-05-29  1.164286  1.164286  1.085714  1.103571   1.103571    6757800\n",
              "4  2002-05-30  1.107857  1.107857  1.071429  1.071429   1.071429   10154200"
            ],
            "text/html": [
              "\n",
              "  <div id=\"df-55a84781-14dc-41b3-a569-0601965e539a\">\n",
              "    <div class=\"colab-df-container\">\n",
              "      <div>\n",
              "<style scoped>\n",
              "    .dataframe tbody tr th:only-of-type {\n",
              "        vertical-align: middle;\n",
              "    }\n",
              "\n",
              "    .dataframe tbody tr th {\n",
              "        vertical-align: top;\n",
              "    }\n",
              "\n",
              "    .dataframe thead th {\n",
              "        text-align: right;\n",
              "    }\n",
              "</style>\n",
              "<table border=\"1\" class=\"dataframe\">\n",
              "  <thead>\n",
              "    <tr style=\"text-align: right;\">\n",
              "      <th></th>\n",
              "      <th>Date</th>\n",
              "      <th>Open</th>\n",
              "      <th>High</th>\n",
              "      <th>Low</th>\n",
              "      <th>Close</th>\n",
              "      <th>Adj Close</th>\n",
              "      <th>Volume</th>\n",
              "    </tr>\n",
              "  </thead>\n",
              "  <tbody>\n",
              "    <tr>\n",
              "      <th>0</th>\n",
              "      <td>2002-05-23</td>\n",
              "      <td>1.156429</td>\n",
              "      <td>1.242857</td>\n",
              "      <td>1.145714</td>\n",
              "      <td>1.196429</td>\n",
              "      <td>1.196429</td>\n",
              "      <td>104790000</td>\n",
              "    </tr>\n",
              "    <tr>\n",
              "      <th>1</th>\n",
              "      <td>2002-05-24</td>\n",
              "      <td>1.214286</td>\n",
              "      <td>1.225000</td>\n",
              "      <td>1.197143</td>\n",
              "      <td>1.210000</td>\n",
              "      <td>1.210000</td>\n",
              "      <td>11104800</td>\n",
              "    </tr>\n",
              "    <tr>\n",
              "      <th>2</th>\n",
              "      <td>2002-05-28</td>\n",
              "      <td>1.213571</td>\n",
              "      <td>1.232143</td>\n",
              "      <td>1.157143</td>\n",
              "      <td>1.157143</td>\n",
              "      <td>1.157143</td>\n",
              "      <td>6609400</td>\n",
              "    </tr>\n",
              "    <tr>\n",
              "      <th>3</th>\n",
              "      <td>2002-05-29</td>\n",
              "      <td>1.164286</td>\n",
              "      <td>1.164286</td>\n",
              "      <td>1.085714</td>\n",
              "      <td>1.103571</td>\n",
              "      <td>1.103571</td>\n",
              "      <td>6757800</td>\n",
              "    </tr>\n",
              "    <tr>\n",
              "      <th>4</th>\n",
              "      <td>2002-05-30</td>\n",
              "      <td>1.107857</td>\n",
              "      <td>1.107857</td>\n",
              "      <td>1.071429</td>\n",
              "      <td>1.071429</td>\n",
              "      <td>1.071429</td>\n",
              "      <td>10154200</td>\n",
              "    </tr>\n",
              "  </tbody>\n",
              "</table>\n",
              "</div>\n",
              "      <button class=\"colab-df-convert\" onclick=\"convertToInteractive('df-55a84781-14dc-41b3-a569-0601965e539a')\"\n",
              "              title=\"Convert this dataframe to an interactive table.\"\n",
              "              style=\"display:none;\">\n",
              "        \n",
              "  <svg xmlns=\"http://www.w3.org/2000/svg\" height=\"24px\"viewBox=\"0 0 24 24\"\n",
              "       width=\"24px\">\n",
              "    <path d=\"M0 0h24v24H0V0z\" fill=\"none\"/>\n",
              "    <path d=\"M18.56 5.44l.94 2.06.94-2.06 2.06-.94-2.06-.94-.94-2.06-.94 2.06-2.06.94zm-11 1L8.5 8.5l.94-2.06 2.06-.94-2.06-.94L8.5 2.5l-.94 2.06-2.06.94zm10 10l.94 2.06.94-2.06 2.06-.94-2.06-.94-.94-2.06-.94 2.06-2.06.94z\"/><path d=\"M17.41 7.96l-1.37-1.37c-.4-.4-.92-.59-1.43-.59-.52 0-1.04.2-1.43.59L10.3 9.45l-7.72 7.72c-.78.78-.78 2.05 0 2.83L4 21.41c.39.39.9.59 1.41.59.51 0 1.02-.2 1.41-.59l7.78-7.78 2.81-2.81c.8-.78.8-2.07 0-2.86zM5.41 20L4 18.59l7.72-7.72 1.47 1.35L5.41 20z\"/>\n",
              "  </svg>\n",
              "      </button>\n",
              "      \n",
              "  <style>\n",
              "    .colab-df-container {\n",
              "      display:flex;\n",
              "      flex-wrap:wrap;\n",
              "      gap: 12px;\n",
              "    }\n",
              "\n",
              "    .colab-df-convert {\n",
              "      background-color: #E8F0FE;\n",
              "      border: none;\n",
              "      border-radius: 50%;\n",
              "      cursor: pointer;\n",
              "      display: none;\n",
              "      fill: #1967D2;\n",
              "      height: 32px;\n",
              "      padding: 0 0 0 0;\n",
              "      width: 32px;\n",
              "    }\n",
              "\n",
              "    .colab-df-convert:hover {\n",
              "      background-color: #E2EBFA;\n",
              "      box-shadow: 0px 1px 2px rgba(60, 64, 67, 0.3), 0px 1px 3px 1px rgba(60, 64, 67, 0.15);\n",
              "      fill: #174EA6;\n",
              "    }\n",
              "\n",
              "    [theme=dark] .colab-df-convert {\n",
              "      background-color: #3B4455;\n",
              "      fill: #D2E3FC;\n",
              "    }\n",
              "\n",
              "    [theme=dark] .colab-df-convert:hover {\n",
              "      background-color: #434B5C;\n",
              "      box-shadow: 0px 1px 3px 1px rgba(0, 0, 0, 0.15);\n",
              "      filter: drop-shadow(0px 1px 2px rgba(0, 0, 0, 0.3));\n",
              "      fill: #FFFFFF;\n",
              "    }\n",
              "  </style>\n",
              "\n",
              "      <script>\n",
              "        const buttonEl =\n",
              "          document.querySelector('#df-55a84781-14dc-41b3-a569-0601965e539a button.colab-df-convert');\n",
              "        buttonEl.style.display =\n",
              "          google.colab.kernel.accessAllowed ? 'block' : 'none';\n",
              "\n",
              "        async function convertToInteractive(key) {\n",
              "          const element = document.querySelector('#df-55a84781-14dc-41b3-a569-0601965e539a');\n",
              "          const dataTable =\n",
              "            await google.colab.kernel.invokeFunction('convertToInteractive',\n",
              "                                                     [key], {});\n",
              "          if (!dataTable) return;\n",
              "\n",
              "          const docLinkHtml = 'Like what you see? Visit the ' +\n",
              "            '<a target=\"_blank\" href=https://colab.research.google.com/notebooks/data_table.ipynb>data table notebook</a>'\n",
              "            + ' to learn more about interactive tables.';\n",
              "          element.innerHTML = '';\n",
              "          dataTable['output_type'] = 'display_data';\n",
              "          await google.colab.output.renderOutput(dataTable, element);\n",
              "          const docLink = document.createElement('div');\n",
              "          docLink.innerHTML = docLinkHtml;\n",
              "          element.appendChild(docLink);\n",
              "        }\n",
              "      </script>\n",
              "    </div>\n",
              "  </div>\n",
              "  "
            ]
          },
          "metadata": {},
          "execution_count": 8
        }
      ]
    },
    {
      "cell_type": "code",
      "source": [
        "df.info()"
      ],
      "metadata": {
        "id": "xsxIkm7r0d25",
        "outputId": "8793074e-7ce9-4b94-a01f-0d13acfbc284",
        "colab": {
          "base_uri": "https://localhost:8080/"
        }
      },
      "execution_count": 9,
      "outputs": [
        {
          "output_type": "stream",
          "name": "stdout",
          "text": [
            "<class 'pandas.core.frame.DataFrame'>\n",
            "RangeIndex: 4581 entries, 0 to 4580\n",
            "Data columns (total 7 columns):\n",
            " #   Column     Non-Null Count  Dtype  \n",
            "---  ------     --------------  -----  \n",
            " 0   Date       4581 non-null   object \n",
            " 1   Open       4581 non-null   float64\n",
            " 2   High       4581 non-null   float64\n",
            " 3   Low        4581 non-null   float64\n",
            " 4   Close      4581 non-null   float64\n",
            " 5   Adj Close  4581 non-null   float64\n",
            " 6   Volume     4581 non-null   int64  \n",
            "dtypes: float64(5), int64(1), object(1)\n",
            "memory usage: 250.6+ KB\n"
          ]
        }
      ]
    },
    {
      "cell_type": "markdown",
      "source": [
        "## Check Missing Value"
      ],
      "metadata": {
        "id": "0fNgTCHN24sJ"
      }
    },
    {
      "cell_type": "code",
      "metadata": {
        "colab": {
          "base_uri": "https://localhost:8080/"
        },
        "id": "tecda2Bo3X7r",
        "outputId": "01ce589b-47d1-4963-8fc9-19b30d055c4d"
      },
      "source": [
        "df.isnull().sum()"
      ],
      "execution_count": 10,
      "outputs": [
        {
          "output_type": "execute_result",
          "data": {
            "text/plain": [
              "Date         0\n",
              "Open         0\n",
              "High         0\n",
              "Low          0\n",
              "Close        0\n",
              "Adj Close    0\n",
              "Volume       0\n",
              "dtype: int64"
            ]
          },
          "metadata": {},
          "execution_count": 10
        }
      ]
    },
    {
      "cell_type": "markdown",
      "source": [
        "## Ploting Price Netflix"
      ],
      "metadata": {
        "id": "EH-vIpPr20HZ"
      }
    },
    {
      "cell_type": "code",
      "source": [
        "figure, axis = plt.subplots(nrows=2, ncols=2, figsize=(15,10))\n",
        "\n",
        "x = df.index\n",
        "\n",
        "axis[0,0].plot(x, df['Open'])\n",
        "axis[0,0].set_title('Open Netflix Price')\n",
        "\n",
        "axis[0,1].plot(x, df['High'])\n",
        "axis[0,1].set_title('High Netflix Price')\n",
        "\n",
        "axis[1,0].plot(x, df['Low'])\n",
        "axis[1,0].set_title('Low Netflix Price')\n",
        "\n",
        "axis[1,1].plot(x, df['Close'])\n",
        "axis[1,1].set_title('Close Netflix Price')\n",
        "plt.show()"
      ],
      "metadata": {
        "id": "0XmfEDVc0igJ",
        "outputId": "29685676-f1ae-4d81-bf80-9f514deb6224",
        "colab": {
          "base_uri": "https://localhost:8080/",
          "height": 607
        }
      },
      "execution_count": 11,
      "outputs": [
        {
          "output_type": "display_data",
          "data": {
            "text/plain": [
              "<Figure size 1080x720 with 4 Axes>"
            ],
            "image/png": "[encoded data removed]"
          },
          "metadata": {
            "needs_background": "light"
          }
        }
      ]
    },
    {
      "cell_type": "markdown",
      "source": [
        "## Focusing on Open Price"
      ],
      "metadata": {
        "id": "wtUUWg6I3KPh"
      }
    },
    {
      "cell_type": "code",
      "source": [
        "plt.figure(figsize=(15,8))\n",
        "plt.plot(df.index, df['Open'])\n",
        "plt.title('Open Netflix Price')\n",
        "plt.show()"
      ],
      "metadata": {
        "id": "ivEja8PY4R3l",
        "outputId": "9f8493d1-8306-40a0-ac0d-5a3777ecd636",
        "colab": {
          "base_uri": "https://localhost:8080/",
          "height": 499
        }
      },
      "execution_count": 12,
      "outputs": [
        {
          "output_type": "display_data",
          "data": {
            "text/plain": [
              "<Figure size 1080x576 with 1 Axes>"
            ],
            "image/png": "[encoded data removed]"
          },
          "metadata": {
            "needs_background": "light"
          }
        }
      ]
    },
    {
      "cell_type": "markdown",
      "source": [
        "> the data look have so much steady, so im go select data with fluctuating"
      ],
      "metadata": {
        "id": "LAap3tJr4k1p"
      }
    },
    {
      "cell_type": "code",
      "source": [
        "df_new = df[2200:]\n",
        "print(f'New Total data : {df_new.shape[0]}')"
      ],
      "metadata": {
        "id": "GnKnp3xZ4y0x",
        "outputId": "2c2f0e40-e39f-4f59-95a8-550323b6636b",
        "colab": {
          "base_uri": "https://localhost:8080/"
        }
      },
      "execution_count": 13,
      "outputs": [
        {
          "output_type": "stream",
          "name": "stdout",
          "text": [
            "New Total data : 2381\n"
          ]
        }
      ]
    },
    {
      "cell_type": "code",
      "source": [
        "plt.figure(figsize=(15,8))\n",
        "plt.plot(df_new.index, df_new['Open'])\n",
        "plt.title('Selected Open Netflix Price')\n",
        "plt.show()"
      ],
      "metadata": {
        "id": "qjqtBT4V5Jka",
        "outputId": "b8f79640-d6d0-45e5-af4a-41fd0b92f9f9",
        "colab": {
          "base_uri": "https://localhost:8080/",
          "height": 499
        }
      },
      "execution_count": 14,
      "outputs": [
        {
          "output_type": "display_data",
          "data": {
            "text/plain": [
              "<Figure size 1080x576 with 1 Axes>"
            ],
            "image/png": "[encoded data removed]"
          },
          "metadata": {
            "needs_background": "light"
          }
        }
      ]
    },
    {
      "cell_type": "markdown",
      "source": [
        "## Fixed Partition"
      ],
      "metadata": {
        "id": "vRiDFZew5c3a"
      }
    },
    {
      "cell_type": "code",
      "source": [
        "split_data = int(df_new.shape[0] * (20/100)) # split data 20%\n",
        "\n",
        "df_train = df_new[split_data:]\n",
        "df_val = df_new[:split_data]\n",
        "\n",
        "print(f'Total Data Train : {df_train.shape[0]}')\n",
        "print(f'Total Data Validation : {df_val.shape[0]}')"
      ],
      "metadata": {
        "id": "jxKcIleP5fQ5",
        "outputId": "a0717ff1-0f85-49e5-bebb-7f98a48c5770",
        "colab": {
          "base_uri": "https://localhost:8080/"
        }
      },
      "execution_count": 15,
      "outputs": [
        {
          "output_type": "stream",
          "name": "stdout",
          "text": [
            "Total Data Train : 1905\n",
            "Total Data Validation : 476\n"
          ]
        }
      ]
    },
    {
      "cell_type": "code",
      "metadata": {
        "id": "MYQSBdE9Mrhr"
      },
      "source": [
        "T_date = df_train['Date'].values\n",
        "T_price = df_train['Open'].values\n",
        "\n",
        "V_date = df_val['Date'].values\n",
        "V_price = df_val['Open'].values\n",
        "\n",
        "# reshape matrix\n",
        "T_price_r = T_price.reshape(-1,1)\n",
        "V_price_r = V_price.reshape(-1,1)"
      ],
      "execution_count": 16,
      "outputs": []
    },
    {
      "cell_type": "markdown",
      "source": [
        "## Transform data"
      ],
      "metadata": {
        "id": "P6LCloJk9YTh"
      }
    },
    {
      "cell_type": "code",
      "metadata": {
        "id": "n3JK8wdxPDgd"
      },
      "source": [
        "scaler = MinMaxScaler()\n",
        "T_price_r_s = scaler.fit_transform(T_price_r)\n",
        "V_price_r_s = scaler.fit_transform(V_price_r)"
      ],
      "execution_count": 17,
      "outputs": []
    },
    {
      "cell_type": "markdown",
      "source": [
        "## Time Window Function"
      ],
      "metadata": {
        "id": "-8gGjwqX9V65"
      }
    },
    {
      "cell_type": "code",
      "metadata": {
        "id": "qbuMROniR1rY"
      },
      "source": [
        "def windowed_dataset(series, window_size, batch_size, shuffle_buffer):\n",
        "    ds = tf.data.Dataset.from_tensor_slices(series)\n",
        "    ds = ds.window(window_size + 1, shift=1, drop_remainder=True)\n",
        "    ds = ds.flat_map(lambda w: w.batch(window_size + 1))\n",
        "    ds = ds.shuffle(shuffle_buffer)\n",
        "    ds = ds.map(lambda w: (w[:-1], w[-1:]))\n",
        "    return ds.batch(batch_size).prefetch(1)"
      ],
      "execution_count": 18,
      "outputs": []
    },
    {
      "cell_type": "code",
      "source": [
        "data_x_train = windowed_dataset(T_price_r_s, window_size=60, batch_size=68, shuffle_buffer=1000)\n",
        "data_x_test = windowed_dataset(V_price_r_s, window_size=60, batch_size=68, shuffle_buffer=1000)"
      ],
      "metadata": {
        "id": "tf4RdCSG-JZK"
      },
      "execution_count": 19,
      "outputs": []
    },
    {
      "cell_type": "markdown",
      "source": [
        "# Train Model\n",
        "On this Train Im using Long short Term Memory layers"
      ],
      "metadata": {
        "id": "j6GRgGhM88no"
      }
    },
    {
      "cell_type": "markdown",
      "metadata": {
        "id": "JrGAXm9gdBhk"
      },
      "source": [
        "## LSTM Model\n",
        "With Learning-rate Schedule to find best learning rate"
      ]
    },
    {
      "cell_type": "code",
      "metadata": {
        "id": "6b55yZanSNtk"
      },
      "source": [
        "model = tf.keras.models.Sequential([\n",
        "  tf.keras.layers.LSTM(100, return_sequences=True), \n",
        "  tf.keras.layers.LSTM(100, return_sequences=True),\n",
        "  tf.keras.layers.Dropout(0.2),\n",
        "  tf.keras.layers.Dense(1),\n",
        "  tf.keras.layers.Lambda(lambda x: x * 200)\n",
        "])\n",
        "\n",
        "lr_schedule = tf.keras.callbacks.LearningRateScheduler(\n",
        "    lambda epoch: 1e-7 * 10**(epoch / 20))\n",
        "\n",
        "optimizer = tf.keras.optimizers.Adam(learning_rate=1e-7)\n",
        "\n",
        "model.compile(loss=tf.keras.losses.Huber(),\n",
        "              optimizer=optimizer,\n",
        "              metrics=[\"mae\"])"
      ],
      "execution_count": 24,
      "outputs": []
    },
    {
      "cell_type": "code",
      "metadata": {
        "colab": {
          "base_uri": "https://localhost:8080/"
        },
        "id": "ehjY2TTnShk0",
        "outputId": "81a7bbbf-38eb-4f9e-ad3c-b85173486ad2"
      },
      "source": [
        "hist = model.fit(data_x_train ,epochs=100, validation_data=data_x_test, callbacks=[lr_schedule])"
      ],
      "execution_count": 25,
      "outputs": [
        {
          "output_type": "stream",
          "name": "stdout",
          "text": [
            "Epoch 1/100\n",
            "28/28 [==============================] - 7s 85ms/step - loss: 14.5980 - mae: 15.0897 - val_loss: 15.9530 - val_mae: 16.4418 - lr: 1.0000e-07\n",
            "Epoch 2/100\n",
            "28/28 [==============================] - 2s 48ms/step - loss: 14.5451 - mae: 15.0367 - val_loss: 15.9020 - val_mae: 16.3905 - lr: 1.1220e-07\n",
            "Epoch 3/100\n",
            "28/28 [==============================] - 2s 48ms/step - loss: 14.5199 - mae: 15.0114 - val_loss: 15.8452 - val_mae: 16.3334 - lr: 1.2589e-07\n",
            "Epoch 4/100\n",
            "28/28 [==============================] - 2s 49ms/step - loss: 14.4589 - mae: 14.9503 - val_loss: 15.7826 - val_mae: 16.2705 - lr: 1.4125e-07\n",
            "Epoch 5/100\n",
            "28/28 [==============================] - 2s 49ms/step - loss: 14.3918 - mae: 14.8830 - val_loss: 15.7124 - val_mae: 16.2000 - lr: 1.5849e-07\n",
            "Epoch 6/100\n",
            "28/28 [==============================] - 2s 47ms/step - loss: 14.3300 - mae: 14.8211 - val_loss: 15.6328 - val_mae: 16.1200 - lr: 1.7783e-07\n",
            "Epoch 7/100\n",
            "28/28 [==============================] - 2s 47ms/step - loss: 14.2328 - mae: 14.7237 - val_loss: 15.5464 - val_mae: 16.0331 - lr: 1.9953e-07\n",
            "Epoch 8/100\n",
            "28/28 [==============================] - 2s 48ms/step - loss: 14.1598 - mae: 14.6506 - val_loss: 15.4476 - val_mae: 15.9337 - lr: 2.2387e-07\n",
            "Epoch 9/100\n",
            "28/28 [==============================] - 2s 48ms/step - loss: 14.0583 - mae: 14.5488 - val_loss: 15.3368 - val_mae: 15.8222 - lr: 2.5119e-07\n",
            "Epoch 10/100\n",
            "28/28 [==============================] - 2s 47ms/step - loss: 13.9439 - mae: 14.4339 - val_loss: 15.2140 - val_mae: 15.6986 - lr: 2.8184e-07\n",
            "Epoch 11/100\n",
            "28/28 [==============================] - 2s 49ms/step - loss: 13.8309 - mae: 14.3206 - val_loss: 15.0772 - val_mae: 15.5609 - lr: 3.1623e-07\n",
            "Epoch 12/100\n",
            "28/28 [==============================] - 2s 47ms/step - loss: 13.7087 - mae: 14.1981 - val_loss: 14.9256 - val_mae: 15.4082 - lr: 3.5481e-07\n",
            "Epoch 13/100\n",
            "28/28 [==============================] - 2s 48ms/step - loss: 13.5355 - mae: 14.0243 - val_loss: 14.7525 - val_mae: 15.2337 - lr: 3.9811e-07\n",
            "Epoch 14/100\n",
            "28/28 [==============================] - 2s 47ms/step - loss: 13.3752 - mae: 13.8634 - val_loss: 14.5612 - val_mae: 15.0408 - lr: 4.4668e-07\n",
            "Epoch 15/100\n",
            "28/28 [==============================] - 2s 48ms/step - loss: 13.1964 - mae: 13.6839 - val_loss: 14.3472 - val_mae: 14.8249 - lr: 5.0119e-07\n",
            "Epoch 16/100\n",
            "28/28 [==============================] - 2s 48ms/step - loss: 12.9798 - mae: 13.4665 - val_loss: 14.1088 - val_mae: 14.5845 - lr: 5.6234e-07\n",
            "Epoch 17/100\n",
            "28/28 [==============================] - 2s 47ms/step - loss: 12.7198 - mae: 13.2052 - val_loss: 13.8406 - val_mae: 14.3142 - lr: 6.3096e-07\n",
            "Epoch 18/100\n",
            "28/28 [==============================] - 2s 49ms/step - loss: 12.4595 - mae: 12.9435 - val_loss: 13.5434 - val_mae: 14.0152 - lr: 7.0795e-07\n",
            "Epoch 19/100\n",
            "28/28 [==============================] - 2s 49ms/step - loss: 12.1720 - mae: 12.6543 - val_loss: 13.2146 - val_mae: 13.6847 - lr: 7.9433e-07\n",
            "Epoch 20/100\n",
            "28/28 [==============================] - 2s 48ms/step - loss: 11.8463 - mae: 12.3261 - val_loss: 12.8420 - val_mae: 13.3105 - lr: 8.9125e-07\n",
            "Epoch 21/100\n",
            "28/28 [==============================] - 2s 47ms/step - loss: 11.4682 - mae: 11.9452 - val_loss: 12.4343 - val_mae: 12.9016 - lr: 1.0000e-06\n",
            "Epoch 22/100\n",
            "28/28 [==============================] - 2s 48ms/step - loss: 11.0436 - mae: 11.5171 - val_loss: 11.9814 - val_mae: 12.4471 - lr: 1.1220e-06\n",
            "Epoch 23/100\n",
            "28/28 [==============================] - 2s 48ms/step - loss: 10.6101 - mae: 11.0809 - val_loss: 11.4790 - val_mae: 11.9418 - lr: 1.2589e-06\n",
            "Epoch 24/100\n",
            "28/28 [==============================] - 2s 49ms/step - loss: 10.1102 - mae: 10.5794 - val_loss: 10.9265 - val_mae: 11.3869 - lr: 1.4125e-06\n",
            "Epoch 25/100\n",
            "28/28 [==============================] - 2s 47ms/step - loss: 9.5586 - mae: 10.0264 - val_loss: 10.3211 - val_mae: 10.7781 - lr: 1.5849e-06\n",
            "Epoch 26/100\n",
            "28/28 [==============================] - 2s 52ms/step - loss: 8.9458 - mae: 9.4127 - val_loss: 9.6511 - val_mae: 10.1055 - lr: 1.7783e-06\n",
            "Epoch 27/100\n",
            "28/28 [==============================] - 2s 48ms/step - loss: 8.2790 - mae: 8.7447 - val_loss: 8.9527 - val_mae: 9.4050 - lr: 1.9953e-06\n",
            "Epoch 28/100\n",
            "28/28 [==============================] - 2s 49ms/step - loss: 7.5652 - mae: 8.0267 - val_loss: 8.1764 - val_mae: 8.6285 - lr: 2.2387e-06\n",
            "Epoch 29/100\n",
            "28/28 [==============================] - 2s 47ms/step - loss: 6.7791 - mae: 7.2335 - val_loss: 7.3618 - val_mae: 7.8154 - lr: 2.5119e-06\n",
            "Epoch 30/100\n",
            "28/28 [==============================] - 2s 47ms/step - loss: 5.9705 - mae: 6.4220 - val_loss: 6.5026 - val_mae: 6.9652 - lr: 2.8184e-06\n",
            "Epoch 31/100\n",
            "28/28 [==============================] - 2s 46ms/step - loss: 5.1288 - mae: 5.5833 - val_loss: 5.6123 - val_mae: 6.0759 - lr: 3.1623e-06\n",
            "Epoch 32/100\n",
            "28/28 [==============================] - 2s 47ms/step - loss: 4.2873 - mae: 4.7455 - val_loss: 4.7284 - val_mae: 5.1942 - lr: 3.5481e-06\n",
            "Epoch 33/100\n",
            "28/28 [==============================] - 1s 46ms/step - loss: 3.4551 - mae: 3.9146 - val_loss: 3.8232 - val_mae: 4.2965 - lr: 3.9811e-06\n",
            "Epoch 34/100\n",
            "28/28 [==============================] - 2s 51ms/step - loss: 2.7258 - mae: 3.1837 - val_loss: 2.9550 - val_mae: 3.4293 - lr: 4.4668e-06\n",
            "Epoch 35/100\n",
            "28/28 [==============================] - 2s 46ms/step - loss: 2.2060 - mae: 2.6648 - val_loss: 2.3066 - val_mae: 2.7648 - lr: 5.0119e-06\n",
            "Epoch 36/100\n",
            "28/28 [==============================] - 2s 62ms/step - loss: 1.9059 - mae: 2.3661 - val_loss: 1.8488 - val_mae: 2.3120 - lr: 5.6234e-06\n",
            "Epoch 37/100\n",
            "28/28 [==============================] - 2s 57ms/step - loss: 1.7537 - mae: 2.2134 - val_loss: 1.5353 - val_mae: 1.9981 - lr: 6.3096e-06\n",
            "Epoch 38/100\n",
            "28/28 [==============================] - 2s 46ms/step - loss: 1.6076 - mae: 2.0632 - val_loss: 1.2828 - val_mae: 1.7381 - lr: 7.0795e-06\n",
            "Epoch 39/100\n",
            "28/28 [==============================] - 2s 47ms/step - loss: 1.4630 - mae: 1.9121 - val_loss: 1.0426 - val_mae: 1.4851 - lr: 7.9433e-06\n",
            "Epoch 40/100\n",
            "28/28 [==============================] - 2s 47ms/step - loss: 1.3077 - mae: 1.7470 - val_loss: 0.8274 - val_mae: 1.2489 - lr: 8.9125e-06\n",
            "Epoch 41/100\n",
            "28/28 [==============================] - 2s 52ms/step - loss: 1.1824 - mae: 1.6094 - val_loss: 0.6643 - val_mae: 1.0663 - lr: 1.0000e-05\n",
            "Epoch 42/100\n",
            "28/28 [==============================] - 2s 47ms/step - loss: 1.0647 - mae: 1.4747 - val_loss: 0.5624 - val_mae: 0.9561 - lr: 1.1220e-05\n",
            "Epoch 43/100\n",
            "28/28 [==============================] - 2s 51ms/step - loss: 0.9755 - mae: 1.3660 - val_loss: 0.5137 - val_mae: 0.8906 - lr: 1.2589e-05\n",
            "Epoch 44/100\n",
            "28/28 [==============================] - 2s 48ms/step - loss: 0.9111 - mae: 1.2841 - val_loss: 0.4692 - val_mae: 0.8255 - lr: 1.4125e-05\n",
            "Epoch 45/100\n",
            "28/28 [==============================] - 2s 49ms/step - loss: 0.8565 - mae: 1.2153 - val_loss: 0.4374 - val_mae: 0.7798 - lr: 1.5849e-05\n",
            "Epoch 46/100\n",
            "28/28 [==============================] - 2s 48ms/step - loss: 0.7995 - mae: 1.1488 - val_loss: 0.3956 - val_mae: 0.7245 - lr: 1.7783e-05\n",
            "Epoch 47/100\n",
            "28/28 [==============================] - 2s 48ms/step - loss: 0.7454 - mae: 1.0867 - val_loss: 0.3473 - val_mae: 0.6640 - lr: 1.9953e-05\n",
            "Epoch 48/100\n",
            "28/28 [==============================] - 2s 48ms/step - loss: 0.6957 - mae: 1.0300 - val_loss: 0.2896 - val_mae: 0.5931 - lr: 2.2387e-05\n",
            "Epoch 49/100\n",
            "28/28 [==============================] - 2s 48ms/step - loss: 0.6419 - mae: 0.9708 - val_loss: 0.2519 - val_mae: 0.5468 - lr: 2.5119e-05\n",
            "Epoch 50/100\n",
            "28/28 [==============================] - 2s 49ms/step - loss: 0.5963 - mae: 0.9192 - val_loss: 0.2009 - val_mae: 0.4796 - lr: 2.8184e-05\n",
            "Epoch 51/100\n",
            "28/28 [==============================] - 2s 48ms/step - loss: 0.5465 - mae: 0.8632 - val_loss: 0.1636 - val_mae: 0.4300 - lr: 3.1623e-05\n",
            "Epoch 52/100\n",
            "28/28 [==============================] - 2s 49ms/step - loss: 0.4968 - mae: 0.8083 - val_loss: 0.1322 - val_mae: 0.3843 - lr: 3.5481e-05\n",
            "Epoch 53/100\n",
            "28/28 [==============================] - 2s 48ms/step - loss: 0.4485 - mae: 0.7520 - val_loss: 0.1163 - val_mae: 0.3568 - lr: 3.9811e-05\n",
            "Epoch 54/100\n",
            "28/28 [==============================] - 2s 48ms/step - loss: 0.4051 - mae: 0.7014 - val_loss: 0.0994 - val_mae: 0.3279 - lr: 4.4668e-05\n",
            "Epoch 55/100\n",
            "28/28 [==============================] - 2s 47ms/step - loss: 0.3583 - mae: 0.6478 - val_loss: 0.0751 - val_mae: 0.2892 - lr: 5.0119e-05\n",
            "Epoch 56/100\n",
            "28/28 [==============================] - 2s 49ms/step - loss: 0.3209 - mae: 0.6036 - val_loss: 0.0615 - val_mae: 0.2606 - lr: 5.6234e-05\n",
            "Epoch 57/100\n",
            "28/28 [==============================] - 2s 47ms/step - loss: 0.2766 - mae: 0.5494 - val_loss: 0.0467 - val_mae: 0.2314 - lr: 6.3096e-05\n",
            "Epoch 58/100\n",
            "28/28 [==============================] - 2s 48ms/step - loss: 0.2386 - mae: 0.5024 - val_loss: 0.0375 - val_mae: 0.2112 - lr: 7.0795e-05\n",
            "Epoch 59/100\n",
            "28/28 [==============================] - 2s 49ms/step - loss: 0.1999 - mae: 0.4551 - val_loss: 0.0327 - val_mae: 0.1956 - lr: 7.9433e-05\n",
            "Epoch 60/100\n",
            "28/28 [==============================] - 2s 49ms/step - loss: 0.1648 - mae: 0.4065 - val_loss: 0.0255 - val_mae: 0.1727 - lr: 8.9125e-05\n",
            "Epoch 61/100\n",
            "28/28 [==============================] - 2s 46ms/step - loss: 0.1357 - mae: 0.3663 - val_loss: 0.0222 - val_mae: 0.1601 - lr: 1.0000e-04\n",
            "Epoch 62/100\n",
            "28/28 [==============================] - 2s 49ms/step - loss: 0.1120 - mae: 0.3311 - val_loss: 0.0208 - val_mae: 0.1570 - lr: 1.1220e-04\n",
            "Epoch 63/100\n",
            "28/28 [==============================] - 2s 49ms/step - loss: 0.0928 - mae: 0.3014 - val_loss: 0.0235 - val_mae: 0.1657 - lr: 1.2589e-04\n",
            "Epoch 64/100\n",
            "28/28 [==============================] - 2s 48ms/step - loss: 0.0781 - mae: 0.2775 - val_loss: 0.0198 - val_mae: 0.1482 - lr: 1.4125e-04\n",
            "Epoch 65/100\n",
            "28/28 [==============================] - 2s 48ms/step - loss: 0.0662 - mae: 0.2565 - val_loss: 0.0164 - val_mae: 0.1320 - lr: 1.5849e-04\n",
            "Epoch 66/100\n",
            "28/28 [==============================] - 2s 48ms/step - loss: 0.0541 - mae: 0.2295 - val_loss: 0.0204 - val_mae: 0.1433 - lr: 1.7783e-04\n",
            "Epoch 67/100\n",
            "28/28 [==============================] - 2s 48ms/step - loss: 0.0469 - mae: 0.2121 - val_loss: 0.0150 - val_mae: 0.1299 - lr: 1.9953e-04\n",
            "Epoch 68/100\n",
            "28/28 [==============================] - 2s 49ms/step - loss: 0.0409 - mae: 0.1985 - val_loss: 0.0160 - val_mae: 0.1264 - lr: 2.2387e-04\n",
            "Epoch 69/100\n",
            "28/28 [==============================] - 2s 48ms/step - loss: 0.0364 - mae: 0.1851 - val_loss: 0.0156 - val_mae: 0.1258 - lr: 2.5119e-04\n",
            "Epoch 70/100\n",
            "28/28 [==============================] - 2s 48ms/step - loss: 0.0312 - mae: 0.1700 - val_loss: 0.0160 - val_mae: 0.1258 - lr: 2.8184e-04\n",
            "Epoch 71/100\n",
            "28/28 [==============================] - 2s 52ms/step - loss: 0.0275 - mae: 0.1583 - val_loss: 0.0140 - val_mae: 0.1229 - lr: 3.1623e-04\n",
            "Epoch 72/100\n",
            "28/28 [==============================] - 2s 47ms/step - loss: 0.0253 - mae: 0.1531 - val_loss: 0.0141 - val_mae: 0.1213 - lr: 3.5481e-04\n",
            "Epoch 73/100\n",
            "28/28 [==============================] - 2s 48ms/step - loss: 0.0225 - mae: 0.1408 - val_loss: 0.0213 - val_mae: 0.1403 - lr: 3.9811e-04\n",
            "Epoch 74/100\n",
            "28/28 [==============================] - 2s 49ms/step - loss: 0.0197 - mae: 0.1314 - val_loss: 0.0160 - val_mae: 0.1227 - lr: 4.4668e-04\n",
            "Epoch 75/100\n",
            "28/28 [==============================] - 2s 49ms/step - loss: 0.0179 - mae: 0.1249 - val_loss: 0.0167 - val_mae: 0.1252 - lr: 5.0119e-04\n",
            "Epoch 76/100\n",
            "28/28 [==============================] - 2s 49ms/step - loss: 0.0181 - mae: 0.1244 - val_loss: 0.0200 - val_mae: 0.1440 - lr: 5.6234e-04\n",
            "Epoch 77/100\n",
            "28/28 [==============================] - 2s 53ms/step - loss: 0.0185 - mae: 0.1373 - val_loss: 0.0276 - val_mae: 0.1653 - lr: 6.3096e-04\n",
            "Epoch 78/100\n",
            "28/28 [==============================] - 2s 48ms/step - loss: 0.0155 - mae: 0.1196 - val_loss: 0.0661 - val_mae: 0.2559 - lr: 7.0795e-04\n",
            "Epoch 79/100\n",
            "28/28 [==============================] - 2s 49ms/step - loss: 0.0855 - mae: 0.2881 - val_loss: 0.2844 - val_mae: 0.5557 - lr: 7.9433e-04\n",
            "Epoch 80/100\n",
            "28/28 [==============================] - 2s 48ms/step - loss: 0.0547 - mae: 0.2607 - val_loss: 0.0350 - val_mae: 0.2157 - lr: 8.9125e-04\n",
            "Epoch 81/100\n",
            "28/28 [==============================] - 2s 49ms/step - loss: 0.0190 - mae: 0.1472 - val_loss: 0.0329 - val_mae: 0.1750 - lr: 0.0010\n",
            "Epoch 82/100\n",
            "28/28 [==============================] - 2s 49ms/step - loss: 0.0210 - mae: 0.1408 - val_loss: 0.0290 - val_mae: 0.1764 - lr: 0.0011\n",
            "Epoch 83/100\n",
            "28/28 [==============================] - 2s 47ms/step - loss: 0.0179 - mae: 0.1440 - val_loss: 0.0152 - val_mae: 0.1202 - lr: 0.0013\n",
            "Epoch 84/100\n",
            "28/28 [==============================] - 2s 52ms/step - loss: 0.2638 - mae: 0.5113 - val_loss: 0.2890 - val_mae: 0.6794 - lr: 0.0014\n",
            "Epoch 85/100\n",
            "28/28 [==============================] - 2s 49ms/step - loss: 0.2631 - mae: 0.6027 - val_loss: 0.0505 - val_mae: 0.2873 - lr: 0.0016\n",
            "Epoch 86/100\n",
            "28/28 [==============================] - 2s 48ms/step - loss: 0.0496 - mae: 0.2434 - val_loss: 0.0203 - val_mae: 0.1711 - lr: 0.0018\n",
            "Epoch 87/100\n",
            "28/28 [==============================] - 2s 52ms/step - loss: 0.0132 - mae: 0.1237 - val_loss: 0.0330 - val_mae: 0.1845 - lr: 0.0020\n",
            "Epoch 88/100\n",
            "28/28 [==============================] - 2s 49ms/step - loss: 0.0083 - mae: 0.0970 - val_loss: 0.0154 - val_mae: 0.1301 - lr: 0.0022\n",
            "Epoch 89/100\n",
            "28/28 [==============================] - 2s 52ms/step - loss: 0.0041 - mae: 0.0624 - val_loss: 0.0153 - val_mae: 0.1231 - lr: 0.0025\n",
            "Epoch 90/100\n",
            "28/28 [==============================] - 2s 48ms/step - loss: 0.0035 - mae: 0.0556 - val_loss: 0.0145 - val_mae: 0.1206 - lr: 0.0028\n",
            "Epoch 91/100\n",
            "28/28 [==============================] - 2s 49ms/step - loss: 0.0050 - mae: 0.0694 - val_loss: 0.0146 - val_mae: 0.1261 - lr: 0.0032\n",
            "Epoch 92/100\n",
            "28/28 [==============================] - 2s 49ms/step - loss: 0.0296 - mae: 0.1601 - val_loss: 0.0910 - val_mae: 0.3268 - lr: 0.0035\n",
            "Epoch 93/100\n",
            "28/28 [==============================] - 2s 53ms/step - loss: 0.0247 - mae: 0.1785 - val_loss: 0.0204 - val_mae: 0.1670 - lr: 0.0040\n",
            "Epoch 94/100\n",
            "28/28 [==============================] - 2s 50ms/step - loss: 0.0113 - mae: 0.1204 - val_loss: 0.0148 - val_mae: 0.1208 - lr: 0.0045\n",
            "Epoch 95/100\n",
            "28/28 [==============================] - 2s 47ms/step - loss: 0.2325 - mae: 0.4221 - val_loss: 1.3499 - val_mae: 1.8460 - lr: 0.0050\n",
            "Epoch 96/100\n",
            "28/28 [==============================] - 2s 48ms/step - loss: 0.1412 - mae: 0.4279 - val_loss: 0.0724 - val_mae: 0.2654 - lr: 0.0056\n",
            "Epoch 97/100\n",
            "28/28 [==============================] - 2s 48ms/step - loss: 0.0122 - mae: 0.1234 - val_loss: 0.0212 - val_mae: 0.1626 - lr: 0.0063\n",
            "Epoch 98/100\n",
            "28/28 [==============================] - 2s 50ms/step - loss: 0.0052 - mae: 0.0800 - val_loss: 0.0185 - val_mae: 0.1376 - lr: 0.0071\n",
            "Epoch 99/100\n",
            "28/28 [==============================] - 2s 59ms/step - loss: 0.0049 - mae: 0.0795 - val_loss: 0.0204 - val_mae: 0.1347 - lr: 0.0079\n",
            "Epoch 100/100\n",
            "28/28 [==============================] - 2s 54ms/step - loss: 0.0055 - mae: 0.0829 - val_loss: 0.0131 - val_mae: 0.1159 - lr: 0.0089\n"
          ]
        }
      ]
    },
    {
      "cell_type": "markdown",
      "source": [
        "## Plot Lr Schedule to find best Lr"
      ],
      "metadata": {
        "id": "zrBzp6mt82NP"
      }
    },
    {
      "cell_type": "code",
      "source": [
        "plt.figure(figsize=(10,6))\n",
        "plt.semilogx(hist.history[\"lr\"], hist.history[\"loss\"])\n",
        "plt.axis([1e-7, 1e-3, 0, 30])\n",
        "plt.show()"
      ],
      "metadata": {
        "id": "q0wKyCWN7pKk",
        "outputId": "12a0974c-5ba5-4e9a-b8d6-7b0966e82c71",
        "colab": {
          "base_uri": "https://localhost:8080/",
          "height": 382
        }
      },
      "execution_count": 27,
      "outputs": [
        {
          "output_type": "display_data",
          "data": {
            "text/plain": [
              "<Figure size 720x432 with 1 Axes>"
            ],
            "image/png": "[encoded data removed]"
          },
          "metadata": {
            "needs_background": "light"
          }
        }
      ]
    },
    {
      "cell_type": "markdown",
      "source": [
        "> Stabil lr on 1e-5"
      ],
      "metadata": {
        "id": "RT7ojrk3IGyR"
      }
    },
    {
      "cell_type": "markdown",
      "source": [
        "## Declare Callbacks"
      ],
      "metadata": {
        "id": "D9PS1A0K8yd5"
      }
    },
    {
      "cell_type": "code",
      "source": [
        "model_checkpoint = tf.keras.callbacks.ModelCheckpoint(\n",
        "    \"my_checkpoint.h5\", save_best_only=True)\n",
        "\n",
        "early_stopping = tf.keras.callbacks.EarlyStopping(patience=20)"
      ],
      "metadata": {
        "id": "dMeVszEq8u25"
      },
      "execution_count": 28,
      "outputs": []
    },
    {
      "cell_type": "markdown",
      "source": [
        "## Train model with best Learning_rate"
      ],
      "metadata": {
        "id": "tB2Qoxu3INCH"
      }
    },
    {
      "cell_type": "code",
      "source": [
        "model = tf.keras.models.Sequential([\n",
        "  tf.keras.layers.LSTM(100, return_sequences=True), \n",
        "  tf.keras.layers.LSTM(100, return_sequences=True),\n",
        "  \n",
        "  tf.keras.layers.Dropout(0.2),\n",
        "  tf.keras.layers.Dense(1),\n",
        "  tf.keras.layers.Lambda(lambda x: x * 200)\n",
        "])\n",
        "\n",
        "optimizer = tf.keras.optimizers.Adam(learning_rate=1e-5)\n",
        "\n",
        "model.compile(loss=tf.keras.losses.Huber(),\n",
        "              optimizer=optimizer,\n",
        "              metrics=[\"mae\"])"
      ],
      "metadata": {
        "id": "Tmz5y0Bf_wy5"
      },
      "execution_count": 29,
      "outputs": []
    },
    {
      "cell_type": "code",
      "source": [
        "hist = model.fit(data_x_train ,epochs=100, validation_data=data_x_test, callbacks=[model_checkpoint,early_stopping])"
      ],
      "metadata": {
        "id": "sR7mcQws_4MB",
        "outputId": "e145f3c8-66d8-468a-e608-7377443e4155",
        "colab": {
          "base_uri": "https://localhost:8080/"
        }
      },
      "execution_count": 30,
      "outputs": [
        {
          "output_type": "stream",
          "name": "stdout",
          "text": [
            "Epoch 1/100\n",
            "28/28 [==============================] - 9s 136ms/step - loss: 0.9331 - mae: 1.3084 - val_loss: 0.1246 - val_mae: 0.4515\n",
            "Epoch 2/100\n",
            "28/28 [==============================] - 2s 59ms/step - loss: 0.7744 - mae: 1.1315 - val_loss: 0.0516 - val_mae: 0.2231\n",
            "Epoch 3/100\n",
            "28/28 [==============================] - 2s 61ms/step - loss: 0.6925 - mae: 1.0190 - val_loss: 0.0428 - val_mae: 0.1947\n",
            "Epoch 4/100\n",
            "28/28 [==============================] - 2s 53ms/step - loss: 0.6276 - mae: 0.9416 - val_loss: 0.0332 - val_mae: 0.1762\n",
            "Epoch 5/100\n",
            "28/28 [==============================] - 2s 49ms/step - loss: 0.5682 - mae: 0.8724 - val_loss: 0.0295 - val_mae: 0.1662\n",
            "Epoch 6/100\n",
            "28/28 [==============================] - 2s 50ms/step - loss: 0.5093 - mae: 0.8029 - val_loss: 0.0283 - val_mae: 0.1615\n",
            "Epoch 7/100\n",
            "28/28 [==============================] - 2s 50ms/step - loss: 0.4630 - mae: 0.7482 - val_loss: 0.0277 - val_mae: 0.1587\n",
            "Epoch 8/100\n",
            "28/28 [==============================] - 2s 50ms/step - loss: 0.4164 - mae: 0.6926 - val_loss: 0.0251 - val_mae: 0.1518\n",
            "Epoch 9/100\n",
            "28/28 [==============================] - 2s 48ms/step - loss: 0.3739 - mae: 0.6425 - val_loss: 0.0245 - val_mae: 0.1493\n",
            "Epoch 10/100\n",
            "28/28 [==============================] - 2s 49ms/step - loss: 0.3368 - mae: 0.5990 - val_loss: 0.0231 - val_mae: 0.1452\n",
            "Epoch 11/100\n",
            "28/28 [==============================] - 2s 54ms/step - loss: 0.3017 - mae: 0.5562 - val_loss: 0.0203 - val_mae: 0.1396\n",
            "Epoch 12/100\n",
            "28/28 [==============================] - 2s 49ms/step - loss: 0.2684 - mae: 0.5164 - val_loss: 0.0196 - val_mae: 0.1374\n",
            "Epoch 13/100\n",
            "28/28 [==============================] - 2s 50ms/step - loss: 0.2430 - mae: 0.4855 - val_loss: 0.0192 - val_mae: 0.1358\n",
            "Epoch 14/100\n",
            "28/28 [==============================] - 2s 54ms/step - loss: 0.2178 - mae: 0.4550 - val_loss: 0.0180 - val_mae: 0.1340\n",
            "Epoch 15/100\n",
            "28/28 [==============================] - 2s 49ms/step - loss: 0.1947 - mae: 0.4270 - val_loss: 0.0173 - val_mae: 0.1328\n",
            "Epoch 16/100\n",
            "28/28 [==============================] - 2s 47ms/step - loss: 0.1778 - mae: 0.4057 - val_loss: 0.0183 - val_mae: 0.1329\n",
            "Epoch 17/100\n",
            "28/28 [==============================] - 2s 50ms/step - loss: 0.1587 - mae: 0.3827 - val_loss: 0.0169 - val_mae: 0.1310\n",
            "Epoch 18/100\n",
            "28/28 [==============================] - 2s 48ms/step - loss: 0.1438 - mae: 0.3635 - val_loss: 0.0170 - val_mae: 0.1305\n",
            "Epoch 19/100\n",
            "28/28 [==============================] - 2s 49ms/step - loss: 0.1288 - mae: 0.3441 - val_loss: 0.0192 - val_mae: 0.1343\n",
            "Epoch 20/100\n",
            "28/28 [==============================] - 2s 50ms/step - loss: 0.1164 - mae: 0.3284 - val_loss: 0.0163 - val_mae: 0.1298\n",
            "Epoch 21/100\n",
            "28/28 [==============================] - 2s 48ms/step - loss: 0.1050 - mae: 0.3129 - val_loss: 0.0170 - val_mae: 0.1297\n",
            "Epoch 22/100\n",
            "28/28 [==============================] - 2s 53ms/step - loss: 0.0951 - mae: 0.2993 - val_loss: 0.0172 - val_mae: 0.1300\n",
            "Epoch 23/100\n",
            "28/28 [==============================] - 2s 51ms/step - loss: 0.0868 - mae: 0.2882 - val_loss: 0.0159 - val_mae: 0.1286\n",
            "Epoch 24/100\n",
            "28/28 [==============================] - 2s 49ms/step - loss: 0.0798 - mae: 0.2767 - val_loss: 0.0158 - val_mae: 0.1279\n",
            "Epoch 25/100\n",
            "28/28 [==============================] - 2s 49ms/step - loss: 0.0726 - mae: 0.2658 - val_loss: 0.0181 - val_mae: 0.1322\n",
            "Epoch 26/100\n",
            "28/28 [==============================] - 2s 49ms/step - loss: 0.0671 - mae: 0.2574 - val_loss: 0.0176 - val_mae: 0.1307\n",
            "Epoch 27/100\n",
            "28/28 [==============================] - 2s 48ms/step - loss: 0.0621 - mae: 0.2488 - val_loss: 0.0172 - val_mae: 0.1294\n",
            "Epoch 28/100\n",
            "28/28 [==============================] - 2s 49ms/step - loss: 0.0575 - mae: 0.2413 - val_loss: 0.0186 - val_mae: 0.1326\n",
            "Epoch 29/100\n",
            "28/28 [==============================] - 2s 48ms/step - loss: 0.0533 - mae: 0.2328 - val_loss: 0.0168 - val_mae: 0.1285\n",
            "Epoch 30/100\n",
            "28/28 [==============================] - 2s 53ms/step - loss: 0.0497 - mae: 0.2259 - val_loss: 0.0164 - val_mae: 0.1275\n",
            "Epoch 31/100\n",
            "28/28 [==============================] - 2s 48ms/step - loss: 0.0463 - mae: 0.2195 - val_loss: 0.0164 - val_mae: 0.1277\n",
            "Epoch 32/100\n",
            "28/28 [==============================] - 2s 49ms/step - loss: 0.0438 - mae: 0.2130 - val_loss: 0.0170 - val_mae: 0.1285\n",
            "Epoch 33/100\n",
            "28/28 [==============================] - 2s 53ms/step - loss: 0.0408 - mae: 0.2068 - val_loss: 0.0172 - val_mae: 0.1289\n",
            "Epoch 34/100\n",
            "28/28 [==============================] - 2s 47ms/step - loss: 0.0391 - mae: 0.2024 - val_loss: 0.0170 - val_mae: 0.1282\n",
            "Epoch 35/100\n",
            "28/28 [==============================] - 2s 47ms/step - loss: 0.0367 - mae: 0.1969 - val_loss: 0.0172 - val_mae: 0.1286\n",
            "Epoch 36/100\n",
            "28/28 [==============================] - 2s 47ms/step - loss: 0.0348 - mae: 0.1915 - val_loss: 0.0184 - val_mae: 0.1319\n",
            "Epoch 37/100\n",
            "28/28 [==============================] - 2s 47ms/step - loss: 0.0328 - mae: 0.1868 - val_loss: 0.0172 - val_mae: 0.1283\n",
            "Epoch 38/100\n",
            "28/28 [==============================] - 2s 47ms/step - loss: 0.0309 - mae: 0.1812 - val_loss: 0.0179 - val_mae: 0.1301\n",
            "Epoch 39/100\n",
            "28/28 [==============================] - 2s 48ms/step - loss: 0.0298 - mae: 0.1780 - val_loss: 0.0179 - val_mae: 0.1297\n",
            "Epoch 40/100\n",
            "28/28 [==============================] - 2s 54ms/step - loss: 0.0285 - mae: 0.1736 - val_loss: 0.0160 - val_mae: 0.1253\n",
            "Epoch 41/100\n",
            "28/28 [==============================] - 2s 47ms/step - loss: 0.0271 - mae: 0.1694 - val_loss: 0.0169 - val_mae: 0.1274\n",
            "Epoch 42/100\n",
            "28/28 [==============================] - 2s 47ms/step - loss: 0.0260 - mae: 0.1660 - val_loss: 0.0176 - val_mae: 0.1287\n",
            "Epoch 43/100\n",
            "28/28 [==============================] - 2s 47ms/step - loss: 0.0247 - mae: 0.1620 - val_loss: 0.0167 - val_mae: 0.1265\n",
            "Epoch 44/100\n",
            "28/28 [==============================] - 2s 61ms/step - loss: 0.0236 - mae: 0.1583 - val_loss: 0.0171 - val_mae: 0.1271\n"
          ]
        }
      ]
    },
    {
      "cell_type": "code",
      "source": [
        "model = tf.keras.models.load_model(\"my_checkpoint.h5\")"
      ],
      "metadata": {
        "id": "lcvg6rtCDfjO"
      },
      "execution_count": 33,
      "outputs": []
    },
    {
      "cell_type": "markdown",
      "metadata": {
        "id": "lc8oLzbCdIuI"
      },
      "source": [
        "## Plot MAE dan Loss"
      ]
    },
    {
      "cell_type": "code",
      "metadata": {
        "colab": {
          "base_uri": "https://localhost:8080/",
          "height": 404
        },
        "id": "zhCUAzsGaWWj",
        "outputId": "ca0fd425-c2ed-4090-e317-148d0dbb47be"
      },
      "source": [
        "\n",
        "plt.figure(figsize=(15, 6))\n",
        "plt.subplot(1,2,1)\n",
        "plt.plot(hist.history['mae'])\n",
        "plt.plot(hist.history['val_mae'])\n",
        "plt.title('MAE')\n",
        "plt.ylabel('mae')\n",
        "plt.xlabel('epoch')\n",
        "plt.legend(['train','val'])\n",
        "plt.grid()\n",
        "\n",
        "plt.subplot(1,2,2)\n",
        "plt.plot(hist.history['loss'])\n",
        "plt.plot(hist.history['val_loss'])\n",
        "plt.title('Loss')\n",
        "plt.ylabel('loss')\n",
        "plt.xlabel('epoch')\n",
        "plt.legend(['train','val'])\n",
        "plt.grid()\n",
        "plt.show()"
      ],
      "execution_count": 48,
      "outputs": [
        {
          "output_type": "display_data",
          "data": {
            "text/plain": [
              "<Figure size 1080x432 with 2 Axes>"
            ],
            "image/png": "[encoded data removed]"
          },
          "metadata": {
            "needs_background": "light"
          }
        }
      ]
    }
  ]
}