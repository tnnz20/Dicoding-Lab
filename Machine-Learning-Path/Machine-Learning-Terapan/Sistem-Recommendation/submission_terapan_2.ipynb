{
  "nbformat": 4,
  "nbformat_minor": 0,
  "metadata": {
    "colab": {
      "name": "submission_terapan_2.ipynb",
      "provenance": [],
      "collapsed_sections": [
        "wDYJmi5-v_9l",
        "ESn-kxtzxiaN",
        "nPMbasTCwguQ",
        "oIbn8nYNwm69",
        "luM7VF7pHtGs",
        "O9yk9ZzqfpLC",
        "6Kq2Y8bEfpLE"
      ]
    },
    "kernelspec": {
      "display_name": "Python 3",
      "language": "python",
      "name": "python3"
    },
    "language_info": {
      "codemirror_mode": {
        "name": "ipython",
        "version": 3
      },
      "file_extension": ".py",
      "mimetype": "text/x-python",
      "name": "python",
      "nbconvert_exporter": "python",
      "pygments_lexer": "ipython3",
      "version": "3.8.8"
    }
  },
  "cells": [
    {
      "cell_type": "markdown",
      "metadata": {
        "id": "aQviC3vGyFtc"
      },
      "source": [
        "# **Data Diri**\n",
        "\n",
        "---\n",
        "(Peserta Kampus merdeka - Student Indepentdent)\n",
        "\n",
        "\n",
        "Nama : Gusti Muhammad Aulia Nur Sulthan\n",
        "\n",
        "Alamat :  Kabupaten Hulu Sungai Selatan, Kalimantan Selatan\n",
        "\n",
        "SIB Id : M247R6216\n",
        "\n",
        "SIB Email : M247R6216@dicoding.org\t\n",
        "\n",
        "SIB Group : M3\n"
      ]
    },
    {
      "cell_type": "markdown",
      "metadata": {
        "id": "r-ZC9jVHH7aG"
      },
      "source": [
        "# Introduction\n",
        "Proyek ini merupakan submission dari [Dicoding]('www.dicoding.com') dan pada proyek kedua ini disuruh membuat **Sistem Rekomendasi**."
      ]
    },
    {
      "cell_type": "markdown",
      "metadata": {
        "id": "eVYlqht8tAk1"
      },
      "source": [
        "## Download Package"
      ]
    },
    {
      "cell_type": "code",
      "metadata": {
        "colab": {
          "base_uri": "https://localhost:8080/"
        },
        "id": "52-O4pbOuSDr",
        "outputId": "2d26c668-fa61-4c46-eb1e-826676987f33"
      },
      "source": [
        "! pip install opendatasets"
      ],
      "execution_count": null,
      "outputs": [
        {
          "output_type": "stream",
          "name": "stdout",
          "text": [
            "Collecting opendatasets\n",
            "  Downloading opendatasets-0.1.20-py3-none-any.whl (14 kB)\n",
            "Requirement already satisfied: tqdm in /usr/local/lib/python3.7/dist-packages (from opendatasets) (4.62.3)\n",
            "Requirement already satisfied: click in /usr/local/lib/python3.7/dist-packages (from opendatasets) (7.1.2)\n",
            "Requirement already satisfied: kaggle in /usr/local/lib/python3.7/dist-packages (from opendatasets) (1.5.12)\n",
            "Requirement already satisfied: urllib3 in /usr/local/lib/python3.7/dist-packages (from kaggle->opendatasets) (1.24.3)\n",
            "Requirement already satisfied: python-slugify in /usr/local/lib/python3.7/dist-packages (from kaggle->opendatasets) (5.0.2)\n",
            "Requirement already satisfied: certifi in /usr/local/lib/python3.7/dist-packages (from kaggle->opendatasets) (2021.5.30)\n",
            "Requirement already satisfied: python-dateutil in /usr/local/lib/python3.7/dist-packages (from kaggle->opendatasets) (2.8.2)\n",
            "Requirement already satisfied: six>=1.10 in /usr/local/lib/python3.7/dist-packages (from kaggle->opendatasets) (1.15.0)\n",
            "Requirement already satisfied: requests in /usr/local/lib/python3.7/dist-packages (from kaggle->opendatasets) (2.23.0)\n",
            "Requirement already satisfied: text-unidecode>=1.3 in /usr/local/lib/python3.7/dist-packages (from python-slugify->kaggle->opendatasets) (1.3)\n",
            "Requirement already satisfied: idna<3,>=2.5 in /usr/local/lib/python3.7/dist-packages (from requests->kaggle->opendatasets) (2.10)\n",
            "Requirement already satisfied: chardet<4,>=3.0.2 in /usr/local/lib/python3.7/dist-packages (from requests->kaggle->opendatasets) (3.0.4)\n",
            "Installing collected packages: opendatasets\n",
            "Successfully installed opendatasets-0.1.20\n"
          ]
        }
      ]
    },
    {
      "cell_type": "markdown",
      "metadata": {
        "id": "vjsSZgiEuT_j"
      },
      "source": [
        "## Libraries\n",
        "Library umum yang digunakan pada notebook "
      ]
    },
    {
      "cell_type": "code",
      "metadata": {
        "id": "AUAFfSvZuWU1"
      },
      "source": [
        "import opendatasets as od\n",
        "import pandas as pd\n",
        "import numpy as np\n",
        "\n",
        "import matplotlib.pyplot as plt\n",
        "%matplotlib inline\n",
        "\n",
        "import seaborn as sns\n",
        "plt.style.use('seaborn')"
      ],
      "execution_count": null,
      "outputs": []
    },
    {
      "cell_type": "markdown",
      "metadata": {
        "id": "1DEJMN_yx5TF"
      },
      "source": [
        "## Data Understanding\n",
        "![image](https://user-images.githubusercontent.com/76864673/140640142-57306111-f34e-4223-99a7-4d970aba3867.png)\n",
        "\n",
        "\n",
        "Datasets ini di ambil dari [Kaggle](https://www.kaggle.com/sunilgautam/movielens), dalam datasets ini terdiri dari 5 file csv yaitu :\n",
        "\n",
        "* README.txt\n",
        "* links.csv\n",
        "* ratings.csv\n",
        "* movies.csv\n",
        "* tags.csv\n",
        "\n",
        "dalam proyek sistem rekomendasi kali ini saya hanya menggunakan 2 file yaitu : `movies.csv` & `ratings.csv`"
      ]
    },
    {
      "cell_type": "markdown",
      "metadata": {
        "id": "fIh6xemHuhet"
      },
      "source": [
        "### Load Datasets"
      ]
    },
    {
      "cell_type": "code",
      "metadata": {
        "colab": {
          "base_uri": "https://localhost:8080/"
        },
        "id": "vVDbVl4aunZv",
        "outputId": "703ad588-4d77-46fc-f4b6-aedc20aba8ca"
      },
      "source": [
        "od.download('https://www.kaggle.com/sunilgautam/movielens') #27c6756f2debb886a1d3f567bc77fedf"
      ],
      "execution_count": null,
      "outputs": [
        {
          "output_type": "stream",
          "name": "stdout",
          "text": [
            "Please provide your Kaggle credentials to download this dataset. Learn more: http://bit.ly/kaggle-creds\n",
            "Your Kaggle username: tnnz20\n",
            "Your Kaggle Key: ··········\n",
            "Downloading movielens.zip to ./movielens\n"
          ]
        },
        {
          "output_type": "stream",
          "name": "stderr",
          "text": [
            "100%|██████████| 971k/971k [00:00<00:00, 73.3MB/s]"
          ]
        },
        {
          "output_type": "stream",
          "name": "stdout",
          "text": [
            "\n"
          ]
        },
        {
          "output_type": "stream",
          "name": "stderr",
          "text": [
            "\n"
          ]
        }
      ]
    },
    {
      "cell_type": "markdown",
      "metadata": {
        "id": "BqhKrsnvySwx"
      },
      "source": [
        "### Read Datasets"
      ]
    },
    {
      "cell_type": "code",
      "metadata": {
        "id": "OVEPI_ROurE1"
      },
      "source": [
        "movies = pd.read_csv('/content/movielens/ml-latest-small/movies.csv')\n",
        "ratings = pd.read_csv('/content/movielens/ml-latest-small/ratings.csv')"
      ],
      "execution_count": null,
      "outputs": []
    },
    {
      "cell_type": "markdown",
      "metadata": {
        "id": "wDYJmi5-v_9l"
      },
      "source": [
        "### Univariate Exploratory Data Analysis"
      ]
    },
    {
      "cell_type": "markdown",
      "metadata": {
        "id": "4JeBqg47wX89"
      },
      "source": [
        "#### Variable _movies_ \n",
        "Keterangan :\n",
        "* `movieId` = Id dari movie (int64)\n",
        "* `title` = Judul dari movie beserta tahun rilisnya (object)\n",
        "* `genres` = Genre dari movie (object)"
      ]
    },
    {
      "cell_type": "code",
      "metadata": {
        "colab": {
          "base_uri": "https://localhost:8080/",
          "height": 204
        },
        "id": "UFcHHH7VvBKv",
        "outputId": "03503f0d-e360-42d5-ef93-ea2fa56dae79"
      },
      "source": [
        "movies.head()"
      ],
      "execution_count": null,
      "outputs": [
        {
          "data": {
            "text/html": [
              "<div>\n",
              "<style scoped>\n",
              "    .dataframe tbody tr th:only-of-type {\n",
              "        vertical-align: middle;\n",
              "    }\n",
              "\n",
              "    .dataframe tbody tr th {\n",
              "        vertical-align: top;\n",
              "    }\n",
              "\n",
              "    .dataframe thead th {\n",
              "        text-align: right;\n",
              "    }\n",
              "</style>\n",
              "<table border=\"1\" class=\"dataframe\">\n",
              "  <thead>\n",
              "    <tr style=\"text-align: right;\">\n",
              "      <th></th>\n",
              "      <th>movieId</th>\n",
              "      <th>title</th>\n",
              "      <th>genres</th>\n",
              "    </tr>\n",
              "  </thead>\n",
              "  <tbody>\n",
              "    <tr>\n",
              "      <th>0</th>\n",
              "      <td>1</td>\n",
              "      <td>Toy Story (1995)</td>\n",
              "      <td>Adventure|Animation|Children|Comedy|Fantasy</td>\n",
              "    </tr>\n",
              "    <tr>\n",
              "      <th>1</th>\n",
              "      <td>2</td>\n",
              "      <td>Jumanji (1995)</td>\n",
              "      <td>Adventure|Children|Fantasy</td>\n",
              "    </tr>\n",
              "    <tr>\n",
              "      <th>2</th>\n",
              "      <td>3</td>\n",
              "      <td>Grumpier Old Men (1995)</td>\n",
              "      <td>Comedy|Romance</td>\n",
              "    </tr>\n",
              "    <tr>\n",
              "      <th>3</th>\n",
              "      <td>4</td>\n",
              "      <td>Waiting to Exhale (1995)</td>\n",
              "      <td>Comedy|Drama|Romance</td>\n",
              "    </tr>\n",
              "    <tr>\n",
              "      <th>4</th>\n",
              "      <td>5</td>\n",
              "      <td>Father of the Bride Part II (1995)</td>\n",
              "      <td>Comedy</td>\n",
              "    </tr>\n",
              "  </tbody>\n",
              "</table>\n",
              "</div>"
            ],
            "text/plain": [
              "   movieId  ...                                       genres\n",
              "0        1  ...  Adventure|Animation|Children|Comedy|Fantasy\n",
              "1        2  ...                   Adventure|Children|Fantasy\n",
              "2        3  ...                               Comedy|Romance\n",
              "3        4  ...                         Comedy|Drama|Romance\n",
              "4        5  ...                                       Comedy\n",
              "\n",
              "[5 rows x 3 columns]"
            ]
          },
          "execution_count": 6,
          "metadata": {},
          "output_type": "execute_result"
        }
      ]
    },
    {
      "cell_type": "code",
      "metadata": {
        "colab": {
          "base_uri": "https://localhost:8080/"
        },
        "id": "5lnYDPCNvCqY",
        "outputId": "d700a67d-a51a-42a7-86b8-dccf3d53ca86"
      },
      "source": [
        "movies.info()"
      ],
      "execution_count": null,
      "outputs": [
        {
          "name": "stdout",
          "output_type": "stream",
          "text": [
            "<class 'pandas.core.frame.DataFrame'>\n",
            "RangeIndex: 9742 entries, 0 to 9741\n",
            "Data columns (total 3 columns):\n",
            " #   Column   Non-Null Count  Dtype \n",
            "---  ------   --------------  ----- \n",
            " 0   movieId  9742 non-null   int64 \n",
            " 1   title    9742 non-null   object\n",
            " 2   genres   9742 non-null   object\n",
            "dtypes: int64(1), object(2)\n",
            "memory usage: 228.5+ KB\n"
          ]
        }
      ]
    },
    {
      "cell_type": "markdown",
      "metadata": {
        "id": "SYh15mS3xufk"
      },
      "source": [
        "##### Check Missing value"
      ]
    },
    {
      "cell_type": "code",
      "metadata": {
        "colab": {
          "base_uri": "https://localhost:8080/"
        },
        "id": "FStXOoFbvFoz",
        "outputId": "f1c2be29-2f3c-452c-8a14-a0f543f3590e"
      },
      "source": [
        "movies.isna().sum()"
      ],
      "execution_count": null,
      "outputs": [
        {
          "data": {
            "text/plain": [
              "movieId    0\n",
              "title      0\n",
              "genres     0\n",
              "dtype: int64"
            ]
          },
          "execution_count": 8,
          "metadata": {},
          "output_type": "execute_result"
        }
      ]
    },
    {
      "cell_type": "markdown",
      "metadata": {
        "id": "zRzuAXNUxmam"
      },
      "source": [
        "##### Check Total data unique"
      ]
    },
    {
      "cell_type": "code",
      "metadata": {
        "colab": {
          "base_uri": "https://localhost:8080/"
        },
        "id": "NDszfTYlw2mu",
        "outputId": "9f88f7f4-56bf-4c60-defc-08d880d2c416"
      },
      "source": [
        "movies.nunique()"
      ],
      "execution_count": null,
      "outputs": [
        {
          "data": {
            "text/plain": [
              "movieId    9742\n",
              "title      9737\n",
              "genres      951\n",
              "dtype: int64"
            ]
          },
          "execution_count": 9,
          "metadata": {},
          "output_type": "execute_result"
        }
      ]
    },
    {
      "cell_type": "markdown",
      "metadata": {
        "id": "ESn-kxtzxiaN"
      },
      "source": [
        "##### Check Data duplicate"
      ]
    },
    {
      "cell_type": "code",
      "metadata": {
        "colab": {
          "base_uri": "https://localhost:8080/"
        },
        "id": "ajg6-H5oxM61",
        "outputId": "ade92595-c6e8-4941-c6ea-67a4e434b8be"
      },
      "source": [
        "movies.duplicated().sum()"
      ],
      "execution_count": null,
      "outputs": [
        {
          "data": {
            "text/plain": [
              "0"
            ]
          },
          "execution_count": 10,
          "metadata": {},
          "output_type": "execute_result"
        }
      ]
    },
    {
      "cell_type": "markdown",
      "metadata": {
        "id": "5PJhD4cBKit_"
      },
      "source": [
        "##### Visualisasi *Tahun* \n",
        "Pertama pisahkan tahun yang berada di kolom title ke dalam kolom baru"
      ]
    },
    {
      "cell_type": "code",
      "metadata": {
        "id": "6kkfqgaYIqQj"
      },
      "source": [
        "# Deklarasi variable baru\n",
        "movies_year = movies.copy()\n",
        "\n",
        "# Extract Tahun di dalam title\n",
        "movies_year['year'] = movies['title'].str.extract('(\\d+)').astype(float)\n",
        "movies_year.year.dropna(inplace=True)"
      ],
      "execution_count": null,
      "outputs": []
    },
    {
      "cell_type": "markdown",
      "metadata": {
        "id": "D2WkQPsyFWra"
      },
      "source": [
        "Karena ada beberapa judul yang tidak memiliki tahun saya seleksi"
      ]
    },
    {
      "cell_type": "code",
      "metadata": {
        "id": "uTlR5SIZCSWe"
      },
      "source": [
        "x = movies_year[movies_year['year'] > 1000.0]\n",
        "x.year.astype(int)\n",
        "data = x"
      ],
      "execution_count": null,
      "outputs": []
    },
    {
      "cell_type": "code",
      "metadata": {
        "colab": {
          "base_uri": "https://localhost:8080/",
          "height": 585
        },
        "id": "6H1HTAhMKwWe",
        "outputId": "6af8095f-0c9f-4f37-8c40-13c85c72c5d6"
      },
      "source": [
        "plt.figure(figsize=(15,8))\n",
        "sns.histplot(data=data, x='year',bins=50)\n",
        "plt.title('Distribusi Tahun rilis Movies', fontsize=30, pad=30)\n",
        "plt.tight_layout()\n",
        "plt.show()"
      ],
      "execution_count": null,
      "outputs": [
        {
          "data": {
            "image/png": "[encoded data removed]",
            "text/plain": [
              "<Figure size 1080x576 with 1 Axes>"
            ]
          },
          "metadata": {},
          "output_type": "display_data"
        }
      ]
    },
    {
      "cell_type": "markdown",
      "metadata": {
        "id": "gpqzQg8BUckt"
      },
      "source": [
        "\n",
        "\n",
        "> Terlihat pada grafik histogram di atas rata - rata movies rilis pada rentang tahun 1990 - 2000 ke atas\n",
        "\n"
      ]
    },
    {
      "cell_type": "markdown",
      "metadata": {
        "id": "3KBuFtdxYQd1"
      },
      "source": [
        "##### Visualisasi *Genre*\n",
        "Dalam visualisasi genre langkah pertama yang dilakukan adalah memisahkan genre apa saja yang ada dalam movie ini, lalu membuat kolom baru pada data yang berisi genre."
      ]
    },
    {
      "cell_type": "code",
      "metadata": {
        "colab": {
          "base_uri": "https://localhost:8080/"
        },
        "id": "iSKbh3KsYQEQ",
        "outputId": "3fb61b00-e551-4452-ca69-e01ead6f85f3"
      },
      "source": [
        "# membuat list untuk menampung genre\n",
        "movies_genres = movies.copy()\n",
        "genres=[]\n",
        "for i in range(len(movies.genres)):\n",
        "    for x in movies.genres[i].split('|'):\n",
        "        if x not in genres:\n",
        "            genres.append(x)\n",
        "genres"
      ],
      "execution_count": null,
      "outputs": [
        {
          "data": {
            "text/plain": [
              "['Adventure',\n",
              " 'Animation',\n",
              " 'Children',\n",
              " 'Comedy',\n",
              " 'Fantasy',\n",
              " 'Romance',\n",
              " 'Drama',\n",
              " 'Action',\n",
              " 'Crime',\n",
              " 'Thriller',\n",
              " 'Horror',\n",
              " 'Mystery',\n",
              " 'Sci-Fi',\n",
              " 'War',\n",
              " 'Musical',\n",
              " 'Documentary',\n",
              " 'IMAX',\n",
              " 'Western',\n",
              " 'Film-Noir',\n",
              " '(no genres listed)']"
            ]
          },
          "execution_count": 14,
          "metadata": {},
          "output_type": "execute_result"
        }
      ]
    },
    {
      "cell_type": "code",
      "metadata": {
        "colab": {
          "base_uri": "https://localhost:8080/",
          "height": 1000
        },
        "id": "ka6S_6crbEfY",
        "outputId": "0d3dbeff-1ef8-4add-e262-84b1cc48ad72"
      },
      "source": [
        "# Tambah kolom genres ke dalam movies_genres\n",
        "for x in genres:\n",
        "    movies_genres[x] = 0\n",
        "\n",
        "for i in range(len(movies.genres)):\n",
        "    for x in movies.genres[i].split('|'):\n",
        "        movies_genres[x][i]=1\n",
        "\n",
        "movies_genres"
      ],
      "execution_count": null,
      "outputs": [
        {
          "name": "stderr",
          "output_type": "stream",
          "text": [
            "/usr/local/lib/python3.7/dist-packages/ipykernel_launcher.py:7: SettingWithCopyWarning: \n",
            "A value is trying to be set on a copy of a slice from a DataFrame\n",
            "\n",
            "See the caveats in the documentation: https://pandas.pydata.org/pandas-docs/stable/user_guide/indexing.html#returning-a-view-versus-a-copy\n",
            "  import sys\n"
          ]
        },
        {
          "data": {
            "text/html": [
              "<div>\n",
              "<style scoped>\n",
              "    .dataframe tbody tr th:only-of-type {\n",
              "        vertical-align: middle;\n",
              "    }\n",
              "\n",
              "    .dataframe tbody tr th {\n",
              "        vertical-align: top;\n",
              "    }\n",
              "\n",
              "    .dataframe thead th {\n",
              "        text-align: right;\n",
              "    }\n",
              "</style>\n",
              "<table border=\"1\" class=\"dataframe\">\n",
              "  <thead>\n",
              "    <tr style=\"text-align: right;\">\n",
              "      <th></th>\n",
              "      <th>movieId</th>\n",
              "      <th>title</th>\n",
              "      <th>genres</th>\n",
              "      <th>Adventure</th>\n",
              "      <th>Animation</th>\n",
              "      <th>Children</th>\n",
              "      <th>Comedy</th>\n",
              "      <th>Fantasy</th>\n",
              "      <th>Romance</th>\n",
              "      <th>Drama</th>\n",
              "      <th>Action</th>\n",
              "      <th>Crime</th>\n",
              "      <th>Thriller</th>\n",
              "      <th>Horror</th>\n",
              "      <th>Mystery</th>\n",
              "      <th>Sci-Fi</th>\n",
              "      <th>War</th>\n",
              "      <th>Musical</th>\n",
              "      <th>Documentary</th>\n",
              "      <th>IMAX</th>\n",
              "      <th>Western</th>\n",
              "      <th>Film-Noir</th>\n",
              "      <th>(no genres listed)</th>\n",
              "    </tr>\n",
              "  </thead>\n",
              "  <tbody>\n",
              "    <tr>\n",
              "      <th>0</th>\n",
              "      <td>1</td>\n",
              "      <td>Toy Story (1995)</td>\n",
              "      <td>Adventure|Animation|Children|Comedy|Fantasy</td>\n",
              "      <td>1</td>\n",
              "      <td>1</td>\n",
              "      <td>1</td>\n",
              "      <td>1</td>\n",
              "      <td>1</td>\n",
              "      <td>0</td>\n",
              "      <td>0</td>\n",
              "      <td>0</td>\n",
              "      <td>0</td>\n",
              "      <td>0</td>\n",
              "      <td>0</td>\n",
              "      <td>0</td>\n",
              "      <td>0</td>\n",
              "      <td>0</td>\n",
              "      <td>0</td>\n",
              "      <td>0</td>\n",
              "      <td>0</td>\n",
              "      <td>0</td>\n",
              "      <td>0</td>\n",
              "      <td>0</td>\n",
              "    </tr>\n",
              "    <tr>\n",
              "      <th>1</th>\n",
              "      <td>2</td>\n",
              "      <td>Jumanji (1995)</td>\n",
              "      <td>Adventure|Children|Fantasy</td>\n",
              "      <td>1</td>\n",
              "      <td>0</td>\n",
              "      <td>1</td>\n",
              "      <td>0</td>\n",
              "      <td>1</td>\n",
              "      <td>0</td>\n",
              "      <td>0</td>\n",
              "      <td>0</td>\n",
              "      <td>0</td>\n",
              "      <td>0</td>\n",
              "      <td>0</td>\n",
              "      <td>0</td>\n",
              "      <td>0</td>\n",
              "      <td>0</td>\n",
              "      <td>0</td>\n",
              "      <td>0</td>\n",
              "      <td>0</td>\n",
              "      <td>0</td>\n",
              "      <td>0</td>\n",
              "      <td>0</td>\n",
              "    </tr>\n",
              "    <tr>\n",
              "      <th>2</th>\n",
              "      <td>3</td>\n",
              "      <td>Grumpier Old Men (1995)</td>\n",
              "      <td>Comedy|Romance</td>\n",
              "      <td>0</td>\n",
              "      <td>0</td>\n",
              "      <td>0</td>\n",
              "      <td>1</td>\n",
              "      <td>0</td>\n",
              "      <td>1</td>\n",
              "      <td>0</td>\n",
              "      <td>0</td>\n",
              "      <td>0</td>\n",
              "      <td>0</td>\n",
              "      <td>0</td>\n",
              "      <td>0</td>\n",
              "      <td>0</td>\n",
              "      <td>0</td>\n",
              "      <td>0</td>\n",
              "      <td>0</td>\n",
              "      <td>0</td>\n",
              "      <td>0</td>\n",
              "      <td>0</td>\n",
              "      <td>0</td>\n",
              "    </tr>\n",
              "    <tr>\n",
              "      <th>3</th>\n",
              "      <td>4</td>\n",
              "      <td>Waiting to Exhale (1995)</td>\n",
              "      <td>Comedy|Drama|Romance</td>\n",
              "      <td>0</td>\n",
              "      <td>0</td>\n",
              "      <td>0</td>\n",
              "      <td>1</td>\n",
              "      <td>0</td>\n",
              "      <td>1</td>\n",
              "      <td>1</td>\n",
              "      <td>0</td>\n",
              "      <td>0</td>\n",
              "      <td>0</td>\n",
              "      <td>0</td>\n",
              "      <td>0</td>\n",
              "      <td>0</td>\n",
              "      <td>0</td>\n",
              "      <td>0</td>\n",
              "      <td>0</td>\n",
              "      <td>0</td>\n",
              "      <td>0</td>\n",
              "      <td>0</td>\n",
              "      <td>0</td>\n",
              "    </tr>\n",
              "    <tr>\n",
              "      <th>4</th>\n",
              "      <td>5</td>\n",
              "      <td>Father of the Bride Part II (1995)</td>\n",
              "      <td>Comedy</td>\n",
              "      <td>0</td>\n",
              "      <td>0</td>\n",
              "      <td>0</td>\n",
              "      <td>1</td>\n",
              "      <td>0</td>\n",
              "      <td>0</td>\n",
              "      <td>0</td>\n",
              "      <td>0</td>\n",
              "      <td>0</td>\n",
              "      <td>0</td>\n",
              "      <td>0</td>\n",
              "      <td>0</td>\n",
              "      <td>0</td>\n",
              "      <td>0</td>\n",
              "      <td>0</td>\n",
              "      <td>0</td>\n",
              "      <td>0</td>\n",
              "      <td>0</td>\n",
              "      <td>0</td>\n",
              "      <td>0</td>\n",
              "    </tr>\n",
              "    <tr>\n",
              "      <th>...</th>\n",
              "      <td>...</td>\n",
              "      <td>...</td>\n",
              "      <td>...</td>\n",
              "      <td>...</td>\n",
              "      <td>...</td>\n",
              "      <td>...</td>\n",
              "      <td>...</td>\n",
              "      <td>...</td>\n",
              "      <td>...</td>\n",
              "      <td>...</td>\n",
              "      <td>...</td>\n",
              "      <td>...</td>\n",
              "      <td>...</td>\n",
              "      <td>...</td>\n",
              "      <td>...</td>\n",
              "      <td>...</td>\n",
              "      <td>...</td>\n",
              "      <td>...</td>\n",
              "      <td>...</td>\n",
              "      <td>...</td>\n",
              "      <td>...</td>\n",
              "      <td>...</td>\n",
              "      <td>...</td>\n",
              "    </tr>\n",
              "    <tr>\n",
              "      <th>9737</th>\n",
              "      <td>193581</td>\n",
              "      <td>Black Butler: Book of the Atlantic (2017)</td>\n",
              "      <td>Action|Animation|Comedy|Fantasy</td>\n",
              "      <td>0</td>\n",
              "      <td>1</td>\n",
              "      <td>0</td>\n",
              "      <td>1</td>\n",
              "      <td>1</td>\n",
              "      <td>0</td>\n",
              "      <td>0</td>\n",
              "      <td>1</td>\n",
              "      <td>0</td>\n",
              "      <td>0</td>\n",
              "      <td>0</td>\n",
              "      <td>0</td>\n",
              "      <td>0</td>\n",
              "      <td>0</td>\n",
              "      <td>0</td>\n",
              "      <td>0</td>\n",
              "      <td>0</td>\n",
              "      <td>0</td>\n",
              "      <td>0</td>\n",
              "      <td>0</td>\n",
              "    </tr>\n",
              "    <tr>\n",
              "      <th>9738</th>\n",
              "      <td>193583</td>\n",
              "      <td>No Game No Life: Zero (2017)</td>\n",
              "      <td>Animation|Comedy|Fantasy</td>\n",
              "      <td>0</td>\n",
              "      <td>1</td>\n",
              "      <td>0</td>\n",
              "      <td>1</td>\n",
              "      <td>1</td>\n",
              "      <td>0</td>\n",
              "      <td>0</td>\n",
              "      <td>0</td>\n",
              "      <td>0</td>\n",
              "      <td>0</td>\n",
              "      <td>0</td>\n",
              "      <td>0</td>\n",
              "      <td>0</td>\n",
              "      <td>0</td>\n",
              "      <td>0</td>\n",
              "      <td>0</td>\n",
              "      <td>0</td>\n",
              "      <td>0</td>\n",
              "      <td>0</td>\n",
              "      <td>0</td>\n",
              "    </tr>\n",
              "    <tr>\n",
              "      <th>9739</th>\n",
              "      <td>193585</td>\n",
              "      <td>Flint (2017)</td>\n",
              "      <td>Drama</td>\n",
              "      <td>0</td>\n",
              "      <td>0</td>\n",
              "      <td>0</td>\n",
              "      <td>0</td>\n",
              "      <td>0</td>\n",
              "      <td>0</td>\n",
              "      <td>1</td>\n",
              "      <td>0</td>\n",
              "      <td>0</td>\n",
              "      <td>0</td>\n",
              "      <td>0</td>\n",
              "      <td>0</td>\n",
              "      <td>0</td>\n",
              "      <td>0</td>\n",
              "      <td>0</td>\n",
              "      <td>0</td>\n",
              "      <td>0</td>\n",
              "      <td>0</td>\n",
              "      <td>0</td>\n",
              "      <td>0</td>\n",
              "    </tr>\n",
              "    <tr>\n",
              "      <th>9740</th>\n",
              "      <td>193587</td>\n",
              "      <td>Bungo Stray Dogs: Dead Apple (2018)</td>\n",
              "      <td>Action|Animation</td>\n",
              "      <td>0</td>\n",
              "      <td>1</td>\n",
              "      <td>0</td>\n",
              "      <td>0</td>\n",
              "      <td>0</td>\n",
              "      <td>0</td>\n",
              "      <td>0</td>\n",
              "      <td>1</td>\n",
              "      <td>0</td>\n",
              "      <td>0</td>\n",
              "      <td>0</td>\n",
              "      <td>0</td>\n",
              "      <td>0</td>\n",
              "      <td>0</td>\n",
              "      <td>0</td>\n",
              "      <td>0</td>\n",
              "      <td>0</td>\n",
              "      <td>0</td>\n",
              "      <td>0</td>\n",
              "      <td>0</td>\n",
              "    </tr>\n",
              "    <tr>\n",
              "      <th>9741</th>\n",
              "      <td>193609</td>\n",
              "      <td>Andrew Dice Clay: Dice Rules (1991)</td>\n",
              "      <td>Comedy</td>\n",
              "      <td>0</td>\n",
              "      <td>0</td>\n",
              "      <td>0</td>\n",
              "      <td>1</td>\n",
              "      <td>0</td>\n",
              "      <td>0</td>\n",
              "      <td>0</td>\n",
              "      <td>0</td>\n",
              "      <td>0</td>\n",
              "      <td>0</td>\n",
              "      <td>0</td>\n",
              "      <td>0</td>\n",
              "      <td>0</td>\n",
              "      <td>0</td>\n",
              "      <td>0</td>\n",
              "      <td>0</td>\n",
              "      <td>0</td>\n",
              "      <td>0</td>\n",
              "      <td>0</td>\n",
              "      <td>0</td>\n",
              "    </tr>\n",
              "  </tbody>\n",
              "</table>\n",
              "<p>9742 rows × 23 columns</p>\n",
              "</div>"
            ],
            "text/plain": [
              "      movieId  ... (no genres listed)\n",
              "0           1  ...                  0\n",
              "1           2  ...                  0\n",
              "2           3  ...                  0\n",
              "3           4  ...                  0\n",
              "4           5  ...                  0\n",
              "...       ...  ...                ...\n",
              "9737   193581  ...                  0\n",
              "9738   193583  ...                  0\n",
              "9739   193585  ...                  0\n",
              "9740   193587  ...                  0\n",
              "9741   193609  ...                  0\n",
              "\n",
              "[9742 rows x 23 columns]"
            ]
          },
          "execution_count": 15,
          "metadata": {},
          "output_type": "execute_result"
        }
      ]
    },
    {
      "cell_type": "code",
      "metadata": {
        "colab": {
          "base_uri": "https://localhost:8080/",
          "height": 873
        },
        "id": "dxuAMnyheCQp",
        "outputId": "3a325274-f37e-493c-d93e-7749bbbf768f"
      },
      "source": [
        "view = movies_genres.iloc[:,3:].sum().reset_index()\n",
        "view.columns = ['title','total']\n",
        "\n",
        "plt.figure(figsize=(15,12))\n",
        "sns.barplot(y='title',x='total',data=view)\n",
        "plt.title('Total Genre', fontsize=30, pad=30)\n",
        "plt.tight_layout()\n",
        "plt.show()"
      ],
      "execution_count": null,
      "outputs": [
        {
          "data": {
            "image/png": "[encoded data removed]",
            "text/plain": [
              "<Figure size 1080x864 with 1 Axes>"
            ]
          },
          "metadata": {},
          "output_type": "display_data"
        }
      ]
    },
    {
      "cell_type": "markdown",
      "metadata": {
        "id": "RJeG1_N8gm1e"
      },
      "source": [
        "\n",
        "\n",
        "> Terlihat pada gambar di atas genre `Drama` yang paling banyak dan diikuti oleh genre `Comedy` lalu ada beberapa movies yang tidak memiliki genre `no genres listed`\n"
      ]
    },
    {
      "cell_type": "markdown",
      "metadata": {
        "id": "nPMbasTCwguQ"
      },
      "source": [
        "#### *ratings* Variable\n",
        "Keterangan :\n",
        "* `userId` = Id pengguna (int64)\n",
        "* `movieId` = Id film yang di rating (int64)\n",
        "* `rating` = Skor dari rating yang diberikan (float64)\n",
        "* `timestamp` = Waktu saat rating diberikan (int64)"
      ]
    },
    {
      "cell_type": "code",
      "metadata": {
        "colab": {
          "base_uri": "https://localhost:8080/"
        },
        "id": "KRM88UdsEtGl",
        "outputId": "0762b464-fada-4e9b-d6c1-a87546aa3d81"
      },
      "source": [
        "print(f'Jumlah userId yang memberi rating : {ratings.userId.nunique()}')\n",
        "print(f'Jumlah movieId yang diberi rating oleh user : {ratings.movieId.nunique()}')"
      ],
      "execution_count": null,
      "outputs": [
        {
          "name": "stdout",
          "output_type": "stream",
          "text": [
            "Jumlah userId yang memberi rating : 610\n",
            "Jumlah movieId yang diberi rating oleh user : 9724\n"
          ]
        }
      ]
    },
    {
      "cell_type": "code",
      "metadata": {
        "colab": {
          "base_uri": "https://localhost:8080/",
          "height": 204
        },
        "id": "T3iQGcvbvMi_",
        "outputId": "865e7514-26c0-4a00-9de6-3478cdd21b8d"
      },
      "source": [
        "ratings.head()"
      ],
      "execution_count": null,
      "outputs": [
        {
          "data": {
            "text/html": [
              "<div>\n",
              "<style scoped>\n",
              "    .dataframe tbody tr th:only-of-type {\n",
              "        vertical-align: middle;\n",
              "    }\n",
              "\n",
              "    .dataframe tbody tr th {\n",
              "        vertical-align: top;\n",
              "    }\n",
              "\n",
              "    .dataframe thead th {\n",
              "        text-align: right;\n",
              "    }\n",
              "</style>\n",
              "<table border=\"1\" class=\"dataframe\">\n",
              "  <thead>\n",
              "    <tr style=\"text-align: right;\">\n",
              "      <th></th>\n",
              "      <th>userId</th>\n",
              "      <th>movieId</th>\n",
              "      <th>rating</th>\n",
              "      <th>timestamp</th>\n",
              "    </tr>\n",
              "  </thead>\n",
              "  <tbody>\n",
              "    <tr>\n",
              "      <th>0</th>\n",
              "      <td>1</td>\n",
              "      <td>1</td>\n",
              "      <td>4.0</td>\n",
              "      <td>964982703</td>\n",
              "    </tr>\n",
              "    <tr>\n",
              "      <th>1</th>\n",
              "      <td>1</td>\n",
              "      <td>3</td>\n",
              "      <td>4.0</td>\n",
              "      <td>964981247</td>\n",
              "    </tr>\n",
              "    <tr>\n",
              "      <th>2</th>\n",
              "      <td>1</td>\n",
              "      <td>6</td>\n",
              "      <td>4.0</td>\n",
              "      <td>964982224</td>\n",
              "    </tr>\n",
              "    <tr>\n",
              "      <th>3</th>\n",
              "      <td>1</td>\n",
              "      <td>47</td>\n",
              "      <td>5.0</td>\n",
              "      <td>964983815</td>\n",
              "    </tr>\n",
              "    <tr>\n",
              "      <th>4</th>\n",
              "      <td>1</td>\n",
              "      <td>50</td>\n",
              "      <td>5.0</td>\n",
              "      <td>964982931</td>\n",
              "    </tr>\n",
              "  </tbody>\n",
              "</table>\n",
              "</div>"
            ],
            "text/plain": [
              "   userId  movieId  rating  timestamp\n",
              "0       1        1     4.0  964982703\n",
              "1       1        3     4.0  964981247\n",
              "2       1        6     4.0  964982224\n",
              "3       1       47     5.0  964983815\n",
              "4       1       50     5.0  964982931"
            ]
          },
          "execution_count": 18,
          "metadata": {},
          "output_type": "execute_result"
        }
      ]
    },
    {
      "cell_type": "code",
      "metadata": {
        "colab": {
          "base_uri": "https://localhost:8080/"
        },
        "id": "93gxew5_vOBX",
        "outputId": "3200e3c8-f30f-47a2-e4fa-af1cba2dc73d"
      },
      "source": [
        "ratings.info()"
      ],
      "execution_count": null,
      "outputs": [
        {
          "name": "stdout",
          "output_type": "stream",
          "text": [
            "<class 'pandas.core.frame.DataFrame'>\n",
            "RangeIndex: 100836 entries, 0 to 100835\n",
            "Data columns (total 4 columns):\n",
            " #   Column     Non-Null Count   Dtype  \n",
            "---  ------     --------------   -----  \n",
            " 0   userId     100836 non-null  int64  \n",
            " 1   movieId    100836 non-null  int64  \n",
            " 2   rating     100836 non-null  float64\n",
            " 3   timestamp  100836 non-null  int64  \n",
            "dtypes: float64(1), int64(3)\n",
            "memory usage: 3.1 MB\n"
          ]
        }
      ]
    },
    {
      "cell_type": "markdown",
      "metadata": {
        "id": "c7NG7TFm254M"
      },
      "source": [
        "##### Check Missing value"
      ]
    },
    {
      "cell_type": "code",
      "metadata": {
        "colab": {
          "base_uri": "https://localhost:8080/"
        },
        "id": "W1B4VcGzvRqL",
        "outputId": "61f60dab-3bf8-48dc-f8c5-d37eeae4bd53"
      },
      "source": [
        "ratings.isna().sum()"
      ],
      "execution_count": null,
      "outputs": [
        {
          "data": {
            "text/plain": [
              "userId       0\n",
              "movieId      0\n",
              "rating       0\n",
              "timestamp    0\n",
              "dtype: int64"
            ]
          },
          "execution_count": 20,
          "metadata": {},
          "output_type": "execute_result"
        }
      ]
    },
    {
      "cell_type": "markdown",
      "metadata": {
        "id": "WaxkCB3V25E-"
      },
      "source": [
        "##### Check Total data unique"
      ]
    },
    {
      "cell_type": "code",
      "metadata": {
        "colab": {
          "base_uri": "https://localhost:8080/"
        },
        "id": "_eK0_njI2nNF",
        "outputId": "c7793a06-2eb2-4a09-90e4-78d6df22da81"
      },
      "source": [
        "ratings.nunique()"
      ],
      "execution_count": null,
      "outputs": [
        {
          "data": {
            "text/plain": [
              "userId         610\n",
              "movieId       9724\n",
              "rating          10\n",
              "timestamp    85043\n",
              "dtype: int64"
            ]
          },
          "execution_count": 21,
          "metadata": {},
          "output_type": "execute_result"
        }
      ]
    },
    {
      "cell_type": "markdown",
      "metadata": {
        "id": "xYOURnKr21kd"
      },
      "source": [
        "##### Check Data duplicate"
      ]
    },
    {
      "cell_type": "code",
      "metadata": {
        "colab": {
          "base_uri": "https://localhost:8080/"
        },
        "id": "gNr4xjsT2eDH",
        "outputId": "beadd060-ca68-49a6-93a5-4dec4127db19"
      },
      "source": [
        "ratings.duplicated().sum()"
      ],
      "execution_count": null,
      "outputs": [
        {
          "data": {
            "text/plain": [
              "0"
            ]
          },
          "execution_count": 22,
          "metadata": {},
          "output_type": "execute_result"
        }
      ]
    },
    {
      "cell_type": "markdown",
      "metadata": {
        "id": "3oPhraggfpK1"
      },
      "source": [
        "##### Check Total value rating"
      ]
    },
    {
      "cell_type": "code",
      "metadata": {
        "colab": {
          "base_uri": "https://localhost:8080/"
        },
        "id": "ZN8XlpQJyD07",
        "outputId": "64ee5d72-50a0-4522-a6df-4cc7aa1d4869"
      },
      "source": [
        "ratings.rating.value_counts()"
      ],
      "execution_count": null,
      "outputs": [
        {
          "data": {
            "text/plain": [
              "4.0    26818\n",
              "3.0    20047\n",
              "5.0    13211\n",
              "3.5    13136\n",
              "4.5     8551\n",
              "2.0     7551\n",
              "2.5     5550\n",
              "1.0     2811\n",
              "1.5     1791\n",
              "0.5     1370\n",
              "Name: rating, dtype: int64"
            ]
          },
          "execution_count": 23,
          "metadata": {},
          "output_type": "execute_result"
        }
      ]
    },
    {
      "cell_type": "markdown",
      "metadata": {
        "id": "mQUsv4WYfpK1"
      },
      "source": [
        "> Dalam data ini rating diberikan dengan range 0-5 dengan skala 0.5 "
      ]
    },
    {
      "cell_type": "markdown",
      "metadata": {
        "id": "FiOStFy1hXgl"
      },
      "source": [
        "##### Visualisasi Rating movies tertinggi\n",
        "pada visualisasi ini langkah pertama yang dilakukan adalah menggabungkan `rating` dengan `movies` lalu mendrop kolom yang tidak digunakan"
      ]
    },
    {
      "cell_type": "code",
      "metadata": {
        "colab": {
          "base_uri": "https://localhost:8080/",
          "height": 419
        },
        "id": "dVYRLhiKhVab",
        "outputId": "4655e003-ca97-46dc-bd0b-c19a1bea6daf"
      },
      "source": [
        "rating_movies = pd.merge( ratings, movies, on='movieId', how='inner')\n",
        "rating_movies.drop(['timestamp','genres'],axis=1, inplace=True)\n",
        "rating_movies"
      ],
      "execution_count": null,
      "outputs": [
        {
          "data": {
            "text/html": [
              "<div>\n",
              "<style scoped>\n",
              "    .dataframe tbody tr th:only-of-type {\n",
              "        vertical-align: middle;\n",
              "    }\n",
              "\n",
              "    .dataframe tbody tr th {\n",
              "        vertical-align: top;\n",
              "    }\n",
              "\n",
              "    .dataframe thead th {\n",
              "        text-align: right;\n",
              "    }\n",
              "</style>\n",
              "<table border=\"1\" class=\"dataframe\">\n",
              "  <thead>\n",
              "    <tr style=\"text-align: right;\">\n",
              "      <th></th>\n",
              "      <th>userId</th>\n",
              "      <th>movieId</th>\n",
              "      <th>rating</th>\n",
              "      <th>title</th>\n",
              "    </tr>\n",
              "  </thead>\n",
              "  <tbody>\n",
              "    <tr>\n",
              "      <th>0</th>\n",
              "      <td>1</td>\n",
              "      <td>1</td>\n",
              "      <td>4.0</td>\n",
              "      <td>Toy Story (1995)</td>\n",
              "    </tr>\n",
              "    <tr>\n",
              "      <th>1</th>\n",
              "      <td>5</td>\n",
              "      <td>1</td>\n",
              "      <td>4.0</td>\n",
              "      <td>Toy Story (1995)</td>\n",
              "    </tr>\n",
              "    <tr>\n",
              "      <th>2</th>\n",
              "      <td>7</td>\n",
              "      <td>1</td>\n",
              "      <td>4.5</td>\n",
              "      <td>Toy Story (1995)</td>\n",
              "    </tr>\n",
              "    <tr>\n",
              "      <th>3</th>\n",
              "      <td>15</td>\n",
              "      <td>1</td>\n",
              "      <td>2.5</td>\n",
              "      <td>Toy Story (1995)</td>\n",
              "    </tr>\n",
              "    <tr>\n",
              "      <th>4</th>\n",
              "      <td>17</td>\n",
              "      <td>1</td>\n",
              "      <td>4.5</td>\n",
              "      <td>Toy Story (1995)</td>\n",
              "    </tr>\n",
              "    <tr>\n",
              "      <th>...</th>\n",
              "      <td>...</td>\n",
              "      <td>...</td>\n",
              "      <td>...</td>\n",
              "      <td>...</td>\n",
              "    </tr>\n",
              "    <tr>\n",
              "      <th>100831</th>\n",
              "      <td>610</td>\n",
              "      <td>160341</td>\n",
              "      <td>2.5</td>\n",
              "      <td>Bloodmoon (1997)</td>\n",
              "    </tr>\n",
              "    <tr>\n",
              "      <th>100832</th>\n",
              "      <td>610</td>\n",
              "      <td>160527</td>\n",
              "      <td>4.5</td>\n",
              "      <td>Sympathy for the Underdog (1971)</td>\n",
              "    </tr>\n",
              "    <tr>\n",
              "      <th>100833</th>\n",
              "      <td>610</td>\n",
              "      <td>160836</td>\n",
              "      <td>3.0</td>\n",
              "      <td>Hazard (2005)</td>\n",
              "    </tr>\n",
              "    <tr>\n",
              "      <th>100834</th>\n",
              "      <td>610</td>\n",
              "      <td>163937</td>\n",
              "      <td>3.5</td>\n",
              "      <td>Blair Witch (2016)</td>\n",
              "    </tr>\n",
              "    <tr>\n",
              "      <th>100835</th>\n",
              "      <td>610</td>\n",
              "      <td>163981</td>\n",
              "      <td>3.5</td>\n",
              "      <td>31 (2016)</td>\n",
              "    </tr>\n",
              "  </tbody>\n",
              "</table>\n",
              "<p>100836 rows × 4 columns</p>\n",
              "</div>"
            ],
            "text/plain": [
              "        userId  movieId  rating                             title\n",
              "0            1        1     4.0                  Toy Story (1995)\n",
              "1            5        1     4.0                  Toy Story (1995)\n",
              "2            7        1     4.5                  Toy Story (1995)\n",
              "3           15        1     2.5                  Toy Story (1995)\n",
              "4           17        1     4.5                  Toy Story (1995)\n",
              "...        ...      ...     ...                               ...\n",
              "100831     610   160341     2.5                  Bloodmoon (1997)\n",
              "100832     610   160527     4.5  Sympathy for the Underdog (1971)\n",
              "100833     610   160836     3.0                     Hazard (2005)\n",
              "100834     610   163937     3.5                Blair Witch (2016)\n",
              "100835     610   163981     3.5                         31 (2016)\n",
              "\n",
              "[100836 rows x 4 columns]"
            ]
          },
          "execution_count": 24,
          "metadata": {},
          "output_type": "execute_result"
        }
      ]
    },
    {
      "cell_type": "markdown",
      "metadata": {
        "id": "5wcfoiPvvH4d"
      },
      "source": [
        "setelah itu membuat variable yang menampung total rating yang dimiliki setiap judul"
      ]
    },
    {
      "cell_type": "code",
      "metadata": {
        "colab": {
          "base_uri": "https://localhost:8080/",
          "height": 419
        },
        "id": "QnNdKjiWoDLl",
        "outputId": "03a59db7-d4d3-4598-d315-a6d74e44df42"
      },
      "source": [
        "rating_movies_count = rating_movies.groupby('title')['rating'].count()\n",
        "rating_movies_count = pd.DataFrame(rating_movies_count).reset_index().rename(columns={'rating':'total_rating'})\n",
        "rating_movies_count"
      ],
      "execution_count": null,
      "outputs": [
        {
          "data": {
            "text/html": [
              "<div>\n",
              "<style scoped>\n",
              "    .dataframe tbody tr th:only-of-type {\n",
              "        vertical-align: middle;\n",
              "    }\n",
              "\n",
              "    .dataframe tbody tr th {\n",
              "        vertical-align: top;\n",
              "    }\n",
              "\n",
              "    .dataframe thead th {\n",
              "        text-align: right;\n",
              "    }\n",
              "</style>\n",
              "<table border=\"1\" class=\"dataframe\">\n",
              "  <thead>\n",
              "    <tr style=\"text-align: right;\">\n",
              "      <th></th>\n",
              "      <th>title</th>\n",
              "      <th>total_rating</th>\n",
              "    </tr>\n",
              "  </thead>\n",
              "  <tbody>\n",
              "    <tr>\n",
              "      <th>0</th>\n",
              "      <td>'71 (2014)</td>\n",
              "      <td>1</td>\n",
              "    </tr>\n",
              "    <tr>\n",
              "      <th>1</th>\n",
              "      <td>'Hellboy': The Seeds of Creation (2004)</td>\n",
              "      <td>1</td>\n",
              "    </tr>\n",
              "    <tr>\n",
              "      <th>2</th>\n",
              "      <td>'Round Midnight (1986)</td>\n",
              "      <td>2</td>\n",
              "    </tr>\n",
              "    <tr>\n",
              "      <th>3</th>\n",
              "      <td>'Salem's Lot (2004)</td>\n",
              "      <td>1</td>\n",
              "    </tr>\n",
              "    <tr>\n",
              "      <th>4</th>\n",
              "      <td>'Til There Was You (1997)</td>\n",
              "      <td>2</td>\n",
              "    </tr>\n",
              "    <tr>\n",
              "      <th>...</th>\n",
              "      <td>...</td>\n",
              "      <td>...</td>\n",
              "    </tr>\n",
              "    <tr>\n",
              "      <th>9714</th>\n",
              "      <td>eXistenZ (1999)</td>\n",
              "      <td>22</td>\n",
              "    </tr>\n",
              "    <tr>\n",
              "      <th>9715</th>\n",
              "      <td>xXx (2002)</td>\n",
              "      <td>24</td>\n",
              "    </tr>\n",
              "    <tr>\n",
              "      <th>9716</th>\n",
              "      <td>xXx: State of the Union (2005)</td>\n",
              "      <td>5</td>\n",
              "    </tr>\n",
              "    <tr>\n",
              "      <th>9717</th>\n",
              "      <td>¡Three Amigos! (1986)</td>\n",
              "      <td>26</td>\n",
              "    </tr>\n",
              "    <tr>\n",
              "      <th>9718</th>\n",
              "      <td>À nous la liberté (Freedom for Us) (1931)</td>\n",
              "      <td>1</td>\n",
              "    </tr>\n",
              "  </tbody>\n",
              "</table>\n",
              "<p>9719 rows × 2 columns</p>\n",
              "</div>"
            ],
            "text/plain": [
              "                                          title  total_rating\n",
              "0                                    '71 (2014)             1\n",
              "1       'Hellboy': The Seeds of Creation (2004)             1\n",
              "2                        'Round Midnight (1986)             2\n",
              "3                           'Salem's Lot (2004)             1\n",
              "4                     'Til There Was You (1997)             2\n",
              "...                                         ...           ...\n",
              "9714                            eXistenZ (1999)            22\n",
              "9715                                 xXx (2002)            24\n",
              "9716             xXx: State of the Union (2005)             5\n",
              "9717                      ¡Three Amigos! (1986)            26\n",
              "9718  À nous la liberté (Freedom for Us) (1931)             1\n",
              "\n",
              "[9719 rows x 2 columns]"
            ]
          },
          "execution_count": 25,
          "metadata": {},
          "output_type": "execute_result"
        }
      ]
    },
    {
      "cell_type": "code",
      "metadata": {
        "colab": {
          "base_uri": "https://localhost:8080/",
          "height": 729
        },
        "id": "dVK16kgnpNlT",
        "outputId": "3ed0ed58-2f4d-4354-e0b3-2ae42f8ed4e9"
      },
      "source": [
        "data = rating_movies_count.sort_values(by ='total_rating')\n",
        "\n",
        "plt.figure(figsize=(15,10))\n",
        "sns.barplot(data=data.iloc[-10:,:], \n",
        "            y='title', x='total_rating',\n",
        "            palette=\"Blues_d\")\n",
        "plt.title('Top 10 Rating Movies', pad=30, fontsize=30)\n",
        "plt.tight_layout()\n",
        "plt.show()"
      ],
      "execution_count": null,
      "outputs": [
        {
          "data": {
            "image/png": "[encoded data removed]",
            "text/plain": [
              "<Figure size 1080x720 with 1 Axes>"
            ]
          },
          "metadata": {},
          "output_type": "display_data"
        }
      ]
    },
    {
      "cell_type": "markdown",
      "metadata": {
        "id": "4J4EJ9DquqRY"
      },
      "source": [
        "\n",
        "\n",
        "> Terlihat pada grafik diatas bahwa movies dengan judul `Forrest Gump (1994)` memiliki rating tertingi.\n"
      ]
    },
    {
      "cell_type": "markdown",
      "metadata": {
        "id": "oIbn8nYNwm69"
      },
      "source": [
        "#### Total data"
      ]
    },
    {
      "cell_type": "code",
      "metadata": {
        "colab": {
          "base_uri": "https://localhost:8080/"
        },
        "id": "SdMIOCmWvWPh",
        "outputId": "74939ae4-4e86-47e4-dd39-5cdfa2b27da7"
      },
      "source": [
        "print(f'Jumlah Data Movie {movies.shape[0]}, dan memiliki {movies.shape[1]} kolom')\n",
        "print(f'Jumlah Data Rating {ratings.shape[0]}, dan memiliki {ratings.shape[1]} kolom')"
      ],
      "execution_count": null,
      "outputs": [
        {
          "name": "stdout",
          "output_type": "stream",
          "text": [
            "Jumlah Data Movie 9742, dan memiliki 3 kolom\n",
            "Jumlah Data Rating 100836, dan memiliki 4 kolom\n"
          ]
        }
      ]
    },
    {
      "cell_type": "markdown",
      "metadata": {
        "id": "luM7VF7pHtGs"
      },
      "source": [
        "## Data Preparation\n",
        "Dalam persiapan data yang saya lakukan adalah sebagai berikut :\n",
        "1. Memastikan tidak ada missing value\n",
        "2. Sorting `ratings` value berdasarkan userId dan mengubah data tersebut ke dalam integer\n",
        "3. Mendrop data duplicate\n",
        "4. Mengabungkan data `ratings` dengan `movies` setelah itu seleksi value dalam attribut genres yang tidak mengandung np.nan"
      ]
    },
    {
      "cell_type": "code",
      "metadata": {
        "id": "S_axiw6OFmcp"
      },
      "source": [
        "# Deklarasi variable\n",
        "movies = pd.read_csv('/content/movielens/ml-latest-small/movies.csv')\n",
        "ratings = pd.read_csv('/content/movielens/ml-latest-small/ratings.csv')"
      ],
      "execution_count": null,
      "outputs": []
    },
    {
      "cell_type": "code",
      "metadata": {
        "colab": {
          "base_uri": "https://localhost:8080/"
        },
        "id": "oIzuvfKYhe2H",
        "outputId": "f7bf25b3-b9b2-45c7-ae7e-49578b0c3f0f"
      },
      "source": [
        "# Drop missing value\n",
        "movies.dropna(axis=0, inplace=True)\n",
        "ratings.dropna(axis=0, inplace=True)\n",
        "print('Data sudah bersih dari missing value')"
      ],
      "execution_count": null,
      "outputs": [
        {
          "output_type": "stream",
          "name": "stdout",
          "text": [
            "Data sudah bersih dari missing value\n"
          ]
        }
      ]
    },
    {
      "cell_type": "code",
      "metadata": {
        "id": "s4cLalCtG_df"
      },
      "source": [
        "# Sorting ratings\n",
        "ratings = ratings.sort_values('userId').astype('int')"
      ],
      "execution_count": null,
      "outputs": []
    },
    {
      "cell_type": "code",
      "metadata": {
        "id": "kpdzjIrgHGgg"
      },
      "source": [
        "# Drop Duplicate data\n",
        "movies.drop_duplicates(subset=['title'], keep='first', inplace=True)\n",
        "ratings.drop_duplicates(subset=['userId','movieId'], keep='first', inplace=True)"
      ],
      "execution_count": null,
      "outputs": []
    },
    {
      "cell_type": "code",
      "metadata": {
        "colab": {
          "base_uri": "https://localhost:8080/",
          "height": 419
        },
        "id": "8K1qhIcXHYMW",
        "outputId": "1270b330-86fd-4fc1-8cd3-b4201db722fd"
      },
      "source": [
        "# Merge data\n",
        "merge_df = pd.merge(ratings, movies, how='left', on='movieId')\n",
        "df = merge_df.copy().drop('timestamp', axis=1)\n",
        "df"
      ],
      "execution_count": null,
      "outputs": [
        {
          "output_type": "execute_result",
          "data": {
            "text/html": [
              "<div>\n",
              "<style scoped>\n",
              "    .dataframe tbody tr th:only-of-type {\n",
              "        vertical-align: middle;\n",
              "    }\n",
              "\n",
              "    .dataframe tbody tr th {\n",
              "        vertical-align: top;\n",
              "    }\n",
              "\n",
              "    .dataframe thead th {\n",
              "        text-align: right;\n",
              "    }\n",
              "</style>\n",
              "<table border=\"1\" class=\"dataframe\">\n",
              "  <thead>\n",
              "    <tr style=\"text-align: right;\">\n",
              "      <th></th>\n",
              "      <th>userId</th>\n",
              "      <th>movieId</th>\n",
              "      <th>rating</th>\n",
              "      <th>title</th>\n",
              "      <th>genres</th>\n",
              "    </tr>\n",
              "  </thead>\n",
              "  <tbody>\n",
              "    <tr>\n",
              "      <th>0</th>\n",
              "      <td>1</td>\n",
              "      <td>1</td>\n",
              "      <td>4</td>\n",
              "      <td>Toy Story (1995)</td>\n",
              "      <td>Adventure|Animation|Children|Comedy|Fantasy</td>\n",
              "    </tr>\n",
              "    <tr>\n",
              "      <th>1</th>\n",
              "      <td>1</td>\n",
              "      <td>2329</td>\n",
              "      <td>5</td>\n",
              "      <td>American History X (1998)</td>\n",
              "      <td>Crime|Drama</td>\n",
              "    </tr>\n",
              "    <tr>\n",
              "      <th>2</th>\n",
              "      <td>1</td>\n",
              "      <td>2338</td>\n",
              "      <td>2</td>\n",
              "      <td>I Still Know What You Did Last Summer (1998)</td>\n",
              "      <td>Horror|Mystery|Thriller</td>\n",
              "    </tr>\n",
              "    <tr>\n",
              "      <th>3</th>\n",
              "      <td>1</td>\n",
              "      <td>2353</td>\n",
              "      <td>5</td>\n",
              "      <td>Enemy of the State (1998)</td>\n",
              "      <td>Action|Thriller</td>\n",
              "    </tr>\n",
              "    <tr>\n",
              "      <th>4</th>\n",
              "      <td>1</td>\n",
              "      <td>2366</td>\n",
              "      <td>4</td>\n",
              "      <td>King Kong (1933)</td>\n",
              "      <td>Action|Adventure|Fantasy|Horror</td>\n",
              "    </tr>\n",
              "    <tr>\n",
              "      <th>...</th>\n",
              "      <td>...</td>\n",
              "      <td>...</td>\n",
              "      <td>...</td>\n",
              "      <td>...</td>\n",
              "      <td>...</td>\n",
              "    </tr>\n",
              "    <tr>\n",
              "      <th>100831</th>\n",
              "      <td>610</td>\n",
              "      <td>6387</td>\n",
              "      <td>3</td>\n",
              "      <td>Once a Thief (Zong heng si hai) (1991)</td>\n",
              "      <td>Action|Comedy|Crime|Thriller</td>\n",
              "    </tr>\n",
              "    <tr>\n",
              "      <th>100832</th>\n",
              "      <td>610</td>\n",
              "      <td>6383</td>\n",
              "      <td>2</td>\n",
              "      <td>2 Fast 2 Furious (Fast and the Furious 2, The)...</td>\n",
              "      <td>Action|Crime|Thriller</td>\n",
              "    </tr>\n",
              "    <tr>\n",
              "      <th>100833</th>\n",
              "      <td>610</td>\n",
              "      <td>6378</td>\n",
              "      <td>3</td>\n",
              "      <td>Italian Job, The (2003)</td>\n",
              "      <td>Action|Crime</td>\n",
              "    </tr>\n",
              "    <tr>\n",
              "      <th>100834</th>\n",
              "      <td>610</td>\n",
              "      <td>6708</td>\n",
              "      <td>3</td>\n",
              "      <td>Matchstick Men (2003)</td>\n",
              "      <td>Comedy|Crime|Drama</td>\n",
              "    </tr>\n",
              "    <tr>\n",
              "      <th>100835</th>\n",
              "      <td>610</td>\n",
              "      <td>170875</td>\n",
              "      <td>3</td>\n",
              "      <td>The Fate of the Furious (2017)</td>\n",
              "      <td>Action|Crime|Drama|Thriller</td>\n",
              "    </tr>\n",
              "  </tbody>\n",
              "</table>\n",
              "<p>100836 rows × 5 columns</p>\n",
              "</div>"
            ],
            "text/plain": [
              "        userId  ...                                       genres\n",
              "0            1  ...  Adventure|Animation|Children|Comedy|Fantasy\n",
              "1            1  ...                                  Crime|Drama\n",
              "2            1  ...                      Horror|Mystery|Thriller\n",
              "3            1  ...                              Action|Thriller\n",
              "4            1  ...              Action|Adventure|Fantasy|Horror\n",
              "...        ...  ...                                          ...\n",
              "100831     610  ...                 Action|Comedy|Crime|Thriller\n",
              "100832     610  ...                        Action|Crime|Thriller\n",
              "100833     610  ...                                 Action|Crime\n",
              "100834     610  ...                           Comedy|Crime|Drama\n",
              "100835     610  ...                  Action|Crime|Drama|Thriller\n",
              "\n",
              "[100836 rows x 5 columns]"
            ]
          },
          "metadata": {},
          "execution_count": 10
        }
      ]
    },
    {
      "cell_type": "code",
      "metadata": {
        "id": "3OR4y7IgvZkk"
      },
      "source": [
        "# drop missing value dari numpy\n",
        "df = df[~pd.isnull(df['genres'])]"
      ],
      "execution_count": null,
      "outputs": []
    },
    {
      "cell_type": "code",
      "metadata": {
        "colab": {
          "base_uri": "https://localhost:8080/"
        },
        "id": "w-EJXzJAwJpm",
        "outputId": "25b5fac3-d800-4d43-e018-be60e6f66ac3"
      },
      "source": [
        "df.shape"
      ],
      "execution_count": null,
      "outputs": [
        {
          "output_type": "execute_result",
          "data": {
            "text/plain": [
              "(100830, 5)"
            ]
          },
          "metadata": {},
          "execution_count": 12
        }
      ]
    },
    {
      "cell_type": "markdown",
      "metadata": {
        "id": "Fm4LrB1hMFk6"
      },
      "source": [
        "## Model Deployment\n",
        "Model machine learning yang digunakan untuk menyelesaikan permasalahan ini ada 2, yaitu:\n",
        "\n",
        "* Content Based Filtering\n",
        "* Collaborative Filtering"
      ]
    },
    {
      "cell_type": "markdown",
      "metadata": {
        "id": "zM5wspKf7R5u"
      },
      "source": [
        "### Model Content Based Filtering"
      ]
    },
    {
      "cell_type": "markdown",
      "metadata": {
        "id": "wmsF3SrP7MFP"
      },
      "source": [
        "\n",
        "#### TF-IDF vectorizer"
      ]
    },
    {
      "cell_type": "code",
      "metadata": {
        "colab": {
          "base_uri": "https://localhost:8080/"
        },
        "id": "mgj3Ak7Tu-Bh",
        "outputId": "73ce44f0-7472-4e09-e81a-0a3c78fdb76d"
      },
      "source": [
        "from sklearn.feature_extraction.text import TfidfVectorizer\n",
        "# Inisialisasi TfidfVectorizer\n",
        "tf = TfidfVectorizer(stop_words='english')\n",
        "\n",
        "# Melakukan perhitungan idf pada data movies\n",
        "tf.fit(movies['genres']) \n",
        " \n",
        "# Mapping array dari fitur index integer ke fitur nama\n",
        "tf.get_feature_names()"
      ],
      "execution_count": null,
      "outputs": [
        {
          "output_type": "execute_result",
          "data": {
            "text/plain": [
              "['action',\n",
              " 'adventure',\n",
              " 'animation',\n",
              " 'children',\n",
              " 'comedy',\n",
              " 'crime',\n",
              " 'documentary',\n",
              " 'drama',\n",
              " 'fantasy',\n",
              " 'fi',\n",
              " 'film',\n",
              " 'genres',\n",
              " 'horror',\n",
              " 'imax',\n",
              " 'listed',\n",
              " 'musical',\n",
              " 'mystery',\n",
              " 'noir',\n",
              " 'romance',\n",
              " 'sci',\n",
              " 'thriller',\n",
              " 'war',\n",
              " 'western']"
            ]
          },
          "metadata": {},
          "execution_count": 13
        }
      ]
    },
    {
      "cell_type": "markdown",
      "metadata": {
        "id": "LhcEVUNH7dkz"
      },
      "source": [
        "#### Transform data"
      ]
    },
    {
      "cell_type": "code",
      "metadata": {
        "colab": {
          "base_uri": "https://localhost:8080/"
        },
        "id": "AC4Y436c6adW",
        "outputId": "2a61850d-aa8e-4500-f154-87b1cd4a79fc"
      },
      "source": [
        "tfidf_matrix = tf.fit_transform(movies['genres']) \n",
        "tfidf_matrix.shape"
      ],
      "execution_count": null,
      "outputs": [
        {
          "output_type": "execute_result",
          "data": {
            "text/plain": [
              "(9737, 23)"
            ]
          },
          "metadata": {},
          "execution_count": 14
        }
      ]
    },
    {
      "cell_type": "markdown",
      "metadata": {
        "id": "BnOfaHxW7nbo"
      },
      "source": [
        "#### Menghitung Cosine Similarity"
      ]
    },
    {
      "cell_type": "code",
      "metadata": {
        "colab": {
          "base_uri": "https://localhost:8080/"
        },
        "id": "N3BR0-aF7j4v",
        "outputId": "a8d87678-b3a1-4652-9f40-c6415fe87d27"
      },
      "source": [
        "from sklearn.metrics.pairwise import cosine_similarity\n",
        "\n",
        "cosine_sim = cosine_similarity(tfidf_matrix)\n",
        "cosine_sim"
      ],
      "execution_count": null,
      "outputs": [
        {
          "output_type": "execute_result",
          "data": {
            "text/plain": [
              "array([[1.        , 0.81357359, 0.15270879, ..., 0.        , 0.42101966,\n",
              "        0.2675912 ],\n",
              "       [0.81357359, 1.        , 0.        , ..., 0.        , 0.        ,\n",
              "        0.        ],\n",
              "       [0.15270879, 0.        , 1.        , ..., 0.        , 0.        ,\n",
              "        0.57067944],\n",
              "       ...,\n",
              "       [0.        , 0.        , 0.        , ..., 1.        , 0.        ,\n",
              "        0.        ],\n",
              "       [0.42101966, 0.        , 0.        , ..., 0.        , 1.        ,\n",
              "        0.        ],\n",
              "       [0.2675912 , 0.        , 0.57067944, ..., 0.        , 0.        ,\n",
              "        1.        ]])"
            ]
          },
          "metadata": {},
          "execution_count": 15
        }
      ]
    },
    {
      "cell_type": "markdown",
      "metadata": {
        "id": "Z4sESYiUfpLB"
      },
      "source": [
        "#### Membuat Dataframe baru menggunakan cosine similarity"
      ]
    },
    {
      "cell_type": "code",
      "metadata": {
        "colab": {
          "base_uri": "https://localhost:8080/",
          "height": 577
        },
        "id": "pgIYLMVBfpLB",
        "outputId": "5860e58c-55fd-4b2f-aa3e-114b94e8bc71"
      },
      "source": [
        "cosine_sim_df = pd.DataFrame(cosine_sim, index=movies['title'],\n",
        "                             columns=movies['title'])\n",
        "print('Shape:', cosine_sim_df.shape)\n",
        "\n",
        "# Melihat similarity matrix tiap movie\n",
        "cosine_sim_df.sample(10, axis=1).sample(10, axis=0)"
      ],
      "execution_count": null,
      "outputs": [
        {
          "output_type": "stream",
          "name": "stdout",
          "text": [
            "Shape: (9737, 9737)\n"
          ]
        },
        {
          "output_type": "execute_result",
          "data": {
            "text/html": [
              "<div>\n",
              "<style scoped>\n",
              "    .dataframe tbody tr th:only-of-type {\n",
              "        vertical-align: middle;\n",
              "    }\n",
              "\n",
              "    .dataframe tbody tr th {\n",
              "        vertical-align: top;\n",
              "    }\n",
              "\n",
              "    .dataframe thead th {\n",
              "        text-align: right;\n",
              "    }\n",
              "</style>\n",
              "<table border=\"1\" class=\"dataframe\">\n",
              "  <thead>\n",
              "    <tr style=\"text-align: right;\">\n",
              "      <th>title</th>\n",
              "      <th>Last Action Hero (1993)</th>\n",
              "      <th>4 Months, 3 Weeks and 2 Days (4 luni, 3 saptamâni si 2 zile) (2007)</th>\n",
              "      <th>Taxi to the Dark Side (2007)</th>\n",
              "      <th>Ghost Town (2008)</th>\n",
              "      <th>Baby Mama (2008)</th>\n",
              "      <th>George of the Jungle (1997)</th>\n",
              "      <th>Primeval (2007)</th>\n",
              "      <th>Only Angels Have Wings (1939)</th>\n",
              "      <th>Greenberg (2010)</th>\n",
              "      <th>Ricki and the Flash (2015)</th>\n",
              "    </tr>\n",
              "    <tr>\n",
              "      <th>title</th>\n",
              "      <th></th>\n",
              "      <th></th>\n",
              "      <th></th>\n",
              "      <th></th>\n",
              "      <th></th>\n",
              "      <th></th>\n",
              "      <th></th>\n",
              "      <th></th>\n",
              "      <th></th>\n",
              "      <th></th>\n",
              "    </tr>\n",
              "  </thead>\n",
              "  <tbody>\n",
              "    <tr>\n",
              "      <th>Woman of Paris, A (1923)</th>\n",
              "      <td>0.000000</td>\n",
              "      <td>1.000000</td>\n",
              "      <td>0.0</td>\n",
              "      <td>0.000000</td>\n",
              "      <td>0.0</td>\n",
              "      <td>0.0</td>\n",
              "      <td>0.000000</td>\n",
              "      <td>0.399315</td>\n",
              "      <td>0.678501</td>\n",
              "      <td>0.678501</td>\n",
              "    </tr>\n",
              "    <tr>\n",
              "      <th>Green Ray, The (Rayon vert, Le) (1986)</th>\n",
              "      <td>0.000000</td>\n",
              "      <td>0.540179</td>\n",
              "      <td>0.0</td>\n",
              "      <td>0.481366</td>\n",
              "      <td>0.0</td>\n",
              "      <td>0.0</td>\n",
              "      <td>0.000000</td>\n",
              "      <td>0.739228</td>\n",
              "      <td>0.366512</td>\n",
              "      <td>0.366512</td>\n",
              "    </tr>\n",
              "    <tr>\n",
              "      <th>Amityville: A New Generation (1993)</th>\n",
              "      <td>0.000000</td>\n",
              "      <td>0.000000</td>\n",
              "      <td>0.0</td>\n",
              "      <td>0.000000</td>\n",
              "      <td>0.0</td>\n",
              "      <td>0.0</td>\n",
              "      <td>0.780861</td>\n",
              "      <td>0.000000</td>\n",
              "      <td>0.000000</td>\n",
              "      <td>0.000000</td>\n",
              "    </tr>\n",
              "    <tr>\n",
              "      <th>Coraline (2009)</th>\n",
              "      <td>0.375313</td>\n",
              "      <td>0.000000</td>\n",
              "      <td>0.0</td>\n",
              "      <td>0.436448</td>\n",
              "      <td>0.0</td>\n",
              "      <td>0.0</td>\n",
              "      <td>0.284410</td>\n",
              "      <td>0.000000</td>\n",
              "      <td>0.000000</td>\n",
              "      <td>0.000000</td>\n",
              "    </tr>\n",
              "    <tr>\n",
              "      <th>The 5th Wave (2016)</th>\n",
              "      <td>0.262906</td>\n",
              "      <td>0.000000</td>\n",
              "      <td>0.0</td>\n",
              "      <td>0.000000</td>\n",
              "      <td>0.0</td>\n",
              "      <td>0.0</td>\n",
              "      <td>0.267483</td>\n",
              "      <td>0.332507</td>\n",
              "      <td>0.000000</td>\n",
              "      <td>0.000000</td>\n",
              "    </tr>\n",
              "    <tr>\n",
              "      <th>Falling Down (1993)</th>\n",
              "      <td>0.387857</td>\n",
              "      <td>0.559348</td>\n",
              "      <td>0.0</td>\n",
              "      <td>0.000000</td>\n",
              "      <td>0.0</td>\n",
              "      <td>0.0</td>\n",
              "      <td>0.000000</td>\n",
              "      <td>0.223356</td>\n",
              "      <td>0.379518</td>\n",
              "      <td>0.379518</td>\n",
              "    </tr>\n",
              "    <tr>\n",
              "      <th>In Time (2011)</th>\n",
              "      <td>0.000000</td>\n",
              "      <td>0.000000</td>\n",
              "      <td>0.0</td>\n",
              "      <td>0.000000</td>\n",
              "      <td>0.0</td>\n",
              "      <td>0.0</td>\n",
              "      <td>0.266349</td>\n",
              "      <td>0.000000</td>\n",
              "      <td>0.000000</td>\n",
              "      <td>0.000000</td>\n",
              "    </tr>\n",
              "    <tr>\n",
              "      <th>And Your Mother Too (Y tu mamá también) (2001)</th>\n",
              "      <td>0.000000</td>\n",
              "      <td>0.540179</td>\n",
              "      <td>0.0</td>\n",
              "      <td>0.481366</td>\n",
              "      <td>0.0</td>\n",
              "      <td>0.0</td>\n",
              "      <td>0.000000</td>\n",
              "      <td>0.739228</td>\n",
              "      <td>0.366512</td>\n",
              "      <td>0.366512</td>\n",
              "    </tr>\n",
              "    <tr>\n",
              "      <th>Anything for Love (2016)</th>\n",
              "      <td>0.000000</td>\n",
              "      <td>0.000000</td>\n",
              "      <td>0.0</td>\n",
              "      <td>0.571999</td>\n",
              "      <td>0.0</td>\n",
              "      <td>0.0</td>\n",
              "      <td>0.000000</td>\n",
              "      <td>0.622097</td>\n",
              "      <td>0.000000</td>\n",
              "      <td>0.000000</td>\n",
              "    </tr>\n",
              "    <tr>\n",
              "      <th>V for Vendetta (2006)</th>\n",
              "      <td>0.158817</td>\n",
              "      <td>0.000000</td>\n",
              "      <td>0.0</td>\n",
              "      <td>0.000000</td>\n",
              "      <td>0.0</td>\n",
              "      <td>0.0</td>\n",
              "      <td>0.209269</td>\n",
              "      <td>0.000000</td>\n",
              "      <td>0.000000</td>\n",
              "      <td>0.000000</td>\n",
              "    </tr>\n",
              "  </tbody>\n",
              "</table>\n",
              "</div>"
            ],
            "text/plain": [
              "title                                           Last Action Hero (1993)  ...  Ricki and the Flash (2015)\n",
              "title                                                                    ...                            \n",
              "Woman of Paris, A (1923)                                       0.000000  ...                    0.678501\n",
              "Green Ray, The (Rayon vert, Le) (1986)                         0.000000  ...                    0.366512\n",
              "Amityville: A New Generation (1993)                            0.000000  ...                    0.000000\n",
              "Coraline (2009)                                                0.375313  ...                    0.000000\n",
              "The 5th Wave (2016)                                            0.262906  ...                    0.000000\n",
              "Falling Down (1993)                                            0.387857  ...                    0.379518\n",
              "In Time (2011)                                                 0.000000  ...                    0.000000\n",
              "And Your Mother Too (Y tu mamá también) (2001)                 0.000000  ...                    0.366512\n",
              "Anything for Love (2016)                                       0.000000  ...                    0.000000\n",
              "V for Vendetta (2006)                                          0.158817  ...                    0.000000\n",
              "\n",
              "[10 rows x 10 columns]"
            ]
          },
          "metadata": {},
          "execution_count": 16
        }
      ]
    },
    {
      "cell_type": "markdown",
      "metadata": {
        "id": "O9yk9ZzqfpLC"
      },
      "source": [
        "### Model Collaborative  Filtering"
      ]
    },
    {
      "cell_type": "code",
      "metadata": {
        "colab": {
          "base_uri": "https://localhost:8080/",
          "height": 204
        },
        "id": "7rhjo0gufpLD",
        "outputId": "d0940cb5-7335-4108-93bd-61169bdaadf1"
      },
      "source": [
        "df.head()"
      ],
      "execution_count": null,
      "outputs": [
        {
          "data": {
            "text/html": [
              "<div>\n",
              "<style scoped>\n",
              "    .dataframe tbody tr th:only-of-type {\n",
              "        vertical-align: middle;\n",
              "    }\n",
              "\n",
              "    .dataframe tbody tr th {\n",
              "        vertical-align: top;\n",
              "    }\n",
              "\n",
              "    .dataframe thead th {\n",
              "        text-align: right;\n",
              "    }\n",
              "</style>\n",
              "<table border=\"1\" class=\"dataframe\">\n",
              "  <thead>\n",
              "    <tr style=\"text-align: right;\">\n",
              "      <th></th>\n",
              "      <th>userId</th>\n",
              "      <th>movieId</th>\n",
              "      <th>rating</th>\n",
              "      <th>title</th>\n",
              "      <th>genres</th>\n",
              "    </tr>\n",
              "  </thead>\n",
              "  <tbody>\n",
              "    <tr>\n",
              "      <th>0</th>\n",
              "      <td>1</td>\n",
              "      <td>1</td>\n",
              "      <td>4</td>\n",
              "      <td>Toy Story (1995)</td>\n",
              "      <td>Adventure|Animation|Children|Comedy|Fantasy</td>\n",
              "    </tr>\n",
              "    <tr>\n",
              "      <th>1</th>\n",
              "      <td>1</td>\n",
              "      <td>2329</td>\n",
              "      <td>5</td>\n",
              "      <td>American History X (1998)</td>\n",
              "      <td>Crime|Drama</td>\n",
              "    </tr>\n",
              "    <tr>\n",
              "      <th>2</th>\n",
              "      <td>1</td>\n",
              "      <td>2338</td>\n",
              "      <td>2</td>\n",
              "      <td>I Still Know What You Did Last Summer (1998)</td>\n",
              "      <td>Horror|Mystery|Thriller</td>\n",
              "    </tr>\n",
              "    <tr>\n",
              "      <th>3</th>\n",
              "      <td>1</td>\n",
              "      <td>2353</td>\n",
              "      <td>5</td>\n",
              "      <td>Enemy of the State (1998)</td>\n",
              "      <td>Action|Thriller</td>\n",
              "    </tr>\n",
              "    <tr>\n",
              "      <th>4</th>\n",
              "      <td>1</td>\n",
              "      <td>2366</td>\n",
              "      <td>4</td>\n",
              "      <td>King Kong (1933)</td>\n",
              "      <td>Action|Adventure|Fantasy|Horror</td>\n",
              "    </tr>\n",
              "  </tbody>\n",
              "</table>\n",
              "</div>"
            ],
            "text/plain": [
              "   userId  ...                                       genres\n",
              "0       1  ...  Adventure|Animation|Children|Comedy|Fantasy\n",
              "1       1  ...                                  Crime|Drama\n",
              "2       1  ...                      Horror|Mystery|Thriller\n",
              "3       1  ...                              Action|Thriller\n",
              "4       1  ...              Action|Adventure|Fantasy|Horror\n",
              "\n",
              "[5 rows x 5 columns]"
            ]
          },
          "execution_count": 41,
          "metadata": {},
          "output_type": "execute_result"
        }
      ]
    },
    {
      "cell_type": "markdown",
      "metadata": {
        "id": "RkIatFWYfpLD"
      },
      "source": [
        "#### Encode *userId*"
      ]
    },
    {
      "cell_type": "code",
      "metadata": {
        "colab": {
          "base_uri": "https://localhost:8080/"
        },
        "id": "70m91lT6fpLD",
        "outputId": "36fee98d-b623-4f38-b098-57c8f4c16de9"
      },
      "source": [
        "# Mengubah unique userId menjadi list\n",
        "user_id = df['userId'].unique().tolist()\n",
        "print(f'list userId: {user_id}')\n",
        " \n",
        "# Encoding userId\n",
        "user_to_user_encoded = {x: i for i, x in enumerate(user_id)}\n",
        "print(f'\\nencoded userId : {user_to_user_encoded}')\n",
        " \n",
        "# Encoding angka ke userId\n",
        "user_encoded_to_user = {i: x for i, x in enumerate(user_id)}\n",
        "\n",
        "print(f'\\nencoded angka ke userId: {user_encoded_to_user}')"
      ],
      "execution_count": null,
      "outputs": [
        {
          "name": "stdout",
          "output_type": "stream",
          "text": [
            "list userId: [1, 2, 3, 4, 5, 6, 7, 8, 9, 10, 11, 12, 13, 14, 15, 16, 17, 18, 19, 20, 21, 22, 23, 24, 25, 26, 27, 28, 29, 30, 31, 32, 33, 34, 35, 36, 37, 38, 39, 40, 41, 42, 43, 44, 45, 46, 47, 48, 49, 50, 51, 52, 53, 54, 55, 56, 57, 58, 59, 60, 61, 62, 63, 64, 65, 66, 67, 68, 69, 70, 71, 72, 73, 74, 75, 76, 77, 78, 79, 80, 81, 82, 83, 84, 85, 86, 87, 88, 89, 90, 91, 92, 93, 94, 95, 96, 97, 98, 99, 100, 101, 102, 103, 104, 105, 106, 107, 108, 109, 110, 111, 112, 113, 114, 115, 116, 117, 118, 119, 120, 121, 122, 123, 124, 125, 126, 127, 128, 129, 130, 131, 132, 133, 134, 135, 136, 137, 138, 139, 140, 141, 142, 143, 144, 145, 146, 147, 148, 149, 150, 151, 152, 153, 154, 155, 156, 157, 158, 159, 160, 161, 162, 163, 164, 165, 166, 167, 168, 169, 170, 171, 172, 173, 174, 175, 176, 177, 178, 179, 180, 181, 182, 183, 184, 185, 186, 187, 188, 189, 190, 191, 192, 193, 194, 195, 196, 197, 198, 199, 200, 201, 202, 203, 204, 205, 206, 207, 208, 209, 210, 211, 212, 213, 214, 215, 216, 217, 218, 219, 220, 221, 222, 223, 224, 225, 226, 227, 228, 229, 230, 231, 232, 233, 234, 235, 236, 237, 238, 239, 240, 241, 242, 243, 244, 245, 246, 247, 248, 249, 250, 251, 252, 253, 254, 255, 256, 257, 258, 259, 260, 261, 262, 263, 264, 265, 266, 267, 268, 269, 270, 271, 272, 273, 274, 275, 276, 277, 278, 279, 280, 281, 282, 283, 284, 285, 286, 287, 288, 289, 290, 291, 292, 293, 294, 295, 296, 297, 298, 299, 300, 301, 302, 303, 304, 305, 306, 307, 308, 309, 310, 311, 312, 313, 314, 315, 316, 317, 318, 319, 320, 321, 322, 323, 324, 325, 326, 327, 328, 329, 330, 331, 332, 333, 334, 335, 336, 337, 338, 339, 340, 341, 342, 343, 344, 345, 346, 347, 348, 349, 350, 351, 352, 353, 354, 355, 356, 357, 358, 359, 360, 361, 362, 363, 364, 365, 366, 367, 368, 369, 370, 371, 372, 373, 374, 375, 376, 377, 378, 379, 380, 381, 382, 383, 384, 385, 386, 387, 388, 389, 390, 391, 392, 393, 394, 395, 396, 397, 398, 399, 400, 401, 402, 403, 404, 405, 406, 407, 408, 409, 410, 411, 412, 413, 414, 415, 416, 417, 418, 419, 420, 421, 422, 423, 424, 425, 426, 427, 428, 429, 430, 431, 432, 433, 434, 435, 436, 437, 438, 439, 440, 441, 442, 443, 444, 445, 446, 447, 448, 449, 450, 451, 452, 453, 454, 455, 456, 457, 458, 459, 460, 461, 462, 463, 464, 465, 466, 467, 468, 469, 470, 471, 472, 473, 474, 475, 476, 477, 478, 479, 480, 481, 482, 483, 484, 485, 486, 487, 488, 489, 490, 491, 492, 493, 494, 495, 496, 497, 498, 499, 500, 501, 502, 503, 504, 505, 506, 507, 508, 509, 510, 511, 512, 513, 514, 515, 516, 517, 518, 519, 520, 521, 522, 523, 524, 525, 526, 527, 528, 529, 530, 531, 532, 533, 534, 535, 536, 537, 538, 539, 540, 541, 542, 543, 544, 545, 546, 547, 548, 549, 550, 551, 552, 553, 554, 555, 556, 557, 558, 559, 560, 561, 562, 563, 564, 565, 566, 567, 568, 569, 570, 571, 572, 573, 574, 575, 576, 577, 578, 579, 580, 581, 582, 583, 584, 585, 586, 587, 588, 589, 590, 591, 592, 593, 594, 595, 596, 597, 598, 599, 600, 601, 602, 603, 604, 605, 606, 607, 608, 609, 610]\n",
            "\n",
            "encoded userId : {1: 0, 2: 1, 3: 2, 4: 3, 5: 4, 6: 5, 7: 6, 8: 7, 9: 8, 10: 9, 11: 10, 12: 11, 13: 12, 14: 13, 15: 14, 16: 15, 17: 16, 18: 17, 19: 18, 20: 19, 21: 20, 22: 21, 23: 22, 24: 23, 25: 24, 26: 25, 27: 26, 28: 27, 29: 28, 30: 29, 31: 30, 32: 31, 33: 32, 34: 33, 35: 34, 36: 35, 37: 36, 38: 37, 39: 38, 40: 39, 41: 40, 42: 41, 43: 42, 44: 43, 45: 44, 46: 45, 47: 46, 48: 47, 49: 48, 50: 49, 51: 50, 52: 51, 53: 52, 54: 53, 55: 54, 56: 55, 57: 56, 58: 57, 59: 58, 60: 59, 61: 60, 62: 61, 63: 62, 64: 63, 65: 64, 66: 65, 67: 66, 68: 67, 69: 68, 70: 69, 71: 70, 72: 71, 73: 72, 74: 73, 75: 74, 76: 75, 77: 76, 78: 77, 79: 78, 80: 79, 81: 80, 82: 81, 83: 82, 84: 83, 85: 84, 86: 85, 87: 86, 88: 87, 89: 88, 90: 89, 91: 90, 92: 91, 93: 92, 94: 93, 95: 94, 96: 95, 97: 96, 98: 97, 99: 98, 100: 99, 101: 100, 102: 101, 103: 102, 104: 103, 105: 104, 106: 105, 107: 106, 108: 107, 109: 108, 110: 109, 111: 110, 112: 111, 113: 112, 114: 113, 115: 114, 116: 115, 117: 116, 118: 117, 119: 118, 120: 119, 121: 120, 122: 121, 123: 122, 124: 123, 125: 124, 126: 125, 127: 126, 128: 127, 129: 128, 130: 129, 131: 130, 132: 131, 133: 132, 134: 133, 135: 134, 136: 135, 137: 136, 138: 137, 139: 138, 140: 139, 141: 140, 142: 141, 143: 142, 144: 143, 145: 144, 146: 145, 147: 146, 148: 147, 149: 148, 150: 149, 151: 150, 152: 151, 153: 152, 154: 153, 155: 154, 156: 155, 157: 156, 158: 157, 159: 158, 160: 159, 161: 160, 162: 161, 163: 162, 164: 163, 165: 164, 166: 165, 167: 166, 168: 167, 169: 168, 170: 169, 171: 170, 172: 171, 173: 172, 174: 173, 175: 174, 176: 175, 177: 176, 178: 177, 179: 178, 180: 179, 181: 180, 182: 181, 183: 182, 184: 183, 185: 184, 186: 185, 187: 186, 188: 187, 189: 188, 190: 189, 191: 190, 192: 191, 193: 192, 194: 193, 195: 194, 196: 195, 197: 196, 198: 197, 199: 198, 200: 199, 201: 200, 202: 201, 203: 202, 204: 203, 205: 204, 206: 205, 207: 206, 208: 207, 209: 208, 210: 209, 211: 210, 212: 211, 213: 212, 214: 213, 215: 214, 216: 215, 217: 216, 218: 217, 219: 218, 220: 219, 221: 220, 222: 221, 223: 222, 224: 223, 225: 224, 226: 225, 227: 226, 228: 227, 229: 228, 230: 229, 231: 230, 232: 231, 233: 232, 234: 233, 235: 234, 236: 235, 237: 236, 238: 237, 239: 238, 240: 239, 241: 240, 242: 241, 243: 242, 244: 243, 245: 244, 246: 245, 247: 246, 248: 247, 249: 248, 250: 249, 251: 250, 252: 251, 253: 252, 254: 253, 255: 254, 256: 255, 257: 256, 258: 257, 259: 258, 260: 259, 261: 260, 262: 261, 263: 262, 264: 263, 265: 264, 266: 265, 267: 266, 268: 267, 269: 268, 270: 269, 271: 270, 272: 271, 273: 272, 274: 273, 275: 274, 276: 275, 277: 276, 278: 277, 279: 278, 280: 279, 281: 280, 282: 281, 283: 282, 284: 283, 285: 284, 286: 285, 287: 286, 288: 287, 289: 288, 290: 289, 291: 290, 292: 291, 293: 292, 294: 293, 295: 294, 296: 295, 297: 296, 298: 297, 299: 298, 300: 299, 301: 300, 302: 301, 303: 302, 304: 303, 305: 304, 306: 305, 307: 306, 308: 307, 309: 308, 310: 309, 311: 310, 312: 311, 313: 312, 314: 313, 315: 314, 316: 315, 317: 316, 318: 317, 319: 318, 320: 319, 321: 320, 322: 321, 323: 322, 324: 323, 325: 324, 326: 325, 327: 326, 328: 327, 329: 328, 330: 329, 331: 330, 332: 331, 333: 332, 334: 333, 335: 334, 336: 335, 337: 336, 338: 337, 339: 338, 340: 339, 341: 340, 342: 341, 343: 342, 344: 343, 345: 344, 346: 345, 347: 346, 348: 347, 349: 348, 350: 349, 351: 350, 352: 351, 353: 352, 354: 353, 355: 354, 356: 355, 357: 356, 358: 357, 359: 358, 360: 359, 361: 360, 362: 361, 363: 362, 364: 363, 365: 364, 366: 365, 367: 366, 368: 367, 369: 368, 370: 369, 371: 370, 372: 371, 373: 372, 374: 373, 375: 374, 376: 375, 377: 376, 378: 377, 379: 378, 380: 379, 381: 380, 382: 381, 383: 382, 384: 383, 385: 384, 386: 385, 387: 386, 388: 387, 389: 388, 390: 389, 391: 390, 392: 391, 393: 392, 394: 393, 395: 394, 396: 395, 397: 396, 398: 397, 399: 398, 400: 399, 401: 400, 402: 401, 403: 402, 404: 403, 405: 404, 406: 405, 407: 406, 408: 407, 409: 408, 410: 409, 411: 410, 412: 411, 413: 412, 414: 413, 415: 414, 416: 415, 417: 416, 418: 417, 419: 418, 420: 419, 421: 420, 422: 421, 423: 422, 424: 423, 425: 424, 426: 425, 427: 426, 428: 427, 429: 428, 430: 429, 431: 430, 432: 431, 433: 432, 434: 433, 435: 434, 436: 435, 437: 436, 438: 437, 439: 438, 440: 439, 441: 440, 442: 441, 443: 442, 444: 443, 445: 444, 446: 445, 447: 446, 448: 447, 449: 448, 450: 449, 451: 450, 452: 451, 453: 452, 454: 453, 455: 454, 456: 455, 457: 456, 458: 457, 459: 458, 460: 459, 461: 460, 462: 461, 463: 462, 464: 463, 465: 464, 466: 465, 467: 466, 468: 467, 469: 468, 470: 469, 471: 470, 472: 471, 473: 472, 474: 473, 475: 474, 476: 475, 477: 476, 478: 477, 479: 478, 480: 479, 481: 480, 482: 481, 483: 482, 484: 483, 485: 484, 486: 485, 487: 486, 488: 487, 489: 488, 490: 489, 491: 490, 492: 491, 493: 492, 494: 493, 495: 494, 496: 495, 497: 496, 498: 497, 499: 498, 500: 499, 501: 500, 502: 501, 503: 502, 504: 503, 505: 504, 506: 505, 507: 506, 508: 507, 509: 508, 510: 509, 511: 510, 512: 511, 513: 512, 514: 513, 515: 514, 516: 515, 517: 516, 518: 517, 519: 518, 520: 519, 521: 520, 522: 521, 523: 522, 524: 523, 525: 524, 526: 525, 527: 526, 528: 527, 529: 528, 530: 529, 531: 530, 532: 531, 533: 532, 534: 533, 535: 534, 536: 535, 537: 536, 538: 537, 539: 538, 540: 539, 541: 540, 542: 541, 543: 542, 544: 543, 545: 544, 546: 545, 547: 546, 548: 547, 549: 548, 550: 549, 551: 550, 552: 551, 553: 552, 554: 553, 555: 554, 556: 555, 557: 556, 558: 557, 559: 558, 560: 559, 561: 560, 562: 561, 563: 562, 564: 563, 565: 564, 566: 565, 567: 566, 568: 567, 569: 568, 570: 569, 571: 570, 572: 571, 573: 572, 574: 573, 575: 574, 576: 575, 577: 576, 578: 577, 579: 578, 580: 579, 581: 580, 582: 581, 583: 582, 584: 583, 585: 584, 586: 585, 587: 586, 588: 587, 589: 588, 590: 589, 591: 590, 592: 591, 593: 592, 594: 593, 595: 594, 596: 595, 597: 596, 598: 597, 599: 598, 600: 599, 601: 600, 602: 601, 603: 602, 604: 603, 605: 604, 606: 605, 607: 606, 608: 607, 609: 608, 610: 609}\n",
            "\n",
            "encoded angka ke userId: {0: 1, 1: 2, 2: 3, 3: 4, 4: 5, 5: 6, 6: 7, 7: 8, 8: 9, 9: 10, 10: 11, 11: 12, 12: 13, 13: 14, 14: 15, 15: 16, 16: 17, 17: 18, 18: 19, 19: 20, 20: 21, 21: 22, 22: 23, 23: 24, 24: 25, 25: 26, 26: 27, 27: 28, 28: 29, 29: 30, 30: 31, 31: 32, 32: 33, 33: 34, 34: 35, 35: 36, 36: 37, 37: 38, 38: 39, 39: 40, 40: 41, 41: 42, 42: 43, 43: 44, 44: 45, 45: 46, 46: 47, 47: 48, 48: 49, 49: 50, 50: 51, 51: 52, 52: 53, 53: 54, 54: 55, 55: 56, 56: 57, 57: 58, 58: 59, 59: 60, 60: 61, 61: 62, 62: 63, 63: 64, 64: 65, 65: 66, 66: 67, 67: 68, 68: 69, 69: 70, 70: 71, 71: 72, 72: 73, 73: 74, 74: 75, 75: 76, 76: 77, 77: 78, 78: 79, 79: 80, 80: 81, 81: 82, 82: 83, 83: 84, 84: 85, 85: 86, 86: 87, 87: 88, 88: 89, 89: 90, 90: 91, 91: 92, 92: 93, 93: 94, 94: 95, 95: 96, 96: 97, 97: 98, 98: 99, 99: 100, 100: 101, 101: 102, 102: 103, 103: 104, 104: 105, 105: 106, 106: 107, 107: 108, 108: 109, 109: 110, 110: 111, 111: 112, 112: 113, 113: 114, 114: 115, 115: 116, 116: 117, 117: 118, 118: 119, 119: 120, 120: 121, 121: 122, 122: 123, 123: 124, 124: 125, 125: 126, 126: 127, 127: 128, 128: 129, 129: 130, 130: 131, 131: 132, 132: 133, 133: 134, 134: 135, 135: 136, 136: 137, 137: 138, 138: 139, 139: 140, 140: 141, 141: 142, 142: 143, 143: 144, 144: 145, 145: 146, 146: 147, 147: 148, 148: 149, 149: 150, 150: 151, 151: 152, 152: 153, 153: 154, 154: 155, 155: 156, 156: 157, 157: 158, 158: 159, 159: 160, 160: 161, 161: 162, 162: 163, 163: 164, 164: 165, 165: 166, 166: 167, 167: 168, 168: 169, 169: 170, 170: 171, 171: 172, 172: 173, 173: 174, 174: 175, 175: 176, 176: 177, 177: 178, 178: 179, 179: 180, 180: 181, 181: 182, 182: 183, 183: 184, 184: 185, 185: 186, 186: 187, 187: 188, 188: 189, 189: 190, 190: 191, 191: 192, 192: 193, 193: 194, 194: 195, 195: 196, 196: 197, 197: 198, 198: 199, 199: 200, 200: 201, 201: 202, 202: 203, 203: 204, 204: 205, 205: 206, 206: 207, 207: 208, 208: 209, 209: 210, 210: 211, 211: 212, 212: 213, 213: 214, 214: 215, 215: 216, 216: 217, 217: 218, 218: 219, 219: 220, 220: 221, 221: 222, 222: 223, 223: 224, 224: 225, 225: 226, 226: 227, 227: 228, 228: 229, 229: 230, 230: 231, 231: 232, 232: 233, 233: 234, 234: 235, 235: 236, 236: 237, 237: 238, 238: 239, 239: 240, 240: 241, 241: 242, 242: 243, 243: 244, 244: 245, 245: 246, 246: 247, 247: 248, 248: 249, 249: 250, 250: 251, 251: 252, 252: 253, 253: 254, 254: 255, 255: 256, 256: 257, 257: 258, 258: 259, 259: 260, 260: 261, 261: 262, 262: 263, 263: 264, 264: 265, 265: 266, 266: 267, 267: 268, 268: 269, 269: 270, 270: 271, 271: 272, 272: 273, 273: 274, 274: 275, 275: 276, 276: 277, 277: 278, 278: 279, 279: 280, 280: 281, 281: 282, 282: 283, 283: 284, 284: 285, 285: 286, 286: 287, 287: 288, 288: 289, 289: 290, 290: 291, 291: 292, 292: 293, 293: 294, 294: 295, 295: 296, 296: 297, 297: 298, 298: 299, 299: 300, 300: 301, 301: 302, 302: 303, 303: 304, 304: 305, 305: 306, 306: 307, 307: 308, 308: 309, 309: 310, 310: 311, 311: 312, 312: 313, 313: 314, 314: 315, 315: 316, 316: 317, 317: 318, 318: 319, 319: 320, 320: 321, 321: 322, 322: 323, 323: 324, 324: 325, 325: 326, 326: 327, 327: 328, 328: 329, 329: 330, 330: 331, 331: 332, 332: 333, 333: 334, 334: 335, 335: 336, 336: 337, 337: 338, 338: 339, 339: 340, 340: 341, 341: 342, 342: 343, 343: 344, 344: 345, 345: 346, 346: 347, 347: 348, 348: 349, 349: 350, 350: 351, 351: 352, 352: 353, 353: 354, 354: 355, 355: 356, 356: 357, 357: 358, 358: 359, 359: 360, 360: 361, 361: 362, 362: 363, 363: 364, 364: 365, 365: 366, 366: 367, 367: 368, 368: 369, 369: 370, 370: 371, 371: 372, 372: 373, 373: 374, 374: 375, 375: 376, 376: 377, 377: 378, 378: 379, 379: 380, 380: 381, 381: 382, 382: 383, 383: 384, 384: 385, 385: 386, 386: 387, 387: 388, 388: 389, 389: 390, 390: 391, 391: 392, 392: 393, 393: 394, 394: 395, 395: 396, 396: 397, 397: 398, 398: 399, 399: 400, 400: 401, 401: 402, 402: 403, 403: 404, 404: 405, 405: 406, 406: 407, 407: 408, 408: 409, 409: 410, 410: 411, 411: 412, 412: 413, 413: 414, 414: 415, 415: 416, 416: 417, 417: 418, 418: 419, 419: 420, 420: 421, 421: 422, 422: 423, 423: 424, 424: 425, 425: 426, 426: 427, 427: 428, 428: 429, 429: 430, 430: 431, 431: 432, 432: 433, 433: 434, 434: 435, 435: 436, 436: 437, 437: 438, 438: 439, 439: 440, 440: 441, 441: 442, 442: 443, 443: 444, 444: 445, 445: 446, 446: 447, 447: 448, 448: 449, 449: 450, 450: 451, 451: 452, 452: 453, 453: 454, 454: 455, 455: 456, 456: 457, 457: 458, 458: 459, 459: 460, 460: 461, 461: 462, 462: 463, 463: 464, 464: 465, 465: 466, 466: 467, 467: 468, 468: 469, 469: 470, 470: 471, 471: 472, 472: 473, 473: 474, 474: 475, 475: 476, 476: 477, 477: 478, 478: 479, 479: 480, 480: 481, 481: 482, 482: 483, 483: 484, 484: 485, 485: 486, 486: 487, 487: 488, 488: 489, 489: 490, 490: 491, 491: 492, 492: 493, 493: 494, 494: 495, 495: 496, 496: 497, 497: 498, 498: 499, 499: 500, 500: 501, 501: 502, 502: 503, 503: 504, 504: 505, 505: 506, 506: 507, 507: 508, 508: 509, 509: 510, 510: 511, 511: 512, 512: 513, 513: 514, 514: 515, 515: 516, 516: 517, 517: 518, 518: 519, 519: 520, 520: 521, 521: 522, 522: 523, 523: 524, 524: 525, 525: 526, 526: 527, 527: 528, 528: 529, 529: 530, 530: 531, 531: 532, 532: 533, 533: 534, 534: 535, 535: 536, 536: 537, 537: 538, 538: 539, 539: 540, 540: 541, 541: 542, 542: 543, 543: 544, 544: 545, 545: 546, 546: 547, 547: 548, 548: 549, 549: 550, 550: 551, 551: 552, 552: 553, 553: 554, 554: 555, 555: 556, 556: 557, 557: 558, 558: 559, 559: 560, 560: 561, 561: 562, 562: 563, 563: 564, 564: 565, 565: 566, 566: 567, 567: 568, 568: 569, 569: 570, 570: 571, 571: 572, 572: 573, 573: 574, 574: 575, 575: 576, 576: 577, 577: 578, 578: 579, 579: 580, 580: 581, 581: 582, 582: 583, 583: 584, 584: 585, 585: 586, 586: 587, 587: 588, 588: 589, 589: 590, 590: 591, 591: 592, 592: 593, 593: 594, 594: 595, 595: 596, 596: 597, 597: 598, 598: 599, 599: 600, 600: 601, 601: 602, 602: 603, 603: 604, 604: 605, 605: 606, 606: 607, 607: 608, 608: 609, 609: 610}\n"
          ]
        }
      ]
    },
    {
      "cell_type": "markdown",
      "metadata": {
        "id": "Shbz7_XZfpLD"
      },
      "source": [
        "#### Encode *movieId*"
      ]
    },
    {
      "cell_type": "code",
      "metadata": {
        "colab": {
          "base_uri": "https://localhost:8080/"
        },
        "id": "Q8RlzBUCfpLE",
        "outputId": "369a92a1-9d44-4b85-a34e-aac51002bf0c"
      },
      "source": [
        "# Mengubah unique userId menjadi list\n",
        "movie_id = df['movieId'].unique().tolist()\n",
        "print(f'list movieId: {movie_id}')\n",
        " \n",
        "# Encoding userId\n",
        "movie_to_movie_encoded = {x: i for i, x in enumerate(movie_id)}\n",
        "print(f'\\nencoded movieId : {movie_to_movie_encoded}')\n",
        " \n",
        "# Encoding angka ke userId\n",
        "movie_encoded_to_movie = {i: x for i, x in enumerate(movie_id)}\n",
        "\n",
        "print(f'\\nencoded angka ke movieId: {movie_encoded_to_movie}')"
      ],
      "execution_count": null,
      "outputs": [
        {
          "name": "stdout",
          "output_type": "stream",
          "text": [
            "list movieId: [1, 2329, 2338, 2353, 2366, 2387, 2389, 2395, 2406, 2414, 2427, 2450, 2459, 2470, 2478, 2492, 2502, 2528, 2529, 2542, 2571, 2580, 2596, 2616, 2617, 2628, 2291, 2640, 2273, 2253, 2005, 2012, 2018, 2028, 2033, 2046, 2048, 2054, 2058, 2078, 2090, 2093, 2094, 2096, 2099, 2105, 2115, 2116, 2137, 2139, 2141, 2143, 2161, 2174, 2193, 2268, 2641, 2644, 2648, 3247, 3253, 3273, 3386, 3439, 3440, 3441, 3448, 3450, 3479, 3489, 3527, 3578, 3617, 3639, 3671, 3702, 3703, 3729, 3740, 3744, 3793, 3809, 4006, 5060, 3243, 3176, 3168, 3062, 2654, 2657, 2692, 2700, 2716, 2761, 2797, 2826, 2858, 2872, 2899, 2916, 2000, 2944, 2948, 2949, 2959, 2985, 2987, 2991, 2993, 2997, 3033, 3034, 3052, 3053, 2947, 1967, 3147, 1927, 543, 552, 553, 590, 593, 596, 608, 648, 661, 673, 733, 736, 780, 804, 919, 923, 940, 943, 954, 1009, 1023, 1024, 1025, 1029, 1030, 527, 1031, 500, 457, 1954, 3, 6, 47, 50, 70, 101, 110, 151, 157, 163, 216, 223, 231, 235, 260, 296, 316, 333, 349, 356, 362, 367, 423, 441, 480, 1032, 592, 1049, 1282, 1291, 1298, 1348, 1377, 1396, 1408, 1445, 1473, 1500, 1517, 1552, 1278, 1573, 1587, 1617, 1620, 1625, 1644, 1676, 1042, 1777, 1793, 1804, 1805, 1920, 1580, 1275, 1732, 1127, 1270, 1073, 1080, 1089, 1090, 1092, 1097, 1136, 1196, 1197, 1206, 1208, 1198, 1213, 1265, 1258, 1256, 1240, 1210, 1226, 1060, 1222, 1220, 1219, 1214, 1224, 86345, 99114, 89774, 91529, 91658, 106782, 68157, 112552, 114060, 115713, 122882, 131724, 80906, 109487, 80489, 6874, 77455, 318, 79132, 8798, 1704, 48516, 58559, 60756, 71535, 74458, 46970, 5181, 3210, 3024, 3949, 4518, 5048, 5746, 72378, 5919, 6238, 6835, 7899, 7991, 26409, 70946, 2851, 5764, 2424, 2288, 31, 647, 688, 849, 914, 1093, 1124, 720, 1272, 1302, 1371, 2080, 1263, 2683, 2599, 2583, 2467, 2390, 2712, 2926, 2763, 2770, 2791, 2843, 2874, 2921, 2359, 2973, 2762, 2351, 2145, 2324, 1860, 1883, 1885, 1892, 1895, 1907, 1914, 1916, 1923, 1947, 1966, 2336, 2019, 2076, 2109, 2150, 2186, 2203, 2204, 2282, 1968, 3044, 3317, 3079, 4033, 4034, 4074, 4121, 4144, 4166, 4226, 4239, 4246, 4252, 4260, 4273, 4308, 4347, 4381, 4641, 4741, 4765, 4881, 4896, 4902, 4967, 1834, 4029, 4027, 4021, 4020, 3083, 3160, 3175, 3204, 3255, 3358, 3365, 3408, 3481, 3060, 3538, 3591, 3788, 3851, 3897, 3911, 3967, 3996, 4002, 4014, 3508, 1734, 920, 368, 417, 450, 475, 492, 509, 538, 539, 588, 595, 599, 708, 759, 800, 892, 898, 899, 902, 357, 904, 351, 345, 21, 32, 45, 52, 58, 106, 125, 126, 162, 171, 176, 190, 215, 222, 232, 247, 265, 319, 342, 348, 908, 912, 1225, 1250, 1259, 1266, 1279, 910, 1283, 1288, 1211, 1391, 1449, 1466, 1597, 1641, 1719, 1304, 1203, 1199, 1733, 930, 937, 1046, 1057, 1077, 1079, 1188, 1183, 1179, 1103, 1094, 1086, 1084, 364, 380, 410, 474, 515, 531, 594, 589, 597, 534, 344, 36, 39, 150, 153, 34, 300, 290, 266, 261, 253, 490, 489, 485, 477, 466, 469, 468, 460, 458, 491, 455, 472, 493, 516, 497, 537, 536, 532, 524, 494, 520, 510, 508, 505, 502, 454, 440, 366, 361, 360, 359, 358, 355, 354, 353, 350, 352, 540, 445, 371, 437, 435, 434, 432, 426, 416, 415, 370, 412, 383, 382, 381, 378, 377, 374, 405, 542, 546, 852, 848, 842, 839, 838, 837, 835, 830, 818, 802, 801, 799, 795, 783, 867, 880, 881, 888, 1082, 1064, 1061, 775, 1006, 999, 996, 991, 986, 981, 979, 891, 1004, 765, 762, 747, 606, 587, 575, 569, 548, 609, 628, 719, 711, 710, 709, 704, 616, 700, 694, 667, 662, 640, 637, 631, 697, 419, 141, 140, 135, 113, 112, 105, 104, 102, 100, 95, 93, 92, 89, 145, 146, 185, 181, 180, 179, 177, 174, 87, 170, 165, 161, 160, 159, 158, 168, 86, 79, 76, 22, 19, 17, 16, 15, 13, 24, 11, 8, 7, 5, 4, 2, 10, 186, 25, 27, 66, 65, 62, 61, 60, 54, 26, 43, 41, 46, 189, 88, 195, 303, 302, 293, 292, 291, 289, 304, 288, 281, 279, 277, 347, 276, 274, 273, 282, 271, 310, 313, 343, 191, 340, 339, 337, 336, 312, 332, 329, 327, 317, 315, 314, 330, 270, 225, 224, 219, 218, 217, 230, 212, 209, 208, 207, 205, 204, 201, 267, 210, 196, 236, 234, 262, 258, 256, 254, 257, 251, 250, 248, 243, 240, 239, 237, 252, 8373, 7155, 7445, 8207, 8360, 8368, 8528, 8870, 8665, 8666, 8783, 8808, 8865, 7153, 8636, 5218, 5989, 6934, 8907, 5349, 5378, 5445, 5459, 5464, 5502, 7143, 5618, 5952, 5991, 6333, 6365, 6534, 6539, 6863, 5816, 8908, 33794, 8957, 38388, 42002, 45499, 45517, 45668, 45730, 46530, 48783, 48997, 49272, 49278, 49286, 49824, 4995, 37741, 34319, 34048, 33836, 8958, 8961, 8965, 8970, 8972, 8984, 27741, 8949, 30812, 31878, 32029, 32031, 32296, 32587, 33162, 33493, 30816, 4993, 924, 1101, 1246, 1584, 1610, 1682, 750, 4963, 1784, 3869, 3916, 3977, 3994, 4018, 4223, 3623, 4370, 4643, 4700, 4844, 4874, 4886, 1917, 4310, 4306, 3354, 2688, 2701, 2717, 3114, 2671, 586, 5843, 5447, 5451, 5481, 5507, 5841, 5872, 5891, 5893, 5902, 5956, 5962, 5965, 5988, 6001, 6044, 4558, 5890, 3735, 4131, 187, 627, 922, 1037, 1095, 1674, 3328, 3173, 2877, 2901, 2023, 2011, 1987, 2300, 72737, 77841, 72998, 73017, 74450, 78772, 82167, 80549, 81784, 81845, 81847, 82499, 72720, 79091, 72407, 63113, 72011, 59333, 60397, 60950, 61250, 84374, 63992, 72330, 64969, 68954, 69406, 69844, 70183, 70293, 71579, 66203, 86548, 96079, 88163, 106696, 107141, 109374, 109853, 106489, 112006, 113394, 119145, 129428, 136020, 137595, 140110, 113275, 87222, 105211, 103339, 88810, 91104, 92259, 94070, 95167, 104374, 95449, 95543, 97024, 97938, 98203, 103335, 95510, 58047, 59421, 56367, 56949, 4447, 5066, 3882, 5377, 5943, 5957, 6155, 6266, 6377, 5620, 6535, 1028, 1088, 1307, 1247, 6942, 7151, 31685, 33145, 33679, 40629, 40819, 31433, 41285, 51662, 51705, 7149, 54286, 47099, 30749, 51834, 8969, 7169, 7293, 7375, 7451, 7458, 7154, 8533, 8869, 8529, 1518, 1438, 1385, 1370, 1358, 1586, 1608, 1616, 1687, 1693, 1721, 1840, 1882, 1918, 2002, 2027, 1100, 1604, 44, 376, 529, 511, 2100, 2421, 2485, 2572, 2581, 2694, 3668, 2072, 1876, 1357, 1405, 3624, 3717, 3798, 3827, 3863, 3952, 4011, 4148, 3893, 3513, 3753, 3300, 3409, 1173, 1590, 305, 1639, 2541, 1619, 448, 784, 193, 60069, 63859, 64614, 68237, 70286, 71057, 71264, 84152, 59315, 69757, 7254, 50872, 5971, 6502, 84954, 56174, 7438, 8644, 48304, 48774, 48780, 85414, 91500, 166635, 166528, 160980, 158872, 152081, 152077, 143385, 134853, 134130, 122924, 122922, 122904, 122886, 120466, 94864, 96610, 101864, 89745, 103249, 105504, 111759, 112556, 112852, 115149, 104841, 110102, 1527, 1347, 1200, 858, 1653, 172, 1909, 2001, 4720, 4022, 3555, 3535, 3499, 3510, 2081, 2085, 2278, 3156, 3022, 3108, 2723, 3429, 3174, 3000, 2707, 2490, 1680, 3683, 1299, 3741, 27773, 1281, 78499, 48394, 27611, 7361, 6350, 5782, 4973, 4878, 7099, 1276, 1261, 745, 678, 111, 1267, 913, 541, 1260, 1252, 1230, 1223, 1207, 1201, 1147, 1186, 1193, 1148, 3681, 3435, 3263, 3039, 2194, 4571, 81932, 82459, 80463, 68358, 64839, 31658, 7482, 6870, 6016, 1375, 1036, 1234, 1221, 1228, 1209, 57528, 59784, 56757, 55765, 57640, 57669, 58299, 55290, 59615, 58295, 55276, 55118, 54272, 53996, 53972, 53464, 53318, 53129, 53125, 52604, 51540, 51357, 60040, 55247, 60074, 71899, 71156, 71108, 69951, 69640, 69122, 68319, 68159, 68073, 67255, 66934, 65596, 64957, 64197, 63131, 62434, 60684, 49651, 27831, 27716, 27689, 26614, 26444, 8950, 8917, 27878, 8784, 8641, 8361, 8117, 7843, 7753, 7373, 7323, 7318, 30793, 47491, 47200, 46965, 46578, 45722, 44665, 44555, 44199, 44191, 44022, 38038, 37733, 37729, 37386, 36529, 36519, 34150, 73268, 33615, 33004, 32460, 38061, 73321, 86332, 73499, 128620, 122926, 122920, 122918, 122900, 122892, 118900, 117176, 116823, 116797, 114066, 112421, 112334, 112183, 111362, 135569, 139385, 7317, 185135, 180777, 180095, 177593, 176101, 171023, 168252, 166015, 164179, 162606, 162350, 107846, 161582, 159093, 158972, 158238, 157110, 157108, 155168, 150548, 148626, 145283, 144210, 142488, 141688, 140289, 160438, 73323, 106839, 88094, 87232, 86880, 86628, 86190, 85354, 84392, 83349, 81788, 80219, 79702, 79695, 79592, 79293, 78469, 77561, 76251, 76175, 76077, 74948, 74789, 74510, 88129, 88140, 90600, 106487, 106072, 104879, 104241, 103772, 103253, 102903, 102445, 102125, 99813, 99728, 98809, 98585, 97752, 96655, 96488, 96432, 95441, 92094, 91542, 91485, 98124, 34405, 1212, 1059, 1020, 1544, 1374, 1356, 1245, 1227, 778, 653, 555, 431, 442, 5418, 5266, 5120, 5008, 4816, 4728, 4383, 4327, 4262, 4007, 5574, 5608, 5669, 5679, 7147, 7018, 6888, 6807, 6787, 6709, 6548, 6378, 6373, 6300, 5995, 5944, 5903, 6440, 6287, 2409, 2184, 2410, 1961, 1924, 3896, 1729, 2411, 2420, 3751, 2412, 3785, 3462, 3275, 3257, 3081, 2953, 2918, 2951, 2422, 2706, 2423, 2428, 2418, 2446, 2453, 2465, 2458, 2463, 2416, 2468, 2455, 2407, 2320, 2321, 2315, 2328, 2335, 2354, 2355, 2369, 2371, 2372, 2374, 2375, 2393, 2394, 2396, 2413, 2491, 2672, 2687, 2699, 2709, 2668, 2710, 2719, 2720, 2722, 2302, 2733, 2746, 2643, 2642, 2513, 2518, 2539, 2548, 2550, 2555, 2558, 2605, 2606, 2614, 2622, 2496, 2294, 2040, 2279, 2034, 2036, 2037, 2041, 2044, 2052, 2060, 2065, 2082, 2088, 2053, 2092, 2026, 2015, 2754, 1970, 1971, 1972, 1973, 1991, 2016, 1994, 2003, 2004, 2014, 2287, 2206, 2227, 2232, 2243, 2244, 2248, 2249, 2255, 2261, 2263, 2266, 2267, 2245, 2097, 2171, 2167, 2108, 2110, 2111, 2118, 2123, 2133, 2169, 2134, 2140, 2144, 2148, 2153, 2788, 3483, 3484, 3497, 3500, 3501, 3505, 3526, 3534, 3536, 3548, 3550, 3551, 3584, 3515, 3476, 3393, 3394, 3395, 3396, 3397, 3398, 3400, 3401, 3477, 3421, 3424, 3454, 3466, 3471, 3418, 3387, 3594, 3622, 3745, 3752, 3754, 3763, 3770, 3784, 3802, 3825, 3826, 3835, 3837, 1963, 3797, 3608, 3743, 3662, 3685, 3686, 3692, 3693, 3699, 3701, 3704, 3839, 3705, 3706, 3708, 3712, 3698, 3370, 3361, 2936, 2968, 2995, 3016, 3017, 3031, 3032, 3035, 3005, 3040, 2915, 2900, 2793, 2802, 2804, 2806, 2808, 2822, 2836, 2857, 2860, 2867, 2870, 2883, 2888, 2898, 2840, 3048, 3248, 3254, 3258, 3238, 3269, 3301, 3308, 3316, 3324, 3355, 3264, 3225, 3219, 3213, 3056, 3063, 3064, 3070, 3072, 3082, 3087, 3101, 3104, 3113, 3146, 3190, 3203, 1921, 551, 558, 610, 611, 513, 486, 512, 810, 829, 832, 866, 879, 903, 906, 798, 785, 671, 674, 788, 742, 743, 761, 724, 911, 427, 107, 118, 173, 12, 48, 64, 372, 379, 407, 414, 420, 422, 295, 325, 328, 338, 921, 1588, 1591, 1593, 1603, 1614, 1645, 1648, 1658, 1663, 1665, 1679, 1583, 1461, 1474, 1479, 1485, 1489, 1499, 1550, 1551, 1556, 1562, 1566, 1569, 1542, 1457, 1681, 1689, 1855, 1862, 1881, 1888, 1891, 1848, 1894, 1906, 1911, 1919, 1688, 1845, 1831, 1690, 1702, 1717, 1718, 1722, 1747, 1748, 1754, 1779, 1783, 915, 1806, 1812, 1816, 1456, 1798, 1427, 1129, 1081, 1215, 1441, 931, 933, 965, 984, 1016, 1021, 1047, 1238, 1359, 1367, 1372, 1373, 1376, 1380, 1394, 1407, 1409, 1378, 1355, 1379, 1346, 1257, 1285, 1269, 1322, 1324, 1345, 1342, 1330, 1333, 1297, 1339, 4232, 4161, 4090, 4054, 4039, 4270, 4154, 4299, 4378, 4344, 4366, 4367, 4369, 4446, 4449, 4519, 4025, 4638, 4016, 3549, 3565, 3615, 3755, 3852, 3948, 3972, 3986, 3988, 3990, 3999, 4019, 4718, 5419, 5463, 5504, 5630, 5693, 5785, 6143, 6156, 6157, 6166, 6170, 6297, 6345, 6358, 5388, 4734, 4776, 4783, 4821, 4846, 4848, 4865, 4901, 4979, 4990, 5013, 5014, 5015, 5103, 5110, 5171, 5254, 5293, 5299, 5313, 5364, 1015, 1018, 1022, 1035, 1013, 1547, 1012, 1010, 2941, 3157, 3159, 3189, 3410, 3438, 2565, 2430, 2059, 3512, 2083, 2087, 2089, 2006, 2135, 86068, 87520, 88125, 79134, 85259, 88744, 90249, 88405, 82202, 81834, 81591, 81229, 80166, 79185, 81564, 91630, 103141, 102993, 102716, 102481, 99532, 91535, 97913, 96004, 95738, 95170, 95067, 94777, 94677, 94503, 93510, 96588, 78637, 59429, 59369, 58998, 58025, 56775, 59900, 54276, 53322, 53121, 52973, 52730, 51084, 50189, 103228, 76093, 73858, 73319, 73106, 72641, 61160, 69644, 69526, 68793, 68791, 64032, 117368, 134393, 134368, 133419, 132157, 130450, 126548, 122896, 119964, 119155, 119141, 117922, 117851, 117590, 117572, 117529, 135133, 135861, 173307, 168248, 167036, 166492, 164909, 160872, 160565, 149380, 135536, 148675, 143245, 142536, 140301, 139915, 139717, 139642, 138186, 138036, 136016, 135887, 115877, 115502, 107013, 106920, 106918, 106916, 106540, 106491, 105954, 105653, 105213, 104211, 103883, 103819, 103810, 103801, 103384, 103372, 105844, 115617, 107449, 108190, 114818, 114180, 112175, 112138, 111844, 111781, 111743, 108156, 111617, 111113, 110553, 110130, 109864, 109723, 109576, 108945, 108932, 63082, 47566, 2403, 2402, 2378, 2376, 2990, 2989, 2724, 47997, 38, 26340, 8946, 8574, 7701, 7573, 7570, 7569, 46972, 45672, 45447, 45186, 41566, 40815, 39715, 34162, 30825, 6503, 4621, 4545, 4489, 4085, 4040, 4005, 3984, 3697, 3638, 3635, 3633, 3868, 4701, 5796, 5219, 41997, 46976, 39183, 34437, 31410, 30707, 8622, 52281, 8464, 71464, 68536, 66097, 64575, 61323, 60766, 56788, 56782, 56171, 55820, 54503, 53519, 3006, 2160, 1952, 1953, 4017, 6711, 5673, 5617, 4036, 4903, 3181, 3265, 3822, 3030, 1884, 2912, 2730, 2726, 2686, 2579, 1960, 4235, 5333, 1859, 8370, 8228, 8012, 7932, 7924, 7587, 7123, 7069, 7064, 6989, 6920, 6857, 6790, 6773, 6721, 6387, 6234, 1809, 1711, 1050, 741, 334, 272, 175, 29, 1175, 1425, 1284, 1274, 1249, 1248, 1243, 1237, 1464, 1232, 1233, 1217, 1218, 35836, 57368, 47610, 31696, 5791, 61132, 132660, 102407, 61024, 86882, 5064, 4855, 3556, 2405, 122912, 187541, 176371, 187593, 122916, 2151, 2311, 2142, 2530, 2532, 2032, 2876, 1592, 3836, 3791, 3654, 3519, 3451, 3350, 2886, 3037, 808, 421, 238, 969, 1287, 1387, 1262, 1083, 27788, 27793, 31101, 31116, 31225, 31420, 27450, 27408, 8914, 26812, 33166, 8937, 8951, 26901, 8982, 8983, 26649, 26695, 26750, 8977, 43921, 33660, 39444, 40278, 40414, 40583, 39381, 41863, 42004, 43396, 8874, 43928, 41569, 33558, 38886, 36527, 37731, 37739, 34536, 8810, 6974, 6537, 6552, 6565, 6617, 6796, 6817, 6867, 6884, 6428, 5632, 5682, 5747, 5945, 6281, 5955, 6953, 7841, 7842, 7884, 8010, 8132, 7706, 8493, 8495, 8633, 8378, 6947, 7649, 6957, 43936, 6993, 6997, 7009, 7025, 7481, 7090, 7263, 61986, 61628, 61352, 61350, 61248, 61236, 61210, 61167, 61011, 60943, 60941, 60753, 60735, 58293, 58803, 59018, 59129, 62374, 60046, 60389, 60647, 60674, 59387, 62376, 62394, 62792, 65982, 67534, 68205, 65682, 70336, 71106, 71135, 69849, 65216, 64983, 62799, 62849, 63033, 63062, 63433, 64497, 64716, 64030, 49265, 49530, 49822, 48879, 49961, 50442, 51080, 51255, 51471, 51935, 50068, 52042, 44204, 44761, 45658, 46723, 47644, 47894, 48326, 48385, 48738, 47629, 44195, 52241, 52328, 55363, 55721, 55274, 55908, 56587, 56607, 56921, 56145, 55116, 52952, 53123, 53550, 53953, 54736, 54962, 54997, 55080, 55094, 36517, 1253, 1120, 1171, 1271, 1678, 1785, 1303, 1459, 1480, 428, 211, 5577, 23, 147, 635, 714, 851, 456, 481, 507, 2021, 3950, 3980, 4047, 3783, 3360, 3543, 4211, 5009, 5010, 5055, 5152, 5267, 5292, 5329, 4238, 4251, 4343, 4626, 4688, 4772, 4787, 5446, 2618, 2358, 2231, 2272, 2841, 2908, 3169, 3178, 3246, 3252, 3256, 3260, 3271, 3272, 3250, 3198, 2952, 3107, 3020, 3100, 3105, 4980, 7156, 3363, 7379, 26554, 98961, 87306, 64620, 26729, 1772, 2301, 953, 1204, 1939, 1792, 1945, 1242, 96821, 1231, 1099, 1363, 1353, 1361, 1393, 605, 612, 786, 1458, 1429, 1104, 78, 74, 194, 203, 471, 246, 1621, 1633, 1643, 1673, 1672, 1280, 1365, 1399, 1476, 1487, 2943, 1537, 1545, 1446, 1799, 2391, 2357, 2443, 2501, 2690, 2875, 1801, 2333, 2310, 1841, 2112, 249, 307, 308, 322, 28, 94, 613, 715, 805, 1027, 1056, 1177, 994, 446, 452, 385, 562, 580, 5449, 6242, 5146, 31184, 6618, 44974, 27801, 27728, 27193, 26606, 6567, 3997, 3270, 3066, 2794, 2735, 2269, 3347, 3362, 3766, 3861, 4220, 5312, 6662, 5093, 544, 585, 2342, 3019, 306, 685, 514, 121, 82, 228, 199, 55280, 54001, 65230, 59725, 61240, 56941, 7444, 8981, 111659, 111921, 112290, 115569, 116897, 125916, 128360, 136864, 103980, 71033, 85774, 86781, 89759, 93840, 96829, 97921, 100714, 101525, 87869, 7173, 4890, 6708, 6763, 3285, 3968, 2796, 2795, 2771, 2702, 2713, 2805, 2827, 2871, 3142, 3120, 3098, 2861, 2906, 2890, 2598, 2352, 2306, 2297, 2236, 2155, 2146, 2574, 2568, 2505, 2500, 2497, 2433, 2404, 3177, 3946, 3208, 4317, 4293, 4280, 4207, 4155, 4153, 4132, 4102, 4084, 4067, 4062, 4041, 4008, 4321, 4322, 4333, 4349, 4686, 4679, 4654, 4629, 4623, 4577, 4565, 4564, 4541, 3987, 4516, 4487, 4482, 4477, 4466, 4442, 4396, 4361, 4359, 4351, 4509, 3326, 3298, 3261, 3259, 3186, 3502, 3841, 3824, 3764, 3695, 3694, 3646, 3552, 459, 436, 433, 424, 418, 413, 408, 782, 639, 550, 144, 122, 227, 1667, 1513, 1488, 1976, 1975, 1835, 1810, 1726, 1191, 1468, 1453, 1431, 1343, 484, 519, 1105, 828, 57, 259, 833, 836, 889, 737, 18, 663, 3004, 3274, 3268, 3249, 3196, 2731, 2431, 2195, 2124, 2106, 3385, 2718, 2504, 5151, 5589, 5585, 5582, 5568, 5528, 5500, 5308, 5307, 5283, 5220, 53993, 33495, 7294, 4974, 4958, 4929, 4502, 4104, 1005, 934, 69, 1753, 1642, 1615, 1769, 1033, 2064, 2042, 1934, 1866, 1863, 1442, 1390, 68932, 69712, 72395, 82767, 63876, 79242, 47423, 45950, 51931, 53894, 140174, 140247, 140715, 145839, 146656, 137337, 163645, 166643, 171011, 159817, 96567, 132424, 112804, 96811, 97923, 100383, 117881, 108729, 106100, 2121, 391, 5108, 8966, 6765, 7160, 4975, 2942, 3969, 4474, 3844, 5882, 8371, 1320, 92475, 93326, 93114, 92427, 90522, 91094, 90746, 107338, 88911, 85796, 92046, 82848, 105250, 104913, 104283, 96606, 101072, 100498, 97304, 97225, 103171, 81562, 62336, 52885, 46862, 46062, 45880, 107565, 44719, 79224, 81018, 66335, 64278, 63312, 62644, 172461, 170705, 168492, 168254, 167370, 165969, 164280, 190183, 160569, 156607, 151759, 149406, 143969, 170875, 171701, 171759, 172013, 188301, 179073, 175781, 175743, 143859, 175707, 175693, 175661, 175485, 174737, 174403, 174141, 174055, 175705, 142997, 142961, 142602, 127146, 122898, 114335, 113374, 111732, 115203, 134170, 142448, 142074, 140928, 139644, 138208, 137857, 128695, 136305, 136018, 135456, 135143, 134515, 136564, 1289, 1273, 1251, 2732, 2553, 2164, 2925, 909, 8379, 8253, 8235, 8157, 8143, 7748, 7700, 7396, 7327, 7247, 7206, 7063, 8879, 8928, 26258, 37545, 33781, 32898, 32875, 32659, 6975, 32657, 27513, 27156, 26422, 26326, 8974, 4658, 4399, 4282, 3730, 3415, 3221, 4914, 6663, 6666, 6239, 5932, 5810, 5021, 5004, 4928, 3799, 3814, 3614, 3430, 4241, 3918, 3388, 4267, 4255, 4215, 3959, 3917, 2661, 2752, 2664, 2634, 2615, 2613, 4291, 3148, 3115, 2978, 52722, 26680, 8623, 34338, 7983, 7163, 7040, 7007, 7757, 39414, 60487, 59306, 57532, 48877, 45666, 42723, 7004, 7000, 6880, 5040, 4992, 4971, 4876, 4713, 4591, 4508, 4496, 4464, 4437, 5339, 6873, 6793, 6786, 6659, 6371, 6323, 5712, 5672, 5505, 4340, 1014, 1011, 781, 1301, 1244, 1235, 2587, 522, 482, 479, 387, 1350, 2265, 2159, 2183, 2322, 2356, 2363, 2554, 2533, 2524, 2454, 2408, 2380, 2379, 1999, 1997, 1873, 65514, 56801, 54999, 54995, 69481, 110501, 93838, 93721, 86892, 52245, 51077, 50794, 33646, 1125, 1982, 916, 748, 1293, 2202, 2289, 2102, 2476, 2429, 2067, 1670, 1646, 1564, 2009, 1858, 1912, 3507, 3494, 3446, 3334, 3426, 3937, 3901, 3811, 3774, 3773, 3769, 3593, 3643, 3632, 3628, 2917, 2922, 2681, 2759, 2935, 3045, 2961, 518, 473, 861, 728, 707, 198, 897, 1277, 1254, 1268, 1498, 1416, 1388, 955, 951, 942, 1184, 280, 1944, 2020, 2075, 1696, 1631, 1797, 3230, 6460, 1428, 3504, 3498, 3461, 3075, 1151, 928, 2739, 90866, 87430, 89492, 106002, 104863, 103341, 103042, 86911, 102123, 99149, 96861, 80693, 68848, 68554, 67734, 63072, 60126, 60072, 83369, 82461, 79357, 78105, 74228, 107406, 161131, 158966, 143355, 142222, 135518, 166534, 168250, 187595, 185031, 184471, 183611, 182715, 179819, 179401, 176601, 175303, 174053, 173925, 172591, 171763, 170827, 128512, 114935, 114678, 114662, 113741, 111360, 115210, 115680, 107348, 118696, 89864, 59501, 6058, 49130, 48043, 49649, 50804, 51086, 6564, 6541, 27808, 27706, 27660, 7387, 7022, 7980, 7132, 30810, 33779, 8376, 27904, 27846, 8873, 6104, 86504, 89753, 89904, 92494, 92535, 95858, 86290, 102217, 104069, 98491, 53000, 54259, 77800, 45728, 67997, 64285, 1202, 3088, 4105, 1965, 4128, 4023, 5026, 4964, 4773, 4448, 4380, 3041, 2905, 5225, 7360, 5291, 8832, 8795, 8645, 8093, 8014, 7982, 7930, 7743, 7411, 42632, 34072, 33683, 27869, 27523, 27266, 27020, 26504, 6188, 5954, 5878, 6214, 5690, 5417, 6218, 7235, 7162, 7139, 6944, 6936, 6385, 6331, 6296, 968, 1096, 365, 2313, 1889, 1762, 3262, 3444, 4203, 4611, 4585, 4581, 4572, 4537, 4499, 4465, 4231, 4158, 4149, 4079, 4616, 3201, 3074, 3029, 2966, 2956, 7127, 7048, 7046, 7028, 7027, 7015, 6996, 6979, 7325, 8024, 7766, 7647, 7624, 7493, 8158, 6832, 5644, 5548, 5265, 5023, 6754, 6636, 6313, 6124, 6025, 6022, 2257, 2401, 255, 535, 523, 1956, 2316, 2312, 1541, 1216, 1382, 1326, 5628, 8605, 8604, 47999, 8968, 8947, 8910, 27705, 27539, 27473, 26871, 26778, 26712, 8985, 8866, 8677, 7566, 7541, 7454, 8366, 7346, 7320, 8861, 8807, 8781, 30822, 33154, 45501, 45431, 44788, 44709, 44004, 42738, 42718, 45720, 45726, 45928, 47978, 47970, 42018, 46948, 46322, 41724, 41573, 33672, 34153, 32598, 33437, 31049, 34542, 41571, 40959, 40732, 7256, 5049, 5444, 4969, 5400, 4639, 4388, 4387, 4372, 5541, 4677, 4877, 4681, 4823, 5553, 6755, 6753, 6879, 6707, 6595, 7137, 6893, 7010, 6939, 6383, 6193, 59220, 80860, 79057, 78703, 78467, 76751, 86833, 86377, 86293, 85780, 84772, 74946, 83803, 81910, 83134, 74668, 74508, 69904, 69784, 69524, 69069, 68952, 68659, 69394, 74154, 73023, 72591, 72489, 71282, 70990, 70521, 70492, 72167, 114762, 90576, 89470, 89087, 93287, 96110, 95875, 95624, 92420, 94959, 95218, 48342, 67618, 54734, 54281, 54121, 54116, 54004, 54881, 56251, 56152, 55830, 55620, 55282, 55253, 55232, 55190, 55112, 55052, 55267, 53435, 50740, 50685, 50658, 49772, 50806, 49274, 48696, 56336, 52975, 52767, 52458, 52435, 51884, 51709, 52287, 56339, 56379, 62999, 62956, 62293, 62155, 60514, 67408, 67267, 67087, 66665, 60363, 66198, 65188, 64622, 58162, 58107, 58078, 57951, 58347, 58839, 59731, 59258, 59126, 59440, 4356, 1381, 1292, 1019, 1017, 1703, 1515, 1635, 932, 875, 3452, 3554, 3553, 3077, 3653, 4069, 4068, 4015, 4124, 4326, 4141, 3981, 3786, 3707, 3978, 3675, 2950, 2385, 2340, 2125, 2334, 2728, 2803, 2881, 2471, 2662, 2567, 2560, 4744, 4880, 3359, 3152, 1962, 1959, 1955, 3468, 91077, 1172, 1300, 2136, 87485, 92509, 93272, 69278, 71518, 72226, 74647, 75805, 76293, 99106, 101612, 113378, 114074, 123947, 131013, 138204, 149354, 151739, 127202, 112788, 112450, 105037, 109483, 111320, 128520, 55768, 68135, 53460, 44193, 45221, 47518, 47122, 50601, 48414, 8183, 7234, 7419, 7889, 7158, 8154, 8804, 8340, 8341, 8838, 26350, 26578, 27721, 7087, 6235, 6244, 6270, 6301, 6305, 6591, 6791, 6852, 6858, 31522, 52967, 55069, 55444, 55814, 57147, 58103, 5867, 58154, 50274, 39292, 44937, 48698, 5812, 1185, 926, 949, 1041, 2010, 4103, 4427, 5304, 5341, 5434, 4546, 5300, 3307, 2360, 2594, 3089, 7001, 6303, 7669, 39446, 81535, 72129, 63436, 55577, 2318, 2792, 20, 2659, 3197, 3266, 3576, 3425, 164, 1189, 1192, 60030, 69654, 75395, 78266, 91974, 93297, 96691, 96917, 98361, 100810, 103075, 103688, 78349, 80363, 80831, 81417, 82041, 84601, 85397, 90405, 90469, 84189, 4887, 6952, 6059, 4386, 4989, 5065, 5094, 5296, 5414, 5106, 6586, 6593, 6686, 6687, 6702, 6750, 6752, 6764, 6886, 6887, 6946, 6949, 6958, 7142, 6566, 5803, 5874, 5900, 6006, 6014, 6249, 6338, 6484, 6536, 6550, 2381, 2383, 2384, 27397, 55442, 58303, 3155, 1091, 1135, 1132, 1131, 900, 1187, 987, 971, 948, 1296, 1295, 1305, 1290, 1286, 1414, 1395, 1194, 1190, 214, 287, 321, 14, 154, 55, 324, 299, 331, 326, 726, 722, 691, 369, 406, 1596, 1624, 1683, 1694, 1730, 1519, 53, 1140, 74553, 72356, 3910, 7312, 6464, 26974, 74795, 83177, 102984, 102747, 103602, 104339, 106594, 105540, 105746, 106927, 102686, 104875, 101283, 100507, 100390, 99853, 99130, 99122, 99117, 98279, 97836, 96935, 107951, 96608, 102378, 108078, 113453, 121007, 120813, 119714, 118894, 118862, 118834, 118572, 118530, 118270, 117109, 116738, 116718, 115111, 95843, 113252, 111146, 109596, 109241, 108949, 116817, 95633, 91666, 83910, 82854, 81537, 81087, 80727, 79897, 79684, 78620, 78142, 77688, 76301, 76143, 74698, 74683, 74342, 73822, 73160, 73042, 73015, 83969, 84246, 84944, 94661, 93022, 93006, 92643, 121097, 91386, 91355, 90717, 89898, 88812, 88785, 88746, 88069, 87834, 86298, 86059, 85881, 85295, 84512, 121338, 127134, 121469, 157775, 157296, 156781, 156025, 155589, 153408, 153386, 150554, 149566, 149508, 158398, 149352, 148775, 148632, 147936, 147410, 146986, 146684, 146244, 145491, 144222, 143559, 143031, 142831, 142550, 149350, 158882, 159069, 160567, 184791, 184349, 182731, 182299, 182297, 182293, 181065, 179211, 177765, 177185, 176805, 176621, 174681, 173253, 172321, 171811, 171751, 170993, 170837, 169912, 167854, 167772, 167380, 167018, 164707, 164226, 164200, 163527, 142444, 121342, 142196, 141830, 131439, 131130, 131104, 131098, 130520, 130518, 130452, 129354, 129011, 128968, 128944, 128852, 128594, 131610, 128089, 128087, 72701, 127052, 126921, 126577, 126088, 125974, 125970, 124404, 124273, 122092, 121781, 128366, 131826, 132153, 132422, 141646, 141544, 141513, 140711, 140561, 140541, 140481, 140133, 139994, 139640, 139157, 136834, 136503, 136359, 136355, 136353, 136341, 135937, 135777, 134847, 134334, 134004, 133879, 133867, 133712, 132800, 132584, 132496, 141928, 72692, 72178, 3606, 3604, 3599, 3315, 3097, 3061, 3991, 5621, 5529, 5480, 5092, 4899, 4300, 950, 947, 946, 945, 936, 918, 905, 72624, 901, 6271, 55269, 53578, 53355, 53280, 51575, 51167, 50999, 50613, 49735, 49013, 48982, 48520, 47736, 47725, 46105, 44851, 44777, 44773, 70697, 69720, 69469, 69304, 69211, 67888, 66943, 66798, 65588, 64116, 62008, 60737, 60289, 58291, 48649, 42725, 8978, 8814, 8372, 8238, 7381, 42761, 7297, 25887, 7209, 6783, 6650, 6604, 6402, 7067, 26183, 26265, 42013, 41828, 26184, 40339, 37444, 37384, 35807, 34332, 34312, 33830, 40962, 33090, 26645, 27826, 31851, 27619, 31925, 32596, 26429, 32243, 32060, 1034, 896, 1144, 1366, 1411, 1417, 791, 1137, 1116, 766, 68, 81, 116, 735, 85, 617, 581, 3267, 3182, 2992, 3013, 3018, 3153, 3810, 3840, 3563, 3768, 3727, 2456, 2419, 2522, 2298, 2625, 2790, 2817, 2784, 2868, 2782, 2651, 4304, 6678, 6731, 6744, 6638, 6820, 6963, 6629, 6203, 6219, 6283, 6620, 6327, 6375, 6395, 6461, 8426, 8501, 8507, 8581, 27317, 27873, 7118, 7308, 8266, 7561, 7650, 7802, 8016, 8147, 7492, 5749, 4438, 4587, 4599, 4624, 4645, 4661, 4678, 4774, 4800, 4092, 4109, 4254, 4316, 4214, 4850, 5479, 5588, 5640, 5650, 5438, 4909, 4987, 5165, 5294, 5346, 2138, 533, 384, 464, 1760, 2117, 2122, 1974, 1981, 1771, 1321, 1337, 1340, 1241, 54190, 2398, 2114, 1606, 2103, 4732, 4954, 5027, 5072, 5246, 5247, 3071, 3690, 4126, 6367, 5619, 5792, 6051, 6288, 2280, 2600, 1529, 1659, 1942, 3819, 5109, 5420, 79139, 71745, 2262, 1958, 5380, 6183, 6785, 3244, 3179, 2337, 233, 59022, 58972, 57522, 7367, 50912, 4873, 91653, 91126, 90890, 88108, 87194, 91671, 91976, 96728, 134881, 132046, 86815, 116799, 106766, 99764, 86014, 70728, 69140, 65802, 65088, 64114, 62553, 65577, 81819, 81156, 80586, 80572, 79572, 77427, 77206, 6169, 6030, 6060, 6012, 7036, 6579, 7050, 7034, 4676, 7380, 4476, 4663, 4740, 5460, 4941, 4912, 69988, 80584, 85401, 93805, 94015, 94150, 94833, 54780, 8643, 8796, 25937, 32300, 53466, 45175, 938, 2837, 3746, 3719, 3325, 2551, 3163, 1833, 2325, 74324, 73881, 72104, 75341, 74727, 64993, 79333, 66371, 67923, 69134, 69529, 69685, 80124, 88235, 88345, 91261, 93790, 86347, 84156, 84844, 85316, 85736, 86066, 86320, 48872, 38159, 42191, 60904, 63515, 58554, 56060, 57183, 57504, 58425, 95311, 141816, 141818, 141820, 141836, 141844, 142020, 143511, 141810, 145994, 147196, 147250, 147282, 147286, 147300, 147326, 147328, 147330, 146028, 140265, 140038, 138835, 129514, 130970, 130976, 130978, 131237, 133716, 134041, 134095, 134109, 134184, 134252, 134326, 134849, 136445, 136447, 127098, 151769, 152591, 172793, 172825, 172909, 173351, 173355, 173535, 173619, 173963, 172637, 174551, 175387, 175397, 175401, 175431, 175435, 178613, 179133, 175293, 172589, 172587, 172585, 158402, 159811, 163072, 163112, 163134, 163386, 163925, 165959, 166183, 170411, 170597, 170777, 171749, 172577, 172583, 126430, 126426, 101962, 102602, 102666, 103235, 104780, 101088, 105593, 100553, 100302, 95313, 95377, 95654, 96020, 96373, 98604, 99145, 107159, 107408, 117444, 118166, 118888, 118896, 118985, 120138, 120478, 120625, 126090, 116411, 95175, 107410, 107412, 108540, 108727, 108981, 109633, 110586, 111622, 36401, 3306, 3310, 3592, 3629, 3677, 3687, 2495, 2931, 3742, 4325, 3821, 2131, 665, 935, 36363, 213, 1111, 1178, 1354, 4788, 8638, 8656, 8511, 7347, 7371, 8025, 8033, 8197, 9010, 26082, 26150, 32892, 33124, 30803, 26236, 26237, 26347, 26471, 26587, 26662, 26849, 26903, 27134, 27803, 27815, 27834, 5373, 5888, 6643, 5889, 6777, 6985, 6433, 6187, 5912, 99636, 5051, 5034, 5011, 4994, 5135, 4889, 4976, 6049, 5309, 5881, 5303, 5450, 5391, 5316, 5466, 4159, 156, 1684, 4024, 3795, 2585, 528, 346, 283, 7096, 26171, 40870, 87867, 87483, 87529, 91323, 85022, 85367, 92264, 82852, 93270, 93443, 100194, 101142, 100083, 104218, 102720, 99007, 93831, 94478, 94953, 95720, 80139, 96616, 97172, 98083, 79428, 61255, 62439, 63479, 104644, 55872, 56805, 59143, 58156, 65585, 73929, 74275, 74532, 78174, 78209, 71838, 69436, 70565, 70641, 71205, 71668, 104925, 162602, 161580, 162344, 162478, 165103, 165483, 165645, 165671, 165843, 166461, 167634, 167746, 165947, 168144, 161024, 160289, 155509, 155812, 156609, 157312, 157699, 159161, 159441, 159755, 160080, 160271, 158813, 168326, 168418, 176329, 178323, 179427, 179953, 180265, 175577, 181659, 182749, 183197, 183227, 183959, 184015, 55261, 181139, 174815, 174045, 173255, 168632, 168846, 170357, 170399, 170401, 170813, 170817, 170897, 170937, 170957, 171251, 171631, 171867, 171891, 172215, 172547, 148956, 116977, 118930, 121372, 121374, 121715, 119153, 109282, 110669, 110771, 110773, 111375, 112497, 135436, 136443, 136471, 135137, 136511, 142422, 148652, 136598, 134861, 127116, 127152, 127390, 128097, 128099, 128914, 128975, 129737, 130087, 184257, 123200, 55245, 54732, 4649, 4247, 3979, 4228, 2447, 1856, 4900, 40581, 44840, 44972, 42007, 34520, 34530, 32298, 47640, 48322, 49396, 5942, 6003, 5025, 5564, 5363, 5501, 5524, 7439, 8531, 6482, 7225, 7285, 2749, 2475, 3099, 2844, 2969, 2764, 1735, 3103, 1829, 1897, 2132, 2166, 2331, 3217, 4003, 4063, 4083, 4130, 3831, 3251, 3296, 3537, 3546, 779, 71, 1589, 1600, 1043, 127198, 141718, 167732, 2772, 487, 4792, 62383, 656, 73, 95105, 99112, 103984, 85020, 165551, 130578, 131023, 131714, 135532, 136562, 136666, 138210, 141004, 128488, 109846, 110718, 110730, 112868, 114184, 114795, 108689, 117533, 117887, 120635, 127184, 66511, 46337, 71530, 70599, 52319, 115122, 112515, 144976, 121231, 77866, 97306, 96737, 95088, 81782, 112171, 143458, 69306, 107630, 100882, 99437, 98607, 101112, 110330, 122890, 117466, 112623, 110882, 86721, 84952, 79553, 89190, 91470, 95761, 95690, 94931, 93855, 92694, 91947, 91690, 90403, 127096, 162082, 161966, 161634, 160563, 159717, 159415, 158783, 156387, 162578, 168266, 167790, 164881, 156371, 155064, 152970, 139855, 135567, 133771, 133217, 131920, 131749, 130490, 141408, 142420, 152284, 152091, 152083, 151695, 151455, 149902, 149830, 149146, 149144, 147142, 142509, 142456, 78218, 58301, 4864, 4738, 4082, 3342, 5088, 7265, 7008, 6902, 501, 1844, 65642, 65130, 63276, 67695, 75985, 73488, 71520, 71429, 71304, 69516, 8254, 33201, 27482, 27022, 26681, 40148, 55278, 43836, 50842, 45440, 1066, 6093, 5159, 37830, 5959, 5284, 5969, 5992, 5970, 5508, 4168, 6251, 44694, 27731, 48082, 6774, 6291, 26776, 8973, 7773, 3067, 567, 390, 2729, 1318, 1554, 2798, 4037, 4066, 4812, 3812, 4613, 4553, 4467, 4634, 3102, 3327, 893, 393, 1483, 1422, 132, 188, 2330, 2940, 1949, 6986, 6987, 7171, 7762, 26084, 5385, 3679, 5177, 2582, 59103, 2924, 8640, 4822, 4795, 4836, 4799, 4866, 4857, 4535, 4727, 4368, 4534, 4703, 4719, 4736, 5187, 5256, 5282, 5338, 5357, 4339, 5358, 5107, 4991, 4921, 5016, 5102, 4337, 3737, 3873, 3906, 3684, 3557, 3597, 3983, 4187, 4225, 4234, 4243, 4259, 4265, 4167, 4056, 3985, 3998, 4031, 4035, 4042, 26172, 26865, 27821, 31700, 32017, 7161, 7324, 8121, 8199, 43917, 44399, 47044, 49524, 49910, 3372, 42730, 34334, 34534, 37727, 39307, 42009, 5873, 5879, 5899, 5947, 6185, 5435, 5506, 5563, 5611, 5699, 6213, 6808, 6950, 7076, 6669, 6246, 6279, 6299, 6448, 6386, 2561, 373, 2775, 2819, 2889, 2590, 2682, 3185, 2996, 3011, 3055, 3093, 3117, 1661, 1465, 1344, 1401, 2077, 2344, 1727, 2070, 1950, 1957, 36525, 32289, 8827, 103606, 78316, 7316, 7255, 6619, 6332, 27416, 98243, 160718, 1334, 2038, 2091, 813, 840, 885, 1432, 9, 75, 634, 85885, 81456, 36535, 56715, 64034, 100843, 138396, 152270, 173145, 177615, 179709, 133780, 101973, 105355, 112454, 130634, 86644, 2880, 2879, 3618, 3286, 3287, 1516, 2734, 2750, 2779, 2511, 3076, 3028, 2863, 2970, 2946, 3096, 2361, 2349, 2290, 2247, 2239, 2130, 5847, 5788, 5637, 4784, 6509, 1948, 31038, 26313, 8614, 8571, 8128, 7107, 7089, 6684, 6658, 3467, 3341, 3283, 3224, 3223, 3200, 3167, 3141, 3134, 3130, 3473, 3492, 4205, 3506, 3503, 869, 764, 1078, 425, 1836, 1162, 1264, 2392, 55391, 66320, 27674, 2531, 2818, 2789, 2769, 2748, 2745, 2051, 2126, 2367, 2364, 2314, 2252, 2210, 2162, 2977, 2986, 4055, 3877, 3864, 4450, 6538, 6322, 6319, 6250, 3858, 4735, 3357, 3649, 3616, 3572, 1979, 990, 718, 242, 1627, 1969, 1713, 1163, 1107, 5643, 45732, 1837, 1821, 4440, 3404, 5485, 5415, 5527, 5530, 5993, 6480, 4406, 33564, 26131, 26078, 7934, 7333, 4951, 4936, 5222, 4867, 4373, 4193, 4142, 5472, 6568, 7045, 7060, 7080, 7614, 8008, 5941, 6005, 6252, 6324, 6339, 2084, 2017, 1051, 1454, 33880, 39427, 43904, 47382, 44613, 8911, 8362, 2526, 5410, 7259, 35957, 34336, 40826, 25746, 39449, 25750, 25771, 25797, 25827, 25856, 25906, 27772, 33669, 31297, 33499, 42015, 48412, 48593, 49389, 9008, 51925, 51939, 52694, 46974, 43560, 45081, 42011, 6624, 6856, 6212, 6412, 6429, 6483, 8600, 8609, 8695, 8860, 8948, 8718, 7728, 7065, 7078, 7121, 7164, 7215, 7222, 7243, 7302, 7366, 7369, 7054, 86487, 89804, 89939, 90647, 80126, 83132, 123545, 93008, 95558, 98154, 78574, 77846, 60161, 61406, 63853, 56176, 71970, 72731, 72733, 65261, 66297, 67788, 70159, 1929, 1931, 1936, 1938, 3801, 3909, 3964, 3364, 3564, 5264, 5387, 4920, 2176, 2013, 2847, 33903, 6380, 5665, 725, 453, 169, 4032, 4052, 4133, 4146, 4152, 4157, 4160, 4178, 3925, 3947, 3955, 3992, 3993, 4389, 4452, 4628, 4640, 4642, 4644, 4699, 4723, 4770, 4439, 4407, 4275, 4305, 4307, 4313, 4350, 3915, 3521, 3323, 3474, 3150, 3158, 4811, 3761, 3862, 3879, 3888, 3895, 3747, 3598, 4815, 6341, 6551, 6335, 6571, 6572, 6588, 6645, 6679, 6688, 6334, 6330, 5999, 6002, 6041, 6062, 6067, 6192, 6215, 6217, 6264, 6285, 6294, 7449, 7698, 8042, 7354, 7352, 6881, 6890, 6932, 6969, 6971, 6978, 7038, 7264, 7299, 5046, 5062, 5083, 5095, 5155, 5298, 5131, 4826, 4849, 4879, 4888, 4898, 4911, 4919, 4959, 4978, 5323, 5325, 5646, 5666, 5668, 5680, 5684, 5772, 5809, 5818, 5615, 5347, 5379, 5421, 5423, 5425, 5427, 5486, 5498, 5522, 5609, 5612, 3078, 1437, 1447, 166, 97, 600, 760, 2563, 2607, 2691, 2474, 2696, 2971, 2976, 3003, 2765, 2295, 1695, 1827, 1649, 1546, 1598, 1611, 2181, 2025, 2022, 1941, 2457, 2534, 3573, 3726, 1582, 162968, 162982, 164917, 166291, 165639, 161594, 168090, 168218, 165635, 157369, 148978, 127212, 170907, 158035, 178827, 172705, 193587, 193583, 193581, 193579, 193573, 193571, 193567, 193565, 191005, 189333, 184641, 183911, 181413, 180987, 180985, 180297, 178111, 177939, 177285, 175585, 175475, 174479, 173235, 180497, 193585, 122906, 84187, 74754, 68959, 70533, 109848, 117895, 109578, 103210, 104303, 106873, 2799, 5804, 1685, 1767, 3068, 2208, 2346, 2527, 4813, 5540, 5214, 5493, 5497, 5499, 5039, 3516, 3711, 3927, 952, 2035, 7044, 7844, 7976, 7981, 4785, 5244, 5570, 5909, 6368, 8491, 8607, 33896, 37240, 39869, 33421, 46572, 49263, 49932, 33138, 32387, 25788, 25825, 26122, 26840, 27592, 27850, 27865, 27879, 27912, 31364, 8582, 2557, 2810, 3091, 3627, 1951, 2967, 3469, 2436, 269, 496, 668, 99, 72, 229, 178, 155, 148, 26116, 1502, 1392, 1755, 2744, 3436, 2575, 4808, 4932, 3894, 3932, 4174, 5607, 1306, 3129, 4608, 2674, 2670, 2815, 8833, 8532, 45210, 57243, 56274, 5670, 731, 698, 1055, 2165, 4722, 5610, 5139, 50802, 62299, 27685, 45106, 34321, 2147, 2024, 3528, 3470, 3445, 3402, 3834, 3725, 3724, 3682, 2983, 3036, 3329, 3214, 3194, 3138, 574, 679, 49, 461, 1312, 1176, 58332, 54372, 59604, 27368, 83601, 79008, 67295, 81132, 27075, 8815, 5949, 71462, 179817, 140956, 185029, 100611, 106642, 189547, 117192, 77795, 117646, 147382, 184053, 180031, 179511, 166203, 159779, 150596, 147384, 147380, 147378, 147376, 147374, 147372, 146662, 119167, 128842, 130444, 140359, 123553, 4625, 51562, 56915, 62836, 65651, 62834, 7810, 7812, 7811, 34397, 40697, 92439, 106144, 107314, 87192, 87234, 161922, 168366, 170697, 174909, 175197, 182823, 183897, 188751, 113573, 43679, 89582, 86142, 57274, 83, 55451, 3963, 3422, 927, 2350, 2382, 2373, 2473, 2477, 2525, 2152, 1937, 1867, 1875, 2056, 3132, 6425, 3165, 3389, 3392, 3524, 3529, 3406, 3417, 3432, 3433, 3434, 3431, 2741, 2786, 2535, 2537, 3014, 2816, 1731, 517, 564, 504, 438, 444, 809, 870, 692, 429, 275, 1581, 1671, 1677, 1686, 1599, 1602, 1626, 1085, 1126, 1007, 7319, 4749, 5047, 8880, 54768, 55020, 55292, 61348, 61246, 56156, 31221, 46850, 46335, 41716, 37380, 36708, 3054, 1752, 2296, 4219, 60937, 62344, 62437, 64231, 63540, 1430, 4605, 4338, 5248, 3095, 3090, 25773, 27820, 27776, 27768, 26375, 25841, 9018, 27882, 32770, 32632, 32584, 32022, 31702, 31692, 31610, 31437, 30846, 30818, 27899, 5382, 8364, 6724, 6639, 6306, 8044, 7311, 7216, 7072, 7056, 7013, 2469, 59014, 62250, 26732, 5710, 6290, 26322, 8363, 97860, 95949, 96448, 97168, 101531, 103137, 5523, 95307, 66744, 81831, 91483, 91628, 2205, 55854, 2747, 3496, 2327, 3042, 2633, 1130, 4544, 4782, 5584, 5456, 3688, 4233, 4229, 3843, 45028, 37720, 32666, 51088, 6695, 6625, 6938, 6523, 6298, 7103, 7448, 63, 1236, 2514, 2432, 2515, 2984, 1655, 1887, 85342, 38304, 55241, 55553, 52715, 34330, 8626, 42728, 42732, 43556, 43871, 43932, 43919, 37853, 40946, 41769, 44397, 38798, 39231, 39435, 40851, 48161, 48596, 44731, 45208, 45442, 45662, 33158, 30883, 30894, 31114, 31223, 31427, 31431, 31445, 31867, 32009, 32011, 32019, 8939, 27434, 27790, 27816, 27837, 27839, 34271, 34532, 36509, 36533, 37477, 34129, 32589, 33148, 33164, 33639, 33815, 49220, 66509, 67186, 67197, 61705, 62081, 62511, 73515, 78893, 81512, 70301, 70334, 71252, 71254, 71823, 59985, 51698, 51933, 51937, 52283, 52712, 53127, 51412, 49276, 49284, 49793, 50005, 50158, 50445, 50798, 50923, 51082, 57326, 57526, 58105, 58627, 58876, 54256, 55995, 8918, 8916, 4789, 7258, 7261, 7262, 7150, 6862, 6951, 6959, 6615, 7376, 8799, 8830, 8835, 8836, 8864, 8912, 7440, 8369, 8530, 7257, 5458, 5478, 5572, 5573, 6374, 6013, 6057, 6040, 6186, 78103, 134214, 136912, 162600, 178061, 183011, 118198, 2566, 2050, 3672, 577, 42, 917, 1460, 1495, 1707, 1826, 1998, 4803, 4329, 4498, 4945, 4916, 4917, 4946, 4947, 4957, 4852, 81786, 118700, 3566, 2919, 547, 3106, 27320, 7486, 8327, 83613, 90888, 80969, 61026, 68486, 80615, 123, 757, 4956, 5279, 120799, 82169, 151763, 82053, 72605, 73431, 75813, 77667, 78039, 78088, 85056, 88699, 88954, 89047, 89840, 90057, 90430, 90439, 90531, 84637, 84942, 85131, 85510, 86295, 86835, 86960, 87298, 58315, 69606, 70361, 65810, 66171, 109042, 109673, 110297, 110350, 111364, 112070, 160954, 169984, 173941, 175569, 184253, 185435, 143365, 143367, 146210, 148888, 108928, 107953, 95207, 95309, 95583, 95873, 96411, 96417, 94780, 91622, 91978, 92008, 92507, 93363, 93512, 93563, 93766, 94266, 98239, 103539, 103624, 103655, 104243, 105351, 99750, 99910, 100163, 101025, 101076, 101362, 102033, 102684, 80862, 51037, 32213, 33085, 27478, 47254, 47810, 38294, 39400, 26686, 4470, 4531, 7016, 5784, 6983, 142115, 58309, 26524, 44633, 4217, 26366, 5319, 48883, 44929, 2907, 3929, 4480, 1739, 146024, 121171, 131656, 140725, 4711, 5820, 4529, 6027, 7564, 7815, 8011, 8015, 6337, 6370, 6713, 5137, 128, 2348, 2766, 2859, 294, 7879, 8535, 988, 1415, 7303, 2445, 2377, 1807, 2240, 3733, 3807, 388, 2812, 476, 2178, 2182, 1964, 2829, 1791, 2630, 2593, 7362, 7236, 7321, 7646, 7894, 7846, 7845, 7228, 7368, 6794, 6715, 6868, 6872, 7117, 7024, 8142, 8225, 27618, 27604, 27311, 26870, 26736, 26629, 26523, 26492, 26242, 31193, 30745, 27822, 8578, 8967, 8241, 8906, 8831, 5080, 5076, 5127, 5401, 5452, 4683, 4533, 4771, 4748, 6220, 6196, 6379, 6559, 6405, 5667, 5569, 5556, 6664, 5853, 5833, 31909, 60979, 60538, 60522, 60291, 60037, 59727, 65126, 56012, 58870, 57910, 57536, 66427, 66783, 78041, 77364, 74851, 79274, 80846, 74685, 69275, 69251, 70994, 74075, 71500, 71379, 71211, 54785, 42285, 40723, 38992, 44828, 43549, 37475, 33834, 33132, 37382, 34323, 51498, 51091, 54648, 53468, 50800, 50440, 45361, 50147, 1255, 1327, 1993, 1992, 1503, 1497, 886, 619, 3511, 3696, 3676, 3652, 3235, 4224, 4143, 4248, 4030, 3908, 3857, 3938, 2448, 2170, 2846, 2498, 2974, 2517, 3384, 3302, 3914, 3192, 3794, 3480, 3728, 2624, 3046, 3038, 2964, 2937, 2824, 5272, 5258, 5241, 5147, 6254, 6122, 5938, 5884, 5745, 5723, 5603, 4285, 4116, 4061, 4809, 4384, 4345, 4334, 1123, 298, 556, 1904, 2323, 2073, 2069, 2212, 1594, 1574, 1571, 1533, 1406, 1167, 107069, 73266, 86817, 91079, 70984, 60293, 71619, 113207, 4091, 6086, 5876, 3689, 3767, 3771, 3525, 4010, 4009, 4043, 4110, 4412, 4443, 4459, 4000, 3833, 3846, 3806, 3926, 3928, 3930, 3957, 3971, 3974, 2903, 3015, 2902, 2852, 2866, 3313, 3331, 3345, 3368, 3161, 4473, 4492, 31923, 34528, 37736, 7619, 8959, 60760, 48416, 42418, 43460, 43869, 46967, 47261, 47950, 5428, 5462, 5543, 5544, 4506, 4522, 4709, 4953, 4966, 5638, 1128, 1389, 963, 1008, 2347, 2365, 2400, 2163, 2241, 2259, 2286, 2460, 2462, 2120, 1660, 1983, 1984, 2095, 2098, 2057, 1995, 2055, 2043, 6453, 26704, 6125, 2494, 2439, 2549, 2660, 1699, 2066, 3559, 3634, 3713, 3738, 3849, 2988, 3007, 2932, 129, 341, 102007, 68597, 33677, 4830, 8383, 7720, 97470, 96121, 165549, 130576, 129937, 127323, 115231, 113345, 92192, 80839, 87522, 3871, 3086, 2828, 2149, 3412, 3544, 3710, 3667, 2736, 3043, 499, 470, 278, 1440, 998, 169034, 160848, 171765, 61729, 62113, 58655, 58806, 70663, 71248, 72405, 67799, 68600, 36537, 74452, 34523, 54745, 54934, 50610, 109895, 112370, 103048, 26887, 134528, 134783, 134808, 136449, 138798, 112911, 116138, 127108, 84615, 74916, 76060, 90376, 91128, 1439, 1526, 1746, 6554, 6811, 7460, 7926, 4733, 4757, 4845, 5128, 8261, 944, 72294, 80590, 85788, 79251, 74624, 74868, 64501, 49347, 60516, 64499, 118706, 131796, 112818, 112897, 114246, 132796, 160400, 163985, 177763, 185585, 158027, 148671, 140627, 145418, 91842, 94018, 89118, 106441, 106785, 105585, 105197, 109850, 6818, 26249, 115664, 122884, 105731, 104908, 140016, 183295, 175199, 159858, 158528, 156726, 149334, 92391, 6153, 6265, 6316, 5539, 5538, 5590, 5664, 5696, 5735, 5736, 5883, 5927, 6850, 6999, 7026, 7030, 6827, 6558, 6705, 4371, 4403, 4520, 4584, 4602, 4619, 4662, 7282, 4127, 4181, 4673, 4697, 5170, 5255, 5099, 5361, 5443, 5454, 4750, 4835, 4862, 4885, 4893, 4915, 52867, 53956, 52375, 49314, 48142, 48518, 48678, 53974, 58287, 65601, 65738, 65740, 65882, 55272, 55729, 56003, 9005, 26133, 26792, 8506, 7636, 7708, 7781, 8169, 8402, 27555, 27838, 37857, 39234, 30848, 31422, 31424, 33171, 33681, 34143, 34326, 1328, 1325, 1323, 1490, 3943, 409, 2962, 3051, 2787, 2506, 2516, 2559, 2639, 3145, 3830, 3280, 3423, 3478, 2332, 2154, 2190, 3171, 3872, 4432, 25886, 7943, 7218, 6706, 6452, 5398, 973, 1946, 4483, 3330, 6410, 7184, 7305, 6561, 40, 5433, 5925, 3732, 4117, 4754, 680, 2275, 4210, 4180, 3889, 618, 703, 2896, 74545, 104272, 110387, 121253, 133115, 81158, 82667, 69953, 69746, 71494, 71147, 71453, 71468, 71131, 65225, 71867, 65037, 65631, 67508, 68444, 80478, 72171, 78836, 79073, 80553, 81191, 77233, 77191, 76738, 72714, 72921, 74089, 74791, 76054, 76173, 74226, 44931, 53574, 53883, 54185, 54354, 51174, 49917, 48001, 48638, 47446, 60408, 60885, 61394, 62208, 64167, 57772, 58376, 117364, 117531, 117545, 117849, 118784, 118880, 120761, 121169, 124853, 127114, 127172, 127180, 127204, 127298, 128900, 128902, 106648, 109187, 128991, 109383, 109968, 111817, 113348, 114847, 116505, 105254, 134019, 159976, 160684, 168612, 170355, 171495, 173197, 173291, 173317, 179135, 184245, 188675, 188833, 189381, 158842, 155774, 152065, 134796, 136024, 138966, 140162, 133802, 140737, 143525, 143896, 144478, 145080, 148424, 150696, 140816, 87304, 87444, 87660, 89030, 89945, 90245, 90357, 90528, 90630, 90769, 86922, 83827, 83976, 84273, 84716, 85213, 86237, 86279, 97904, 100044, 100106, 100277, 102742, 102823, 101741, 91784, 91860, 92422, 92637, 94735, 96084, 1419, 3569, 773, 823, 8484, 8724, 8748, 26003, 26048, 26059, 26073, 26158, 26225, 26317, 8190, 7124, 7238, 7459, 7979, 26713, 27003, 40955, 42176, 27176, 27186, 27328, 26928, 31952, 32511, 32554, 32906, 32917, 31545, 7071, 4612, 4708, 4825, 4256, 3736, 3845, 6197, 6241, 6329, 5238, 5475, 5202, 5838, 26555, 2882, 111443, 110127, 3912, 3899, 3884, 2425, 2848, 2894, 4714, 4927, 5033, 5075, 5980, 4086, 4717, 4263, 4294, 4471, 4500, 4523, 30, 80, 183, 70451, 73344, 102194, 81257, 84240, 27866, 165101, 130482, 136850, 26528, 193609, 7925, 5226, 26564, 3420, 80917, 92938, 93610, 97757, 3567, 3580, 30850, 59118, 47404, 190221, 189043, 189111, 190207, 190209, 190213, 190215, 190219, 77177, 58842, 56869, 115969, 109687, 176751, 166946, 156783, 141890, 141749, 82378, 90345, 92243, 6869, 94405, 2975, 2188, 2676, 2370, 4419, 4195, 5707, 27751, 38164, 5404, 6530, 5951, 6023, 6286, 4297, 4404, 4422, 8405, 32179, 7940, 7937, 7084, 7115, 7178, 7179, 7820, 521, 2442, 1572, 60857, 60894, 52579, 54787, 55555, 57843, 90471, 88932, 89028, 89761, 90353, 92048, 88179, 88272, 40412, 6263, 6223, 7122, 5074, 58492, 59141, 34164, 48744, 44889, 4354, 4622, 59810, 53024, 96563, 93040, 74282, 73854, 6612, 8580, 27329, 8998, 1996, 65350, 89386, 70687, 85334, 87028, 2226, 26095, 26472, 1647, 161127, 176389, 176579, 96964, 101415, 145935, 148172, 155820, 155288, 106062, 107997, 109569, 132888, 114494, 113604, 3299, 3453, 4505, 4517, 4053, 4078, 2695, 1565, 2399, 2307, 3758, 3731, 3716, 3922, 3162, 3127, 3545, 33312, 55167, 112512, 1601, 1351, 1352, 335, 882, 5468, 5706, 5979, 6836, 6654, 6656, 5288, 6021, 5113, 4942, 4434, 6899, 7304, 94262, 92760, 87287, 84799, 80748, 71999, 71302, 56837, 7104, 32139, 27692, 25959, 8610, 8138, 7834, 7756, 42556, 3648, 40617, 40614, 44020, 32743, 32456, 33644, 52950, 58404, 47124, 51927, 31698, 6889, 7310, 27584, 26999, 26585, 27683, 27802, 8526, 31804, 108795, 113278, 107723, 102084, 102058, 101739, 103233, 104457, 104419, 104141, 103449, 172497, 169982, 166558, 163056, 172875, 162598, 172881, 182639, 179119, 176935, 172887, 161354, 137863, 134524, 152173, 74750, 72601, 71129, 77798, 63222, 60818, 68194, 65133, 64249, 95149, 95147, 95004, 94985, 94160, 95182, 95473, 97785, 97643, 96815, 96007, 95497, 95475, 84414, 82744, 90603, 88515, 152, 4444, 4814, 5476, 5134, 2656, 31435, 63808, 55259, 43376, 45074, 53326, 72696, 65685, 52279, 50003, 49647, 48598, 47952, 46865, 126482, 122902, 116887, 114713, 112460, 130686, 131934, 170289, 158254, 152079, 142372, 91660, 88356, 93139, 95796, 104076, 104074, 100737, 1003, 26765, 26764, 8387, 4632, 4580, 2546, 2856, 4355, 4323, 4276, 2669, 206, 5156, 5397, 5531, 5489, 5515, 5465, 4985, 4988, 5121, 5780, 6035, 6465, 6533, 6577, 6710, 6748, 5974, 5984, 6100, 6123, 6184, 6063, 3813, 3838, 3865, 3919, 3765, 3587, 3680, 4441, 4527, 4552, 4563, 4614, 4687, 4833, 4429, 4426, 4409, 4064, 4065, 4191, 4289, 4298, 4390, 4392, 4393, 4408, 7951, 33188, 40966, 41617, 25963, 26002, 26052, 26124, 26151, 26231, 26303, 26694, 31590, 31737, 32314, 32392, 44657, 52462, 52644, 44759, 44864, 46772, 47465, 25898, 7205, 7301, 7116, 7328, 7336, 7386, 7394, 7450, 6885, 6918, 7102, 6981, 7088, 7091, 7581, 7616, 8270, 8290, 8512, 8542, 8596, 8670, 8239, 7745, 7749, 7895, 7936, 7938, 7939, 7987, 7993, 8188, 8195, 8196, 4278, 1161, 1329, 363, 841, 2488, 2632, 3455, 1977, 1770, 1662, 2303, 2071, 2074, 104245, 63239, 6158, 7208, 6344, 59995, 44943, 27695, 2708, 5575, 4965, 4562, 5537, 5477, 5470, 4237, 695, 1900, 1150, 130842, 1701, 8738, 6408, 26147, 26631, 60333, 42734, 170939, 61465, 61697, 7134, 26810, 77266, 70708, 59814, 27664, 85412, 70305, 87785, 136540, 103596, 6776, 3760, 3590, 4077, 4175, 4268, 3823, 3855, 389, 670, 824, 549, 6216, 6222, 6517, 6268, 6269, 6280, 6036, 6039, 6078, 6116, 6141, 6159, 6162, 6195, 6349, 6442, 6493, 6510, 6295, 6308, 6314, 6315, 6033, 5663, 5678, 5685, 5688, 5636, 5635, 5562, 5625, 5633, 5968, 5994, 5817, 5829, 5880, 5896, 7315, 7340, 7251, 7248, 7165, 7175, 7176, 7193, 8119, 7348, 7364, 7390, 6628, 6631, 6670, 6689, 6696, 6699, 6718, 6720, 6598, 6542, 6547, 6549, 6560, 6563, 6574, 6582, 6616, 6883, 6898, 6954, 7033, 6780, 6797, 6809, 6810, 6812, 6816, 6851, 4666, 4672, 4675, 4721, 4745, 4595, 4600, 4610, 4617, 4636, 4583, 4777, 4780, 4818, 4847, 4573, 4312, 4353, 4242, 4290, 4488, 4524, 4478, 4475, 4451, 4458, 4462, 4463, 5345, 5390, 5337, 5416, 5285, 5297, 5321, 5322, 5324, 5328, 5278, 5471, 5483, 5521, 5461, 5422, 5424, 5437, 4961, 4962, 5068, 5071, 5178, 5209, 5237, 5240, 5073, 5081, 4926, 5112, 8587, 70862, 76763, 56908, 58879, 59037, 61401, 60128, 60141, 154358, 127130, 176423, 180045, 173209, 166024, 166568, 167570, 169992, 173205, 115828, 95135, 112940, 55250, 34540, 33725, 33826, 33838, 41527, 42602, 8915, 8919, 8952, 8954, 30820, 31162, 32116, 25834, 51694, 52299, 49280, 49957, 50792, 52668, 54771, 55110, 52724, 52784, 53447, 49132, 45635, 45062, 43912, 46347, 48319, 48560, 46559, 1332, 1121, 1040, 1870, 1922, 1484, 1609, 1656, 1605, 119, 650, 386, 3378, 3391, 3625, 3581, 3539, 2007, 3111, 3206, 4012, 4221, 4147, 4081, 4139, 4089, 4115, 4123, 4125, 4138, 3790, 3951, 3953, 3900, 3898, 3847, 2271, 2260, 2264, 2172, 2119, 2835, 2884, 2891, 3008, 2893, 2979, 2928, 2751, 2552, 2570, 2472, 2482, 90374, 27704, 79677, 85394, 86668, 90943, 97866, 89580, 69860, 50851, 2807, 4093, 1412, 8337, 8577, 6210, 59295, 26693, 3973, 3447, 5063, 4939, 4925, 4802, 4190, 2665, 136469, 91325, 6348, 6347, 6055, 6597, 8588, 7306, 27708, 33893, 45503, 5532, 71902, 80880, 89208, 92348, 68347, 66090, 568, 5580, 5675, 5787, 4743, 4453, 5409, 30898, 36276, 43708, 7192, 6992, 7017, 8782, 1675, 2540, 8690, 4402, 96430, 80864, 79879, 80241, 79946, 79590, 81949, 82093, 84696, 85025, 84950, 82095, 83374, 82527, 79259, 72694, 72224, 71732, 71466, 85399, 73386, 70545, 78116, 78034, 77421, 75816, 75803, 93242, 92665, 92198, 91935, 91873, 91688, 91273, 95201, 94919, 94896, 94494, 94323, 94011, 93982, 93980, 86593, 86028, 87876, 90738, 90719, 90343, 89427, 89388, 89343, 89305, 88672, 58351, 34018, 32291, 31000, 43558, 173751, 37211, 26700, 8447, 8137, 8136, 26464, 26386, 26152, 8743, 63393, 61289, 61123, 69604, 69453, 69118, 67361, 66785, 65135, 50064, 49688, 48262, 55294, 53808, 53453, 143255, 95508, 133782, 133545, 133377, 133365, 133281, 133195, 132618, 132488, 132462, 132333, 131480, 130083, 129659, 129657, 133798, 134021, 134158, 136859, 136816, 136800, 136786, 136778, 136664, 136654, 134859, 137517, 129333, 128592, 119655, 119068, 118997, 118924, 118814, 118702, 118512, 118354, 118326, 118248, 117511, 117107, 116985, 129250, 120783, 127319, 127194, 127136, 127132, 126420, 125221, 124859, 122932, 122490, 120637, 158022, 157432, 157407, 157340, 157270, 157200, 157172, 157130, 157122, 156706, 156553, 155892, 155743, 155659, 155358, 154065, 152658, 152105, 152085, 159077, 169180, 168456, 168350, 165347, 165343, 165139, 165075, 164753, 164647, 164375, 162828, 161918, 161830, 161290, 160730, 160646, 160573, 160440, 159690, 159193, 158956, 151777, 143257, 143001, 142424, 141422, 140850, 140525, 140237, 139857, 139415, 139052, 138546, 143410, 143472, 151745, 151653, 151559, 151501, 151317, 151315, 150604, 150401, 149612, 149590, 148709, 148592, 148482, 146730, 146688, 145150, 144716, 144714, 144620, 144262, 116849, 116419, 102880, 102819, 102278, 102165, 102025, 101895, 101884, 101577, 101529, 101360, 100487, 104906, 104760, 104129, 104078, 103865, 103755, 103543, 103502, 103221, 100326, 100304, 97858, 97742, 97328, 96726, 96530, 96281, 96114, 95744, 97870, 100226, 99992, 99846, 99574, 99415, 99005, 98908, 98296, 98230, 98175, 98160, 97936, 98836, 112749, 112303, 111795, 111680, 111663, 113186, 113225, 113350, 116413, 116207, 115216, 115170, 115151, 114925, 114601, 114028, 113532, 113416, 110826, 107962, 107945, 107702, 106883, 106542, 106438, 106330, 105755, 108188, 108601, 108715, 110655, 110611, 105121, 109416, 109372, 109317, 109295, 109191, 109183, 1839, 2693, 2887, 2368, 2523, 2521, 2520, 7372, 941, 5334, 5250, 4981, 5490, 5356, 4660, 4630, 4526, 4952, 4775, 4756, 6814, 6798, 6760, 7245, 7101, 6514, 5915, 5779, 5752, 5700, 6476, 6427, 6424, 6302, 3390, 3284, 3596, 3276, 3057, 4212, 4198, 4397, 4156, 3933, 4051, 3568, 3241, 3240, 3756, 3787, 2839, 1341, 706, 89039, 7181, 7620, 7786, 7920, 7767, 189713, 6935, 6966, 6945, 6775, 32582, 27563, 26838, 26359, 8848, 8620, 6611, 4977, 4863, 4236, 3989, 5205, 6528, 6466, 6064, 5986, 5239, 5224, 5212, 109161, 105835, 103107, 100556, 188189, 187717, 184721, 183317, 183199, 179813, 167064, 164655, 162414, 160644, 152711, 151311, 148982, 89090, 58191, 55156, 46855, 45382, 38198, 82857, 71640, 67665, 3859, 1757, 2677, 60832, 74580, 90384, 74530, 59738, 56169, 3723, 2493, 3832, 3405, 3619, 3658, 1180, 451, 5799, 5801, 5802, 5836, 6090, 5826, 5771, 5694, 5863, 5649, 5755, 6042, 6031, 6020, 5963, 5875, 5629, 6101, 5384, 5375, 5353, 5311, 5604, 5602, 5601, 5581, 5525, 5512, 5455, 5440, 6614, 6609, 6603, 6592, 6584, 6581, 6545, 6527, 6515, 6477, 6454, 6434, 6422, 6660, 6667, 6837, 6788, 6772, 6770, 6768, 6732, 6400, 6273, 6245, 6232, 6228, 6225, 6201, 6181, 6178, 6163, 6407, 6289, 6390, 6382, 6376, 6357, 6336, 5231, 4204, 4189, 4184, 4171, 4164, 4129, 4113, 4080, 4218, 4296, 4292, 3965, 3870, 3816, 3966, 4046, 4871, 4860, 4970, 5213, 5168, 5116, 5114, 5077, 5012, 5007, 4998, 4804, 4801, 4521, 4495, 4484, 4433, 4578, 4798, 4796, 4769, 4704, 4635, 4589, 8191, 26965, 26791, 25999, 31903, 31694, 31260, 31083, 31030, 25996, 25952, 8943, 8938, 8921, 8920, 8875, 8813, 8809, 8778, 8774, 8773, 8771, 8754, 8753, 8730, 8714, 8712, 25962, 8955, 25940, 25927, 25870, 25865, 25850, 25826, 25795, 25769, 25757, 25753, 25752, 8989, 8987, 8979, 8711, 34359, 48741, 49666, 56563, 55687, 55071, 53921, 50514, 50160, 35015, 44511, 43333, 42740, 7141, 7093, 7092, 7086, 7085, 7083, 7082, 7079, 7167, 7190, 7357, 7326, 7223, 7219, 7217, 7212, 7211, 7177, 7382, 7075, 7073, 6982, 6970, 6965, 6962, 6948, 6912, 6911, 6909, 6984, 7074, 7070, 7062, 7061, 7059, 7058, 7057, 7055, 7053, 7052, 7051, 7049, 7019, 7012, 6990, 8684, 8458, 8451, 8450, 8446, 8424, 8410, 8385, 8382, 8375, 8338, 8336, 8331, 8302, 8293, 8275, 8232, 8167, 8459, 8461, 8463, 8650, 8617, 8611, 8591, 8575, 8534, 8521, 8518, 8502, 8492, 8487, 8482, 8481, 8465, 8462, 7414, 8153, 8125, 7727, 7716, 7714, 7713, 7705, 7702, 7618, 7584, 7579, 7572, 7560, 7479, 7772, 8094, 8057, 8019, 7944, 7900, 7896, 7888, 7883, 7882, 7840, 7839, 7835, 7833, 7832, 7831, 7826, 7822, 7789, 1068, 1650, 1629, 1933, 1932, 1928, 1926, 1913, 1902, 1893, 1398, 1507, 1496, 1423, 1413, 488, 96, 929, 907, 993, 982, 976, 970, 959, 956, 638, 3109, 3211, 3135, 3125, 3112, 2801, 2757, 2930, 2929, 2927, 3739, 3715, 3714, 3641, 3609, 3475, 3281, 3789, 2743, 2211, 2201, 2187, 2185, 2180, 2179, 2177, 1940, 2611, 2612, 2697, 2652, 6148, 82242, 7335, 5348, 3720, 5069, 4454, 4557, 4725, 8126, 72308, 78746, 68945, 27537, 31660, 42422, 3428, 4111, 5365, 5389, 5448, 5651, 5773, 5197, 4410, 4831, 2362, 6436, 6853, 43914, 44197, 37844, 47646, 27830, 8131, 32294, 36477, 6320, 8268, 2068, 8632, 36397, 27370, 31617, 91890, 93723, 94810, 95939, 96283, 88448, 89586, 90863, 105325, 109941, 109971, 112316, 115065, 97665, 99087, 100068, 101765, 68522, 72554, 2483, 5786, 4759, 71268, 93320, 8593, 26900, 72874, 54796, 73501, 91488, 92730, 94130, 87413, 77881, 79299, 79536, 80454, 80551, 84553, 86000, 40597, 50954, 78544, 78160, 180231, 103, 467, 876, 1170, 73290, 140523, 131739, 56286, 1910, 1824, 449, 7455, 79798, 46231, 32914, 6927, 6596, 68269, 65193, 50796, 95193, 136838, 130073, 129229, 126142, 117133, 94799, 110781, 82088, 80834, 74677, 84847, 93988, 136840, 93134, 91337, 90809, 89678, 91266, 5613, 34148, 6145, 5797, 5704, 188797, 6746, 5189, 6821, 31150, 26198, 8894, 7891, 7730, 7477, 5041, 4202, 38583, 159510, 158830, 149330, 141994, 136958, 135216, 124484, 160571, 167538, 3294, 187031, 186587, 185473, 185033, 184987, 184931, 182727, 180263, 40478, 62586, 1335, 2878, 1978, 8772, 26761, 4646, 97194, 96520, 96518, 96471, 93740, 91414, 88267, 165489, 162590, 160422, 152037, 144352, 121099, 107780, 83270, 32469, 7266, 66544, 27006, 27369, 79006, 120130, 8264, 106889, 120807, 164540, 163653, 159849, 148667, 146682, 134248, 127164, 96150, 98122, 91869, 39516, 135198, 176413, 176415, 2742, 5560, 4445, 3673, 3674, 4284, 125914, 76743, 73804, 85261, 85179, 83480, 69805, 58297, 64695, 116529, 112580, 116668, 116724, 164367, 150993, 144734, 135885, 134775, 128542, 91353, 53138, 53140, 36289, 27251, 51024, 2573, 121129, 55946, 2107, 626, 3939, 3940, 3941, 3942, 3958, 3626, 1990, 1986, 168712, 1477, 142056, 167296, 5059, 7457, 5513, 61257, 43684, 1825, 2820, 2597, 2256, 2862, 2451, 3678, 3691, 3663, 3574, 3577, 3664, 3660, 3661, 3442, 790, 633, 1985, 1336, 1397, 48045, 59026, 31123, 26308, 38095, 37495, 111384, 109313, 105246, 96945, 154975, 148881, 148238, 142558, 141866, 130498, 73681, 68886, 81383, 54617, 6119, 5840, 5839, 168174, 6800, 105468, 4135, 73211, 99191, 100306, 26357, 27140, 27667, 74688, 77414, 78264, 80858, 82152, 61071, 62718, 70932, 72919, 115667, 128832, 139747, 90524, 94325, 95199, 100527, 96975, 43930, 44225, 47516, 50942, 109897, 110603, 122888, 122246, 117877, 114627, 114554, 114396, 113705, 102800, 102088, 101070, 99917, 104944, 104337, 179815, 156605, 153070, 166526, 179749, 179491, 176419, 170945, 166705, 152071, 152063, 135288, 134246, 132335, 136602, 150254, 142507, 141668, 151687, 5028, 26743, 26717, 25782, 8477, 8335, 8189, 82684, 81681, 92681, 92234, 57502, 51573, 40491, 71438, 70015, 2655, 2740, 3021, 2982, 1331, 1980, 1623, 3073, 2623, 2629, 430, 2538, 3143, 2415, 56389, 75446, 6751, 7395, 2965, 5828, 5767, 6692, 6583, 6342, 7349, 8092, 8236, 26819, 8844, 8800, 8494, 8427, 27373, 136556, 2738, 3414, 3449, 3403, 4710, 4794, 4715, 4200, 4374, 4827, 5657, 5105, 2589, 3353, 6140, 7345, 7742, 7782, 8035, 8118, 8727, 6417, 6665, 6723, 6967, 6994, 7023, 7031, 7032, 7114, 284, 1652, 2175, 2196, 68835, 70637, 69495, 59667, 59549, 33649, 32799, 27246, 55844, 43744, 141131, 7615, 133645, 132454, 129397, 128908, 151557, 184997, 183635, 182793, 181719, 178615, 176051, 168026, 163639, 171917, 92954, 120919, 113280, 111913, 111800, 7260, 6769, 4342, 3094, 2774, 4424, 615, 1112, 124851, 114265, 113829, 7704, 7657, 7707, 7307, 7443, 8500, 7986, 7988, 8043, 8045, 8380, 8425, 6882, 6860, 6734, 6804, 7108, 7125, 7191, 7047, 6998, 7005, 7041, 8720, 27420, 27441, 27549, 27595, 27722, 27762, 27769, 27306, 26913, 26940, 26947, 27002, 27008, 27032, 27074, 27105, 27124, 27155, 27784, 32442, 32515, 33126, 33294, 33435, 33629, 32440, 27829, 31367, 31664, 31921, 32058, 31553, 26861, 26854, 26828, 9004, 26142, 26159, 26176, 26195, 26283, 26285, 26344, 26365, 8905, 8934, 8755, 26453, 26676, 26696, 26701, 26726, 26741, 26745, 26782, 26797, 26630, 26467, 26510, 26539, 26542, 26547, 26413, 26567, 26590, 26593, 26612, 26622, 26562, 6722, 5198, 5221, 5268, 5136, 5111, 5053, 5054, 5096, 4511, 4568, 4574, 4504, 4490, 4594, 4597, 4603, 4593, 4670, 6267, 6310, 6204, 6691, 6587, 6506, 6557, 5442, 5961, 5768, 5591, 5596, 5597, 5689, 33801, 97230, 97950, 98499, 98503, 98623, 98697, 98799, 95499, 95519, 95717, 95771, 95780, 95839, 95965, 104017, 104837, 105020, 105720, 103609, 103366, 103245, 99638, 101074, 101423, 102590, 102735, 102749, 102852, 103027, 95165, 95163, 86898, 87197, 87960, 88593, 88697, 86864, 84523, 89085, 85438, 86286, 86355, 91981, 92309, 92674, 93208, 93502, 94122, 95145, 91571, 89862, 90243, 90945, 90428, 107999, 108192, 158388, 158874, 159061, 159403, 160978, 161008, 161032, 161044, 163809, 165529, 157865, 156675, 151781, 138702, 139130, 139859, 140852, 144522, 145724, 145745, 151479, 153236, 167706, 173873, 174727, 178129, 179053, 181315, 172253, 172233, 172229, 168608, 169670, 169904, 137859, 169958, 170297, 170551, 171695, 137345, 137218, 115819, 116044, 116169, 116941, 116963, 117630, 118290, 114126, 113849, 110541, 119218, 111785, 112326, 108090, 119828, 121035, 129779, 131578, 132084, 132362, 135787, 136012, 136297, 128736, 128197, 123310, 122260, 122433, 122627, 120827, 83086, 47721, 47793, 49110, 45648, 45969, 46367, 46574, 183301, 53450, 54274, 54908, 55036, 53161, 53143, 53022, 51545, 39801, 40578, 36850, 33966, 34292, 34800, 34811, 55061, 44238, 44241, 44243, 44849, 45183, 42559, 42638, 41627, 42946, 43419, 43677, 43908, 42943, 83796, 55205, 73569, 73808, 74095, 74696, 75416, 75947, 72479, 76030, 70703, 71327, 71484, 71550, 71810, 81791, 82534, 77201, 77709, 78959, 79895, 80083, 69227, 69131, 59016, 59336, 59947, 60365, 58306, 55207, 56022, 57499, 60803, 67193, 68552, 68650, 66915, 61073, 62662, 62970, 4394, 1114, 1794, 1426, 806, 478, 3379, 3571, 3669, 4197, 4240, 3700, 3709, 3962, 2281, 2339, 2292, 2698, 2586, 2800, 25905, 25923, 25947, 59131, 46664, 141846, 2725, 2727, 2813, 2609, 2620, 2577, 2972, 2865, 2885, 2892, 2283, 2304, 2104, 2512, 2544, 2435, 2417, 3002, 3637, 3655, 3792, 4766, 4786, 4810, 4420, 4428, 4436, 4690, 4695, 4705, 3586, 3183, 3514, 3531, 3459, 3303, 3344, 3374, 602, 645, 649, 803, 495, 506, 526, 2008, 1053, 149, 184, 108, 77, 301, 320, 1585, 1612, 1613, 1549, 1475, 1514, 1759, 1119, 1310, 1349, 285, 311, 636, 117, 220, 27036, 35347, 65359, 71160, 72165, 72982, 47384, 54686, 66240, 1654, 5856, 5922, 5929, 5741, 5742, 5733, 5849, 5975, 5990, 6070, 5720, 6107, 6111, 5372, 5550, 5503, 5614, 6182, 6782, 6789, 6803, 6973, 6961, 5269, 6644, 6202, 6237, 6578, 6573, 6553, 6516, 6415, 6449, 4357, 3808, 3920, 4395, 4828, 4840, 4883, 4689, 4671, 4615, 4653, 41014, 44189, 44301, 30890, 30994, 31309, 31973, 32234, 32600, 32620, 32649, 33310, 33237, 32862, 32728, 55805, 56333, 58783, 72603, 69224, 68872, 68480, 47202, 47538, 47774, 48032, 48214, 51314, 50354, 50356, 7292, 7344, 7487, 7916, 7037, 7131, 7109, 25946, 26038, 26394, 26527, 26599, 26777, 26796, 26875, 26985, 27178, 27744, 27644, 27627, 27255, 25805, 8391, 8454, 8456, 8601, 8685, 8713, 8964, 25833, 8933, 6671, 1117, 1156, 961, 1493, 202, 263, 632, 583, 579, 573, 563, 2897, 3010, 2481, 2503, 3640, 3295, 3289, 1857, 2388, 2156, 2207, 2737, 241, 7377, 8667, 51903, 32302, 5901, 137, 71341, 70208, 70206, 73741, 73676, 72424, 72142, 71910, 66310, 64010, 63826, 63768, 63179, 73876, 67168, 74370, 82765, 82641, 82366, 81520, 77931, 77893, 76091, 75389, 78626, 80162, 80094, 79868, 79501, 61818, 51666, 52831, 48150, 47937, 59915, 58975, 58964, 58826, 61692, 61319, 61262, 60471, 60303, 55492, 55067, 54910, 57637, 57421, 56620, 118082, 117867, 115727, 130050, 129313, 128838, 44597, 114707, 114670, 111551, 110591, 110286, 110281, 110746, 114044, 113862, 113780, 113565, 113313, 113159, 112727, 130052, 130840, 152372, 148166, 147662, 147657, 146309, 145951, 149011, 158721, 163981, 163937, 160836, 160527, 160341, 142598, 135815, 135803, 135534, 133832, 142366, 141799, 141400, 140267, 139655, 139511, 138632, 138610, 94867, 98061, 97988, 97701, 97285, 97188, 96832, 93819, 93598, 93193, 89281, 89072, 88327, 89837, 91233, 103685, 103483, 105801, 107771, 107462, 107447, 107436, 98633, 100906, 100579, 100397, 100159, 99721, 99030, 103219, 103085, 102802, 102760, 102338, 102070, 102066, 4497, 3945, 1054, 26401, 26399, 26391, 26169, 26498, 27491, 27480, 27426, 26603, 8840, 7984, 7562, 27746, 36931, 43289, 41712, 34450, 31086, 27905, 27778, 5953, 5275, 7202, 6095, 6009]\n",
            "\n",
            "encoded movieId : {1: 0, 2329: 1, 2338: 2, 2353: 3, 2366: 4, 2387: 5, 2389: 6, 2395: 7, 2406: 8, 2414: 9, 2427: 10, 2450: 11, 2459: 12, 2470: 13, 2478: 14, 2492: 15, 2502: 16, 2528: 17, 2529: 18, 2542: 19, 2571: 20, 2580: 21, 2596: 22, 2616: 23, 2617: 24, 2628: 25, 2291: 26, 2640: 27, 2273: 28, 2253: 29, 2005: 30, 2012: 31, 2018: 32, 2028: 33, 2033: 34, 2046: 35, 2048: 36, 2054: 37, 2058: 38, 2078: 39, 2090: 40, 2093: 41, 2094: 42, 2096: 43, 2099: 44, 2105: 45, 2115: 46, 2116: 47, 2137: 48, 2139: 49, 2141: 50, 2143: 51, 2161: 52, 2174: 53, 2193: 54, 2268: 55, 2641: 56, 2644: 57, 2648: 58, 3247: 59, 3253: 60, 3273: 61, 3386: 62, 3439: 63, 3440: 64, 3441: 65, 3448: 66, 3450: 67, 3479: 68, 3489: 69, 3527: 70, 3578: 71, 3617: 72, 3639: 73, 3671: 74, 3702: 75, 3703: 76, 3729: 77, 3740: 78, 3744: 79, 3793: 80, 3809: 81, 4006: 82, 5060: 83, 3243: 84, 3176: 85, 3168: 86, 3062: 87, 2654: 88, 2657: 89, 2692: 90, 2700: 91, 2716: 92, 2761: 93, 2797: 94, 2826: 95, 2858: 96, 2872: 97, 2899: 98, 2916: 99, 2000: 100, 2944: 101, 2948: 102, 2949: 103, 2959: 104, 2985: 105, 2987: 106, 2991: 107, 2993: 108, 2997: 109, 3033: 110, 3034: 111, 3052: 112, 3053: 113, 2947: 114, 1967: 115, 3147: 116, 1927: 117, 543: 118, 552: 119, 553: 120, 590: 121, 593: 122, 596: 123, 608: 124, 648: 125, 661: 126, 673: 127, 733: 128, 736: 129, 780: 130, 804: 131, 919: 132, 923: 133, 940: 134, 943: 135, 954: 136, 1009: 137, 1023: 138, 1024: 139, 1025: 140, 1029: 141, 1030: 142, 527: 143, 1031: 144, 500: 145, 457: 146, 1954: 147, 3: 148, 6: 149, 47: 150, 50: 151, 70: 152, 101: 153, 110: 154, 151: 155, 157: 156, 163: 157, 216: 158, 223: 159, 231: 160, 235: 161, 260: 162, 296: 163, 316: 164, 333: 165, 349: 166, 356: 167, 362: 168, 367: 169, 423: 170, 441: 171, 480: 172, 1032: 173, 592: 174, 1049: 175, 1282: 176, 1291: 177, 1298: 178, 1348: 179, 1377: 180, 1396: 181, 1408: 182, 1445: 183, 1473: 184, 1500: 185, 1517: 186, 1552: 187, 1278: 188, 1573: 189, 1587: 190, 1617: 191, 1620: 192, 1625: 193, 1644: 194, 1676: 195, 1042: 196, 1777: 197, 1793: 198, 1804: 199, 1805: 200, 1920: 201, 1580: 202, 1275: 203, 1732: 204, 1127: 205, 1270: 206, 1073: 207, 1080: 208, 1089: 209, 1090: 210, 1092: 211, 1097: 212, 1136: 213, 1196: 214, 1197: 215, 1206: 216, 1208: 217, 1198: 218, 1213: 219, 1265: 220, 1258: 221, 1256: 222, 1240: 223, 1210: 224, 1226: 225, 1060: 226, 1222: 227, 1220: 228, 1219: 229, 1214: 230, 1224: 231, 86345: 232, 99114: 233, 89774: 234, 91529: 235, 91658: 236, 106782: 237, 68157: 238, 112552: 239, 114060: 240, 115713: 241, 122882: 242, 131724: 243, 80906: 244, 109487: 245, 80489: 246, 6874: 247, 77455: 248, 318: 249, 79132: 250, 8798: 251, 1704: 252, 48516: 253, 58559: 254, 60756: 255, 71535: 256, 74458: 257, 46970: 258, 5181: 259, 3210: 260, 3024: 261, 3949: 262, 4518: 263, 5048: 264, 5746: 265, 72378: 266, 5919: 267, 6238: 268, 6835: 269, 7899: 270, 7991: 271, 26409: 272, 70946: 273, 2851: 274, 5764: 275, 2424: 276, 2288: 277, 31: 278, 647: 279, 688: 280, 849: 281, 914: 282, 1093: 283, 1124: 284, 720: 285, 1272: 286, 1302: 287, 1371: 288, 2080: 289, 1263: 290, 2683: 291, 2599: 292, 2583: 293, 2467: 294, 2390: 295, 2712: 296, 2926: 297, 2763: 298, 2770: 299, 2791: 300, 2843: 301, 2874: 302, 2921: 303, 2359: 304, 2973: 305, 2762: 306, 2351: 307, 2145: 308, 2324: 309, 1860: 310, 1883: 311, 1885: 312, 1892: 313, 1895: 314, 1907: 315, 1914: 316, 1916: 317, 1923: 318, 1947: 319, 1966: 320, 2336: 321, 2019: 322, 2076: 323, 2109: 324, 2150: 325, 2186: 326, 2203: 327, 2204: 328, 2282: 329, 1968: 330, 3044: 331, 3317: 332, 3079: 333, 4033: 334, 4034: 335, 4074: 336, 4121: 337, 4144: 338, 4166: 339, 4226: 340, 4239: 341, 4246: 342, 4252: 343, 4260: 344, 4273: 345, 4308: 346, 4347: 347, 4381: 348, 4641: 349, 4741: 350, 4765: 351, 4881: 352, 4896: 353, 4902: 354, 4967: 355, 1834: 356, 4029: 357, 4027: 358, 4021: 359, 4020: 360, 3083: 361, 3160: 362, 3175: 363, 3204: 364, 3255: 365, 3358: 366, 3365: 367, 3408: 368, 3481: 369, 3060: 370, 3538: 371, 3591: 372, 3788: 373, 3851: 374, 3897: 375, 3911: 376, 3967: 377, 3996: 378, 4002: 379, 4014: 380, 3508: 381, 1734: 382, 920: 383, 368: 384, 417: 385, 450: 386, 475: 387, 492: 388, 509: 389, 538: 390, 539: 391, 588: 392, 595: 393, 599: 394, 708: 395, 759: 396, 800: 397, 892: 398, 898: 399, 899: 400, 902: 401, 357: 402, 904: 403, 351: 404, 345: 405, 21: 406, 32: 407, 45: 408, 52: 409, 58: 410, 106: 411, 125: 412, 126: 413, 162: 414, 171: 415, 176: 416, 190: 417, 215: 418, 222: 419, 232: 420, 247: 421, 265: 422, 319: 423, 342: 424, 348: 425, 908: 426, 912: 427, 1225: 428, 1250: 429, 1259: 430, 1266: 431, 1279: 432, 910: 433, 1283: 434, 1288: 435, 1211: 436, 1391: 437, 1449: 438, 1466: 439, 1597: 440, 1641: 441, 1719: 442, 1304: 443, 1203: 444, 1199: 445, 1733: 446, 930: 447, 937: 448, 1046: 449, 1057: 450, 1077: 451, 1079: 452, 1188: 453, 1183: 454, 1179: 455, 1103: 456, 1094: 457, 1086: 458, 1084: 459, 364: 460, 380: 461, 410: 462, 474: 463, 515: 464, 531: 465, 594: 466, 589: 467, 597: 468, 534: 469, 344: 470, 36: 471, 39: 472, 150: 473, 153: 474, 34: 475, 300: 476, 290: 477, 266: 478, 261: 479, 253: 480, 490: 481, 489: 482, 485: 483, 477: 484, 466: 485, 469: 486, 468: 487, 460: 488, 458: 489, 491: 490, 455: 491, 472: 492, 493: 493, 516: 494, 497: 495, 537: 496, 536: 497, 532: 498, 524: 499, 494: 500, 520: 501, 510: 502, 508: 503, 505: 504, 502: 505, 454: 506, 440: 507, 366: 508, 361: 509, 360: 510, 359: 511, 358: 512, 355: 513, 354: 514, 353: 515, 350: 516, 352: 517, 540: 518, 445: 519, 371: 520, 437: 521, 435: 522, 434: 523, 432: 524, 426: 525, 416: 526, 415: 527, 370: 528, 412: 529, 383: 530, 382: 531, 381: 532, 378: 533, 377: 534, 374: 535, 405: 536, 542: 537, 546: 538, 852: 539, 848: 540, 842: 541, 839: 542, 838: 543, 837: 544, 835: 545, 830: 546, 818: 547, 802: 548, 801: 549, 799: 550, 795: 551, 783: 552, 867: 553, 880: 554, 881: 555, 888: 556, 1082: 557, 1064: 558, 1061: 559, 775: 560, 1006: 561, 999: 562, 996: 563, 991: 564, 986: 565, 981: 566, 979: 567, 891: 568, 1004: 569, 765: 570, 762: 571, 747: 572, 606: 573, 587: 574, 575: 575, 569: 576, 548: 577, 609: 578, 628: 579, 719: 580, 711: 581, 710: 582, 709: 583, 704: 584, 616: 585, 700: 586, 694: 587, 667: 588, 662: 589, 640: 590, 637: 591, 631: 592, 697: 593, 419: 594, 141: 595, 140: 596, 135: 597, 113: 598, 112: 599, 105: 600, 104: 601, 102: 602, 100: 603, 95: 604, 93: 605, 92: 606, 89: 607, 145: 608, 146: 609, 185: 610, 181: 611, 180: 612, 179: 613, 177: 614, 174: 615, 87: 616, 170: 617, 165: 618, 161: 619, 160: 620, 159: 621, 158: 622, 168: 623, 86: 624, 79: 625, 76: 626, 22: 627, 19: 628, 17: 629, 16: 630, 15: 631, 13: 632, 24: 633, 11: 634, 8: 635, 7: 636, 5: 637, 4: 638, 2: 639, 10: 640, 186: 641, 25: 642, 27: 643, 66: 644, 65: 645, 62: 646, 61: 647, 60: 648, 54: 649, 26: 650, 43: 651, 41: 652, 46: 653, 189: 654, 88: 655, 195: 656, 303: 657, 302: 658, 293: 659, 292: 660, 291: 661, 289: 662, 304: 663, 288: 664, 281: 665, 279: 666, 277: 667, 347: 668, 276: 669, 274: 670, 273: 671, 282: 672, 271: 673, 310: 674, 313: 675, 343: 676, 191: 677, 340: 678, 339: 679, 337: 680, 336: 681, 312: 682, 332: 683, 329: 684, 327: 685, 317: 686, 315: 687, 314: 688, 330: 689, 270: 690, 225: 691, 224: 692, 219: 693, 218: 694, 217: 695, 230: 696, 212: 697, 209: 698, 208: 699, 207: 700, 205: 701, 204: 702, 201: 703, 267: 704, 210: 705, 196: 706, 236: 707, 234: 708, 262: 709, 258: 710, 256: 711, 254: 712, 257: 713, 251: 714, 250: 715, 248: 716, 243: 717, 240: 718, 239: 719, 237: 720, 252: 721, 8373: 722, 7155: 723, 7445: 724, 8207: 725, 8360: 726, 8368: 727, 8528: 728, 8870: 729, 8665: 730, 8666: 731, 8783: 732, 8808: 733, 8865: 734, 7153: 735, 8636: 736, 5218: 737, 5989: 738, 6934: 739, 8907: 740, 5349: 741, 5378: 742, 5445: 743, 5459: 744, 5464: 745, 5502: 746, 7143: 747, 5618: 748, 5952: 749, 5991: 750, 6333: 751, 6365: 752, 6534: 753, 6539: 754, 6863: 755, 5816: 756, 8908: 757, 33794: 758, 8957: 759, 38388: 760, 42002: 761, 45499: 762, 45517: 763, 45668: 764, 45730: 765, 46530: 766, 48783: 767, 48997: 768, 49272: 769, 49278: 770, 49286: 771, 49824: 772, 4995: 773, 37741: 774, 34319: 775, 34048: 776, 33836: 777, 8958: 778, 8961: 779, 8965: 780, 8970: 781, 8972: 782, 8984: 783, 27741: 784, 8949: 785, 30812: 786, 31878: 787, 32029: 788, 32031: 789, 32296: 790, 32587: 791, 33162: 792, 33493: 793, 30816: 794, 4993: 795, 924: 796, 1101: 797, 1246: 798, 1584: 799, 1610: 800, 1682: 801, 750: 802, 4963: 803, 1784: 804, 3869: 805, 3916: 806, 3977: 807, 3994: 808, 4018: 809, 4223: 810, 3623: 811, 4370: 812, 4643: 813, 4700: 814, 4844: 815, 4874: 816, 4886: 817, 1917: 818, 4310: 819, 4306: 820, 3354: 821, 2688: 822, 2701: 823, 2717: 824, 3114: 825, 2671: 826, 586: 827, 5843: 828, 5447: 829, 5451: 830, 5481: 831, 5507: 832, 5841: 833, 5872: 834, 5891: 835, 5893: 836, 5902: 837, 5956: 838, 5962: 839, 5965: 840, 5988: 841, 6001: 842, 6044: 843, 4558: 844, 5890: 845, 3735: 846, 4131: 847, 187: 848, 627: 849, 922: 850, 1037: 851, 1095: 852, 1674: 853, 3328: 854, 3173: 855, 2877: 856, 2901: 857, 2023: 858, 2011: 859, 1987: 860, 2300: 861, 72737: 862, 77841: 863, 72998: 864, 73017: 865, 74450: 866, 78772: 867, 82167: 868, 80549: 869, 81784: 870, 81845: 871, 81847: 872, 82499: 873, 72720: 874, 79091: 875, 72407: 876, 63113: 877, 72011: 878, 59333: 879, 60397: 880, 60950: 881, 61250: 882, 84374: 883, 63992: 884, 72330: 885, 64969: 886, 68954: 887, 69406: 888, 69844: 889, 70183: 890, 70293: 891, 71579: 892, 66203: 893, 86548: 894, 96079: 895, 88163: 896, 106696: 897, 107141: 898, 109374: 899, 109853: 900, 106489: 901, 112006: 902, 113394: 903, 119145: 904, 129428: 905, 136020: 906, 137595: 907, 140110: 908, 113275: 909, 87222: 910, 105211: 911, 103339: 912, 88810: 913, 91104: 914, 92259: 915, 94070: 916, 95167: 917, 104374: 918, 95449: 919, 95543: 920, 97024: 921, 97938: 922, 98203: 923, 103335: 924, 95510: 925, 58047: 926, 59421: 927, 56367: 928, 56949: 929, 4447: 930, 5066: 931, 3882: 932, 5377: 933, 5943: 934, 5957: 935, 6155: 936, 6266: 937, 6377: 938, 5620: 939, 6535: 940, 1028: 941, 1088: 942, 1307: 943, 1247: 944, 6942: 945, 7151: 946, 31685: 947, 33145: 948, 33679: 949, 40629: 950, 40819: 951, 31433: 952, 41285: 953, 51662: 954, 51705: 955, 7149: 956, 54286: 957, 47099: 958, 30749: 959, 51834: 960, 8969: 961, 7169: 962, 7293: 963, 7375: 964, 7451: 965, 7458: 966, 7154: 967, 8533: 968, 8869: 969, 8529: 970, 1518: 971, 1438: 972, 1385: 973, 1370: 974, 1358: 975, 1586: 976, 1608: 977, 1616: 978, 1687: 979, 1693: 980, 1721: 981, 1840: 982, 1882: 983, 1918: 984, 2002: 985, 2027: 986, 1100: 987, 1604: 988, 44: 989, 376: 990, 529: 991, 511: 992, 2100: 993, 2421: 994, 2485: 995, 2572: 996, 2581: 997, 2694: 998, 3668: 999, 2072: 1000, 1876: 1001, 1357: 1002, 1405: 1003, 3624: 1004, 3717: 1005, 3798: 1006, 3827: 1007, 3863: 1008, 3952: 1009, 4011: 1010, 4148: 1011, 3893: 1012, 3513: 1013, 3753: 1014, 3300: 1015, 3409: 1016, 1173: 1017, 1590: 1018, 305: 1019, 1639: 1020, 2541: 1021, 1619: 1022, 448: 1023, 784: 1024, 193: 1025, 60069: 1026, 63859: 1027, 64614: 1028, 68237: 1029, 70286: 1030, 71057: 1031, 71264: 1032, 84152: 1033, 59315: 1034, 69757: 1035, 7254: 1036, 50872: 1037, 5971: 1038, 6502: 1039, 84954: 1040, 56174: 1041, 7438: 1042, 8644: 1043, 48304: 1044, 48774: 1045, 48780: 1046, 85414: 1047, 91500: 1048, 166635: 1049, 166528: 1050, 160980: 1051, 158872: 1052, 152081: 1053, 152077: 1054, 143385: 1055, 134853: 1056, 134130: 1057, 122924: 1058, 122922: 1059, 122904: 1060, 122886: 1061, 120466: 1062, 94864: 1063, 96610: 1064, 101864: 1065, 89745: 1066, 103249: 1067, 105504: 1068, 111759: 1069, 112556: 1070, 112852: 1071, 115149: 1072, 104841: 1073, 110102: 1074, 1527: 1075, 1347: 1076, 1200: 1077, 858: 1078, 1653: 1079, 172: 1080, 1909: 1081, 2001: 1082, 4720: 1083, 4022: 1084, 3555: 1085, 3535: 1086, 3499: 1087, 3510: 1088, 2081: 1089, 2085: 1090, 2278: 1091, 3156: 1092, 3022: 1093, 3108: 1094, 2723: 1095, 3429: 1096, 3174: 1097, 3000: 1098, 2707: 1099, 2490: 1100, 1680: 1101, 3683: 1102, 1299: 1103, 3741: 1104, 27773: 1105, 1281: 1106, 78499: 1107, 48394: 1108, 27611: 1109, 7361: 1110, 6350: 1111, 5782: 1112, 4973: 1113, 4878: 1114, 7099: 1115, 1276: 1116, 1261: 1117, 745: 1118, 678: 1119, 111: 1120, 1267: 1121, 913: 1122, 541: 1123, 1260: 1124, 1252: 1125, 1230: 1126, 1223: 1127, 1207: 1128, 1201: 1129, 1147: 1130, 1186: 1131, 1193: 1132, 1148: 1133, 3681: 1134, 3435: 1135, 3263: 1136, 3039: 1137, 2194: 1138, 4571: 1139, 81932: 1140, 82459: 1141, 80463: 1142, 68358: 1143, 64839: 1144, 31658: 1145, 7482: 1146, 6870: 1147, 6016: 1148, 1375: 1149, 1036: 1150, 1234: 1151, 1221: 1152, 1228: 1153, 1209: 1154, 57528: 1155, 59784: 1156, 56757: 1157, 55765: 1158, 57640: 1159, 57669: 1160, 58299: 1161, 55290: 1162, 59615: 1163, 58295: 1164, 55276: 1165, 55118: 1166, 54272: 1167, 53996: 1168, 53972: 1169, 53464: 1170, 53318: 1171, 53129: 1172, 53125: 1173, 52604: 1174, 51540: 1175, 51357: 1176, 60040: 1177, 55247: 1178, 60074: 1179, 71899: 1180, 71156: 1181, 71108: 1182, 69951: 1183, 69640: 1184, 69122: 1185, 68319: 1186, 68159: 1187, 68073: 1188, 67255: 1189, 66934: 1190, 65596: 1191, 64957: 1192, 64197: 1193, 63131: 1194, 62434: 1195, 60684: 1196, 49651: 1197, 27831: 1198, 27716: 1199, 27689: 1200, 26614: 1201, 26444: 1202, 8950: 1203, 8917: 1204, 27878: 1205, 8784: 1206, 8641: 1207, 8361: 1208, 8117: 1209, 7843: 1210, 7753: 1211, 7373: 1212, 7323: 1213, 7318: 1214, 30793: 1215, 47491: 1216, 47200: 1217, 46965: 1218, 46578: 1219, 45722: 1220, 44665: 1221, 44555: 1222, 44199: 1223, 44191: 1224, 44022: 1225, 38038: 1226, 37733: 1227, 37729: 1228, 37386: 1229, 36529: 1230, 36519: 1231, 34150: 1232, 73268: 1233, 33615: 1234, 33004: 1235, 32460: 1236, 38061: 1237, 73321: 1238, 86332: 1239, 73499: 1240, 128620: 1241, 122926: 1242, 122920: 1243, 122918: 1244, 122900: 1245, 122892: 1246, 118900: 1247, 117176: 1248, 116823: 1249, 116797: 1250, 114066: 1251, 112421: 1252, 112334: 1253, 112183: 1254, 111362: 1255, 135569: 1256, 139385: 1257, 7317: 1258, 185135: 1259, 180777: 1260, 180095: 1261, 177593: 1262, 176101: 1263, 171023: 1264, 168252: 1265, 166015: 1266, 164179: 1267, 162606: 1268, 162350: 1269, 107846: 1270, 161582: 1271, 159093: 1272, 158972: 1273, 158238: 1274, 157110: 1275, 157108: 1276, 155168: 1277, 150548: 1278, 148626: 1279, 145283: 1280, 144210: 1281, 142488: 1282, 141688: 1283, 140289: 1284, 160438: 1285, 73323: 1286, 106839: 1287, 88094: 1288, 87232: 1289, 86880: 1290, 86628: 1291, 86190: 1292, 85354: 1293, 84392: 1294, 83349: 1295, 81788: 1296, 80219: 1297, 79702: 1298, 79695: 1299, 79592: 1300, 79293: 1301, 78469: 1302, 77561: 1303, 76251: 1304, 76175: 1305, 76077: 1306, 74948: 1307, 74789: 1308, 74510: 1309, 88129: 1310, 88140: 1311, 90600: 1312, 106487: 1313, 106072: 1314, 104879: 1315, 104241: 1316, 103772: 1317, 103253: 1318, 102903: 1319, 102445: 1320, 102125: 1321, 99813: 1322, 99728: 1323, 98809: 1324, 98585: 1325, 97752: 1326, 96655: 1327, 96488: 1328, 96432: 1329, 95441: 1330, 92094: 1331, 91542: 1332, 91485: 1333, 98124: 1334, 34405: 1335, 1212: 1336, 1059: 1337, 1020: 1338, 1544: 1339, 1374: 1340, 1356: 1341, 1245: 1342, 1227: 1343, 778: 1344, 653: 1345, 555: 1346, 431: 1347, 442: 1348, 5418: 1349, 5266: 1350, 5120: 1351, 5008: 1352, 4816: 1353, 4728: 1354, 4383: 1355, 4327: 1356, 4262: 1357, 4007: 1358, 5574: 1359, 5608: 1360, 5669: 1361, 5679: 1362, 7147: 1363, 7018: 1364, 6888: 1365, 6807: 1366, 6787: 1367, 6709: 1368, 6548: 1369, 6378: 1370, 6373: 1371, 6300: 1372, 5995: 1373, 5944: 1374, 5903: 1375, 6440: 1376, 6287: 1377, 2409: 1378, 2184: 1379, 2410: 1380, 1961: 1381, 1924: 1382, 3896: 1383, 1729: 1384, 2411: 1385, 2420: 1386, 3751: 1387, 2412: 1388, 3785: 1389, 3462: 1390, 3275: 1391, 3257: 1392, 3081: 1393, 2953: 1394, 2918: 1395, 2951: 1396, 2422: 1397, 2706: 1398, 2423: 1399, 2428: 1400, 2418: 1401, 2446: 1402, 2453: 1403, 2465: 1404, 2458: 1405, 2463: 1406, 2416: 1407, 2468: 1408, 2455: 1409, 2407: 1410, 2320: 1411, 2321: 1412, 2315: 1413, 2328: 1414, 2335: 1415, 2354: 1416, 2355: 1417, 2369: 1418, 2371: 1419, 2372: 1420, 2374: 1421, 2375: 1422, 2393: 1423, 2394: 1424, 2396: 1425, 2413: 1426, 2491: 1427, 2672: 1428, 2687: 1429, 2699: 1430, 2709: 1431, 2668: 1432, 2710: 1433, 2719: 1434, 2720: 1435, 2722: 1436, 2302: 1437, 2733: 1438, 2746: 1439, 2643: 1440, 2642: 1441, 2513: 1442, 2518: 1443, 2539: 1444, 2548: 1445, 2550: 1446, 2555: 1447, 2558: 1448, 2605: 1449, 2606: 1450, 2614: 1451, 2622: 1452, 2496: 1453, 2294: 1454, 2040: 1455, 2279: 1456, 2034: 1457, 2036: 1458, 2037: 1459, 2041: 1460, 2044: 1461, 2052: 1462, 2060: 1463, 2065: 1464, 2082: 1465, 2088: 1466, 2053: 1467, 2092: 1468, 2026: 1469, 2015: 1470, 2754: 1471, 1970: 1472, 1971: 1473, 1972: 1474, 1973: 1475, 1991: 1476, 2016: 1477, 1994: 1478, 2003: 1479, 2004: 1480, 2014: 1481, 2287: 1482, 2206: 1483, 2227: 1484, 2232: 1485, 2243: 1486, 2244: 1487, 2248: 1488, 2249: 1489, 2255: 1490, 2261: 1491, 2263: 1492, 2266: 1493, 2267: 1494, 2245: 1495, 2097: 1496, 2171: 1497, 2167: 1498, 2108: 1499, 2110: 1500, 2111: 1501, 2118: 1502, 2123: 1503, 2133: 1504, 2169: 1505, 2134: 1506, 2140: 1507, 2144: 1508, 2148: 1509, 2153: 1510, 2788: 1511, 3483: 1512, 3484: 1513, 3497: 1514, 3500: 1515, 3501: 1516, 3505: 1517, 3526: 1518, 3534: 1519, 3536: 1520, 3548: 1521, 3550: 1522, 3551: 1523, 3584: 1524, 3515: 1525, 3476: 1526, 3393: 1527, 3394: 1528, 3395: 1529, 3396: 1530, 3397: 1531, 3398: 1532, 3400: 1533, 3401: 1534, 3477: 1535, 3421: 1536, 3424: 1537, 3454: 1538, 3466: 1539, 3471: 1540, 3418: 1541, 3387: 1542, 3594: 1543, 3622: 1544, 3745: 1545, 3752: 1546, 3754: 1547, 3763: 1548, 3770: 1549, 3784: 1550, 3802: 1551, 3825: 1552, 3826: 1553, 3835: 1554, 3837: 1555, 1963: 1556, 3797: 1557, 3608: 1558, 3743: 1559, 3662: 1560, 3685: 1561, 3686: 1562, 3692: 1563, 3693: 1564, 3699: 1565, 3701: 1566, 3704: 1567, 3839: 1568, 3705: 1569, 3706: 1570, 3708: 1571, 3712: 1572, 3698: 1573, 3370: 1574, 3361: 1575, 2936: 1576, 2968: 1577, 2995: 1578, 3016: 1579, 3017: 1580, 3031: 1581, 3032: 1582, 3035: 1583, 3005: 1584, 3040: 1585, 2915: 1586, 2900: 1587, 2793: 1588, 2802: 1589, 2804: 1590, 2806: 1591, 2808: 1592, 2822: 1593, 2836: 1594, 2857: 1595, 2860: 1596, 2867: 1597, 2870: 1598, 2883: 1599, 2888: 1600, 2898: 1601, 2840: 1602, 3048: 1603, 3248: 1604, 3254: 1605, 3258: 1606, 3238: 1607, 3269: 1608, 3301: 1609, 3308: 1610, 3316: 1611, 3324: 1612, 3355: 1613, 3264: 1614, 3225: 1615, 3219: 1616, 3213: 1617, 3056: 1618, 3063: 1619, 3064: 1620, 3070: 1621, 3072: 1622, 3082: 1623, 3087: 1624, 3101: 1625, 3104: 1626, 3113: 1627, 3146: 1628, 3190: 1629, 3203: 1630, 1921: 1631, 551: 1632, 558: 1633, 610: 1634, 611: 1635, 513: 1636, 486: 1637, 512: 1638, 810: 1639, 829: 1640, 832: 1641, 866: 1642, 879: 1643, 903: 1644, 906: 1645, 798: 1646, 785: 1647, 671: 1648, 674: 1649, 788: 1650, 742: 1651, 743: 1652, 761: 1653, 724: 1654, 911: 1655, 427: 1656, 107: 1657, 118: 1658, 173: 1659, 12: 1660, 48: 1661, 64: 1662, 372: 1663, 379: 1664, 407: 1665, 414: 1666, 420: 1667, 422: 1668, 295: 1669, 325: 1670, 328: 1671, 338: 1672, 921: 1673, 1588: 1674, 1591: 1675, 1593: 1676, 1603: 1677, 1614: 1678, 1645: 1679, 1648: 1680, 1658: 1681, 1663: 1682, 1665: 1683, 1679: 1684, 1583: 1685, 1461: 1686, 1474: 1687, 1479: 1688, 1485: 1689, 1489: 1690, 1499: 1691, 1550: 1692, 1551: 1693, 1556: 1694, 1562: 1695, 1566: 1696, 1569: 1697, 1542: 1698, 1457: 1699, 1681: 1700, 1689: 1701, 1855: 1702, 1862: 1703, 1881: 1704, 1888: 1705, 1891: 1706, 1848: 1707, 1894: 1708, 1906: 1709, 1911: 1710, 1919: 1711, 1688: 1712, 1845: 1713, 1831: 1714, 1690: 1715, 1702: 1716, 1717: 1717, 1718: 1718, 1722: 1719, 1747: 1720, 1748: 1721, 1754: 1722, 1779: 1723, 1783: 1724, 915: 1725, 1806: 1726, 1812: 1727, 1816: 1728, 1456: 1729, 1798: 1730, 1427: 1731, 1129: 1732, 1081: 1733, 1215: 1734, 1441: 1735, 931: 1736, 933: 1737, 965: 1738, 984: 1739, 1016: 1740, 1021: 1741, 1047: 1742, 1238: 1743, 1359: 1744, 1367: 1745, 1372: 1746, 1373: 1747, 1376: 1748, 1380: 1749, 1394: 1750, 1407: 1751, 1409: 1752, 1378: 1753, 1355: 1754, 1379: 1755, 1346: 1756, 1257: 1757, 1285: 1758, 1269: 1759, 1322: 1760, 1324: 1761, 1345: 1762, 1342: 1763, 1330: 1764, 1333: 1765, 1297: 1766, 1339: 1767, 4232: 1768, 4161: 1769, 4090: 1770, 4054: 1771, 4039: 1772, 4270: 1773, 4154: 1774, 4299: 1775, 4378: 1776, 4344: 1777, 4366: 1778, 4367: 1779, 4369: 1780, 4446: 1781, 4449: 1782, 4519: 1783, 4025: 1784, 4638: 1785, 4016: 1786, 3549: 1787, 3565: 1788, 3615: 1789, 3755: 1790, 3852: 1791, 3948: 1792, 3972: 1793, 3986: 1794, 3988: 1795, 3990: 1796, 3999: 1797, 4019: 1798, 4718: 1799, 5419: 1800, 5463: 1801, 5504: 1802, 5630: 1803, 5693: 1804, 5785: 1805, 6143: 1806, 6156: 1807, 6157: 1808, 6166: 1809, 6170: 1810, 6297: 1811, 6345: 1812, 6358: 1813, 5388: 1814, 4734: 1815, 4776: 1816, 4783: 1817, 4821: 1818, 4846: 1819, 4848: 1820, 4865: 1821, 4901: 1822, 4979: 1823, 4990: 1824, 5013: 1825, 5014: 1826, 5015: 1827, 5103: 1828, 5110: 1829, 5171: 1830, 5254: 1831, 5293: 1832, 5299: 1833, 5313: 1834, 5364: 1835, 1015: 1836, 1018: 1837, 1022: 1838, 1035: 1839, 1013: 1840, 1547: 1841, 1012: 1842, 1010: 1843, 2941: 1844, 3157: 1845, 3159: 1846, 3189: 1847, 3410: 1848, 3438: 1849, 2565: 1850, 2430: 1851, 2059: 1852, 3512: 1853, 2083: 1854, 2087: 1855, 2089: 1856, 2006: 1857, 2135: 1858, 86068: 1859, 87520: 1860, 88125: 1861, 79134: 1862, 85259: 1863, 88744: 1864, 90249: 1865, 88405: 1866, 82202: 1867, 81834: 1868, 81591: 1869, 81229: 1870, 80166: 1871, 79185: 1872, 81564: 1873, 91630: 1874, 103141: 1875, 102993: 1876, 102716: 1877, 102481: 1878, 99532: 1879, 91535: 1880, 97913: 1881, 96004: 1882, 95738: 1883, 95170: 1884, 95067: 1885, 94777: 1886, 94677: 1887, 94503: 1888, 93510: 1889, 96588: 1890, 78637: 1891, 59429: 1892, 59369: 1893, 58998: 1894, 58025: 1895, 56775: 1896, 59900: 1897, 54276: 1898, 53322: 1899, 53121: 1900, 52973: 1901, 52730: 1902, 51084: 1903, 50189: 1904, 103228: 1905, 76093: 1906, 73858: 1907, 73319: 1908, 73106: 1909, 72641: 1910, 61160: 1911, 69644: 1912, 69526: 1913, 68793: 1914, 68791: 1915, 64032: 1916, 117368: 1917, 134393: 1918, 134368: 1919, 133419: 1920, 132157: 1921, 130450: 1922, 126548: 1923, 122896: 1924, 119964: 1925, 119155: 1926, 119141: 1927, 117922: 1928, 117851: 1929, 117590: 1930, 117572: 1931, 117529: 1932, 135133: 1933, 135861: 1934, 173307: 1935, 168248: 1936, 167036: 1937, 166492: 1938, 164909: 1939, 160872: 1940, 160565: 1941, 149380: 1942, 135536: 1943, 148675: 1944, 143245: 1945, 142536: 1946, 140301: 1947, 139915: 1948, 139717: 1949, 139642: 1950, 138186: 1951, 138036: 1952, 136016: 1953, 135887: 1954, 115877: 1955, 115502: 1956, 107013: 1957, 106920: 1958, 106918: 1959, 106916: 1960, 106540: 1961, 106491: 1962, 105954: 1963, 105653: 1964, 105213: 1965, 104211: 1966, 103883: 1967, 103819: 1968, 103810: 1969, 103801: 1970, 103384: 1971, 103372: 1972, 105844: 1973, 115617: 1974, 107449: 1975, 108190: 1976, 114818: 1977, 114180: 1978, 112175: 1979, 112138: 1980, 111844: 1981, 111781: 1982, 111743: 1983, 108156: 1984, 111617: 1985, 111113: 1986, 110553: 1987, 110130: 1988, 109864: 1989, 109723: 1990, 109576: 1991, 108945: 1992, 108932: 1993, 63082: 1994, 47566: 1995, 2403: 1996, 2402: 1997, 2378: 1998, 2376: 1999, 2990: 2000, 2989: 2001, 2724: 2002, 47997: 2003, 38: 2004, 26340: 2005, 8946: 2006, 8574: 2007, 7701: 2008, 7573: 2009, 7570: 2010, 7569: 2011, 46972: 2012, 45672: 2013, 45447: 2014, 45186: 2015, 41566: 2016, 40815: 2017, 39715: 2018, 34162: 2019, 30825: 2020, 6503: 2021, 4621: 2022, 4545: 2023, 4489: 2024, 4085: 2025, 4040: 2026, 4005: 2027, 3984: 2028, 3697: 2029, 3638: 2030, 3635: 2031, 3633: 2032, 3868: 2033, 4701: 2034, 5796: 2035, 5219: 2036, 41997: 2037, 46976: 2038, 39183: 2039, 34437: 2040, 31410: 2041, 30707: 2042, 8622: 2043, 52281: 2044, 8464: 2045, 71464: 2046, 68536: 2047, 66097: 2048, 64575: 2049, 61323: 2050, 60766: 2051, 56788: 2052, 56782: 2053, 56171: 2054, 55820: 2055, 54503: 2056, 53519: 2057, 3006: 2058, 2160: 2059, 1952: 2060, 1953: 2061, 4017: 2062, 6711: 2063, 5673: 2064, 5617: 2065, 4036: 2066, 4903: 2067, 3181: 2068, 3265: 2069, 3822: 2070, 3030: 2071, 1884: 2072, 2912: 2073, 2730: 2074, 2726: 2075, 2686: 2076, 2579: 2077, 1960: 2078, 4235: 2079, 5333: 2080, 1859: 2081, 8370: 2082, 8228: 2083, 8012: 2084, 7932: 2085, 7924: 2086, 7587: 2087, 7123: 2088, 7069: 2089, 7064: 2090, 6989: 2091, 6920: 2092, 6857: 2093, 6790: 2094, 6773: 2095, 6721: 2096, 6387: 2097, 6234: 2098, 1809: 2099, 1711: 2100, 1050: 2101, 741: 2102, 334: 2103, 272: 2104, 175: 2105, 29: 2106, 1175: 2107, 1425: 2108, 1284: 2109, 1274: 2110, 1249: 2111, 1248: 2112, 1243: 2113, 1237: 2114, 1464: 2115, 1232: 2116, 1233: 2117, 1217: 2118, 1218: 2119, 35836: 2120, 57368: 2121, 47610: 2122, 31696: 2123, 5791: 2124, 61132: 2125, 132660: 2126, 102407: 2127, 61024: 2128, 86882: 2129, 5064: 2130, 4855: 2131, 3556: 2132, 2405: 2133, 122912: 2134, 187541: 2135, 176371: 2136, 187593: 2137, 122916: 2138, 2151: 2139, 2311: 2140, 2142: 2141, 2530: 2142, 2532: 2143, 2032: 2144, 2876: 2145, 1592: 2146, 3836: 2147, 3791: 2148, 3654: 2149, 3519: 2150, 3451: 2151, 3350: 2152, 2886: 2153, 3037: 2154, 808: 2155, 421: 2156, 238: 2157, 969: 2158, 1287: 2159, 1387: 2160, 1262: 2161, 1083: 2162, 27788: 2163, 27793: 2164, 31101: 2165, 31116: 2166, 31225: 2167, 31420: 2168, 27450: 2169, 27408: 2170, 8914: 2171, 26812: 2172, 33166: 2173, 8937: 2174, 8951: 2175, 26901: 2176, 8982: 2177, 8983: 2178, 26649: 2179, 26695: 2180, 26750: 2181, 8977: 2182, 43921: 2183, 33660: 2184, 39444: 2185, 40278: 2186, 40414: 2187, 40583: 2188, 39381: 2189, 41863: 2190, 42004: 2191, 43396: 2192, 8874: 2193, 43928: 2194, 41569: 2195, 33558: 2196, 38886: 2197, 36527: 2198, 37731: 2199, 37739: 2200, 34536: 2201, 8810: 2202, 6974: 2203, 6537: 2204, 6552: 2205, 6565: 2206, 6617: 2207, 6796: 2208, 6817: 2209, 6867: 2210, 6884: 2211, 6428: 2212, 5632: 2213, 5682: 2214, 5747: 2215, 5945: 2216, 6281: 2217, 5955: 2218, 6953: 2219, 7841: 2220, 7842: 2221, 7884: 2222, 8010: 2223, 8132: 2224, 7706: 2225, 8493: 2226, 8495: 2227, 8633: 2228, 8378: 2229, 6947: 2230, 7649: 2231, 6957: 2232, 43936: 2233, 6993: 2234, 6997: 2235, 7009: 2236, 7025: 2237, 7481: 2238, 7090: 2239, 7263: 2240, 61986: 2241, 61628: 2242, 61352: 2243, 61350: 2244, 61248: 2245, 61236: 2246, 61210: 2247, 61167: 2248, 61011: 2249, 60943: 2250, 60941: 2251, 60753: 2252, 60735: 2253, 58293: 2254, 58803: 2255, 59018: 2256, 59129: 2257, 62374: 2258, 60046: 2259, 60389: 2260, 60647: 2261, 60674: 2262, 59387: 2263, 62376: 2264, 62394: 2265, 62792: 2266, 65982: 2267, 67534: 2268, 68205: 2269, 65682: 2270, 70336: 2271, 71106: 2272, 71135: 2273, 69849: 2274, 65216: 2275, 64983: 2276, 62799: 2277, 62849: 2278, 63033: 2279, 63062: 2280, 63433: 2281, 64497: 2282, 64716: 2283, 64030: 2284, 49265: 2285, 49530: 2286, 49822: 2287, 48879: 2288, 49961: 2289, 50442: 2290, 51080: 2291, 51255: 2292, 51471: 2293, 51935: 2294, 50068: 2295, 52042: 2296, 44204: 2297, 44761: 2298, 45658: 2299, 46723: 2300, 47644: 2301, 47894: 2302, 48326: 2303, 48385: 2304, 48738: 2305, 47629: 2306, 44195: 2307, 52241: 2308, 52328: 2309, 55363: 2310, 55721: 2311, 55274: 2312, 55908: 2313, 56587: 2314, 56607: 2315, 56921: 2316, 56145: 2317, 55116: 2318, 52952: 2319, 53123: 2320, 53550: 2321, 53953: 2322, 54736: 2323, 54962: 2324, 54997: 2325, 55080: 2326, 55094: 2327, 36517: 2328, 1253: 2329, 1120: 2330, 1171: 2331, 1271: 2332, 1678: 2333, 1785: 2334, 1303: 2335, 1459: 2336, 1480: 2337, 428: 2338, 211: 2339, 5577: 2340, 23: 2341, 147: 2342, 635: 2343, 714: 2344, 851: 2345, 456: 2346, 481: 2347, 507: 2348, 2021: 2349, 3950: 2350, 3980: 2351, 4047: 2352, 3783: 2353, 3360: 2354, 3543: 2355, 4211: 2356, 5009: 2357, 5010: 2358, 5055: 2359, 5152: 2360, 5267: 2361, 5292: 2362, 5329: 2363, 4238: 2364, 4251: 2365, 4343: 2366, 4626: 2367, 4688: 2368, 4772: 2369, 4787: 2370, 5446: 2371, 2618: 2372, 2358: 2373, 2231: 2374, 2272: 2375, 2841: 2376, 2908: 2377, 3169: 2378, 3178: 2379, 3246: 2380, 3252: 2381, 3256: 2382, 3260: 2383, 3271: 2384, 3272: 2385, 3250: 2386, 3198: 2387, 2952: 2388, 3107: 2389, 3020: 2390, 3100: 2391, 3105: 2392, 4980: 2393, 7156: 2394, 3363: 2395, 7379: 2396, 26554: 2397, 98961: 2398, 87306: 2399, 64620: 2400, 26729: 2401, 1772: 2402, 2301: 2403, 953: 2404, 1204: 2405, 1939: 2406, 1792: 2407, 1945: 2408, 1242: 2409, 96821: 2410, 1231: 2411, 1099: 2412, 1363: 2413, 1353: 2414, 1361: 2415, 1393: 2416, 605: 2417, 612: 2418, 786: 2419, 1458: 2420, 1429: 2421, 1104: 2422, 78: 2423, 74: 2424, 194: 2425, 203: 2426, 471: 2427, 246: 2428, 1621: 2429, 1633: 2430, 1643: 2431, 1673: 2432, 1672: 2433, 1280: 2434, 1365: 2435, 1399: 2436, 1476: 2437, 1487: 2438, 2943: 2439, 1537: 2440, 1545: 2441, 1446: 2442, 1799: 2443, 2391: 2444, 2357: 2445, 2443: 2446, 2501: 2447, 2690: 2448, 2875: 2449, 1801: 2450, 2333: 2451, 2310: 2452, 1841: 2453, 2112: 2454, 249: 2455, 307: 2456, 308: 2457, 322: 2458, 28: 2459, 94: 2460, 613: 2461, 715: 2462, 805: 2463, 1027: 2464, 1056: 2465, 1177: 2466, 994: 2467, 446: 2468, 452: 2469, 385: 2470, 562: 2471, 580: 2472, 5449: 2473, 6242: 2474, 5146: 2475, 31184: 2476, 6618: 2477, 44974: 2478, 27801: 2479, 27728: 2480, 27193: 2481, 26606: 2482, 6567: 2483, 3997: 2484, 3270: 2485, 3066: 2486, 2794: 2487, 2735: 2488, 2269: 2489, 3347: 2490, 3362: 2491, 3766: 2492, 3861: 2493, 4220: 2494, 5312: 2495, 6662: 2496, 5093: 2497, 544: 2498, 585: 2499, 2342: 2500, 3019: 2501, 306: 2502, 685: 2503, 514: 2504, 121: 2505, 82: 2506, 228: 2507, 199: 2508, 55280: 2509, 54001: 2510, 65230: 2511, 59725: 2512, 61240: 2513, 56941: 2514, 7444: 2515, 8981: 2516, 111659: 2517, 111921: 2518, 112290: 2519, 115569: 2520, 116897: 2521, 125916: 2522, 128360: 2523, 136864: 2524, 103980: 2525, 71033: 2526, 85774: 2527, 86781: 2528, 89759: 2529, 93840: 2530, 96829: 2531, 97921: 2532, 100714: 2533, 101525: 2534, 87869: 2535, 7173: 2536, 4890: 2537, 6708: 2538, 6763: 2539, 3285: 2540, 3968: 2541, 2796: 2542, 2795: 2543, 2771: 2544, 2702: 2545, 2713: 2546, 2805: 2547, 2827: 2548, 2871: 2549, 3142: 2550, 3120: 2551, 3098: 2552, 2861: 2553, 2906: 2554, 2890: 2555, 2598: 2556, 2352: 2557, 2306: 2558, 2297: 2559, 2236: 2560, 2155: 2561, 2146: 2562, 2574: 2563, 2568: 2564, 2505: 2565, 2500: 2566, 2497: 2567, 2433: 2568, 2404: 2569, 3177: 2570, 3946: 2571, 3208: 2572, 4317: 2573, 4293: 2574, 4280: 2575, 4207: 2576, 4155: 2577, 4153: 2578, 4132: 2579, 4102: 2580, 4084: 2581, 4067: 2582, 4062: 2583, 4041: 2584, 4008: 2585, 4321: 2586, 4322: 2587, 4333: 2588, 4349: 2589, 4686: 2590, 4679: 2591, 4654: 2592, 4629: 2593, 4623: 2594, 4577: 2595, 4565: 2596, 4564: 2597, 4541: 2598, 3987: 2599, 4516: 2600, 4487: 2601, 4482: 2602, 4477: 2603, 4466: 2604, 4442: 2605, 4396: 2606, 4361: 2607, 4359: 2608, 4351: 2609, 4509: 2610, 3326: 2611, 3298: 2612, 3261: 2613, 3259: 2614, 3186: 2615, 3502: 2616, 3841: 2617, 3824: 2618, 3764: 2619, 3695: 2620, 3694: 2621, 3646: 2622, 3552: 2623, 459: 2624, 436: 2625, 433: 2626, 424: 2627, 418: 2628, 413: 2629, 408: 2630, 782: 2631, 639: 2632, 550: 2633, 144: 2634, 122: 2635, 227: 2636, 1667: 2637, 1513: 2638, 1488: 2639, 1976: 2640, 1975: 2641, 1835: 2642, 1810: 2643, 1726: 2644, 1191: 2645, 1468: 2646, 1453: 2647, 1431: 2648, 1343: 2649, 484: 2650, 519: 2651, 1105: 2652, 828: 2653, 57: 2654, 259: 2655, 833: 2656, 836: 2657, 889: 2658, 737: 2659, 18: 2660, 663: 2661, 3004: 2662, 3274: 2663, 3268: 2664, 3249: 2665, 3196: 2666, 2731: 2667, 2431: 2668, 2195: 2669, 2124: 2670, 2106: 2671, 3385: 2672, 2718: 2673, 2504: 2674, 5151: 2675, 5589: 2676, 5585: 2677, 5582: 2678, 5568: 2679, 5528: 2680, 5500: 2681, 5308: 2682, 5307: 2683, 5283: 2684, 5220: 2685, 53993: 2686, 33495: 2687, 7294: 2688, 4974: 2689, 4958: 2690, 4929: 2691, 4502: 2692, 4104: 2693, 1005: 2694, 934: 2695, 69: 2696, 1753: 2697, 1642: 2698, 1615: 2699, 1769: 2700, 1033: 2701, 2064: 2702, 2042: 2703, 1934: 2704, 1866: 2705, 1863: 2706, 1442: 2707, 1390: 2708, 68932: 2709, 69712: 2710, 72395: 2711, 82767: 2712, 63876: 2713, 79242: 2714, 47423: 2715, 45950: 2716, 51931: 2717, 53894: 2718, 140174: 2719, 140247: 2720, 140715: 2721, 145839: 2722, 146656: 2723, 137337: 2724, 163645: 2725, 166643: 2726, 171011: 2727, 159817: 2728, 96567: 2729, 132424: 2730, 112804: 2731, 96811: 2732, 97923: 2733, 100383: 2734, 117881: 2735, 108729: 2736, 106100: 2737, 2121: 2738, 391: 2739, 5108: 2740, 8966: 2741, 6765: 2742, 7160: 2743, 4975: 2744, 2942: 2745, 3969: 2746, 4474: 2747, 3844: 2748, 5882: 2749, 8371: 2750, 1320: 2751, 92475: 2752, 93326: 2753, 93114: 2754, 92427: 2755, 90522: 2756, 91094: 2757, 90746: 2758, 107338: 2759, 88911: 2760, 85796: 2761, 92046: 2762, 82848: 2763, 105250: 2764, 104913: 2765, 104283: 2766, 96606: 2767, 101072: 2768, 100498: 2769, 97304: 2770, 97225: 2771, 103171: 2772, 81562: 2773, 62336: 2774, 52885: 2775, 46862: 2776, 46062: 2777, 45880: 2778, 107565: 2779, 44719: 2780, 79224: 2781, 81018: 2782, 66335: 2783, 64278: 2784, 63312: 2785, 62644: 2786, 172461: 2787, 170705: 2788, 168492: 2789, 168254: 2790, 167370: 2791, 165969: 2792, 164280: 2793, 190183: 2794, 160569: 2795, 156607: 2796, 151759: 2797, 149406: 2798, 143969: 2799, 170875: 2800, 171701: 2801, 171759: 2802, 172013: 2803, 188301: 2804, 179073: 2805, 175781: 2806, 175743: 2807, 143859: 2808, 175707: 2809, 175693: 2810, 175661: 2811, 175485: 2812, 174737: 2813, 174403: 2814, 174141: 2815, 174055: 2816, 175705: 2817, 142997: 2818, 142961: 2819, 142602: 2820, 127146: 2821, 122898: 2822, 114335: 2823, 113374: 2824, 111732: 2825, 115203: 2826, 134170: 2827, 142448: 2828, 142074: 2829, 140928: 2830, 139644: 2831, 138208: 2832, 137857: 2833, 128695: 2834, 136305: 2835, 136018: 2836, 135456: 2837, 135143: 2838, 134515: 2839, 136564: 2840, 1289: 2841, 1273: 2842, 1251: 2843, 2732: 2844, 2553: 2845, 2164: 2846, 2925: 2847, 909: 2848, 8379: 2849, 8253: 2850, 8235: 2851, 8157: 2852, 8143: 2853, 7748: 2854, 7700: 2855, 7396: 2856, 7327: 2857, 7247: 2858, 7206: 2859, 7063: 2860, 8879: 2861, 8928: 2862, 26258: 2863, 37545: 2864, 33781: 2865, 32898: 2866, 32875: 2867, 32659: 2868, 6975: 2869, 32657: 2870, 27513: 2871, 27156: 2872, 26422: 2873, 26326: 2874, 8974: 2875, 4658: 2876, 4399: 2877, 4282: 2878, 3730: 2879, 3415: 2880, 3221: 2881, 4914: 2882, 6663: 2883, 6666: 2884, 6239: 2885, 5932: 2886, 5810: 2887, 5021: 2888, 5004: 2889, 4928: 2890, 3799: 2891, 3814: 2892, 3614: 2893, 3430: 2894, 4241: 2895, 3918: 2896, 3388: 2897, 4267: 2898, 4255: 2899, 4215: 2900, 3959: 2901, 3917: 2902, 2661: 2903, 2752: 2904, 2664: 2905, 2634: 2906, 2615: 2907, 2613: 2908, 4291: 2909, 3148: 2910, 3115: 2911, 2978: 2912, 52722: 2913, 26680: 2914, 8623: 2915, 34338: 2916, 7983: 2917, 7163: 2918, 7040: 2919, 7007: 2920, 7757: 2921, 39414: 2922, 60487: 2923, 59306: 2924, 57532: 2925, 48877: 2926, 45666: 2927, 42723: 2928, 7004: 2929, 7000: 2930, 6880: 2931, 5040: 2932, 4992: 2933, 4971: 2934, 4876: 2935, 4713: 2936, 4591: 2937, 4508: 2938, 4496: 2939, 4464: 2940, 4437: 2941, 5339: 2942, 6873: 2943, 6793: 2944, 6786: 2945, 6659: 2946, 6371: 2947, 6323: 2948, 5712: 2949, 5672: 2950, 5505: 2951, 4340: 2952, 1014: 2953, 1011: 2954, 781: 2955, 1301: 2956, 1244: 2957, 1235: 2958, 2587: 2959, 522: 2960, 482: 2961, 479: 2962, 387: 2963, 1350: 2964, 2265: 2965, 2159: 2966, 2183: 2967, 2322: 2968, 2356: 2969, 2363: 2970, 2554: 2971, 2533: 2972, 2524: 2973, 2454: 2974, 2408: 2975, 2380: 2976, 2379: 2977, 1999: 2978, 1997: 2979, 1873: 2980, 65514: 2981, 56801: 2982, 54999: 2983, 54995: 2984, 69481: 2985, 110501: 2986, 93838: 2987, 93721: 2988, 86892: 2989, 52245: 2990, 51077: 2991, 50794: 2992, 33646: 2993, 1125: 2994, 1982: 2995, 916: 2996, 748: 2997, 1293: 2998, 2202: 2999, 2289: 3000, 2102: 3001, 2476: 3002, 2429: 3003, 2067: 3004, 1670: 3005, 1646: 3006, 1564: 3007, 2009: 3008, 1858: 3009, 1912: 3010, 3507: 3011, 3494: 3012, 3446: 3013, 3334: 3014, 3426: 3015, 3937: 3016, 3901: 3017, 3811: 3018, 3774: 3019, 3773: 3020, 3769: 3021, 3593: 3022, 3643: 3023, 3632: 3024, 3628: 3025, 2917: 3026, 2922: 3027, 2681: 3028, 2759: 3029, 2935: 3030, 3045: 3031, 2961: 3032, 518: 3033, 473: 3034, 861: 3035, 728: 3036, 707: 3037, 198: 3038, 897: 3039, 1277: 3040, 1254: 3041, 1268: 3042, 1498: 3043, 1416: 3044, 1388: 3045, 955: 3046, 951: 3047, 942: 3048, 1184: 3049, 280: 3050, 1944: 3051, 2020: 3052, 2075: 3053, 1696: 3054, 1631: 3055, 1797: 3056, 3230: 3057, 6460: 3058, 1428: 3059, 3504: 3060, 3498: 3061, 3461: 3062, 3075: 3063, 1151: 3064, 928: 3065, 2739: 3066, 90866: 3067, 87430: 3068, 89492: 3069, 106002: 3070, 104863: 3071, 103341: 3072, 103042: 3073, 86911: 3074, 102123: 3075, 99149: 3076, 96861: 3077, 80693: 3078, 68848: 3079, 68554: 3080, 67734: 3081, 63072: 3082, 60126: 3083, 60072: 3084, 83369: 3085, 82461: 3086, 79357: 3087, 78105: 3088, 74228: 3089, 107406: 3090, 161131: 3091, 158966: 3092, 143355: 3093, 142222: 3094, 135518: 3095, 166534: 3096, 168250: 3097, 187595: 3098, 185031: 3099, 184471: 3100, 183611: 3101, 182715: 3102, 179819: 3103, 179401: 3104, 176601: 3105, 175303: 3106, 174053: 3107, 173925: 3108, 172591: 3109, 171763: 3110, 170827: 3111, 128512: 3112, 114935: 3113, 114678: 3114, 114662: 3115, 113741: 3116, 111360: 3117, 115210: 3118, 115680: 3119, 107348: 3120, 118696: 3121, 89864: 3122, 59501: 3123, 6058: 3124, 49130: 3125, 48043: 3126, 49649: 3127, 50804: 3128, 51086: 3129, 6564: 3130, 6541: 3131, 27808: 3132, 27706: 3133, 27660: 3134, 7387: 3135, 7022: 3136, 7980: 3137, 7132: 3138, 30810: 3139, 33779: 3140, 8376: 3141, 27904: 3142, 27846: 3143, 8873: 3144, 6104: 3145, 86504: 3146, 89753: 3147, 89904: 3148, 92494: 3149, 92535: 3150, 95858: 3151, 86290: 3152, 102217: 3153, 104069: 3154, 98491: 3155, 53000: 3156, 54259: 3157, 77800: 3158, 45728: 3159, 67997: 3160, 64285: 3161, 1202: 3162, 3088: 3163, 4105: 3164, 1965: 3165, 4128: 3166, 4023: 3167, 5026: 3168, 4964: 3169, 4773: 3170, 4448: 3171, 4380: 3172, 3041: 3173, 2905: 3174, 5225: 3175, 7360: 3176, 5291: 3177, 8832: 3178, 8795: 3179, 8645: 3180, 8093: 3181, 8014: 3182, 7982: 3183, 7930: 3184, 7743: 3185, 7411: 3186, 42632: 3187, 34072: 3188, 33683: 3189, 27869: 3190, 27523: 3191, 27266: 3192, 27020: 3193, 26504: 3194, 6188: 3195, 5954: 3196, 5878: 3197, 6214: 3198, 5690: 3199, 5417: 3200, 6218: 3201, 7235: 3202, 7162: 3203, 7139: 3204, 6944: 3205, 6936: 3206, 6385: 3207, 6331: 3208, 6296: 3209, 968: 3210, 1096: 3211, 365: 3212, 2313: 3213, 1889: 3214, 1762: 3215, 3262: 3216, 3444: 3217, 4203: 3218, 4611: 3219, 4585: 3220, 4581: 3221, 4572: 3222, 4537: 3223, 4499: 3224, 4465: 3225, 4231: 3226, 4158: 3227, 4149: 3228, 4079: 3229, 4616: 3230, 3201: 3231, 3074: 3232, 3029: 3233, 2966: 3234, 2956: 3235, 7127: 3236, 7048: 3237, 7046: 3238, 7028: 3239, 7027: 3240, 7015: 3241, 6996: 3242, 6979: 3243, 7325: 3244, 8024: 3245, 7766: 3246, 7647: 3247, 7624: 3248, 7493: 3249, 8158: 3250, 6832: 3251, 5644: 3252, 5548: 3253, 5265: 3254, 5023: 3255, 6754: 3256, 6636: 3257, 6313: 3258, 6124: 3259, 6025: 3260, 6022: 3261, 2257: 3262, 2401: 3263, 255: 3264, 535: 3265, 523: 3266, 1956: 3267, 2316: 3268, 2312: 3269, 1541: 3270, 1216: 3271, 1382: 3272, 1326: 3273, 5628: 3274, 8605: 3275, 8604: 3276, 47999: 3277, 8968: 3278, 8947: 3279, 8910: 3280, 27705: 3281, 27539: 3282, 27473: 3283, 26871: 3284, 26778: 3285, 26712: 3286, 8985: 3287, 8866: 3288, 8677: 3289, 7566: 3290, 7541: 3291, 7454: 3292, 8366: 3293, 7346: 3294, 7320: 3295, 8861: 3296, 8807: 3297, 8781: 3298, 30822: 3299, 33154: 3300, 45501: 3301, 45431: 3302, 44788: 3303, 44709: 3304, 44004: 3305, 42738: 3306, 42718: 3307, 45720: 3308, 45726: 3309, 45928: 3310, 47978: 3311, 47970: 3312, 42018: 3313, 46948: 3314, 46322: 3315, 41724: 3316, 41573: 3317, 33672: 3318, 34153: 3319, 32598: 3320, 33437: 3321, 31049: 3322, 34542: 3323, 41571: 3324, 40959: 3325, 40732: 3326, 7256: 3327, 5049: 3328, 5444: 3329, 4969: 3330, 5400: 3331, 4639: 3332, 4388: 3333, 4387: 3334, 4372: 3335, 5541: 3336, 4677: 3337, 4877: 3338, 4681: 3339, 4823: 3340, 5553: 3341, 6755: 3342, 6753: 3343, 6879: 3344, 6707: 3345, 6595: 3346, 7137: 3347, 6893: 3348, 7010: 3349, 6939: 3350, 6383: 3351, 6193: 3352, 59220: 3353, 80860: 3354, 79057: 3355, 78703: 3356, 78467: 3357, 76751: 3358, 86833: 3359, 86377: 3360, 86293: 3361, 85780: 3362, 84772: 3363, 74946: 3364, 83803: 3365, 81910: 3366, 83134: 3367, 74668: 3368, 74508: 3369, 69904: 3370, 69784: 3371, 69524: 3372, 69069: 3373, 68952: 3374, 68659: 3375, 69394: 3376, 74154: 3377, 73023: 3378, 72591: 3379, 72489: 3380, 71282: 3381, 70990: 3382, 70521: 3383, 70492: 3384, 72167: 3385, 114762: 3386, 90576: 3387, 89470: 3388, 89087: 3389, 93287: 3390, 96110: 3391, 95875: 3392, 95624: 3393, 92420: 3394, 94959: 3395, 95218: 3396, 48342: 3397, 67618: 3398, 54734: 3399, 54281: 3400, 54121: 3401, 54116: 3402, 54004: 3403, 54881: 3404, 56251: 3405, 56152: 3406, 55830: 3407, 55620: 3408, 55282: 3409, 55253: 3410, 55232: 3411, 55190: 3412, 55112: 3413, 55052: 3414, 55267: 3415, 53435: 3416, 50740: 3417, 50685: 3418, 50658: 3419, 49772: 3420, 50806: 3421, 49274: 3422, 48696: 3423, 56336: 3424, 52975: 3425, 52767: 3426, 52458: 3427, 52435: 3428, 51884: 3429, 51709: 3430, 52287: 3431, 56339: 3432, 56379: 3433, 62999: 3434, 62956: 3435, 62293: 3436, 62155: 3437, 60514: 3438, 67408: 3439, 67267: 3440, 67087: 3441, 66665: 3442, 60363: 3443, 66198: 3444, 65188: 3445, 64622: 3446, 58162: 3447, 58107: 3448, 58078: 3449, 57951: 3450, 58347: 3451, 58839: 3452, 59731: 3453, 59258: 3454, 59126: 3455, 59440: 3456, 4356: 3457, 1381: 3458, 1292: 3459, 1019: 3460, 1017: 3461, 1703: 3462, 1515: 3463, 1635: 3464, 932: 3465, 875: 3466, 3452: 3467, 3554: 3468, 3553: 3469, 3077: 3470, 3653: 3471, 4069: 3472, 4068: 3473, 4015: 3474, 4124: 3475, 4326: 3476, 4141: 3477, 3981: 3478, 3786: 3479, 3707: 3480, 3978: 3481, 3675: 3482, 2950: 3483, 2385: 3484, 2340: 3485, 2125: 3486, 2334: 3487, 2728: 3488, 2803: 3489, 2881: 3490, 2471: 3491, 2662: 3492, 2567: 3493, 2560: 3494, 4744: 3495, 4880: 3496, 3359: 3497, 3152: 3498, 1962: 3499, 1959: 3500, 1955: 3501, 3468: 3502, 91077: 3503, 1172: 3504, 1300: 3505, 2136: 3506, 87485: 3507, 92509: 3508, 93272: 3509, 69278: 3510, 71518: 3511, 72226: 3512, 74647: 3513, 75805: 3514, 76293: 3515, 99106: 3516, 101612: 3517, 113378: 3518, 114074: 3519, 123947: 3520, 131013: 3521, 138204: 3522, 149354: 3523, 151739: 3524, 127202: 3525, 112788: 3526, 112450: 3527, 105037: 3528, 109483: 3529, 111320: 3530, 128520: 3531, 55768: 3532, 68135: 3533, 53460: 3534, 44193: 3535, 45221: 3536, 47518: 3537, 47122: 3538, 50601: 3539, 48414: 3540, 8183: 3541, 7234: 3542, 7419: 3543, 7889: 3544, 7158: 3545, 8154: 3546, 8804: 3547, 8340: 3548, 8341: 3549, 8838: 3550, 26350: 3551, 26578: 3552, 27721: 3553, 7087: 3554, 6235: 3555, 6244: 3556, 6270: 3557, 6301: 3558, 6305: 3559, 6591: 3560, 6791: 3561, 6852: 3562, 6858: 3563, 31522: 3564, 52967: 3565, 55069: 3566, 55444: 3567, 55814: 3568, 57147: 3569, 58103: 3570, 5867: 3571, 58154: 3572, 50274: 3573, 39292: 3574, 44937: 3575, 48698: 3576, 5812: 3577, 1185: 3578, 926: 3579, 949: 3580, 1041: 3581, 2010: 3582, 4103: 3583, 4427: 3584, 5304: 3585, 5341: 3586, 5434: 3587, 4546: 3588, 5300: 3589, 3307: 3590, 2360: 3591, 2594: 3592, 3089: 3593, 7001: 3594, 6303: 3595, 7669: 3596, 39446: 3597, 81535: 3598, 72129: 3599, 63436: 3600, 55577: 3601, 2318: 3602, 2792: 3603, 20: 3604, 2659: 3605, 3197: 3606, 3266: 3607, 3576: 3608, 3425: 3609, 164: 3610, 1189: 3611, 1192: 3612, 60030: 3613, 69654: 3614, 75395: 3615, 78266: 3616, 91974: 3617, 93297: 3618, 96691: 3619, 96917: 3620, 98361: 3621, 100810: 3622, 103075: 3623, 103688: 3624, 78349: 3625, 80363: 3626, 80831: 3627, 81417: 3628, 82041: 3629, 84601: 3630, 85397: 3631, 90405: 3632, 90469: 3633, 84189: 3634, 4887: 3635, 6952: 3636, 6059: 3637, 4386: 3638, 4989: 3639, 5065: 3640, 5094: 3641, 5296: 3642, 5414: 3643, 5106: 3644, 6586: 3645, 6593: 3646, 6686: 3647, 6687: 3648, 6702: 3649, 6750: 3650, 6752: 3651, 6764: 3652, 6886: 3653, 6887: 3654, 6946: 3655, 6949: 3656, 6958: 3657, 7142: 3658, 6566: 3659, 5803: 3660, 5874: 3661, 5900: 3662, 6006: 3663, 6014: 3664, 6249: 3665, 6338: 3666, 6484: 3667, 6536: 3668, 6550: 3669, 2381: 3670, 2383: 3671, 2384: 3672, 27397: 3673, 55442: 3674, 58303: 3675, 3155: 3676, 1091: 3677, 1135: 3678, 1132: 3679, 1131: 3680, 900: 3681, 1187: 3682, 987: 3683, 971: 3684, 948: 3685, 1296: 3686, 1295: 3687, 1305: 3688, 1290: 3689, 1286: 3690, 1414: 3691, 1395: 3692, 1194: 3693, 1190: 3694, 214: 3695, 287: 3696, 321: 3697, 14: 3698, 154: 3699, 55: 3700, 324: 3701, 299: 3702, 331: 3703, 326: 3704, 726: 3705, 722: 3706, 691: 3707, 369: 3708, 406: 3709, 1596: 3710, 1624: 3711, 1683: 3712, 1694: 3713, 1730: 3714, 1519: 3715, 53: 3716, 1140: 3717, 74553: 3718, 72356: 3719, 3910: 3720, 7312: 3721, 6464: 3722, 26974: 3723, 74795: 3724, 83177: 3725, 102984: 3726, 102747: 3727, 103602: 3728, 104339: 3729, 106594: 3730, 105540: 3731, 105746: 3732, 106927: 3733, 102686: 3734, 104875: 3735, 101283: 3736, 100507: 3737, 100390: 3738, 99853: 3739, 99130: 3740, 99122: 3741, 99117: 3742, 98279: 3743, 97836: 3744, 96935: 3745, 107951: 3746, 96608: 3747, 102378: 3748, 108078: 3749, 113453: 3750, 121007: 3751, 120813: 3752, 119714: 3753, 118894: 3754, 118862: 3755, 118834: 3756, 118572: 3757, 118530: 3758, 118270: 3759, 117109: 3760, 116738: 3761, 116718: 3762, 115111: 3763, 95843: 3764, 113252: 3765, 111146: 3766, 109596: 3767, 109241: 3768, 108949: 3769, 116817: 3770, 95633: 3771, 91666: 3772, 83910: 3773, 82854: 3774, 81537: 3775, 81087: 3776, 80727: 3777, 79897: 3778, 79684: 3779, 78620: 3780, 78142: 3781, 77688: 3782, 76301: 3783, 76143: 3784, 74698: 3785, 74683: 3786, 74342: 3787, 73822: 3788, 73160: 3789, 73042: 3790, 73015: 3791, 83969: 3792, 84246: 3793, 84944: 3794, 94661: 3795, 93022: 3796, 93006: 3797, 92643: 3798, 121097: 3799, 91386: 3800, 91355: 3801, 90717: 3802, 89898: 3803, 88812: 3804, 88785: 3805, 88746: 3806, 88069: 3807, 87834: 3808, 86298: 3809, 86059: 3810, 85881: 3811, 85295: 3812, 84512: 3813, 121338: 3814, 127134: 3815, 121469: 3816, 157775: 3817, 157296: 3818, 156781: 3819, 156025: 3820, 155589: 3821, 153408: 3822, 153386: 3823, 150554: 3824, 149566: 3825, 149508: 3826, 158398: 3827, 149352: 3828, 148775: 3829, 148632: 3830, 147936: 3831, 147410: 3832, 146986: 3833, 146684: 3834, 146244: 3835, 145491: 3836, 144222: 3837, 143559: 3838, 143031: 3839, 142831: 3840, 142550: 3841, 149350: 3842, 158882: 3843, 159069: 3844, 160567: 3845, 184791: 3846, 184349: 3847, 182731: 3848, 182299: 3849, 182297: 3850, 182293: 3851, 181065: 3852, 179211: 3853, 177765: 3854, 177185: 3855, 176805: 3856, 176621: 3857, 174681: 3858, 173253: 3859, 172321: 3860, 171811: 3861, 171751: 3862, 170993: 3863, 170837: 3864, 169912: 3865, 167854: 3866, 167772: 3867, 167380: 3868, 167018: 3869, 164707: 3870, 164226: 3871, 164200: 3872, 163527: 3873, 142444: 3874, 121342: 3875, 142196: 3876, 141830: 3877, 131439: 3878, 131130: 3879, 131104: 3880, 131098: 3881, 130520: 3882, 130518: 3883, 130452: 3884, 129354: 3885, 129011: 3886, 128968: 3887, 128944: 3888, 128852: 3889, 128594: 3890, 131610: 3891, 128089: 3892, 128087: 3893, 72701: 3894, 127052: 3895, 126921: 3896, 126577: 3897, 126088: 3898, 125974: 3899, 125970: 3900, 124404: 3901, 124273: 3902, 122092: 3903, 121781: 3904, 128366: 3905, 131826: 3906, 132153: 3907, 132422: 3908, 141646: 3909, 141544: 3910, 141513: 3911, 140711: 3912, 140561: 3913, 140541: 3914, 140481: 3915, 140133: 3916, 139994: 3917, 139640: 3918, 139157: 3919, 136834: 3920, 136503: 3921, 136359: 3922, 136355: 3923, 136353: 3924, 136341: 3925, 135937: 3926, 135777: 3927, 134847: 3928, 134334: 3929, 134004: 3930, 133879: 3931, 133867: 3932, 133712: 3933, 132800: 3934, 132584: 3935, 132496: 3936, 141928: 3937, 72692: 3938, 72178: 3939, 3606: 3940, 3604: 3941, 3599: 3942, 3315: 3943, 3097: 3944, 3061: 3945, 3991: 3946, 5621: 3947, 5529: 3948, 5480: 3949, 5092: 3950, 4899: 3951, 4300: 3952, 950: 3953, 947: 3954, 946: 3955, 945: 3956, 936: 3957, 918: 3958, 905: 3959, 72624: 3960, 901: 3961, 6271: 3962, 55269: 3963, 53578: 3964, 53355: 3965, 53280: 3966, 51575: 3967, 51167: 3968, 50999: 3969, 50613: 3970, 49735: 3971, 49013: 3972, 48982: 3973, 48520: 3974, 47736: 3975, 47725: 3976, 46105: 3977, 44851: 3978, 44777: 3979, 44773: 3980, 70697: 3981, 69720: 3982, 69469: 3983, 69304: 3984, 69211: 3985, 67888: 3986, 66943: 3987, 66798: 3988, 65588: 3989, 64116: 3990, 62008: 3991, 60737: 3992, 60289: 3993, 58291: 3994, 48649: 3995, 42725: 3996, 8978: 3997, 8814: 3998, 8372: 3999, 8238: 4000, 7381: 4001, 42761: 4002, 7297: 4003, 25887: 4004, 7209: 4005, 6783: 4006, 6650: 4007, 6604: 4008, 6402: 4009, 7067: 4010, 26183: 4011, 26265: 4012, 42013: 4013, 41828: 4014, 26184: 4015, 40339: 4016, 37444: 4017, 37384: 4018, 35807: 4019, 34332: 4020, 34312: 4021, 33830: 4022, 40962: 4023, 33090: 4024, 26645: 4025, 27826: 4026, 31851: 4027, 27619: 4028, 31925: 4029, 32596: 4030, 26429: 4031, 32243: 4032, 32060: 4033, 1034: 4034, 896: 4035, 1144: 4036, 1366: 4037, 1411: 4038, 1417: 4039, 791: 4040, 1137: 4041, 1116: 4042, 766: 4043, 68: 4044, 81: 4045, 116: 4046, 735: 4047, 85: 4048, 617: 4049, 581: 4050, 3267: 4051, 3182: 4052, 2992: 4053, 3013: 4054, 3018: 4055, 3153: 4056, 3810: 4057, 3840: 4058, 3563: 4059, 3768: 4060, 3727: 4061, 2456: 4062, 2419: 4063, 2522: 4064, 2298: 4065, 2625: 4066, 2790: 4067, 2817: 4068, 2784: 4069, 2868: 4070, 2782: 4071, 2651: 4072, 4304: 4073, 6678: 4074, 6731: 4075, 6744: 4076, 6638: 4077, 6820: 4078, 6963: 4079, 6629: 4080, 6203: 4081, 6219: 4082, 6283: 4083, 6620: 4084, 6327: 4085, 6375: 4086, 6395: 4087, 6461: 4088, 8426: 4089, 8501: 4090, 8507: 4091, 8581: 4092, 27317: 4093, 27873: 4094, 7118: 4095, 7308: 4096, 8266: 4097, 7561: 4098, 7650: 4099, 7802: 4100, 8016: 4101, 8147: 4102, 7492: 4103, 5749: 4104, 4438: 4105, 4587: 4106, 4599: 4107, 4624: 4108, 4645: 4109, 4661: 4110, 4678: 4111, 4774: 4112, 4800: 4113, 4092: 4114, 4109: 4115, 4254: 4116, 4316: 4117, 4214: 4118, 4850: 4119, 5479: 4120, 5588: 4121, 5640: 4122, 5650: 4123, 5438: 4124, 4909: 4125, 4987: 4126, 5165: 4127, 5294: 4128, 5346: 4129, 2138: 4130, 533: 4131, 384: 4132, 464: 4133, 1760: 4134, 2117: 4135, 2122: 4136, 1974: 4137, 1981: 4138, 1771: 4139, 1321: 4140, 1337: 4141, 1340: 4142, 1241: 4143, 54190: 4144, 2398: 4145, 2114: 4146, 1606: 4147, 2103: 4148, 4732: 4149, 4954: 4150, 5027: 4151, 5072: 4152, 5246: 4153, 5247: 4154, 3071: 4155, 3690: 4156, 4126: 4157, 6367: 4158, 5619: 4159, 5792: 4160, 6051: 4161, 6288: 4162, 2280: 4163, 2600: 4164, 1529: 4165, 1659: 4166, 1942: 4167, 3819: 4168, 5109: 4169, 5420: 4170, 79139: 4171, 71745: 4172, 2262: 4173, 1958: 4174, 5380: 4175, 6183: 4176, 6785: 4177, 3244: 4178, 3179: 4179, 2337: 4180, 233: 4181, 59022: 4182, 58972: 4183, 57522: 4184, 7367: 4185, 50912: 4186, 4873: 4187, 91653: 4188, 91126: 4189, 90890: 4190, 88108: 4191, 87194: 4192, 91671: 4193, 91976: 4194, 96728: 4195, 134881: 4196, 132046: 4197, 86815: 4198, 116799: 4199, 106766: 4200, 99764: 4201, 86014: 4202, 70728: 4203, 69140: 4204, 65802: 4205, 65088: 4206, 64114: 4207, 62553: 4208, 65577: 4209, 81819: 4210, 81156: 4211, 80586: 4212, 80572: 4213, 79572: 4214, 77427: 4215, 77206: 4216, 6169: 4217, 6030: 4218, 6060: 4219, 6012: 4220, 7036: 4221, 6579: 4222, 7050: 4223, 7034: 4224, 4676: 4225, 7380: 4226, 4476: 4227, 4663: 4228, 4740: 4229, 5460: 4230, 4941: 4231, 4912: 4232, 69988: 4233, 80584: 4234, 85401: 4235, 93805: 4236, 94015: 4237, 94150: 4238, 94833: 4239, 54780: 4240, 8643: 4241, 8796: 4242, 25937: 4243, 32300: 4244, 53466: 4245, 45175: 4246, 938: 4247, 2837: 4248, 3746: 4249, 3719: 4250, 3325: 4251, 2551: 4252, 3163: 4253, 1833: 4254, 2325: 4255, 74324: 4256, 73881: 4257, 72104: 4258, 75341: 4259, 74727: 4260, 64993: 4261, 79333: 4262, 66371: 4263, 67923: 4264, 69134: 4265, 69529: 4266, 69685: 4267, 80124: 4268, 88235: 4269, 88345: 4270, 91261: 4271, 93790: 4272, 86347: 4273, 84156: 4274, 84844: 4275, 85316: 4276, 85736: 4277, 86066: 4278, 86320: 4279, 48872: 4280, 38159: 4281, 42191: 4282, 60904: 4283, 63515: 4284, 58554: 4285, 56060: 4286, 57183: 4287, 57504: 4288, 58425: 4289, 95311: 4290, 141816: 4291, 141818: 4292, 141820: 4293, 141836: 4294, 141844: 4295, 142020: 4296, 143511: 4297, 141810: 4298, 145994: 4299, 147196: 4300, 147250: 4301, 147282: 4302, 147286: 4303, 147300: 4304, 147326: 4305, 147328: 4306, 147330: 4307, 146028: 4308, 140265: 4309, 140038: 4310, 138835: 4311, 129514: 4312, 130970: 4313, 130976: 4314, 130978: 4315, 131237: 4316, 133716: 4317, 134041: 4318, 134095: 4319, 134109: 4320, 134184: 4321, 134252: 4322, 134326: 4323, 134849: 4324, 136445: 4325, 136447: 4326, 127098: 4327, 151769: 4328, 152591: 4329, 172793: 4330, 172825: 4331, 172909: 4332, 173351: 4333, 173355: 4334, 173535: 4335, 173619: 4336, 173963: 4337, 172637: 4338, 174551: 4339, 175387: 4340, 175397: 4341, 175401: 4342, 175431: 4343, 175435: 4344, 178613: 4345, 179133: 4346, 175293: 4347, 172589: 4348, 172587: 4349, 172585: 4350, 158402: 4351, 159811: 4352, 163072: 4353, 163112: 4354, 163134: 4355, 163386: 4356, 163925: 4357, 165959: 4358, 166183: 4359, 170411: 4360, 170597: 4361, 170777: 4362, 171749: 4363, 172577: 4364, 172583: 4365, 126430: 4366, 126426: 4367, 101962: 4368, 102602: 4369, 102666: 4370, 103235: 4371, 104780: 4372, 101088: 4373, 105593: 4374, 100553: 4375, 100302: 4376, 95313: 4377, 95377: 4378, 95654: 4379, 96020: 4380, 96373: 4381, 98604: 4382, 99145: 4383, 107159: 4384, 107408: 4385, 117444: 4386, 118166: 4387, 118888: 4388, 118896: 4389, 118985: 4390, 120138: 4391, 120478: 4392, 120625: 4393, 126090: 4394, 116411: 4395, 95175: 4396, 107410: 4397, 107412: 4398, 108540: 4399, 108727: 4400, 108981: 4401, 109633: 4402, 110586: 4403, 111622: 4404, 36401: 4405, 3306: 4406, 3310: 4407, 3592: 4408, 3629: 4409, 3677: 4410, 3687: 4411, 2495: 4412, 2931: 4413, 3742: 4414, 4325: 4415, 3821: 4416, 2131: 4417, 665: 4418, 935: 4419, 36363: 4420, 213: 4421, 1111: 4422, 1178: 4423, 1354: 4424, 4788: 4425, 8638: 4426, 8656: 4427, 8511: 4428, 7347: 4429, 7371: 4430, 8025: 4431, 8033: 4432, 8197: 4433, 9010: 4434, 26082: 4435, 26150: 4436, 32892: 4437, 33124: 4438, 30803: 4439, 26236: 4440, 26237: 4441, 26347: 4442, 26471: 4443, 26587: 4444, 26662: 4445, 26849: 4446, 26903: 4447, 27134: 4448, 27803: 4449, 27815: 4450, 27834: 4451, 5373: 4452, 5888: 4453, 6643: 4454, 5889: 4455, 6777: 4456, 6985: 4457, 6433: 4458, 6187: 4459, 5912: 4460, 99636: 4461, 5051: 4462, 5034: 4463, 5011: 4464, 4994: 4465, 5135: 4466, 4889: 4467, 4976: 4468, 6049: 4469, 5309: 4470, 5881: 4471, 5303: 4472, 5450: 4473, 5391: 4474, 5316: 4475, 5466: 4476, 4159: 4477, 156: 4478, 1684: 4479, 4024: 4480, 3795: 4481, 2585: 4482, 528: 4483, 346: 4484, 283: 4485, 7096: 4486, 26171: 4487, 40870: 4488, 87867: 4489, 87483: 4490, 87529: 4491, 91323: 4492, 85022: 4493, 85367: 4494, 92264: 4495, 82852: 4496, 93270: 4497, 93443: 4498, 100194: 4499, 101142: 4500, 100083: 4501, 104218: 4502, 102720: 4503, 99007: 4504, 93831: 4505, 94478: 4506, 94953: 4507, 95720: 4508, 80139: 4509, 96616: 4510, 97172: 4511, 98083: 4512, 79428: 4513, 61255: 4514, 62439: 4515, 63479: 4516, 104644: 4517, 55872: 4518, 56805: 4519, 59143: 4520, 58156: 4521, 65585: 4522, 73929: 4523, 74275: 4524, 74532: 4525, 78174: 4526, 78209: 4527, 71838: 4528, 69436: 4529, 70565: 4530, 70641: 4531, 71205: 4532, 71668: 4533, 104925: 4534, 162602: 4535, 161580: 4536, 162344: 4537, 162478: 4538, 165103: 4539, 165483: 4540, 165645: 4541, 165671: 4542, 165843: 4543, 166461: 4544, 167634: 4545, 167746: 4546, 165947: 4547, 168144: 4548, 161024: 4549, 160289: 4550, 155509: 4551, 155812: 4552, 156609: 4553, 157312: 4554, 157699: 4555, 159161: 4556, 159441: 4557, 159755: 4558, 160080: 4559, 160271: 4560, 158813: 4561, 168326: 4562, 168418: 4563, 176329: 4564, 178323: 4565, 179427: 4566, 179953: 4567, 180265: 4568, 175577: 4569, 181659: 4570, 182749: 4571, 183197: 4572, 183227: 4573, 183959: 4574, 184015: 4575, 55261: 4576, 181139: 4577, 174815: 4578, 174045: 4579, 173255: 4580, 168632: 4581, 168846: 4582, 170357: 4583, 170399: 4584, 170401: 4585, 170813: 4586, 170817: 4587, 170897: 4588, 170937: 4589, 170957: 4590, 171251: 4591, 171631: 4592, 171867: 4593, 171891: 4594, 172215: 4595, 172547: 4596, 148956: 4597, 116977: 4598, 118930: 4599, 121372: 4600, 121374: 4601, 121715: 4602, 119153: 4603, 109282: 4604, 110669: 4605, 110771: 4606, 110773: 4607, 111375: 4608, 112497: 4609, 135436: 4610, 136443: 4611, 136471: 4612, 135137: 4613, 136511: 4614, 142422: 4615, 148652: 4616, 136598: 4617, 134861: 4618, 127116: 4619, 127152: 4620, 127390: 4621, 128097: 4622, 128099: 4623, 128914: 4624, 128975: 4625, 129737: 4626, 130087: 4627, 184257: 4628, 123200: 4629, 55245: 4630, 54732: 4631, 4649: 4632, 4247: 4633, 3979: 4634, 4228: 4635, 2447: 4636, 1856: 4637, 4900: 4638, 40581: 4639, 44840: 4640, 44972: 4641, 42007: 4642, 34520: 4643, 34530: 4644, 32298: 4645, 47640: 4646, 48322: 4647, 49396: 4648, 5942: 4649, 6003: 4650, 5025: 4651, 5564: 4652, 5363: 4653, 5501: 4654, 5524: 4655, 7439: 4656, 8531: 4657, 6482: 4658, 7225: 4659, 7285: 4660, 2749: 4661, 2475: 4662, 3099: 4663, 2844: 4664, 2969: 4665, 2764: 4666, 1735: 4667, 3103: 4668, 1829: 4669, 1897: 4670, 2132: 4671, 2166: 4672, 2331: 4673, 3217: 4674, 4003: 4675, 4063: 4676, 4083: 4677, 4130: 4678, 3831: 4679, 3251: 4680, 3296: 4681, 3537: 4682, 3546: 4683, 779: 4684, 71: 4685, 1589: 4686, 1600: 4687, 1043: 4688, 127198: 4689, 141718: 4690, 167732: 4691, 2772: 4692, 487: 4693, 4792: 4694, 62383: 4695, 656: 4696, 73: 4697, 95105: 4698, 99112: 4699, 103984: 4700, 85020: 4701, 165551: 4702, 130578: 4703, 131023: 4704, 131714: 4705, 135532: 4706, 136562: 4707, 136666: 4708, 138210: 4709, 141004: 4710, 128488: 4711, 109846: 4712, 110718: 4713, 110730: 4714, 112868: 4715, 114184: 4716, 114795: 4717, 108689: 4718, 117533: 4719, 117887: 4720, 120635: 4721, 127184: 4722, 66511: 4723, 46337: 4724, 71530: 4725, 70599: 4726, 52319: 4727, 115122: 4728, 112515: 4729, 144976: 4730, 121231: 4731, 77866: 4732, 97306: 4733, 96737: 4734, 95088: 4735, 81782: 4736, 112171: 4737, 143458: 4738, 69306: 4739, 107630: 4740, 100882: 4741, 99437: 4742, 98607: 4743, 101112: 4744, 110330: 4745, 122890: 4746, 117466: 4747, 112623: 4748, 110882: 4749, 86721: 4750, 84952: 4751, 79553: 4752, 89190: 4753, 91470: 4754, 95761: 4755, 95690: 4756, 94931: 4757, 93855: 4758, 92694: 4759, 91947: 4760, 91690: 4761, 90403: 4762, 127096: 4763, 162082: 4764, 161966: 4765, 161634: 4766, 160563: 4767, 159717: 4768, 159415: 4769, 158783: 4770, 156387: 4771, 162578: 4772, 168266: 4773, 167790: 4774, 164881: 4775, 156371: 4776, 155064: 4777, 152970: 4778, 139855: 4779, 135567: 4780, 133771: 4781, 133217: 4782, 131920: 4783, 131749: 4784, 130490: 4785, 141408: 4786, 142420: 4787, 152284: 4788, 152091: 4789, 152083: 4790, 151695: 4791, 151455: 4792, 149902: 4793, 149830: 4794, 149146: 4795, 149144: 4796, 147142: 4797, 142509: 4798, 142456: 4799, 78218: 4800, 58301: 4801, 4864: 4802, 4738: 4803, 4082: 4804, 3342: 4805, 5088: 4806, 7265: 4807, 7008: 4808, 6902: 4809, 501: 4810, 1844: 4811, 65642: 4812, 65130: 4813, 63276: 4814, 67695: 4815, 75985: 4816, 73488: 4817, 71520: 4818, 71429: 4819, 71304: 4820, 69516: 4821, 8254: 4822, 33201: 4823, 27482: 4824, 27022: 4825, 26681: 4826, 40148: 4827, 55278: 4828, 43836: 4829, 50842: 4830, 45440: 4831, 1066: 4832, 6093: 4833, 5159: 4834, 37830: 4835, 5959: 4836, 5284: 4837, 5969: 4838, 5992: 4839, 5970: 4840, 5508: 4841, 4168: 4842, 6251: 4843, 44694: 4844, 27731: 4845, 48082: 4846, 6774: 4847, 6291: 4848, 26776: 4849, 8973: 4850, 7773: 4851, 3067: 4852, 567: 4853, 390: 4854, 2729: 4855, 1318: 4856, 1554: 4857, 2798: 4858, 4037: 4859, 4066: 4860, 4812: 4861, 3812: 4862, 4613: 4863, 4553: 4864, 4467: 4865, 4634: 4866, 3102: 4867, 3327: 4868, 893: 4869, 393: 4870, 1483: 4871, 1422: 4872, 132: 4873, 188: 4874, 2330: 4875, 2940: 4876, 1949: 4877, 6986: 4878, 6987: 4879, 7171: 4880, 7762: 4881, 26084: 4882, 5385: 4883, 3679: 4884, 5177: 4885, 2582: 4886, 59103: 4887, 2924: 4888, 8640: 4889, 4822: 4890, 4795: 4891, 4836: 4892, 4799: 4893, 4866: 4894, 4857: 4895, 4535: 4896, 4727: 4897, 4368: 4898, 4534: 4899, 4703: 4900, 4719: 4901, 4736: 4902, 5187: 4903, 5256: 4904, 5282: 4905, 5338: 4906, 5357: 4907, 4339: 4908, 5358: 4909, 5107: 4910, 4991: 4911, 4921: 4912, 5016: 4913, 5102: 4914, 4337: 4915, 3737: 4916, 3873: 4917, 3906: 4918, 3684: 4919, 3557: 4920, 3597: 4921, 3983: 4922, 4187: 4923, 4225: 4924, 4234: 4925, 4243: 4926, 4259: 4927, 4265: 4928, 4167: 4929, 4056: 4930, 3985: 4931, 3998: 4932, 4031: 4933, 4035: 4934, 4042: 4935, 26172: 4936, 26865: 4937, 27821: 4938, 31700: 4939, 32017: 4940, 7161: 4941, 7324: 4942, 8121: 4943, 8199: 4944, 43917: 4945, 44399: 4946, 47044: 4947, 49524: 4948, 49910: 4949, 3372: 4950, 42730: 4951, 34334: 4952, 34534: 4953, 37727: 4954, 39307: 4955, 42009: 4956, 5873: 4957, 5879: 4958, 5899: 4959, 5947: 4960, 6185: 4961, 5435: 4962, 5506: 4963, 5563: 4964, 5611: 4965, 5699: 4966, 6213: 4967, 6808: 4968, 6950: 4969, 7076: 4970, 6669: 4971, 6246: 4972, 6279: 4973, 6299: 4974, 6448: 4975, 6386: 4976, 2561: 4977, 373: 4978, 2775: 4979, 2819: 4980, 2889: 4981, 2590: 4982, 2682: 4983, 3185: 4984, 2996: 4985, 3011: 4986, 3055: 4987, 3093: 4988, 3117: 4989, 1661: 4990, 1465: 4991, 1344: 4992, 1401: 4993, 2077: 4994, 2344: 4995, 1727: 4996, 2070: 4997, 1950: 4998, 1957: 4999, 36525: 5000, 32289: 5001, 8827: 5002, 103606: 5003, 78316: 5004, 7316: 5005, 7255: 5006, 6619: 5007, 6332: 5008, 27416: 5009, 98243: 5010, 160718: 5011, 1334: 5012, 2038: 5013, 2091: 5014, 813: 5015, 840: 5016, 885: 5017, 1432: 5018, 9: 5019, 75: 5020, 634: 5021, 85885: 5022, 81456: 5023, 36535: 5024, 56715: 5025, 64034: 5026, 100843: 5027, 138396: 5028, 152270: 5029, 173145: 5030, 177615: 5031, 179709: 5032, 133780: 5033, 101973: 5034, 105355: 5035, 112454: 5036, 130634: 5037, 86644: 5038, 2880: 5039, 2879: 5040, 3618: 5041, 3286: 5042, 3287: 5043, 1516: 5044, 2734: 5045, 2750: 5046, 2779: 5047, 2511: 5048, 3076: 5049, 3028: 5050, 2863: 5051, 2970: 5052, 2946: 5053, 3096: 5054, 2361: 5055, 2349: 5056, 2290: 5057, 2247: 5058, 2239: 5059, 2130: 5060, 5847: 5061, 5788: 5062, 5637: 5063, 4784: 5064, 6509: 5065, 1948: 5066, 31038: 5067, 26313: 5068, 8614: 5069, 8571: 5070, 8128: 5071, 7107: 5072, 7089: 5073, 6684: 5074, 6658: 5075, 3467: 5076, 3341: 5077, 3283: 5078, 3224: 5079, 3223: 5080, 3200: 5081, 3167: 5082, 3141: 5083, 3134: 5084, 3130: 5085, 3473: 5086, 3492: 5087, 4205: 5088, 3506: 5089, 3503: 5090, 869: 5091, 764: 5092, 1078: 5093, 425: 5094, 1836: 5095, 1162: 5096, 1264: 5097, 2392: 5098, 55391: 5099, 66320: 5100, 27674: 5101, 2531: 5102, 2818: 5103, 2789: 5104, 2769: 5105, 2748: 5106, 2745: 5107, 2051: 5108, 2126: 5109, 2367: 5110, 2364: 5111, 2314: 5112, 2252: 5113, 2210: 5114, 2162: 5115, 2977: 5116, 2986: 5117, 4055: 5118, 3877: 5119, 3864: 5120, 4450: 5121, 6538: 5122, 6322: 5123, 6319: 5124, 6250: 5125, 3858: 5126, 4735: 5127, 3357: 5128, 3649: 5129, 3616: 5130, 3572: 5131, 1979: 5132, 990: 5133, 718: 5134, 242: 5135, 1627: 5136, 1969: 5137, 1713: 5138, 1163: 5139, 1107: 5140, 5643: 5141, 45732: 5142, 1837: 5143, 1821: 5144, 4440: 5145, 3404: 5146, 5485: 5147, 5415: 5148, 5527: 5149, 5530: 5150, 5993: 5151, 6480: 5152, 4406: 5153, 33564: 5154, 26131: 5155, 26078: 5156, 7934: 5157, 7333: 5158, 4951: 5159, 4936: 5160, 5222: 5161, 4867: 5162, 4373: 5163, 4193: 5164, 4142: 5165, 5472: 5166, 6568: 5167, 7045: 5168, 7060: 5169, 7080: 5170, 7614: 5171, 8008: 5172, 5941: 5173, 6005: 5174, 6252: 5175, 6324: 5176, 6339: 5177, 2084: 5178, 2017: 5179, 1051: 5180, 1454: 5181, 33880: 5182, 39427: 5183, 43904: 5184, 47382: 5185, 44613: 5186, 8911: 5187, 8362: 5188, 2526: 5189, 5410: 5190, 7259: 5191, 35957: 5192, 34336: 5193, 40826: 5194, 25746: 5195, 39449: 5196, 25750: 5197, 25771: 5198, 25797: 5199, 25827: 5200, 25856: 5201, 25906: 5202, 27772: 5203, 33669: 5204, 31297: 5205, 33499: 5206, 42015: 5207, 48412: 5208, 48593: 5209, 49389: 5210, 9008: 5211, 51925: 5212, 51939: 5213, 52694: 5214, 46974: 5215, 43560: 5216, 45081: 5217, 42011: 5218, 6624: 5219, 6856: 5220, 6212: 5221, 6412: 5222, 6429: 5223, 6483: 5224, 8600: 5225, 8609: 5226, 8695: 5227, 8860: 5228, 8948: 5229, 8718: 5230, 7728: 5231, 7065: 5232, 7078: 5233, 7121: 5234, 7164: 5235, 7215: 5236, 7222: 5237, 7243: 5238, 7302: 5239, 7366: 5240, 7369: 5241, 7054: 5242, 86487: 5243, 89804: 5244, 89939: 5245, 90647: 5246, 80126: 5247, 83132: 5248, 123545: 5249, 93008: 5250, 95558: 5251, 98154: 5252, 78574: 5253, 77846: 5254, 60161: 5255, 61406: 5256, 63853: 5257, 56176: 5258, 71970: 5259, 72731: 5260, 72733: 5261, 65261: 5262, 66297: 5263, 67788: 5264, 70159: 5265, 1929: 5266, 1931: 5267, 1936: 5268, 1938: 5269, 3801: 5270, 3909: 5271, 3964: 5272, 3364: 5273, 3564: 5274, 5264: 5275, 5387: 5276, 4920: 5277, 2176: 5278, 2013: 5279, 2847: 5280, 33903: 5281, 6380: 5282, 5665: 5283, 725: 5284, 453: 5285, 169: 5286, 4032: 5287, 4052: 5288, 4133: 5289, 4146: 5290, 4152: 5291, 4157: 5292, 4160: 5293, 4178: 5294, 3925: 5295, 3947: 5296, 3955: 5297, 3992: 5298, 3993: 5299, 4389: 5300, 4452: 5301, 4628: 5302, 4640: 5303, 4642: 5304, 4644: 5305, 4699: 5306, 4723: 5307, 4770: 5308, 4439: 5309, 4407: 5310, 4275: 5311, 4305: 5312, 4307: 5313, 4313: 5314, 4350: 5315, 3915: 5316, 3521: 5317, 3323: 5318, 3474: 5319, 3150: 5320, 3158: 5321, 4811: 5322, 3761: 5323, 3862: 5324, 3879: 5325, 3888: 5326, 3895: 5327, 3747: 5328, 3598: 5329, 4815: 5330, 6341: 5331, 6551: 5332, 6335: 5333, 6571: 5334, 6572: 5335, 6588: 5336, 6645: 5337, 6679: 5338, 6688: 5339, 6334: 5340, 6330: 5341, 5999: 5342, 6002: 5343, 6041: 5344, 6062: 5345, 6067: 5346, 6192: 5347, 6215: 5348, 6217: 5349, 6264: 5350, 6285: 5351, 6294: 5352, 7449: 5353, 7698: 5354, 8042: 5355, 7354: 5356, 7352: 5357, 6881: 5358, 6890: 5359, 6932: 5360, 6969: 5361, 6971: 5362, 6978: 5363, 7038: 5364, 7264: 5365, 7299: 5366, 5046: 5367, 5062: 5368, 5083: 5369, 5095: 5370, 5155: 5371, 5298: 5372, 5131: 5373, 4826: 5374, 4849: 5375, 4879: 5376, 4888: 5377, 4898: 5378, 4911: 5379, 4919: 5380, 4959: 5381, 4978: 5382, 5323: 5383, 5325: 5384, 5646: 5385, 5666: 5386, 5668: 5387, 5680: 5388, 5684: 5389, 5772: 5390, 5809: 5391, 5818: 5392, 5615: 5393, 5347: 5394, 5379: 5395, 5421: 5396, 5423: 5397, 5425: 5398, 5427: 5399, 5486: 5400, 5498: 5401, 5522: 5402, 5609: 5403, 5612: 5404, 3078: 5405, 1437: 5406, 1447: 5407, 166: 5408, 97: 5409, 600: 5410, 760: 5411, 2563: 5412, 2607: 5413, 2691: 5414, 2474: 5415, 2696: 5416, 2971: 5417, 2976: 5418, 3003: 5419, 2765: 5420, 2295: 5421, 1695: 5422, 1827: 5423, 1649: 5424, 1546: 5425, 1598: 5426, 1611: 5427, 2181: 5428, 2025: 5429, 2022: 5430, 1941: 5431, 2457: 5432, 2534: 5433, 3573: 5434, 3726: 5435, 1582: 5436, 162968: 5437, 162982: 5438, 164917: 5439, 166291: 5440, 165639: 5441, 161594: 5442, 168090: 5443, 168218: 5444, 165635: 5445, 157369: 5446, 148978: 5447, 127212: 5448, 170907: 5449, 158035: 5450, 178827: 5451, 172705: 5452, 193587: 5453, 193583: 5454, 193581: 5455, 193579: 5456, 193573: 5457, 193571: 5458, 193567: 5459, 193565: 5460, 191005: 5461, 189333: 5462, 184641: 5463, 183911: 5464, 181413: 5465, 180987: 5466, 180985: 5467, 180297: 5468, 178111: 5469, 177939: 5470, 177285: 5471, 175585: 5472, 175475: 5473, 174479: 5474, 173235: 5475, 180497: 5476, 193585: 5477, 122906: 5478, 84187: 5479, 74754: 5480, 68959: 5481, 70533: 5482, 109848: 5483, 117895: 5484, 109578: 5485, 103210: 5486, 104303: 5487, 106873: 5488, 2799: 5489, 5804: 5490, 1685: 5491, 1767: 5492, 3068: 5493, 2208: 5494, 2346: 5495, 2527: 5496, 4813: 5497, 5540: 5498, 5214: 5499, 5493: 5500, 5497: 5501, 5499: 5502, 5039: 5503, 3516: 5504, 3711: 5505, 3927: 5506, 952: 5507, 2035: 5508, 7044: 5509, 7844: 5510, 7976: 5511, 7981: 5512, 4785: 5513, 5244: 5514, 5570: 5515, 5909: 5516, 6368: 5517, 8491: 5518, 8607: 5519, 33896: 5520, 37240: 5521, 39869: 5522, 33421: 5523, 46572: 5524, 49263: 5525, 49932: 5526, 33138: 5527, 32387: 5528, 25788: 5529, 25825: 5530, 26122: 5531, 26840: 5532, 27592: 5533, 27850: 5534, 27865: 5535, 27879: 5536, 27912: 5537, 31364: 5538, 8582: 5539, 2557: 5540, 2810: 5541, 3091: 5542, 3627: 5543, 1951: 5544, 2967: 5545, 3469: 5546, 2436: 5547, 269: 5548, 496: 5549, 668: 5550, 99: 5551, 72: 5552, 229: 5553, 178: 5554, 155: 5555, 148: 5556, 26116: 5557, 1502: 5558, 1392: 5559, 1755: 5560, 2744: 5561, 3436: 5562, 2575: 5563, 4808: 5564, 4932: 5565, 3894: 5566, 3932: 5567, 4174: 5568, 5607: 5569, 1306: 5570, 3129: 5571, 4608: 5572, 2674: 5573, 2670: 5574, 2815: 5575, 8833: 5576, 8532: 5577, 45210: 5578, 57243: 5579, 56274: 5580, 5670: 5581, 731: 5582, 698: 5583, 1055: 5584, 2165: 5585, 4722: 5586, 5610: 5587, 5139: 5588, 50802: 5589, 62299: 5590, 27685: 5591, 45106: 5592, 34321: 5593, 2147: 5594, 2024: 5595, 3528: 5596, 3470: 5597, 3445: 5598, 3402: 5599, 3834: 5600, 3725: 5601, 3724: 5602, 3682: 5603, 2983: 5604, 3036: 5605, 3329: 5606, 3214: 5607, 3194: 5608, 3138: 5609, 574: 5610, 679: 5611, 49: 5612, 461: 5613, 1312: 5614, 1176: 5615, 58332: 5616, 54372: 5617, 59604: 5618, 27368: 5619, 83601: 5620, 79008: 5621, 67295: 5622, 81132: 5623, 27075: 5624, 8815: 5625, 5949: 5626, 71462: 5627, 179817: 5628, 140956: 5629, 185029: 5630, 100611: 5631, 106642: 5632, 189547: 5633, 117192: 5634, 77795: 5635, 117646: 5636, 147382: 5637, 184053: 5638, 180031: 5639, 179511: 5640, 166203: 5641, 159779: 5642, 150596: 5643, 147384: 5644, 147380: 5645, 147378: 5646, 147376: 5647, 147374: 5648, 147372: 5649, 146662: 5650, 119167: 5651, 128842: 5652, 130444: 5653, 140359: 5654, 123553: 5655, 4625: 5656, 51562: 5657, 56915: 5658, 62836: 5659, 65651: 5660, 62834: 5661, 7810: 5662, 7812: 5663, 7811: 5664, 34397: 5665, 40697: 5666, 92439: 5667, 106144: 5668, 107314: 5669, 87192: 5670, 87234: 5671, 161922: 5672, 168366: 5673, 170697: 5674, 174909: 5675, 175197: 5676, 182823: 5677, 183897: 5678, 188751: 5679, 113573: 5680, 43679: 5681, 89582: 5682, 86142: 5683, 57274: 5684, 83: 5685, 55451: 5686, 3963: 5687, 3422: 5688, 927: 5689, 2350: 5690, 2382: 5691, 2373: 5692, 2473: 5693, 2477: 5694, 2525: 5695, 2152: 5696, 1937: 5697, 1867: 5698, 1875: 5699, 2056: 5700, 3132: 5701, 6425: 5702, 3165: 5703, 3389: 5704, 3392: 5705, 3524: 5706, 3529: 5707, 3406: 5708, 3417: 5709, 3432: 5710, 3433: 5711, 3434: 5712, 3431: 5713, 2741: 5714, 2786: 5715, 2535: 5716, 2537: 5717, 3014: 5718, 2816: 5719, 1731: 5720, 517: 5721, 564: 5722, 504: 5723, 438: 5724, 444: 5725, 809: 5726, 870: 5727, 692: 5728, 429: 5729, 275: 5730, 1581: 5731, 1671: 5732, 1677: 5733, 1686: 5734, 1599: 5735, 1602: 5736, 1626: 5737, 1085: 5738, 1126: 5739, 1007: 5740, 7319: 5741, 4749: 5742, 5047: 5743, 8880: 5744, 54768: 5745, 55020: 5746, 55292: 5747, 61348: 5748, 61246: 5749, 56156: 5750, 31221: 5751, 46850: 5752, 46335: 5753, 41716: 5754, 37380: 5755, 36708: 5756, 3054: 5757, 1752: 5758, 2296: 5759, 4219: 5760, 60937: 5761, 62344: 5762, 62437: 5763, 64231: 5764, 63540: 5765, 1430: 5766, 4605: 5767, 4338: 5768, 5248: 5769, 3095: 5770, 3090: 5771, 25773: 5772, 27820: 5773, 27776: 5774, 27768: 5775, 26375: 5776, 25841: 5777, 9018: 5778, 27882: 5779, 32770: 5780, 32632: 5781, 32584: 5782, 32022: 5783, 31702: 5784, 31692: 5785, 31610: 5786, 31437: 5787, 30846: 5788, 30818: 5789, 27899: 5790, 5382: 5791, 8364: 5792, 6724: 5793, 6639: 5794, 6306: 5795, 8044: 5796, 7311: 5797, 7216: 5798, 7072: 5799, 7056: 5800, 7013: 5801, 2469: 5802, 59014: 5803, 62250: 5804, 26732: 5805, 5710: 5806, 6290: 5807, 26322: 5808, 8363: 5809, 97860: 5810, 95949: 5811, 96448: 5812, 97168: 5813, 101531: 5814, 103137: 5815, 5523: 5816, 95307: 5817, 66744: 5818, 81831: 5819, 91483: 5820, 91628: 5821, 2205: 5822, 55854: 5823, 2747: 5824, 3496: 5825, 2327: 5826, 3042: 5827, 2633: 5828, 1130: 5829, 4544: 5830, 4782: 5831, 5584: 5832, 5456: 5833, 3688: 5834, 4233: 5835, 4229: 5836, 3843: 5837, 45028: 5838, 37720: 5839, 32666: 5840, 51088: 5841, 6695: 5842, 6625: 5843, 6938: 5844, 6523: 5845, 6298: 5846, 7103: 5847, 7448: 5848, 63: 5849, 1236: 5850, 2514: 5851, 2432: 5852, 2515: 5853, 2984: 5854, 1655: 5855, 1887: 5856, 85342: 5857, 38304: 5858, 55241: 5859, 55553: 5860, 52715: 5861, 34330: 5862, 8626: 5863, 42728: 5864, 42732: 5865, 43556: 5866, 43871: 5867, 43932: 5868, 43919: 5869, 37853: 5870, 40946: 5871, 41769: 5872, 44397: 5873, 38798: 5874, 39231: 5875, 39435: 5876, 40851: 5877, 48161: 5878, 48596: 5879, 44731: 5880, 45208: 5881, 45442: 5882, 45662: 5883, 33158: 5884, 30883: 5885, 30894: 5886, 31114: 5887, 31223: 5888, 31427: 5889, 31431: 5890, 31445: 5891, 31867: 5892, 32009: 5893, 32011: 5894, 32019: 5895, 8939: 5896, 27434: 5897, 27790: 5898, 27816: 5899, 27837: 5900, 27839: 5901, 34271: 5902, 34532: 5903, 36509: 5904, 36533: 5905, 37477: 5906, 34129: 5907, 32589: 5908, 33148: 5909, 33164: 5910, 33639: 5911, 33815: 5912, 49220: 5913, 66509: 5914, 67186: 5915, 67197: 5916, 61705: 5917, 62081: 5918, 62511: 5919, 73515: 5920, 78893: 5921, 81512: 5922, 70301: 5923, 70334: 5924, 71252: 5925, 71254: 5926, 71823: 5927, 59985: 5928, 51698: 5929, 51933: 5930, 51937: 5931, 52283: 5932, 52712: 5933, 53127: 5934, 51412: 5935, 49276: 5936, 49284: 5937, 49793: 5938, 50005: 5939, 50158: 5940, 50445: 5941, 50798: 5942, 50923: 5943, 51082: 5944, 57326: 5945, 57526: 5946, 58105: 5947, 58627: 5948, 58876: 5949, 54256: 5950, 55995: 5951, 8918: 5952, 8916: 5953, 4789: 5954, 7258: 5955, 7261: 5956, 7262: 5957, 7150: 5958, 6862: 5959, 6951: 5960, 6959: 5961, 6615: 5962, 7376: 5963, 8799: 5964, 8830: 5965, 8835: 5966, 8836: 5967, 8864: 5968, 8912: 5969, 7440: 5970, 8369: 5971, 8530: 5972, 7257: 5973, 5458: 5974, 5478: 5975, 5572: 5976, 5573: 5977, 6374: 5978, 6013: 5979, 6057: 5980, 6040: 5981, 6186: 5982, 78103: 5983, 134214: 5984, 136912: 5985, 162600: 5986, 178061: 5987, 183011: 5988, 118198: 5989, 2566: 5990, 2050: 5991, 3672: 5992, 577: 5993, 42: 5994, 917: 5995, 1460: 5996, 1495: 5997, 1707: 5998, 1826: 5999, 1998: 6000, 4803: 6001, 4329: 6002, 4498: 6003, 4945: 6004, 4916: 6005, 4917: 6006, 4946: 6007, 4947: 6008, 4957: 6009, 4852: 6010, 81786: 6011, 118700: 6012, 3566: 6013, 2919: 6014, 547: 6015, 3106: 6016, 27320: 6017, 7486: 6018, 8327: 6019, 83613: 6020, 90888: 6021, 80969: 6022, 61026: 6023, 68486: 6024, 80615: 6025, 123: 6026, 757: 6027, 4956: 6028, 5279: 6029, 120799: 6030, 82169: 6031, 151763: 6032, 82053: 6033, 72605: 6034, 73431: 6035, 75813: 6036, 77667: 6037, 78039: 6038, 78088: 6039, 85056: 6040, 88699: 6041, 88954: 6042, 89047: 6043, 89840: 6044, 90057: 6045, 90430: 6046, 90439: 6047, 90531: 6048, 84637: 6049, 84942: 6050, 85131: 6051, 85510: 6052, 86295: 6053, 86835: 6054, 86960: 6055, 87298: 6056, 58315: 6057, 69606: 6058, 70361: 6059, 65810: 6060, 66171: 6061, 109042: 6062, 109673: 6063, 110297: 6064, 110350: 6065, 111364: 6066, 112070: 6067, 160954: 6068, 169984: 6069, 173941: 6070, 175569: 6071, 184253: 6072, 185435: 6073, 143365: 6074, 143367: 6075, 146210: 6076, 148888: 6077, 108928: 6078, 107953: 6079, 95207: 6080, 95309: 6081, 95583: 6082, 95873: 6083, 96411: 6084, 96417: 6085, 94780: 6086, 91622: 6087, 91978: 6088, 92008: 6089, 92507: 6090, 93363: 6091, 93512: 6092, 93563: 6093, 93766: 6094, 94266: 6095, 98239: 6096, 103539: 6097, 103624: 6098, 103655: 6099, 104243: 6100, 105351: 6101, 99750: 6102, 99910: 6103, 100163: 6104, 101025: 6105, 101076: 6106, 101362: 6107, 102033: 6108, 102684: 6109, 80862: 6110, 51037: 6111, 32213: 6112, 33085: 6113, 27478: 6114, 47254: 6115, 47810: 6116, 38294: 6117, 39400: 6118, 26686: 6119, 4470: 6120, 4531: 6121, 7016: 6122, 5784: 6123, 6983: 6124, 142115: 6125, 58309: 6126, 26524: 6127, 44633: 6128, 4217: 6129, 26366: 6130, 5319: 6131, 48883: 6132, 44929: 6133, 2907: 6134, 3929: 6135, 4480: 6136, 1739: 6137, 146024: 6138, 121171: 6139, 131656: 6140, 140725: 6141, 4711: 6142, 5820: 6143, 4529: 6144, 6027: 6145, 7564: 6146, 7815: 6147, 8011: 6148, 8015: 6149, 6337: 6150, 6370: 6151, 6713: 6152, 5137: 6153, 128: 6154, 2348: 6155, 2766: 6156, 2859: 6157, 294: 6158, 7879: 6159, 8535: 6160, 988: 6161, 1415: 6162, 7303: 6163, 2445: 6164, 2377: 6165, 1807: 6166, 2240: 6167, 3733: 6168, 3807: 6169, 388: 6170, 2812: 6171, 476: 6172, 2178: 6173, 2182: 6174, 1964: 6175, 2829: 6176, 1791: 6177, 2630: 6178, 2593: 6179, 7362: 6180, 7236: 6181, 7321: 6182, 7646: 6183, 7894: 6184, 7846: 6185, 7845: 6186, 7228: 6187, 7368: 6188, 6794: 6189, 6715: 6190, 6868: 6191, 6872: 6192, 7117: 6193, 7024: 6194, 8142: 6195, 8225: 6196, 27618: 6197, 27604: 6198, 27311: 6199, 26870: 6200, 26736: 6201, 26629: 6202, 26523: 6203, 26492: 6204, 26242: 6205, 31193: 6206, 30745: 6207, 27822: 6208, 8578: 6209, 8967: 6210, 8241: 6211, 8906: 6212, 8831: 6213, 5080: 6214, 5076: 6215, 5127: 6216, 5401: 6217, 5452: 6218, 4683: 6219, 4533: 6220, 4771: 6221, 4748: 6222, 6220: 6223, 6196: 6224, 6379: 6225, 6559: 6226, 6405: 6227, 5667: 6228, 5569: 6229, 5556: 6230, 6664: 6231, 5853: 6232, 5833: 6233, 31909: 6234, 60979: 6235, 60538: 6236, 60522: 6237, 60291: 6238, 60037: 6239, 59727: 6240, 65126: 6241, 56012: 6242, 58870: 6243, 57910: 6244, 57536: 6245, 66427: 6246, 66783: 6247, 78041: 6248, 77364: 6249, 74851: 6250, 79274: 6251, 80846: 6252, 74685: 6253, 69275: 6254, 69251: 6255, 70994: 6256, 74075: 6257, 71500: 6258, 71379: 6259, 71211: 6260, 54785: 6261, 42285: 6262, 40723: 6263, 38992: 6264, 44828: 6265, 43549: 6266, 37475: 6267, 33834: 6268, 33132: 6269, 37382: 6270, 34323: 6271, 51498: 6272, 51091: 6273, 54648: 6274, 53468: 6275, 50800: 6276, 50440: 6277, 45361: 6278, 50147: 6279, 1255: 6280, 1327: 6281, 1993: 6282, 1992: 6283, 1503: 6284, 1497: 6285, 886: 6286, 619: 6287, 3511: 6288, 3696: 6289, 3676: 6290, 3652: 6291, 3235: 6292, 4224: 6293, 4143: 6294, 4248: 6295, 4030: 6296, 3908: 6297, 3857: 6298, 3938: 6299, 2448: 6300, 2170: 6301, 2846: 6302, 2498: 6303, 2974: 6304, 2517: 6305, 3384: 6306, 3302: 6307, 3914: 6308, 3192: 6309, 3794: 6310, 3480: 6311, 3728: 6312, 2624: 6313, 3046: 6314, 3038: 6315, 2964: 6316, 2937: 6317, 2824: 6318, 5272: 6319, 5258: 6320, 5241: 6321, 5147: 6322, 6254: 6323, 6122: 6324, 5938: 6325, 5884: 6326, 5745: 6327, 5723: 6328, 5603: 6329, 4285: 6330, 4116: 6331, 4061: 6332, 4809: 6333, 4384: 6334, 4345: 6335, 4334: 6336, 1123: 6337, 298: 6338, 556: 6339, 1904: 6340, 2323: 6341, 2073: 6342, 2069: 6343, 2212: 6344, 1594: 6345, 1574: 6346, 1571: 6347, 1533: 6348, 1406: 6349, 1167: 6350, 107069: 6351, 73266: 6352, 86817: 6353, 91079: 6354, 70984: 6355, 60293: 6356, 71619: 6357, 113207: 6358, 4091: 6359, 6086: 6360, 5876: 6361, 3689: 6362, 3767: 6363, 3771: 6364, 3525: 6365, 4010: 6366, 4009: 6367, 4043: 6368, 4110: 6369, 4412: 6370, 4443: 6371, 4459: 6372, 4000: 6373, 3833: 6374, 3846: 6375, 3806: 6376, 3926: 6377, 3928: 6378, 3930: 6379, 3957: 6380, 3971: 6381, 3974: 6382, 2903: 6383, 3015: 6384, 2902: 6385, 2852: 6386, 2866: 6387, 3313: 6388, 3331: 6389, 3345: 6390, 3368: 6391, 3161: 6392, 4473: 6393, 4492: 6394, 31923: 6395, 34528: 6396, 37736: 6397, 7619: 6398, 8959: 6399, 60760: 6400, 48416: 6401, 42418: 6402, 43460: 6403, 43869: 6404, 46967: 6405, 47261: 6406, 47950: 6407, 5428: 6408, 5462: 6409, 5543: 6410, 5544: 6411, 4506: 6412, 4522: 6413, 4709: 6414, 4953: 6415, 4966: 6416, 5638: 6417, 1128: 6418, 1389: 6419, 963: 6420, 1008: 6421, 2347: 6422, 2365: 6423, 2400: 6424, 2163: 6425, 2241: 6426, 2259: 6427, 2286: 6428, 2460: 6429, 2462: 6430, 2120: 6431, 1660: 6432, 1983: 6433, 1984: 6434, 2095: 6435, 2098: 6436, 2057: 6437, 1995: 6438, 2055: 6439, 2043: 6440, 6453: 6441, 26704: 6442, 6125: 6443, 2494: 6444, 2439: 6445, 2549: 6446, 2660: 6447, 1699: 6448, 2066: 6449, 3559: 6450, 3634: 6451, 3713: 6452, 3738: 6453, 3849: 6454, 2988: 6455, 3007: 6456, 2932: 6457, 129: 6458, 341: 6459, 102007: 6460, 68597: 6461, 33677: 6462, 4830: 6463, 8383: 6464, 7720: 6465, 97470: 6466, 96121: 6467, 165549: 6468, 130576: 6469, 129937: 6470, 127323: 6471, 115231: 6472, 113345: 6473, 92192: 6474, 80839: 6475, 87522: 6476, 3871: 6477, 3086: 6478, 2828: 6479, 2149: 6480, 3412: 6481, 3544: 6482, 3710: 6483, 3667: 6484, 2736: 6485, 3043: 6486, 499: 6487, 470: 6488, 278: 6489, 1440: 6490, 998: 6491, 169034: 6492, 160848: 6493, 171765: 6494, 61729: 6495, 62113: 6496, 58655: 6497, 58806: 6498, 70663: 6499, 71248: 6500, 72405: 6501, 67799: 6502, 68600: 6503, 36537: 6504, 74452: 6505, 34523: 6506, 54745: 6507, 54934: 6508, 50610: 6509, 109895: 6510, 112370: 6511, 103048: 6512, 26887: 6513, 134528: 6514, 134783: 6515, 134808: 6516, 136449: 6517, 138798: 6518, 112911: 6519, 116138: 6520, 127108: 6521, 84615: 6522, 74916: 6523, 76060: 6524, 90376: 6525, 91128: 6526, 1439: 6527, 1526: 6528, 1746: 6529, 6554: 6530, 6811: 6531, 7460: 6532, 7926: 6533, 4733: 6534, 4757: 6535, 4845: 6536, 5128: 6537, 8261: 6538, 944: 6539, 72294: 6540, 80590: 6541, 85788: 6542, 79251: 6543, 74624: 6544, 74868: 6545, 64501: 6546, 49347: 6547, 60516: 6548, 64499: 6549, 118706: 6550, 131796: 6551, 112818: 6552, 112897: 6553, 114246: 6554, 132796: 6555, 160400: 6556, 163985: 6557, 177763: 6558, 185585: 6559, 158027: 6560, 148671: 6561, 140627: 6562, 145418: 6563, 91842: 6564, 94018: 6565, 89118: 6566, 106441: 6567, 106785: 6568, 105585: 6569, 105197: 6570, 109850: 6571, 6818: 6572, 26249: 6573, 115664: 6574, 122884: 6575, 105731: 6576, 104908: 6577, 140016: 6578, 183295: 6579, 175199: 6580, 159858: 6581, 158528: 6582, 156726: 6583, 149334: 6584, 92391: 6585, 6153: 6586, 6265: 6587, 6316: 6588, 5539: 6589, 5538: 6590, 5590: 6591, 5664: 6592, 5696: 6593, 5735: 6594, 5736: 6595, 5883: 6596, 5927: 6597, 6850: 6598, 6999: 6599, 7026: 6600, 7030: 6601, 6827: 6602, 6558: 6603, 6705: 6604, 4371: 6605, 4403: 6606, 4520: 6607, 4584: 6608, 4602: 6609, 4619: 6610, 4662: 6611, 7282: 6612, 4127: 6613, 4181: 6614, 4673: 6615, 4697: 6616, 5170: 6617, 5255: 6618, 5099: 6619, 5361: 6620, 5443: 6621, 5454: 6622, 4750: 6623, 4835: 6624, 4862: 6625, 4885: 6626, 4893: 6627, 4915: 6628, 52867: 6629, 53956: 6630, 52375: 6631, 49314: 6632, 48142: 6633, 48518: 6634, 48678: 6635, 53974: 6636, 58287: 6637, 65601: 6638, 65738: 6639, 65740: 6640, 65882: 6641, 55272: 6642, 55729: 6643, 56003: 6644, 9005: 6645, 26133: 6646, 26792: 6647, 8506: 6648, 7636: 6649, 7708: 6650, 7781: 6651, 8169: 6652, 8402: 6653, 27555: 6654, 27838: 6655, 37857: 6656, 39234: 6657, 30848: 6658, 31422: 6659, 31424: 6660, 33171: 6661, 33681: 6662, 34143: 6663, 34326: 6664, 1328: 6665, 1325: 6666, 1323: 6667, 1490: 6668, 3943: 6669, 409: 6670, 2962: 6671, 3051: 6672, 2787: 6673, 2506: 6674, 2516: 6675, 2559: 6676, 2639: 6677, 3145: 6678, 3830: 6679, 3280: 6680, 3423: 6681, 3478: 6682, 2332: 6683, 2154: 6684, 2190: 6685, 3171: 6686, 3872: 6687, 4432: 6688, 25886: 6689, 7943: 6690, 7218: 6691, 6706: 6692, 6452: 6693, 5398: 6694, 973: 6695, 1946: 6696, 4483: 6697, 3330: 6698, 6410: 6699, 7184: 6700, 7305: 6701, 6561: 6702, 40: 6703, 5433: 6704, 5925: 6705, 3732: 6706, 4117: 6707, 4754: 6708, 680: 6709, 2275: 6710, 4210: 6711, 4180: 6712, 3889: 6713, 618: 6714, 703: 6715, 2896: 6716, 74545: 6717, 104272: 6718, 110387: 6719, 121253: 6720, 133115: 6721, 81158: 6722, 82667: 6723, 69953: 6724, 69746: 6725, 71494: 6726, 71147: 6727, 71453: 6728, 71468: 6729, 71131: 6730, 65225: 6731, 71867: 6732, 65037: 6733, 65631: 6734, 67508: 6735, 68444: 6736, 80478: 6737, 72171: 6738, 78836: 6739, 79073: 6740, 80553: 6741, 81191: 6742, 77233: 6743, 77191: 6744, 76738: 6745, 72714: 6746, 72921: 6747, 74089: 6748, 74791: 6749, 76054: 6750, 76173: 6751, 74226: 6752, 44931: 6753, 53574: 6754, 53883: 6755, 54185: 6756, 54354: 6757, 51174: 6758, 49917: 6759, 48001: 6760, 48638: 6761, 47446: 6762, 60408: 6763, 60885: 6764, 61394: 6765, 62208: 6766, 64167: 6767, 57772: 6768, 58376: 6769, 117364: 6770, 117531: 6771, 117545: 6772, 117849: 6773, 118784: 6774, 118880: 6775, 120761: 6776, 121169: 6777, 124853: 6778, 127114: 6779, 127172: 6780, 127180: 6781, 127204: 6782, 127298: 6783, 128900: 6784, 128902: 6785, 106648: 6786, 109187: 6787, 128991: 6788, 109383: 6789, 109968: 6790, 111817: 6791, 113348: 6792, 114847: 6793, 116505: 6794, 105254: 6795, 134019: 6796, 159976: 6797, 160684: 6798, 168612: 6799, 170355: 6800, 171495: 6801, 173197: 6802, 173291: 6803, 173317: 6804, 179135: 6805, 184245: 6806, 188675: 6807, 188833: 6808, 189381: 6809, 158842: 6810, 155774: 6811, 152065: 6812, 134796: 6813, 136024: 6814, 138966: 6815, 140162: 6816, 133802: 6817, 140737: 6818, 143525: 6819, 143896: 6820, 144478: 6821, 145080: 6822, 148424: 6823, 150696: 6824, 140816: 6825, 87304: 6826, 87444: 6827, 87660: 6828, 89030: 6829, 89945: 6830, 90245: 6831, 90357: 6832, 90528: 6833, 90630: 6834, 90769: 6835, 86922: 6836, 83827: 6837, 83976: 6838, 84273: 6839, 84716: 6840, 85213: 6841, 86237: 6842, 86279: 6843, 97904: 6844, 100044: 6845, 100106: 6846, 100277: 6847, 102742: 6848, 102823: 6849, 101741: 6850, 91784: 6851, 91860: 6852, 92422: 6853, 92637: 6854, 94735: 6855, 96084: 6856, 1419: 6857, 3569: 6858, 773: 6859, 823: 6860, 8484: 6861, 8724: 6862, 8748: 6863, 26003: 6864, 26048: 6865, 26059: 6866, 26073: 6867, 26158: 6868, 26225: 6869, 26317: 6870, 8190: 6871, 7124: 6872, 7238: 6873, 7459: 6874, 7979: 6875, 26713: 6876, 27003: 6877, 40955: 6878, 42176: 6879, 27176: 6880, 27186: 6881, 27328: 6882, 26928: 6883, 31952: 6884, 32511: 6885, 32554: 6886, 32906: 6887, 32917: 6888, 31545: 6889, 7071: 6890, 4612: 6891, 4708: 6892, 4825: 6893, 4256: 6894, 3736: 6895, 3845: 6896, 6197: 6897, 6241: 6898, 6329: 6899, 5238: 6900, 5475: 6901, 5202: 6902, 5838: 6903, 26555: 6904, 2882: 6905, 111443: 6906, 110127: 6907, 3912: 6908, 3899: 6909, 3884: 6910, 2425: 6911, 2848: 6912, 2894: 6913, 4714: 6914, 4927: 6915, 5033: 6916, 5075: 6917, 5980: 6918, 4086: 6919, 4717: 6920, 4263: 6921, 4294: 6922, 4471: 6923, 4500: 6924, 4523: 6925, 30: 6926, 80: 6927, 183: 6928, 70451: 6929, 73344: 6930, 102194: 6931, 81257: 6932, 84240: 6933, 27866: 6934, 165101: 6935, 130482: 6936, 136850: 6937, 26528: 6938, 193609: 6939, 7925: 6940, 5226: 6941, 26564: 6942, 3420: 6943, 80917: 6944, 92938: 6945, 93610: 6946, 97757: 6947, 3567: 6948, 3580: 6949, 30850: 6950, 59118: 6951, 47404: 6952, 190221: 6953, 189043: 6954, 189111: 6955, 190207: 6956, 190209: 6957, 190213: 6958, 190215: 6959, 190219: 6960, 77177: 6961, 58842: 6962, 56869: 6963, 115969: 6964, 109687: 6965, 176751: 6966, 166946: 6967, 156783: 6968, 141890: 6969, 141749: 6970, 82378: 6971, 90345: 6972, 92243: 6973, 6869: 6974, 94405: 6975, 2975: 6976, 2188: 6977, 2676: 6978, 2370: 6979, 4419: 6980, 4195: 6981, 5707: 6982, 27751: 6983, 38164: 6984, 5404: 6985, 6530: 6986, 5951: 6987, 6023: 6988, 6286: 6989, 4297: 6990, 4404: 6991, 4422: 6992, 8405: 6993, 32179: 6994, 7940: 6995, 7937: 6996, 7084: 6997, 7115: 6998, 7178: 6999, 7179: 7000, 7820: 7001, 521: 7002, 2442: 7003, 1572: 7004, 60857: 7005, 60894: 7006, 52579: 7007, 54787: 7008, 55555: 7009, 57843: 7010, 90471: 7011, 88932: 7012, 89028: 7013, 89761: 7014, 90353: 7015, 92048: 7016, 88179: 7017, 88272: 7018, 40412: 7019, 6263: 7020, 6223: 7021, 7122: 7022, 5074: 7023, 58492: 7024, 59141: 7025, 34164: 7026, 48744: 7027, 44889: 7028, 4354: 7029, 4622: 7030, 59810: 7031, 53024: 7032, 96563: 7033, 93040: 7034, 74282: 7035, 73854: 7036, 6612: 7037, 8580: 7038, 27329: 7039, 8998: 7040, 1996: 7041, 65350: 7042, 89386: 7043, 70687: 7044, 85334: 7045, 87028: 7046, 2226: 7047, 26095: 7048, 26472: 7049, 1647: 7050, 161127: 7051, 176389: 7052, 176579: 7053, 96964: 7054, 101415: 7055, 145935: 7056, 148172: 7057, 155820: 7058, 155288: 7059, 106062: 7060, 107997: 7061, 109569: 7062, 132888: 7063, 114494: 7064, 113604: 7065, 3299: 7066, 3453: 7067, 4505: 7068, 4517: 7069, 4053: 7070, 4078: 7071, 2695: 7072, 1565: 7073, 2399: 7074, 2307: 7075, 3758: 7076, 3731: 7077, 3716: 7078, 3922: 7079, 3162: 7080, 3127: 7081, 3545: 7082, 33312: 7083, 55167: 7084, 112512: 7085, 1601: 7086, 1351: 7087, 1352: 7088, 335: 7089, 882: 7090, 5468: 7091, 5706: 7092, 5979: 7093, 6836: 7094, 6654: 7095, 6656: 7096, 5288: 7097, 6021: 7098, 5113: 7099, 4942: 7100, 4434: 7101, 6899: 7102, 7304: 7103, 94262: 7104, 92760: 7105, 87287: 7106, 84799: 7107, 80748: 7108, 71999: 7109, 71302: 7110, 56837: 7111, 7104: 7112, 32139: 7113, 27692: 7114, 25959: 7115, 8610: 7116, 8138: 7117, 7834: 7118, 7756: 7119, 42556: 7120, 3648: 7121, 40617: 7122, 40614: 7123, 44020: 7124, 32743: 7125, 32456: 7126, 33644: 7127, 52950: 7128, 58404: 7129, 47124: 7130, 51927: 7131, 31698: 7132, 6889: 7133, 7310: 7134, 27584: 7135, 26999: 7136, 26585: 7137, 27683: 7138, 27802: 7139, 8526: 7140, 31804: 7141, 108795: 7142, 113278: 7143, 107723: 7144, 102084: 7145, 102058: 7146, 101739: 7147, 103233: 7148, 104457: 7149, 104419: 7150, 104141: 7151, 103449: 7152, 172497: 7153, 169982: 7154, 166558: 7155, 163056: 7156, 172875: 7157, 162598: 7158, 172881: 7159, 182639: 7160, 179119: 7161, 176935: 7162, 172887: 7163, 161354: 7164, 137863: 7165, 134524: 7166, 152173: 7167, 74750: 7168, 72601: 7169, 71129: 7170, 77798: 7171, 63222: 7172, 60818: 7173, 68194: 7174, 65133: 7175, 64249: 7176, 95149: 7177, 95147: 7178, 95004: 7179, 94985: 7180, 94160: 7181, 95182: 7182, 95473: 7183, 97785: 7184, 97643: 7185, 96815: 7186, 96007: 7187, 95497: 7188, 95475: 7189, 84414: 7190, 82744: 7191, 90603: 7192, 88515: 7193, 152: 7194, 4444: 7195, 4814: 7196, 5476: 7197, 5134: 7198, 2656: 7199, 31435: 7200, 63808: 7201, 55259: 7202, 43376: 7203, 45074: 7204, 53326: 7205, 72696: 7206, 65685: 7207, 52279: 7208, 50003: 7209, 49647: 7210, 48598: 7211, 47952: 7212, 46865: 7213, 126482: 7214, 122902: 7215, 116887: 7216, 114713: 7217, 112460: 7218, 130686: 7219, 131934: 7220, 170289: 7221, 158254: 7222, 152079: 7223, 142372: 7224, 91660: 7225, 88356: 7226, 93139: 7227, 95796: 7228, 104076: 7229, 104074: 7230, 100737: 7231, 1003: 7232, 26765: 7233, 26764: 7234, 8387: 7235, 4632: 7236, 4580: 7237, 2546: 7238, 2856: 7239, 4355: 7240, 4323: 7241, 4276: 7242, 2669: 7243, 206: 7244, 5156: 7245, 5397: 7246, 5531: 7247, 5489: 7248, 5515: 7249, 5465: 7250, 4985: 7251, 4988: 7252, 5121: 7253, 5780: 7254, 6035: 7255, 6465: 7256, 6533: 7257, 6577: 7258, 6710: 7259, 6748: 7260, 5974: 7261, 5984: 7262, 6100: 7263, 6123: 7264, 6184: 7265, 6063: 7266, 3813: 7267, 3838: 7268, 3865: 7269, 3919: 7270, 3765: 7271, 3587: 7272, 3680: 7273, 4441: 7274, 4527: 7275, 4552: 7276, 4563: 7277, 4614: 7278, 4687: 7279, 4833: 7280, 4429: 7281, 4426: 7282, 4409: 7283, 4064: 7284, 4065: 7285, 4191: 7286, 4289: 7287, 4298: 7288, 4390: 7289, 4392: 7290, 4393: 7291, 4408: 7292, 7951: 7293, 33188: 7294, 40966: 7295, 41617: 7296, 25963: 7297, 26002: 7298, 26052: 7299, 26124: 7300, 26151: 7301, 26231: 7302, 26303: 7303, 26694: 7304, 31590: 7305, 31737: 7306, 32314: 7307, 32392: 7308, 44657: 7309, 52462: 7310, 52644: 7311, 44759: 7312, 44864: 7313, 46772: 7314, 47465: 7315, 25898: 7316, 7205: 7317, 7301: 7318, 7116: 7319, 7328: 7320, 7336: 7321, 7386: 7322, 7394: 7323, 7450: 7324, 6885: 7325, 6918: 7326, 7102: 7327, 6981: 7328, 7088: 7329, 7091: 7330, 7581: 7331, 7616: 7332, 8270: 7333, 8290: 7334, 8512: 7335, 8542: 7336, 8596: 7337, 8670: 7338, 8239: 7339, 7745: 7340, 7749: 7341, 7895: 7342, 7936: 7343, 7938: 7344, 7939: 7345, 7987: 7346, 7993: 7347, 8188: 7348, 8195: 7349, 8196: 7350, 4278: 7351, 1161: 7352, 1329: 7353, 363: 7354, 841: 7355, 2488: 7356, 2632: 7357, 3455: 7358, 1977: 7359, 1770: 7360, 1662: 7361, 2303: 7362, 2071: 7363, 2074: 7364, 104245: 7365, 63239: 7366, 6158: 7367, 7208: 7368, 6344: 7369, 59995: 7370, 44943: 7371, 27695: 7372, 2708: 7373, 5575: 7374, 4965: 7375, 4562: 7376, 5537: 7377, 5477: 7378, 5470: 7379, 4237: 7380, 695: 7381, 1900: 7382, 1150: 7383, 130842: 7384, 1701: 7385, 8738: 7386, 6408: 7387, 26147: 7388, 26631: 7389, 60333: 7390, 42734: 7391, 170939: 7392, 61465: 7393, 61697: 7394, 7134: 7395, 26810: 7396, 77266: 7397, 70708: 7398, 59814: 7399, 27664: 7400, 85412: 7401, 70305: 7402, 87785: 7403, 136540: 7404, 103596: 7405, 6776: 7406, 3760: 7407, 3590: 7408, 4077: 7409, 4175: 7410, 4268: 7411, 3823: 7412, 3855: 7413, 389: 7414, 670: 7415, 824: 7416, 549: 7417, 6216: 7418, 6222: 7419, 6517: 7420, 6268: 7421, 6269: 7422, 6280: 7423, 6036: 7424, 6039: 7425, 6078: 7426, 6116: 7427, 6141: 7428, 6159: 7429, 6162: 7430, 6195: 7431, 6349: 7432, 6442: 7433, 6493: 7434, 6510: 7435, 6295: 7436, 6308: 7437, 6314: 7438, 6315: 7439, 6033: 7440, 5663: 7441, 5678: 7442, 5685: 7443, 5688: 7444, 5636: 7445, 5635: 7446, 5562: 7447, 5625: 7448, 5633: 7449, 5968: 7450, 5994: 7451, 5817: 7452, 5829: 7453, 5880: 7454, 5896: 7455, 7315: 7456, 7340: 7457, 7251: 7458, 7248: 7459, 7165: 7460, 7175: 7461, 7176: 7462, 7193: 7463, 8119: 7464, 7348: 7465, 7364: 7466, 7390: 7467, 6628: 7468, 6631: 7469, 6670: 7470, 6689: 7471, 6696: 7472, 6699: 7473, 6718: 7474, 6720: 7475, 6598: 7476, 6542: 7477, 6547: 7478, 6549: 7479, 6560: 7480, 6563: 7481, 6574: 7482, 6582: 7483, 6616: 7484, 6883: 7485, 6898: 7486, 6954: 7487, 7033: 7488, 6780: 7489, 6797: 7490, 6809: 7491, 6810: 7492, 6812: 7493, 6816: 7494, 6851: 7495, 4666: 7496, 4672: 7497, 4675: 7498, 4721: 7499, 4745: 7500, 4595: 7501, 4600: 7502, 4610: 7503, 4617: 7504, 4636: 7505, 4583: 7506, 4777: 7507, 4780: 7508, 4818: 7509, 4847: 7510, 4573: 7511, 4312: 7512, 4353: 7513, 4242: 7514, 4290: 7515, 4488: 7516, 4524: 7517, 4478: 7518, 4475: 7519, 4451: 7520, 4458: 7521, 4462: 7522, 4463: 7523, 5345: 7524, 5390: 7525, 5337: 7526, 5416: 7527, 5285: 7528, 5297: 7529, 5321: 7530, 5322: 7531, 5324: 7532, 5328: 7533, 5278: 7534, 5471: 7535, 5483: 7536, 5521: 7537, 5461: 7538, 5422: 7539, 5424: 7540, 5437: 7541, 4961: 7542, 4962: 7543, 5068: 7544, 5071: 7545, 5178: 7546, 5209: 7547, 5237: 7548, 5240: 7549, 5073: 7550, 5081: 7551, 4926: 7552, 5112: 7553, 8587: 7554, 70862: 7555, 76763: 7556, 56908: 7557, 58879: 7558, 59037: 7559, 61401: 7560, 60128: 7561, 60141: 7562, 154358: 7563, 127130: 7564, 176423: 7565, 180045: 7566, 173209: 7567, 166024: 7568, 166568: 7569, 167570: 7570, 169992: 7571, 173205: 7572, 115828: 7573, 95135: 7574, 112940: 7575, 55250: 7576, 34540: 7577, 33725: 7578, 33826: 7579, 33838: 7580, 41527: 7581, 42602: 7582, 8915: 7583, 8919: 7584, 8952: 7585, 8954: 7586, 30820: 7587, 31162: 7588, 32116: 7589, 25834: 7590, 51694: 7591, 52299: 7592, 49280: 7593, 49957: 7594, 50792: 7595, 52668: 7596, 54771: 7597, 55110: 7598, 52724: 7599, 52784: 7600, 53447: 7601, 49132: 7602, 45635: 7603, 45062: 7604, 43912: 7605, 46347: 7606, 48319: 7607, 48560: 7608, 46559: 7609, 1332: 7610, 1121: 7611, 1040: 7612, 1870: 7613, 1922: 7614, 1484: 7615, 1609: 7616, 1656: 7617, 1605: 7618, 119: 7619, 650: 7620, 386: 7621, 3378: 7622, 3391: 7623, 3625: 7624, 3581: 7625, 3539: 7626, 2007: 7627, 3111: 7628, 3206: 7629, 4012: 7630, 4221: 7631, 4147: 7632, 4081: 7633, 4139: 7634, 4089: 7635, 4115: 7636, 4123: 7637, 4125: 7638, 4138: 7639, 3790: 7640, 3951: 7641, 3953: 7642, 3900: 7643, 3898: 7644, 3847: 7645, 2271: 7646, 2260: 7647, 2264: 7648, 2172: 7649, 2119: 7650, 2835: 7651, 2884: 7652, 2891: 7653, 3008: 7654, 2893: 7655, 2979: 7656, 2928: 7657, 2751: 7658, 2552: 7659, 2570: 7660, 2472: 7661, 2482: 7662, 90374: 7663, 27704: 7664, 79677: 7665, 85394: 7666, 86668: 7667, 90943: 7668, 97866: 7669, 89580: 7670, 69860: 7671, 50851: 7672, 2807: 7673, 4093: 7674, 1412: 7675, 8337: 7676, 8577: 7677, 6210: 7678, 59295: 7679, 26693: 7680, 3973: 7681, 3447: 7682, 5063: 7683, 4939: 7684, 4925: 7685, 4802: 7686, 4190: 7687, 2665: 7688, 136469: 7689, 91325: 7690, 6348: 7691, 6347: 7692, 6055: 7693, 6597: 7694, 8588: 7695, 7306: 7696, 27708: 7697, 33893: 7698, 45503: 7699, 5532: 7700, 71902: 7701, 80880: 7702, 89208: 7703, 92348: 7704, 68347: 7705, 66090: 7706, 568: 7707, 5580: 7708, 5675: 7709, 5787: 7710, 4743: 7711, 4453: 7712, 5409: 7713, 30898: 7714, 36276: 7715, 43708: 7716, 7192: 7717, 6992: 7718, 7017: 7719, 8782: 7720, 1675: 7721, 2540: 7722, 8690: 7723, 4402: 7724, 96430: 7725, 80864: 7726, 79879: 7727, 80241: 7728, 79946: 7729, 79590: 7730, 81949: 7731, 82093: 7732, 84696: 7733, 85025: 7734, 84950: 7735, 82095: 7736, 83374: 7737, 82527: 7738, 79259: 7739, 72694: 7740, 72224: 7741, 71732: 7742, 71466: 7743, 85399: 7744, 73386: 7745, 70545: 7746, 78116: 7747, 78034: 7748, 77421: 7749, 75816: 7750, 75803: 7751, 93242: 7752, 92665: 7753, 92198: 7754, 91935: 7755, 91873: 7756, 91688: 7757, 91273: 7758, 95201: 7759, 94919: 7760, 94896: 7761, 94494: 7762, 94323: 7763, 94011: 7764, 93982: 7765, 93980: 7766, 86593: 7767, 86028: 7768, 87876: 7769, 90738: 7770, 90719: 7771, 90343: 7772, 89427: 7773, 89388: 7774, 89343: 7775, 89305: 7776, 88672: 7777, 58351: 7778, 34018: 7779, 32291: 7780, 31000: 7781, 43558: 7782, 173751: 7783, 37211: 7784, 26700: 7785, 8447: 7786, 8137: 7787, 8136: 7788, 26464: 7789, 26386: 7790, 26152: 7791, 8743: 7792, 63393: 7793, 61289: 7794, 61123: 7795, 69604: 7796, 69453: 7797, 69118: 7798, 67361: 7799, 66785: 7800, 65135: 7801, 50064: 7802, 49688: 7803, 48262: 7804, 55294: 7805, 53808: 7806, 53453: 7807, 143255: 7808, 95508: 7809, 133782: 7810, 133545: 7811, 133377: 7812, 133365: 7813, 133281: 7814, 133195: 7815, 132618: 7816, 132488: 7817, 132462: 7818, 132333: 7819, 131480: 7820, 130083: 7821, 129659: 7822, 129657: 7823, 133798: 7824, 134021: 7825, 134158: 7826, 136859: 7827, 136816: 7828, 136800: 7829, 136786: 7830, 136778: 7831, 136664: 7832, 136654: 7833, 134859: 7834, 137517: 7835, 129333: 7836, 128592: 7837, 119655: 7838, 119068: 7839, 118997: 7840, 118924: 7841, 118814: 7842, 118702: 7843, 118512: 7844, 118354: 7845, 118326: 7846, 118248: 7847, 117511: 7848, 117107: 7849, 116985: 7850, 129250: 7851, 120783: 7852, 127319: 7853, 127194: 7854, 127136: 7855, 127132: 7856, 126420: 7857, 125221: 7858, 124859: 7859, 122932: 7860, 122490: 7861, 120637: 7862, 158022: 7863, 157432: 7864, 157407: 7865, 157340: 7866, 157270: 7867, 157200: 7868, 157172: 7869, 157130: 7870, 157122: 7871, 156706: 7872, 156553: 7873, 155892: 7874, 155743: 7875, 155659: 7876, 155358: 7877, 154065: 7878, 152658: 7879, 152105: 7880, 152085: 7881, 159077: 7882, 169180: 7883, 168456: 7884, 168350: 7885, 165347: 7886, 165343: 7887, 165139: 7888, 165075: 7889, 164753: 7890, 164647: 7891, 164375: 7892, 162828: 7893, 161918: 7894, 161830: 7895, 161290: 7896, 160730: 7897, 160646: 7898, 160573: 7899, 160440: 7900, 159690: 7901, 159193: 7902, 158956: 7903, 151777: 7904, 143257: 7905, 143001: 7906, 142424: 7907, 141422: 7908, 140850: 7909, 140525: 7910, 140237: 7911, 139857: 7912, 139415: 7913, 139052: 7914, 138546: 7915, 143410: 7916, 143472: 7917, 151745: 7918, 151653: 7919, 151559: 7920, 151501: 7921, 151317: 7922, 151315: 7923, 150604: 7924, 150401: 7925, 149612: 7926, 149590: 7927, 148709: 7928, 148592: 7929, 148482: 7930, 146730: 7931, 146688: 7932, 145150: 7933, 144716: 7934, 144714: 7935, 144620: 7936, 144262: 7937, 116849: 7938, 116419: 7939, 102880: 7940, 102819: 7941, 102278: 7942, 102165: 7943, 102025: 7944, 101895: 7945, 101884: 7946, 101577: 7947, 101529: 7948, 101360: 7949, 100487: 7950, 104906: 7951, 104760: 7952, 104129: 7953, 104078: 7954, 103865: 7955, 103755: 7956, 103543: 7957, 103502: 7958, 103221: 7959, 100326: 7960, 100304: 7961, 97858: 7962, 97742: 7963, 97328: 7964, 96726: 7965, 96530: 7966, 96281: 7967, 96114: 7968, 95744: 7969, 97870: 7970, 100226: 7971, 99992: 7972, 99846: 7973, 99574: 7974, 99415: 7975, 99005: 7976, 98908: 7977, 98296: 7978, 98230: 7979, 98175: 7980, 98160: 7981, 97936: 7982, 98836: 7983, 112749: 7984, 112303: 7985, 111795: 7986, 111680: 7987, 111663: 7988, 113186: 7989, 113225: 7990, 113350: 7991, 116413: 7992, 116207: 7993, 115216: 7994, 115170: 7995, 115151: 7996, 114925: 7997, 114601: 7998, 114028: 7999, 113532: 8000, 113416: 8001, 110826: 8002, 107962: 8003, 107945: 8004, 107702: 8005, 106883: 8006, 106542: 8007, 106438: 8008, 106330: 8009, 105755: 8010, 108188: 8011, 108601: 8012, 108715: 8013, 110655: 8014, 110611: 8015, 105121: 8016, 109416: 8017, 109372: 8018, 109317: 8019, 109295: 8020, 109191: 8021, 109183: 8022, 1839: 8023, 2693: 8024, 2887: 8025, 2368: 8026, 2523: 8027, 2521: 8028, 2520: 8029, 7372: 8030, 941: 8031, 5334: 8032, 5250: 8033, 4981: 8034, 5490: 8035, 5356: 8036, 4660: 8037, 4630: 8038, 4526: 8039, 4952: 8040, 4775: 8041, 4756: 8042, 6814: 8043, 6798: 8044, 6760: 8045, 7245: 8046, 7101: 8047, 6514: 8048, 5915: 8049, 5779: 8050, 5752: 8051, 5700: 8052, 6476: 8053, 6427: 8054, 6424: 8055, 6302: 8056, 3390: 8057, 3284: 8058, 3596: 8059, 3276: 8060, 3057: 8061, 4212: 8062, 4198: 8063, 4397: 8064, 4156: 8065, 3933: 8066, 4051: 8067, 3568: 8068, 3241: 8069, 3240: 8070, 3756: 8071, 3787: 8072, 2839: 8073, 1341: 8074, 706: 8075, 89039: 8076, 7181: 8077, 7620: 8078, 7786: 8079, 7920: 8080, 7767: 8081, 189713: 8082, 6935: 8083, 6966: 8084, 6945: 8085, 6775: 8086, 32582: 8087, 27563: 8088, 26838: 8089, 26359: 8090, 8848: 8091, 8620: 8092, 6611: 8093, 4977: 8094, 4863: 8095, 4236: 8096, 3989: 8097, 5205: 8098, 6528: 8099, 6466: 8100, 6064: 8101, 5986: 8102, 5239: 8103, 5224: 8104, 5212: 8105, 109161: 8106, 105835: 8107, 103107: 8108, 100556: 8109, 188189: 8110, 187717: 8111, 184721: 8112, 183317: 8113, 183199: 8114, 179813: 8115, 167064: 8116, 164655: 8117, 162414: 8118, 160644: 8119, 152711: 8120, 151311: 8121, 148982: 8122, 89090: 8123, 58191: 8124, 55156: 8125, 46855: 8126, 45382: 8127, 38198: 8128, 82857: 8129, 71640: 8130, 67665: 8131, 3859: 8132, 1757: 8133, 2677: 8134, 60832: 8135, 74580: 8136, 90384: 8137, 74530: 8138, 59738: 8139, 56169: 8140, 3723: 8141, 2493: 8142, 3832: 8143, 3405: 8144, 3619: 8145, 3658: 8146, 1180: 8147, 451: 8148, 5799: 8149, 5801: 8150, 5802: 8151, 5836: 8152, 6090: 8153, 5826: 8154, 5771: 8155, 5694: 8156, 5863: 8157, 5649: 8158, 5755: 8159, 6042: 8160, 6031: 8161, 6020: 8162, 5963: 8163, 5875: 8164, 5629: 8165, 6101: 8166, 5384: 8167, 5375: 8168, 5353: 8169, 5311: 8170, 5604: 8171, 5602: 8172, 5601: 8173, 5581: 8174, 5525: 8175, 5512: 8176, 5455: 8177, 5440: 8178, 6614: 8179, 6609: 8180, 6603: 8181, 6592: 8182, 6584: 8183, 6581: 8184, 6545: 8185, 6527: 8186, 6515: 8187, 6477: 8188, 6454: 8189, 6434: 8190, 6422: 8191, 6660: 8192, 6667: 8193, 6837: 8194, 6788: 8195, 6772: 8196, 6770: 8197, 6768: 8198, 6732: 8199, 6400: 8200, 6273: 8201, 6245: 8202, 6232: 8203, 6228: 8204, 6225: 8205, 6201: 8206, 6181: 8207, 6178: 8208, 6163: 8209, 6407: 8210, 6289: 8211, 6390: 8212, 6382: 8213, 6376: 8214, 6357: 8215, 6336: 8216, 5231: 8217, 4204: 8218, 4189: 8219, 4184: 8220, 4171: 8221, 4164: 8222, 4129: 8223, 4113: 8224, 4080: 8225, 4218: 8226, 4296: 8227, 4292: 8228, 3965: 8229, 3870: 8230, 3816: 8231, 3966: 8232, 4046: 8233, 4871: 8234, 4860: 8235, 4970: 8236, 5213: 8237, 5168: 8238, 5116: 8239, 5114: 8240, 5077: 8241, 5012: 8242, 5007: 8243, 4998: 8244, 4804: 8245, 4801: 8246, 4521: 8247, 4495: 8248, 4484: 8249, 4433: 8250, 4578: 8251, 4798: 8252, 4796: 8253, 4769: 8254, 4704: 8255, 4635: 8256, 4589: 8257, 8191: 8258, 26965: 8259, 26791: 8260, 25999: 8261, 31903: 8262, 31694: 8263, 31260: 8264, 31083: 8265, 31030: 8266, 25996: 8267, 25952: 8268, 8943: 8269, 8938: 8270, 8921: 8271, 8920: 8272, 8875: 8273, 8813: 8274, 8809: 8275, 8778: 8276, 8774: 8277, 8773: 8278, 8771: 8279, 8754: 8280, 8753: 8281, 8730: 8282, 8714: 8283, 8712: 8284, 25962: 8285, 8955: 8286, 25940: 8287, 25927: 8288, 25870: 8289, 25865: 8290, 25850: 8291, 25826: 8292, 25795: 8293, 25769: 8294, 25757: 8295, 25753: 8296, 25752: 8297, 8989: 8298, 8987: 8299, 8979: 8300, 8711: 8301, 34359: 8302, 48741: 8303, 49666: 8304, 56563: 8305, 55687: 8306, 55071: 8307, 53921: 8308, 50514: 8309, 50160: 8310, 35015: 8311, 44511: 8312, 43333: 8313, 42740: 8314, 7141: 8315, 7093: 8316, 7092: 8317, 7086: 8318, 7085: 8319, 7083: 8320, 7082: 8321, 7079: 8322, 7167: 8323, 7190: 8324, 7357: 8325, 7326: 8326, 7223: 8327, 7219: 8328, 7217: 8329, 7212: 8330, 7211: 8331, 7177: 8332, 7382: 8333, 7075: 8334, 7073: 8335, 6982: 8336, 6970: 8337, 6965: 8338, 6962: 8339, 6948: 8340, 6912: 8341, 6911: 8342, 6909: 8343, 6984: 8344, 7074: 8345, 7070: 8346, 7062: 8347, 7061: 8348, 7059: 8349, 7058: 8350, 7057: 8351, 7055: 8352, 7053: 8353, 7052: 8354, 7051: 8355, 7049: 8356, 7019: 8357, 7012: 8358, 6990: 8359, 8684: 8360, 8458: 8361, 8451: 8362, 8450: 8363, 8446: 8364, 8424: 8365, 8410: 8366, 8385: 8367, 8382: 8368, 8375: 8369, 8338: 8370, 8336: 8371, 8331: 8372, 8302: 8373, 8293: 8374, 8275: 8375, 8232: 8376, 8167: 8377, 8459: 8378, 8461: 8379, 8463: 8380, 8650: 8381, 8617: 8382, 8611: 8383, 8591: 8384, 8575: 8385, 8534: 8386, 8521: 8387, 8518: 8388, 8502: 8389, 8492: 8390, 8487: 8391, 8482: 8392, 8481: 8393, 8465: 8394, 8462: 8395, 7414: 8396, 8153: 8397, 8125: 8398, 7727: 8399, 7716: 8400, 7714: 8401, 7713: 8402, 7705: 8403, 7702: 8404, 7618: 8405, 7584: 8406, 7579: 8407, 7572: 8408, 7560: 8409, 7479: 8410, 7772: 8411, 8094: 8412, 8057: 8413, 8019: 8414, 7944: 8415, 7900: 8416, 7896: 8417, 7888: 8418, 7883: 8419, 7882: 8420, 7840: 8421, 7839: 8422, 7835: 8423, 7833: 8424, 7832: 8425, 7831: 8426, 7826: 8427, 7822: 8428, 7789: 8429, 1068: 8430, 1650: 8431, 1629: 8432, 1933: 8433, 1932: 8434, 1928: 8435, 1926: 8436, 1913: 8437, 1902: 8438, 1893: 8439, 1398: 8440, 1507: 8441, 1496: 8442, 1423: 8443, 1413: 8444, 488: 8445, 96: 8446, 929: 8447, 907: 8448, 993: 8449, 982: 8450, 976: 8451, 970: 8452, 959: 8453, 956: 8454, 638: 8455, 3109: 8456, 3211: 8457, 3135: 8458, 3125: 8459, 3112: 8460, 2801: 8461, 2757: 8462, 2930: 8463, 2929: 8464, 2927: 8465, 3739: 8466, 3715: 8467, 3714: 8468, 3641: 8469, 3609: 8470, 3475: 8471, 3281: 8472, 3789: 8473, 2743: 8474, 2211: 8475, 2201: 8476, 2187: 8477, 2185: 8478, 2180: 8479, 2179: 8480, 2177: 8481, 1940: 8482, 2611: 8483, 2612: 8484, 2697: 8485, 2652: 8486, 6148: 8487, 82242: 8488, 7335: 8489, 5348: 8490, 3720: 8491, 5069: 8492, 4454: 8493, 4557: 8494, 4725: 8495, 8126: 8496, 72308: 8497, 78746: 8498, 68945: 8499, 27537: 8500, 31660: 8501, 42422: 8502, 3428: 8503, 4111: 8504, 5365: 8505, 5389: 8506, 5448: 8507, 5651: 8508, 5773: 8509, 5197: 8510, 4410: 8511, 4831: 8512, 2362: 8513, 6436: 8514, 6853: 8515, 43914: 8516, 44197: 8517, 37844: 8518, 47646: 8519, 27830: 8520, 8131: 8521, 32294: 8522, 36477: 8523, 6320: 8524, 8268: 8525, 2068: 8526, 8632: 8527, 36397: 8528, 27370: 8529, 31617: 8530, 91890: 8531, 93723: 8532, 94810: 8533, 95939: 8534, 96283: 8535, 88448: 8536, 89586: 8537, 90863: 8538, 105325: 8539, 109941: 8540, 109971: 8541, 112316: 8542, 115065: 8543, 97665: 8544, 99087: 8545, 100068: 8546, 101765: 8547, 68522: 8548, 72554: 8549, 2483: 8550, 5786: 8551, 4759: 8552, 71268: 8553, 93320: 8554, 8593: 8555, 26900: 8556, 72874: 8557, 54796: 8558, 73501: 8559, 91488: 8560, 92730: 8561, 94130: 8562, 87413: 8563, 77881: 8564, 79299: 8565, 79536: 8566, 80454: 8567, 80551: 8568, 84553: 8569, 86000: 8570, 40597: 8571, 50954: 8572, 78544: 8573, 78160: 8574, 180231: 8575, 103: 8576, 467: 8577, 876: 8578, 1170: 8579, 73290: 8580, 140523: 8581, 131739: 8582, 56286: 8583, 1910: 8584, 1824: 8585, 449: 8586, 7455: 8587, 79798: 8588, 46231: 8589, 32914: 8590, 6927: 8591, 6596: 8592, 68269: 8593, 65193: 8594, 50796: 8595, 95193: 8596, 136838: 8597, 130073: 8598, 129229: 8599, 126142: 8600, 117133: 8601, 94799: 8602, 110781: 8603, 82088: 8604, 80834: 8605, 74677: 8606, 84847: 8607, 93988: 8608, 136840: 8609, 93134: 8610, 91337: 8611, 90809: 8612, 89678: 8613, 91266: 8614, 5613: 8615, 34148: 8616, 6145: 8617, 5797: 8618, 5704: 8619, 188797: 8620, 6746: 8621, 5189: 8622, 6821: 8623, 31150: 8624, 26198: 8625, 8894: 8626, 7891: 8627, 7730: 8628, 7477: 8629, 5041: 8630, 4202: 8631, 38583: 8632, 159510: 8633, 158830: 8634, 149330: 8635, 141994: 8636, 136958: 8637, 135216: 8638, 124484: 8639, 160571: 8640, 167538: 8641, 3294: 8642, 187031: 8643, 186587: 8644, 185473: 8645, 185033: 8646, 184987: 8647, 184931: 8648, 182727: 8649, 180263: 8650, 40478: 8651, 62586: 8652, 1335: 8653, 2878: 8654, 1978: 8655, 8772: 8656, 26761: 8657, 4646: 8658, 97194: 8659, 96520: 8660, 96518: 8661, 96471: 8662, 93740: 8663, 91414: 8664, 88267: 8665, 165489: 8666, 162590: 8667, 160422: 8668, 152037: 8669, 144352: 8670, 121099: 8671, 107780: 8672, 83270: 8673, 32469: 8674, 7266: 8675, 66544: 8676, 27006: 8677, 27369: 8678, 79006: 8679, 120130: 8680, 8264: 8681, 106889: 8682, 120807: 8683, 164540: 8684, 163653: 8685, 159849: 8686, 148667: 8687, 146682: 8688, 134248: 8689, 127164: 8690, 96150: 8691, 98122: 8692, 91869: 8693, 39516: 8694, 135198: 8695, 176413: 8696, 176415: 8697, 2742: 8698, 5560: 8699, 4445: 8700, 3673: 8701, 3674: 8702, 4284: 8703, 125914: 8704, 76743: 8705, 73804: 8706, 85261: 8707, 85179: 8708, 83480: 8709, 69805: 8710, 58297: 8711, 64695: 8712, 116529: 8713, 112580: 8714, 116668: 8715, 116724: 8716, 164367: 8717, 150993: 8718, 144734: 8719, 135885: 8720, 134775: 8721, 128542: 8722, 91353: 8723, 53138: 8724, 53140: 8725, 36289: 8726, 27251: 8727, 51024: 8728, 2573: 8729, 121129: 8730, 55946: 8731, 2107: 8732, 626: 8733, 3939: 8734, 3940: 8735, 3941: 8736, 3942: 8737, 3958: 8738, 3626: 8739, 1990: 8740, 1986: 8741, 168712: 8742, 1477: 8743, 142056: 8744, 167296: 8745, 5059: 8746, 7457: 8747, 5513: 8748, 61257: 8749, 43684: 8750, 1825: 8751, 2820: 8752, 2597: 8753, 2256: 8754, 2862: 8755, 2451: 8756, 3678: 8757, 3691: 8758, 3663: 8759, 3574: 8760, 3577: 8761, 3664: 8762, 3660: 8763, 3661: 8764, 3442: 8765, 790: 8766, 633: 8767, 1985: 8768, 1336: 8769, 1397: 8770, 48045: 8771, 59026: 8772, 31123: 8773, 26308: 8774, 38095: 8775, 37495: 8776, 111384: 8777, 109313: 8778, 105246: 8779, 96945: 8780, 154975: 8781, 148881: 8782, 148238: 8783, 142558: 8784, 141866: 8785, 130498: 8786, 73681: 8787, 68886: 8788, 81383: 8789, 54617: 8790, 6119: 8791, 5840: 8792, 5839: 8793, 168174: 8794, 6800: 8795, 105468: 8796, 4135: 8797, 73211: 8798, 99191: 8799, 100306: 8800, 26357: 8801, 27140: 8802, 27667: 8803, 74688: 8804, 77414: 8805, 78264: 8806, 80858: 8807, 82152: 8808, 61071: 8809, 62718: 8810, 70932: 8811, 72919: 8812, 115667: 8813, 128832: 8814, 139747: 8815, 90524: 8816, 94325: 8817, 95199: 8818, 100527: 8819, 96975: 8820, 43930: 8821, 44225: 8822, 47516: 8823, 50942: 8824, 109897: 8825, 110603: 8826, 122888: 8827, 122246: 8828, 117877: 8829, 114627: 8830, 114554: 8831, 114396: 8832, 113705: 8833, 102800: 8834, 102088: 8835, 101070: 8836, 99917: 8837, 104944: 8838, 104337: 8839, 179815: 8840, 156605: 8841, 153070: 8842, 166526: 8843, 179749: 8844, 179491: 8845, 176419: 8846, 170945: 8847, 166705: 8848, 152071: 8849, 152063: 8850, 135288: 8851, 134246: 8852, 132335: 8853, 136602: 8854, 150254: 8855, 142507: 8856, 141668: 8857, 151687: 8858, 5028: 8859, 26743: 8860, 26717: 8861, 25782: 8862, 8477: 8863, 8335: 8864, 8189: 8865, 82684: 8866, 81681: 8867, 92681: 8868, 92234: 8869, 57502: 8870, 51573: 8871, 40491: 8872, 71438: 8873, 70015: 8874, 2655: 8875, 2740: 8876, 3021: 8877, 2982: 8878, 1331: 8879, 1980: 8880, 1623: 8881, 3073: 8882, 2623: 8883, 2629: 8884, 430: 8885, 2538: 8886, 3143: 8887, 2415: 8888, 56389: 8889, 75446: 8890, 6751: 8891, 7395: 8892, 2965: 8893, 5828: 8894, 5767: 8895, 6692: 8896, 6583: 8897, 6342: 8898, 7349: 8899, 8092: 8900, 8236: 8901, 26819: 8902, 8844: 8903, 8800: 8904, 8494: 8905, 8427: 8906, 27373: 8907, 136556: 8908, 2738: 8909, 3414: 8910, 3449: 8911, 3403: 8912, 4710: 8913, 4794: 8914, 4715: 8915, 4200: 8916, 4374: 8917, 4827: 8918, 5657: 8919, 5105: 8920, 2589: 8921, 3353: 8922, 6140: 8923, 7345: 8924, 7742: 8925, 7782: 8926, 8035: 8927, 8118: 8928, 8727: 8929, 6417: 8930, 6665: 8931, 6723: 8932, 6967: 8933, 6994: 8934, 7023: 8935, 7031: 8936, 7032: 8937, 7114: 8938, 284: 8939, 1652: 8940, 2175: 8941, 2196: 8942, 68835: 8943, 70637: 8944, 69495: 8945, 59667: 8946, 59549: 8947, 33649: 8948, 32799: 8949, 27246: 8950, 55844: 8951, 43744: 8952, 141131: 8953, 7615: 8954, 133645: 8955, 132454: 8956, 129397: 8957, 128908: 8958, 151557: 8959, 184997: 8960, 183635: 8961, 182793: 8962, 181719: 8963, 178615: 8964, 176051: 8965, 168026: 8966, 163639: 8967, 171917: 8968, 92954: 8969, 120919: 8970, 113280: 8971, 111913: 8972, 111800: 8973, 7260: 8974, 6769: 8975, 4342: 8976, 3094: 8977, 2774: 8978, 4424: 8979, 615: 8980, 1112: 8981, 124851: 8982, 114265: 8983, 113829: 8984, 7704: 8985, 7657: 8986, 7707: 8987, 7307: 8988, 7443: 8989, 8500: 8990, 7986: 8991, 7988: 8992, 8043: 8993, 8045: 8994, 8380: 8995, 8425: 8996, 6882: 8997, 6860: 8998, 6734: 8999, 6804: 9000, 7108: 9001, 7125: 9002, 7191: 9003, 7047: 9004, 6998: 9005, 7005: 9006, 7041: 9007, 8720: 9008, 27420: 9009, 27441: 9010, 27549: 9011, 27595: 9012, 27722: 9013, 27762: 9014, 27769: 9015, 27306: 9016, 26913: 9017, 26940: 9018, 26947: 9019, 27002: 9020, 27008: 9021, 27032: 9022, 27074: 9023, 27105: 9024, 27124: 9025, 27155: 9026, 27784: 9027, 32442: 9028, 32515: 9029, 33126: 9030, 33294: 9031, 33435: 9032, 33629: 9033, 32440: 9034, 27829: 9035, 31367: 9036, 31664: 9037, 31921: 9038, 32058: 9039, 31553: 9040, 26861: 9041, 26854: 9042, 26828: 9043, 9004: 9044, 26142: 9045, 26159: 9046, 26176: 9047, 26195: 9048, 26283: 9049, 26285: 9050, 26344: 9051, 26365: 9052, 8905: 9053, 8934: 9054, 8755: 9055, 26453: 9056, 26676: 9057, 26696: 9058, 26701: 9059, 26726: 9060, 26741: 9061, 26745: 9062, 26782: 9063, 26797: 9064, 26630: 9065, 26467: 9066, 26510: 9067, 26539: 9068, 26542: 9069, 26547: 9070, 26413: 9071, 26567: 9072, 26590: 9073, 26593: 9074, 26612: 9075, 26622: 9076, 26562: 9077, 6722: 9078, 5198: 9079, 5221: 9080, 5268: 9081, 5136: 9082, 5111: 9083, 5053: 9084, 5054: 9085, 5096: 9086, 4511: 9087, 4568: 9088, 4574: 9089, 4504: 9090, 4490: 9091, 4594: 9092, 4597: 9093, 4603: 9094, 4593: 9095, 4670: 9096, 6267: 9097, 6310: 9098, 6204: 9099, 6691: 9100, 6587: 9101, 6506: 9102, 6557: 9103, 5442: 9104, 5961: 9105, 5768: 9106, 5591: 9107, 5596: 9108, 5597: 9109, 5689: 9110, 33801: 9111, 97230: 9112, 97950: 9113, 98499: 9114, 98503: 9115, 98623: 9116, 98697: 9117, 98799: 9118, 95499: 9119, 95519: 9120, 95717: 9121, 95771: 9122, 95780: 9123, 95839: 9124, 95965: 9125, 104017: 9126, 104837: 9127, 105020: 9128, 105720: 9129, 103609: 9130, 103366: 9131, 103245: 9132, 99638: 9133, 101074: 9134, 101423: 9135, 102590: 9136, 102735: 9137, 102749: 9138, 102852: 9139, 103027: 9140, 95165: 9141, 95163: 9142, 86898: 9143, 87197: 9144, 87960: 9145, 88593: 9146, 88697: 9147, 86864: 9148, 84523: 9149, 89085: 9150, 85438: 9151, 86286: 9152, 86355: 9153, 91981: 9154, 92309: 9155, 92674: 9156, 93208: 9157, 93502: 9158, 94122: 9159, 95145: 9160, 91571: 9161, 89862: 9162, 90243: 9163, 90945: 9164, 90428: 9165, 107999: 9166, 108192: 9167, 158388: 9168, 158874: 9169, 159061: 9170, 159403: 9171, 160978: 9172, 161008: 9173, 161032: 9174, 161044: 9175, 163809: 9176, 165529: 9177, 157865: 9178, 156675: 9179, 151781: 9180, 138702: 9181, 139130: 9182, 139859: 9183, 140852: 9184, 144522: 9185, 145724: 9186, 145745: 9187, 151479: 9188, 153236: 9189, 167706: 9190, 173873: 9191, 174727: 9192, 178129: 9193, 179053: 9194, 181315: 9195, 172253: 9196, 172233: 9197, 172229: 9198, 168608: 9199, 169670: 9200, 169904: 9201, 137859: 9202, 169958: 9203, 170297: 9204, 170551: 9205, 171695: 9206, 137345: 9207, 137218: 9208, 115819: 9209, 116044: 9210, 116169: 9211, 116941: 9212, 116963: 9213, 117630: 9214, 118290: 9215, 114126: 9216, 113849: 9217, 110541: 9218, 119218: 9219, 111785: 9220, 112326: 9221, 108090: 9222, 119828: 9223, 121035: 9224, 129779: 9225, 131578: 9226, 132084: 9227, 132362: 9228, 135787: 9229, 136012: 9230, 136297: 9231, 128736: 9232, 128197: 9233, 123310: 9234, 122260: 9235, 122433: 9236, 122627: 9237, 120827: 9238, 83086: 9239, 47721: 9240, 47793: 9241, 49110: 9242, 45648: 9243, 45969: 9244, 46367: 9245, 46574: 9246, 183301: 9247, 53450: 9248, 54274: 9249, 54908: 9250, 55036: 9251, 53161: 9252, 53143: 9253, 53022: 9254, 51545: 9255, 39801: 9256, 40578: 9257, 36850: 9258, 33966: 9259, 34292: 9260, 34800: 9261, 34811: 9262, 55061: 9263, 44238: 9264, 44241: 9265, 44243: 9266, 44849: 9267, 45183: 9268, 42559: 9269, 42638: 9270, 41627: 9271, 42946: 9272, 43419: 9273, 43677: 9274, 43908: 9275, 42943: 9276, 83796: 9277, 55205: 9278, 73569: 9279, 73808: 9280, 74095: 9281, 74696: 9282, 75416: 9283, 75947: 9284, 72479: 9285, 76030: 9286, 70703: 9287, 71327: 9288, 71484: 9289, 71550: 9290, 71810: 9291, 81791: 9292, 82534: 9293, 77201: 9294, 77709: 9295, 78959: 9296, 79895: 9297, 80083: 9298, 69227: 9299, 69131: 9300, 59016: 9301, 59336: 9302, 59947: 9303, 60365: 9304, 58306: 9305, 55207: 9306, 56022: 9307, 57499: 9308, 60803: 9309, 67193: 9310, 68552: 9311, 68650: 9312, 66915: 9313, 61073: 9314, 62662: 9315, 62970: 9316, 4394: 9317, 1114: 9318, 1794: 9319, 1426: 9320, 806: 9321, 478: 9322, 3379: 9323, 3571: 9324, 3669: 9325, 4197: 9326, 4240: 9327, 3700: 9328, 3709: 9329, 3962: 9330, 2281: 9331, 2339: 9332, 2292: 9333, 2698: 9334, 2586: 9335, 2800: 9336, 25905: 9337, 25923: 9338, 25947: 9339, 59131: 9340, 46664: 9341, 141846: 9342, 2725: 9343, 2727: 9344, 2813: 9345, 2609: 9346, 2620: 9347, 2577: 9348, 2972: 9349, 2865: 9350, 2885: 9351, 2892: 9352, 2283: 9353, 2304: 9354, 2104: 9355, 2512: 9356, 2544: 9357, 2435: 9358, 2417: 9359, 3002: 9360, 3637: 9361, 3655: 9362, 3792: 9363, 4766: 9364, 4786: 9365, 4810: 9366, 4420: 9367, 4428: 9368, 4436: 9369, 4690: 9370, 4695: 9371, 4705: 9372, 3586: 9373, 3183: 9374, 3514: 9375, 3531: 9376, 3459: 9377, 3303: 9378, 3344: 9379, 3374: 9380, 602: 9381, 645: 9382, 649: 9383, 803: 9384, 495: 9385, 506: 9386, 526: 9387, 2008: 9388, 1053: 9389, 149: 9390, 184: 9391, 108: 9392, 77: 9393, 301: 9394, 320: 9395, 1585: 9396, 1612: 9397, 1613: 9398, 1549: 9399, 1475: 9400, 1514: 9401, 1759: 9402, 1119: 9403, 1310: 9404, 1349: 9405, 285: 9406, 311: 9407, 636: 9408, 117: 9409, 220: 9410, 27036: 9411, 35347: 9412, 65359: 9413, 71160: 9414, 72165: 9415, 72982: 9416, 47384: 9417, 54686: 9418, 66240: 9419, 1654: 9420, 5856: 9421, 5922: 9422, 5929: 9423, 5741: 9424, 5742: 9425, 5733: 9426, 5849: 9427, 5975: 9428, 5990: 9429, 6070: 9430, 5720: 9431, 6107: 9432, 6111: 9433, 5372: 9434, 5550: 9435, 5503: 9436, 5614: 9437, 6182: 9438, 6782: 9439, 6789: 9440, 6803: 9441, 6973: 9442, 6961: 9443, 5269: 9444, 6644: 9445, 6202: 9446, 6237: 9447, 6578: 9448, 6573: 9449, 6553: 9450, 6516: 9451, 6415: 9452, 6449: 9453, 4357: 9454, 3808: 9455, 3920: 9456, 4395: 9457, 4828: 9458, 4840: 9459, 4883: 9460, 4689: 9461, 4671: 9462, 4615: 9463, 4653: 9464, 41014: 9465, 44189: 9466, 44301: 9467, 30890: 9468, 30994: 9469, 31309: 9470, 31973: 9471, 32234: 9472, 32600: 9473, 32620: 9474, 32649: 9475, 33310: 9476, 33237: 9477, 32862: 9478, 32728: 9479, 55805: 9480, 56333: 9481, 58783: 9482, 72603: 9483, 69224: 9484, 68872: 9485, 68480: 9486, 47202: 9487, 47538: 9488, 47774: 9489, 48032: 9490, 48214: 9491, 51314: 9492, 50354: 9493, 50356: 9494, 7292: 9495, 7344: 9496, 7487: 9497, 7916: 9498, 7037: 9499, 7131: 9500, 7109: 9501, 25946: 9502, 26038: 9503, 26394: 9504, 26527: 9505, 26599: 9506, 26777: 9507, 26796: 9508, 26875: 9509, 26985: 9510, 27178: 9511, 27744: 9512, 27644: 9513, 27627: 9514, 27255: 9515, 25805: 9516, 8391: 9517, 8454: 9518, 8456: 9519, 8601: 9520, 8685: 9521, 8713: 9522, 8964: 9523, 25833: 9524, 8933: 9525, 6671: 9526, 1117: 9527, 1156: 9528, 961: 9529, 1493: 9530, 202: 9531, 263: 9532, 632: 9533, 583: 9534, 579: 9535, 573: 9536, 563: 9537, 2897: 9538, 3010: 9539, 2481: 9540, 2503: 9541, 3640: 9542, 3295: 9543, 3289: 9544, 1857: 9545, 2388: 9546, 2156: 9547, 2207: 9548, 2737: 9549, 241: 9550, 7377: 9551, 8667: 9552, 51903: 9553, 32302: 9554, 5901: 9555, 137: 9556, 71341: 9557, 70208: 9558, 70206: 9559, 73741: 9560, 73676: 9561, 72424: 9562, 72142: 9563, 71910: 9564, 66310: 9565, 64010: 9566, 63826: 9567, 63768: 9568, 63179: 9569, 73876: 9570, 67168: 9571, 74370: 9572, 82765: 9573, 82641: 9574, 82366: 9575, 81520: 9576, 77931: 9577, 77893: 9578, 76091: 9579, 75389: 9580, 78626: 9581, 80162: 9582, 80094: 9583, 79868: 9584, 79501: 9585, 61818: 9586, 51666: 9587, 52831: 9588, 48150: 9589, 47937: 9590, 59915: 9591, 58975: 9592, 58964: 9593, 58826: 9594, 61692: 9595, 61319: 9596, 61262: 9597, 60471: 9598, 60303: 9599, 55492: 9600, 55067: 9601, 54910: 9602, 57637: 9603, 57421: 9604, 56620: 9605, 118082: 9606, 117867: 9607, 115727: 9608, 130050: 9609, 129313: 9610, 128838: 9611, 44597: 9612, 114707: 9613, 114670: 9614, 111551: 9615, 110591: 9616, 110286: 9617, 110281: 9618, 110746: 9619, 114044: 9620, 113862: 9621, 113780: 9622, 113565: 9623, 113313: 9624, 113159: 9625, 112727: 9626, 130052: 9627, 130840: 9628, 152372: 9629, 148166: 9630, 147662: 9631, 147657: 9632, 146309: 9633, 145951: 9634, 149011: 9635, 158721: 9636, 163981: 9637, 163937: 9638, 160836: 9639, 160527: 9640, 160341: 9641, 142598: 9642, 135815: 9643, 135803: 9644, 135534: 9645, 133832: 9646, 142366: 9647, 141799: 9648, 141400: 9649, 140267: 9650, 139655: 9651, 139511: 9652, 138632: 9653, 138610: 9654, 94867: 9655, 98061: 9656, 97988: 9657, 97701: 9658, 97285: 9659, 97188: 9660, 96832: 9661, 93819: 9662, 93598: 9663, 93193: 9664, 89281: 9665, 89072: 9666, 88327: 9667, 89837: 9668, 91233: 9669, 103685: 9670, 103483: 9671, 105801: 9672, 107771: 9673, 107462: 9674, 107447: 9675, 107436: 9676, 98633: 9677, 100906: 9678, 100579: 9679, 100397: 9680, 100159: 9681, 99721: 9682, 99030: 9683, 103219: 9684, 103085: 9685, 102802: 9686, 102760: 9687, 102338: 9688, 102070: 9689, 102066: 9690, 4497: 9691, 3945: 9692, 1054: 9693, 26401: 9694, 26399: 9695, 26391: 9696, 26169: 9697, 26498: 9698, 27491: 9699, 27480: 9700, 27426: 9701, 26603: 9702, 8840: 9703, 7984: 9704, 7562: 9705, 27746: 9706, 36931: 9707, 43289: 9708, 41712: 9709, 34450: 9710, 31086: 9711, 27905: 9712, 27778: 9713, 5953: 9714, 5275: 9715, 7202: 9716, 6095: 9717, 6009: 9718}\n",
            "\n",
            "encoded angka ke movieId: {0: 1, 1: 2329, 2: 2338, 3: 2353, 4: 2366, 5: 2387, 6: 2389, 7: 2395, 8: 2406, 9: 2414, 10: 2427, 11: 2450, 12: 2459, 13: 2470, 14: 2478, 15: 2492, 16: 2502, 17: 2528, 18: 2529, 19: 2542, 20: 2571, 21: 2580, 22: 2596, 23: 2616, 24: 2617, 25: 2628, 26: 2291, 27: 2640, 28: 2273, 29: 2253, 30: 2005, 31: 2012, 32: 2018, 33: 2028, 34: 2033, 35: 2046, 36: 2048, 37: 2054, 38: 2058, 39: 2078, 40: 2090, 41: 2093, 42: 2094, 43: 2096, 44: 2099, 45: 2105, 46: 2115, 47: 2116, 48: 2137, 49: 2139, 50: 2141, 51: 2143, 52: 2161, 53: 2174, 54: 2193, 55: 2268, 56: 2641, 57: 2644, 58: 2648, 59: 3247, 60: 3253, 61: 3273, 62: 3386, 63: 3439, 64: 3440, 65: 3441, 66: 3448, 67: 3450, 68: 3479, 69: 3489, 70: 3527, 71: 3578, 72: 3617, 73: 3639, 74: 3671, 75: 3702, 76: 3703, 77: 3729, 78: 3740, 79: 3744, 80: 3793, 81: 3809, 82: 4006, 83: 5060, 84: 3243, 85: 3176, 86: 3168, 87: 3062, 88: 2654, 89: 2657, 90: 2692, 91: 2700, 92: 2716, 93: 2761, 94: 2797, 95: 2826, 96: 2858, 97: 2872, 98: 2899, 99: 2916, 100: 2000, 101: 2944, 102: 2948, 103: 2949, 104: 2959, 105: 2985, 106: 2987, 107: 2991, 108: 2993, 109: 2997, 110: 3033, 111: 3034, 112: 3052, 113: 3053, 114: 2947, 115: 1967, 116: 3147, 117: 1927, 118: 543, 119: 552, 120: 553, 121: 590, 122: 593, 123: 596, 124: 608, 125: 648, 126: 661, 127: 673, 128: 733, 129: 736, 130: 780, 131: 804, 132: 919, 133: 923, 134: 940, 135: 943, 136: 954, 137: 1009, 138: 1023, 139: 1024, 140: 1025, 141: 1029, 142: 1030, 143: 527, 144: 1031, 145: 500, 146: 457, 147: 1954, 148: 3, 149: 6, 150: 47, 151: 50, 152: 70, 153: 101, 154: 110, 155: 151, 156: 157, 157: 163, 158: 216, 159: 223, 160: 231, 161: 235, 162: 260, 163: 296, 164: 316, 165: 333, 166: 349, 167: 356, 168: 362, 169: 367, 170: 423, 171: 441, 172: 480, 173: 1032, 174: 592, 175: 1049, 176: 1282, 177: 1291, 178: 1298, 179: 1348, 180: 1377, 181: 1396, 182: 1408, 183: 1445, 184: 1473, 185: 1500, 186: 1517, 187: 1552, 188: 1278, 189: 1573, 190: 1587, 191: 1617, 192: 1620, 193: 1625, 194: 1644, 195: 1676, 196: 1042, 197: 1777, 198: 1793, 199: 1804, 200: 1805, 201: 1920, 202: 1580, 203: 1275, 204: 1732, 205: 1127, 206: 1270, 207: 1073, 208: 1080, 209: 1089, 210: 1090, 211: 1092, 212: 1097, 213: 1136, 214: 1196, 215: 1197, 216: 1206, 217: 1208, 218: 1198, 219: 1213, 220: 1265, 221: 1258, 222: 1256, 223: 1240, 224: 1210, 225: 1226, 226: 1060, 227: 1222, 228: 1220, 229: 1219, 230: 1214, 231: 1224, 232: 86345, 233: 99114, 234: 89774, 235: 91529, 236: 91658, 237: 106782, 238: 68157, 239: 112552, 240: 114060, 241: 115713, 242: 122882, 243: 131724, 244: 80906, 245: 109487, 246: 80489, 247: 6874, 248: 77455, 249: 318, 250: 79132, 251: 8798, 252: 1704, 253: 48516, 254: 58559, 255: 60756, 256: 71535, 257: 74458, 258: 46970, 259: 5181, 260: 3210, 261: 3024, 262: 3949, 263: 4518, 264: 5048, 265: 5746, 266: 72378, 267: 5919, 268: 6238, 269: 6835, 270: 7899, 271: 7991, 272: 26409, 273: 70946, 274: 2851, 275: 5764, 276: 2424, 277: 2288, 278: 31, 279: 647, 280: 688, 281: 849, 282: 914, 283: 1093, 284: 1124, 285: 720, 286: 1272, 287: 1302, 288: 1371, 289: 2080, 290: 1263, 291: 2683, 292: 2599, 293: 2583, 294: 2467, 295: 2390, 296: 2712, 297: 2926, 298: 2763, 299: 2770, 300: 2791, 301: 2843, 302: 2874, 303: 2921, 304: 2359, 305: 2973, 306: 2762, 307: 2351, 308: 2145, 309: 2324, 310: 1860, 311: 1883, 312: 1885, 313: 1892, 314: 1895, 315: 1907, 316: 1914, 317: 1916, 318: 1923, 319: 1947, 320: 1966, 321: 2336, 322: 2019, 323: 2076, 324: 2109, 325: 2150, 326: 2186, 327: 2203, 328: 2204, 329: 2282, 330: 1968, 331: 3044, 332: 3317, 333: 3079, 334: 4033, 335: 4034, 336: 4074, 337: 4121, 338: 4144, 339: 4166, 340: 4226, 341: 4239, 342: 4246, 343: 4252, 344: 4260, 345: 4273, 346: 4308, 347: 4347, 348: 4381, 349: 4641, 350: 4741, 351: 4765, 352: 4881, 353: 4896, 354: 4902, 355: 4967, 356: 1834, 357: 4029, 358: 4027, 359: 4021, 360: 4020, 361: 3083, 362: 3160, 363: 3175, 364: 3204, 365: 3255, 366: 3358, 367: 3365, 368: 3408, 369: 3481, 370: 3060, 371: 3538, 372: 3591, 373: 3788, 374: 3851, 375: 3897, 376: 3911, 377: 3967, 378: 3996, 379: 4002, 380: 4014, 381: 3508, 382: 1734, 383: 920, 384: 368, 385: 417, 386: 450, 387: 475, 388: 492, 389: 509, 390: 538, 391: 539, 392: 588, 393: 595, 394: 599, 395: 708, 396: 759, 397: 800, 398: 892, 399: 898, 400: 899, 401: 902, 402: 357, 403: 904, 404: 351, 405: 345, 406: 21, 407: 32, 408: 45, 409: 52, 410: 58, 411: 106, 412: 125, 413: 126, 414: 162, 415: 171, 416: 176, 417: 190, 418: 215, 419: 222, 420: 232, 421: 247, 422: 265, 423: 319, 424: 342, 425: 348, 426: 908, 427: 912, 428: 1225, 429: 1250, 430: 1259, 431: 1266, 432: 1279, 433: 910, 434: 1283, 435: 1288, 436: 1211, 437: 1391, 438: 1449, 439: 1466, 440: 1597, 441: 1641, 442: 1719, 443: 1304, 444: 1203, 445: 1199, 446: 1733, 447: 930, 448: 937, 449: 1046, 450: 1057, 451: 1077, 452: 1079, 453: 1188, 454: 1183, 455: 1179, 456: 1103, 457: 1094, 458: 1086, 459: 1084, 460: 364, 461: 380, 462: 410, 463: 474, 464: 515, 465: 531, 466: 594, 467: 589, 468: 597, 469: 534, 470: 344, 471: 36, 472: 39, 473: 150, 474: 153, 475: 34, 476: 300, 477: 290, 478: 266, 479: 261, 480: 253, 481: 490, 482: 489, 483: 485, 484: 477, 485: 466, 486: 469, 487: 468, 488: 460, 489: 458, 490: 491, 491: 455, 492: 472, 493: 493, 494: 516, 495: 497, 496: 537, 497: 536, 498: 532, 499: 524, 500: 494, 501: 520, 502: 510, 503: 508, 504: 505, 505: 502, 506: 454, 507: 440, 508: 366, 509: 361, 510: 360, 511: 359, 512: 358, 513: 355, 514: 354, 515: 353, 516: 350, 517: 352, 518: 540, 519: 445, 520: 371, 521: 437, 522: 435, 523: 434, 524: 432, 525: 426, 526: 416, 527: 415, 528: 370, 529: 412, 530: 383, 531: 382, 532: 381, 533: 378, 534: 377, 535: 374, 536: 405, 537: 542, 538: 546, 539: 852, 540: 848, 541: 842, 542: 839, 543: 838, 544: 837, 545: 835, 546: 830, 547: 818, 548: 802, 549: 801, 550: 799, 551: 795, 552: 783, 553: 867, 554: 880, 555: 881, 556: 888, 557: 1082, 558: 1064, 559: 1061, 560: 775, 561: 1006, 562: 999, 563: 996, 564: 991, 565: 986, 566: 981, 567: 979, 568: 891, 569: 1004, 570: 765, 571: 762, 572: 747, 573: 606, 574: 587, 575: 575, 576: 569, 577: 548, 578: 609, 579: 628, 580: 719, 581: 711, 582: 710, 583: 709, 584: 704, 585: 616, 586: 700, 587: 694, 588: 667, 589: 662, 590: 640, 591: 637, 592: 631, 593: 697, 594: 419, 595: 141, 596: 140, 597: 135, 598: 113, 599: 112, 600: 105, 601: 104, 602: 102, 603: 100, 604: 95, 605: 93, 606: 92, 607: 89, 608: 145, 609: 146, 610: 185, 611: 181, 612: 180, 613: 179, 614: 177, 615: 174, 616: 87, 617: 170, 618: 165, 619: 161, 620: 160, 621: 159, 622: 158, 623: 168, 624: 86, 625: 79, 626: 76, 627: 22, 628: 19, 629: 17, 630: 16, 631: 15, 632: 13, 633: 24, 634: 11, 635: 8, 636: 7, 637: 5, 638: 4, 639: 2, 640: 10, 641: 186, 642: 25, 643: 27, 644: 66, 645: 65, 646: 62, 647: 61, 648: 60, 649: 54, 650: 26, 651: 43, 652: 41, 653: 46, 654: 189, 655: 88, 656: 195, 657: 303, 658: 302, 659: 293, 660: 292, 661: 291, 662: 289, 663: 304, 664: 288, 665: 281, 666: 279, 667: 277, 668: 347, 669: 276, 670: 274, 671: 273, 672: 282, 673: 271, 674: 310, 675: 313, 676: 343, 677: 191, 678: 340, 679: 339, 680: 337, 681: 336, 682: 312, 683: 332, 684: 329, 685: 327, 686: 317, 687: 315, 688: 314, 689: 330, 690: 270, 691: 225, 692: 224, 693: 219, 694: 218, 695: 217, 696: 230, 697: 212, 698: 209, 699: 208, 700: 207, 701: 205, 702: 204, 703: 201, 704: 267, 705: 210, 706: 196, 707: 236, 708: 234, 709: 262, 710: 258, 711: 256, 712: 254, 713: 257, 714: 251, 715: 250, 716: 248, 717: 243, 718: 240, 719: 239, 720: 237, 721: 252, 722: 8373, 723: 7155, 724: 7445, 725: 8207, 726: 8360, 727: 8368, 728: 8528, 729: 8870, 730: 8665, 731: 8666, 732: 8783, 733: 8808, 734: 8865, 735: 7153, 736: 8636, 737: 5218, 738: 5989, 739: 6934, 740: 8907, 741: 5349, 742: 5378, 743: 5445, 744: 5459, 745: 5464, 746: 5502, 747: 7143, 748: 5618, 749: 5952, 750: 5991, 751: 6333, 752: 6365, 753: 6534, 754: 6539, 755: 6863, 756: 5816, 757: 8908, 758: 33794, 759: 8957, 760: 38388, 761: 42002, 762: 45499, 763: 45517, 764: 45668, 765: 45730, 766: 46530, 767: 48783, 768: 48997, 769: 49272, 770: 49278, 771: 49286, 772: 49824, 773: 4995, 774: 37741, 775: 34319, 776: 34048, 777: 33836, 778: 8958, 779: 8961, 780: 8965, 781: 8970, 782: 8972, 783: 8984, 784: 27741, 785: 8949, 786: 30812, 787: 31878, 788: 32029, 789: 32031, 790: 32296, 791: 32587, 792: 33162, 793: 33493, 794: 30816, 795: 4993, 796: 924, 797: 1101, 798: 1246, 799: 1584, 800: 1610, 801: 1682, 802: 750, 803: 4963, 804: 1784, 805: 3869, 806: 3916, 807: 3977, 808: 3994, 809: 4018, 810: 4223, 811: 3623, 812: 4370, 813: 4643, 814: 4700, 815: 4844, 816: 4874, 817: 4886, 818: 1917, 819: 4310, 820: 4306, 821: 3354, 822: 2688, 823: 2701, 824: 2717, 825: 3114, 826: 2671, 827: 586, 828: 5843, 829: 5447, 830: 5451, 831: 5481, 832: 5507, 833: 5841, 834: 5872, 835: 5891, 836: 5893, 837: 5902, 838: 5956, 839: 5962, 840: 5965, 841: 5988, 842: 6001, 843: 6044, 844: 4558, 845: 5890, 846: 3735, 847: 4131, 848: 187, 849: 627, 850: 922, 851: 1037, 852: 1095, 853: 1674, 854: 3328, 855: 3173, 856: 2877, 857: 2901, 858: 2023, 859: 2011, 860: 1987, 861: 2300, 862: 72737, 863: 77841, 864: 72998, 865: 73017, 866: 74450, 867: 78772, 868: 82167, 869: 80549, 870: 81784, 871: 81845, 872: 81847, 873: 82499, 874: 72720, 875: 79091, 876: 72407, 877: 63113, 878: 72011, 879: 59333, 880: 60397, 881: 60950, 882: 61250, 883: 84374, 884: 63992, 885: 72330, 886: 64969, 887: 68954, 888: 69406, 889: 69844, 890: 70183, 891: 70293, 892: 71579, 893: 66203, 894: 86548, 895: 96079, 896: 88163, 897: 106696, 898: 107141, 899: 109374, 900: 109853, 901: 106489, 902: 112006, 903: 113394, 904: 119145, 905: 129428, 906: 136020, 907: 137595, 908: 140110, 909: 113275, 910: 87222, 911: 105211, 912: 103339, 913: 88810, 914: 91104, 915: 92259, 916: 94070, 917: 95167, 918: 104374, 919: 95449, 920: 95543, 921: 97024, 922: 97938, 923: 98203, 924: 103335, 925: 95510, 926: 58047, 927: 59421, 928: 56367, 929: 56949, 930: 4447, 931: 5066, 932: 3882, 933: 5377, 934: 5943, 935: 5957, 936: 6155, 937: 6266, 938: 6377, 939: 5620, 940: 6535, 941: 1028, 942: 1088, 943: 1307, 944: 1247, 945: 6942, 946: 7151, 947: 31685, 948: 33145, 949: 33679, 950: 40629, 951: 40819, 952: 31433, 953: 41285, 954: 51662, 955: 51705, 956: 7149, 957: 54286, 958: 47099, 959: 30749, 960: 51834, 961: 8969, 962: 7169, 963: 7293, 964: 7375, 965: 7451, 966: 7458, 967: 7154, 968: 8533, 969: 8869, 970: 8529, 971: 1518, 972: 1438, 973: 1385, 974: 1370, 975: 1358, 976: 1586, 977: 1608, 978: 1616, 979: 1687, 980: 1693, 981: 1721, 982: 1840, 983: 1882, 984: 1918, 985: 2002, 986: 2027, 987: 1100, 988: 1604, 989: 44, 990: 376, 991: 529, 992: 511, 993: 2100, 994: 2421, 995: 2485, 996: 2572, 997: 2581, 998: 2694, 999: 3668, 1000: 2072, 1001: 1876, 1002: 1357, 1003: 1405, 1004: 3624, 1005: 3717, 1006: 3798, 1007: 3827, 1008: 3863, 1009: 3952, 1010: 4011, 1011: 4148, 1012: 3893, 1013: 3513, 1014: 3753, 1015: 3300, 1016: 3409, 1017: 1173, 1018: 1590, 1019: 305, 1020: 1639, 1021: 2541, 1022: 1619, 1023: 448, 1024: 784, 1025: 193, 1026: 60069, 1027: 63859, 1028: 64614, 1029: 68237, 1030: 70286, 1031: 71057, 1032: 71264, 1033: 84152, 1034: 59315, 1035: 69757, 1036: 7254, 1037: 50872, 1038: 5971, 1039: 6502, 1040: 84954, 1041: 56174, 1042: 7438, 1043: 8644, 1044: 48304, 1045: 48774, 1046: 48780, 1047: 85414, 1048: 91500, 1049: 166635, 1050: 166528, 1051: 160980, 1052: 158872, 1053: 152081, 1054: 152077, 1055: 143385, 1056: 134853, 1057: 134130, 1058: 122924, 1059: 122922, 1060: 122904, 1061: 122886, 1062: 120466, 1063: 94864, 1064: 96610, 1065: 101864, 1066: 89745, 1067: 103249, 1068: 105504, 1069: 111759, 1070: 112556, 1071: 112852, 1072: 115149, 1073: 104841, 1074: 110102, 1075: 1527, 1076: 1347, 1077: 1200, 1078: 858, 1079: 1653, 1080: 172, 1081: 1909, 1082: 2001, 1083: 4720, 1084: 4022, 1085: 3555, 1086: 3535, 1087: 3499, 1088: 3510, 1089: 2081, 1090: 2085, 1091: 2278, 1092: 3156, 1093: 3022, 1094: 3108, 1095: 2723, 1096: 3429, 1097: 3174, 1098: 3000, 1099: 2707, 1100: 2490, 1101: 1680, 1102: 3683, 1103: 1299, 1104: 3741, 1105: 27773, 1106: 1281, 1107: 78499, 1108: 48394, 1109: 27611, 1110: 7361, 1111: 6350, 1112: 5782, 1113: 4973, 1114: 4878, 1115: 7099, 1116: 1276, 1117: 1261, 1118: 745, 1119: 678, 1120: 111, 1121: 1267, 1122: 913, 1123: 541, 1124: 1260, 1125: 1252, 1126: 1230, 1127: 1223, 1128: 1207, 1129: 1201, 1130: 1147, 1131: 1186, 1132: 1193, 1133: 1148, 1134: 3681, 1135: 3435, 1136: 3263, 1137: 3039, 1138: 2194, 1139: 4571, 1140: 81932, 1141: 82459, 1142: 80463, 1143: 68358, 1144: 64839, 1145: 31658, 1146: 7482, 1147: 6870, 1148: 6016, 1149: 1375, 1150: 1036, 1151: 1234, 1152: 1221, 1153: 1228, 1154: 1209, 1155: 57528, 1156: 59784, 1157: 56757, 1158: 55765, 1159: 57640, 1160: 57669, 1161: 58299, 1162: 55290, 1163: 59615, 1164: 58295, 1165: 55276, 1166: 55118, 1167: 54272, 1168: 53996, 1169: 53972, 1170: 53464, 1171: 53318, 1172: 53129, 1173: 53125, 1174: 52604, 1175: 51540, 1176: 51357, 1177: 60040, 1178: 55247, 1179: 60074, 1180: 71899, 1181: 71156, 1182: 71108, 1183: 69951, 1184: 69640, 1185: 69122, 1186: 68319, 1187: 68159, 1188: 68073, 1189: 67255, 1190: 66934, 1191: 65596, 1192: 64957, 1193: 64197, 1194: 63131, 1195: 62434, 1196: 60684, 1197: 49651, 1198: 27831, 1199: 27716, 1200: 27689, 1201: 26614, 1202: 26444, 1203: 8950, 1204: 8917, 1205: 27878, 1206: 8784, 1207: 8641, 1208: 8361, 1209: 8117, 1210: 7843, 1211: 7753, 1212: 7373, 1213: 7323, 1214: 7318, 1215: 30793, 1216: 47491, 1217: 47200, 1218: 46965, 1219: 46578, 1220: 45722, 1221: 44665, 1222: 44555, 1223: 44199, 1224: 44191, 1225: 44022, 1226: 38038, 1227: 37733, 1228: 37729, 1229: 37386, 1230: 36529, 1231: 36519, 1232: 34150, 1233: 73268, 1234: 33615, 1235: 33004, 1236: 32460, 1237: 38061, 1238: 73321, 1239: 86332, 1240: 73499, 1241: 128620, 1242: 122926, 1243: 122920, 1244: 122918, 1245: 122900, 1246: 122892, 1247: 118900, 1248: 117176, 1249: 116823, 1250: 116797, 1251: 114066, 1252: 112421, 1253: 112334, 1254: 112183, 1255: 111362, 1256: 135569, 1257: 139385, 1258: 7317, 1259: 185135, 1260: 180777, 1261: 180095, 1262: 177593, 1263: 176101, 1264: 171023, 1265: 168252, 1266: 166015, 1267: 164179, 1268: 162606, 1269: 162350, 1270: 107846, 1271: 161582, 1272: 159093, 1273: 158972, 1274: 158238, 1275: 157110, 1276: 157108, 1277: 155168, 1278: 150548, 1279: 148626, 1280: 145283, 1281: 144210, 1282: 142488, 1283: 141688, 1284: 140289, 1285: 160438, 1286: 73323, 1287: 106839, 1288: 88094, 1289: 87232, 1290: 86880, 1291: 86628, 1292: 86190, 1293: 85354, 1294: 84392, 1295: 83349, 1296: 81788, 1297: 80219, 1298: 79702, 1299: 79695, 1300: 79592, 1301: 79293, 1302: 78469, 1303: 77561, 1304: 76251, 1305: 76175, 1306: 76077, 1307: 74948, 1308: 74789, 1309: 74510, 1310: 88129, 1311: 88140, 1312: 90600, 1313: 106487, 1314: 106072, 1315: 104879, 1316: 104241, 1317: 103772, 1318: 103253, 1319: 102903, 1320: 102445, 1321: 102125, 1322: 99813, 1323: 99728, 1324: 98809, 1325: 98585, 1326: 97752, 1327: 96655, 1328: 96488, 1329: 96432, 1330: 95441, 1331: 92094, 1332: 91542, 1333: 91485, 1334: 98124, 1335: 34405, 1336: 1212, 1337: 1059, 1338: 1020, 1339: 1544, 1340: 1374, 1341: 1356, 1342: 1245, 1343: 1227, 1344: 778, 1345: 653, 1346: 555, 1347: 431, 1348: 442, 1349: 5418, 1350: 5266, 1351: 5120, 1352: 5008, 1353: 4816, 1354: 4728, 1355: 4383, 1356: 4327, 1357: 4262, 1358: 4007, 1359: 5574, 1360: 5608, 1361: 5669, 1362: 5679, 1363: 7147, 1364: 7018, 1365: 6888, 1366: 6807, 1367: 6787, 1368: 6709, 1369: 6548, 1370: 6378, 1371: 6373, 1372: 6300, 1373: 5995, 1374: 5944, 1375: 5903, 1376: 6440, 1377: 6287, 1378: 2409, 1379: 2184, 1380: 2410, 1381: 1961, 1382: 1924, 1383: 3896, 1384: 1729, 1385: 2411, 1386: 2420, 1387: 3751, 1388: 2412, 1389: 3785, 1390: 3462, 1391: 3275, 1392: 3257, 1393: 3081, 1394: 2953, 1395: 2918, 1396: 2951, 1397: 2422, 1398: 2706, 1399: 2423, 1400: 2428, 1401: 2418, 1402: 2446, 1403: 2453, 1404: 2465, 1405: 2458, 1406: 2463, 1407: 2416, 1408: 2468, 1409: 2455, 1410: 2407, 1411: 2320, 1412: 2321, 1413: 2315, 1414: 2328, 1415: 2335, 1416: 2354, 1417: 2355, 1418: 2369, 1419: 2371, 1420: 2372, 1421: 2374, 1422: 2375, 1423: 2393, 1424: 2394, 1425: 2396, 1426: 2413, 1427: 2491, 1428: 2672, 1429: 2687, 1430: 2699, 1431: 2709, 1432: 2668, 1433: 2710, 1434: 2719, 1435: 2720, 1436: 2722, 1437: 2302, 1438: 2733, 1439: 2746, 1440: 2643, 1441: 2642, 1442: 2513, 1443: 2518, 1444: 2539, 1445: 2548, 1446: 2550, 1447: 2555, 1448: 2558, 1449: 2605, 1450: 2606, 1451: 2614, 1452: 2622, 1453: 2496, 1454: 2294, 1455: 2040, 1456: 2279, 1457: 2034, 1458: 2036, 1459: 2037, 1460: 2041, 1461: 2044, 1462: 2052, 1463: 2060, 1464: 2065, 1465: 2082, 1466: 2088, 1467: 2053, 1468: 2092, 1469: 2026, 1470: 2015, 1471: 2754, 1472: 1970, 1473: 1971, 1474: 1972, 1475: 1973, 1476: 1991, 1477: 2016, 1478: 1994, 1479: 2003, 1480: 2004, 1481: 2014, 1482: 2287, 1483: 2206, 1484: 2227, 1485: 2232, 1486: 2243, 1487: 2244, 1488: 2248, 1489: 2249, 1490: 2255, 1491: 2261, 1492: 2263, 1493: 2266, 1494: 2267, 1495: 2245, 1496: 2097, 1497: 2171, 1498: 2167, 1499: 2108, 1500: 2110, 1501: 2111, 1502: 2118, 1503: 2123, 1504: 2133, 1505: 2169, 1506: 2134, 1507: 2140, 1508: 2144, 1509: 2148, 1510: 2153, 1511: 2788, 1512: 3483, 1513: 3484, 1514: 3497, 1515: 3500, 1516: 3501, 1517: 3505, 1518: 3526, 1519: 3534, 1520: 3536, 1521: 3548, 1522: 3550, 1523: 3551, 1524: 3584, 1525: 3515, 1526: 3476, 1527: 3393, 1528: 3394, 1529: 3395, 1530: 3396, 1531: 3397, 1532: 3398, 1533: 3400, 1534: 3401, 1535: 3477, 1536: 3421, 1537: 3424, 1538: 3454, 1539: 3466, 1540: 3471, 1541: 3418, 1542: 3387, 1543: 3594, 1544: 3622, 1545: 3745, 1546: 3752, 1547: 3754, 1548: 3763, 1549: 3770, 1550: 3784, 1551: 3802, 1552: 3825, 1553: 3826, 1554: 3835, 1555: 3837, 1556: 1963, 1557: 3797, 1558: 3608, 1559: 3743, 1560: 3662, 1561: 3685, 1562: 3686, 1563: 3692, 1564: 3693, 1565: 3699, 1566: 3701, 1567: 3704, 1568: 3839, 1569: 3705, 1570: 3706, 1571: 3708, 1572: 3712, 1573: 3698, 1574: 3370, 1575: 3361, 1576: 2936, 1577: 2968, 1578: 2995, 1579: 3016, 1580: 3017, 1581: 3031, 1582: 3032, 1583: 3035, 1584: 3005, 1585: 3040, 1586: 2915, 1587: 2900, 1588: 2793, 1589: 2802, 1590: 2804, 1591: 2806, 1592: 2808, 1593: 2822, 1594: 2836, 1595: 2857, 1596: 2860, 1597: 2867, 1598: 2870, 1599: 2883, 1600: 2888, 1601: 2898, 1602: 2840, 1603: 3048, 1604: 3248, 1605: 3254, 1606: 3258, 1607: 3238, 1608: 3269, 1609: 3301, 1610: 3308, 1611: 3316, 1612: 3324, 1613: 3355, 1614: 3264, 1615: 3225, 1616: 3219, 1617: 3213, 1618: 3056, 1619: 3063, 1620: 3064, 1621: 3070, 1622: 3072, 1623: 3082, 1624: 3087, 1625: 3101, 1626: 3104, 1627: 3113, 1628: 3146, 1629: 3190, 1630: 3203, 1631: 1921, 1632: 551, 1633: 558, 1634: 610, 1635: 611, 1636: 513, 1637: 486, 1638: 512, 1639: 810, 1640: 829, 1641: 832, 1642: 866, 1643: 879, 1644: 903, 1645: 906, 1646: 798, 1647: 785, 1648: 671, 1649: 674, 1650: 788, 1651: 742, 1652: 743, 1653: 761, 1654: 724, 1655: 911, 1656: 427, 1657: 107, 1658: 118, 1659: 173, 1660: 12, 1661: 48, 1662: 64, 1663: 372, 1664: 379, 1665: 407, 1666: 414, 1667: 420, 1668: 422, 1669: 295, 1670: 325, 1671: 328, 1672: 338, 1673: 921, 1674: 1588, 1675: 1591, 1676: 1593, 1677: 1603, 1678: 1614, 1679: 1645, 1680: 1648, 1681: 1658, 1682: 1663, 1683: 1665, 1684: 1679, 1685: 1583, 1686: 1461, 1687: 1474, 1688: 1479, 1689: 1485, 1690: 1489, 1691: 1499, 1692: 1550, 1693: 1551, 1694: 1556, 1695: 1562, 1696: 1566, 1697: 1569, 1698: 1542, 1699: 1457, 1700: 1681, 1701: 1689, 1702: 1855, 1703: 1862, 1704: 1881, 1705: 1888, 1706: 1891, 1707: 1848, 1708: 1894, 1709: 1906, 1710: 1911, 1711: 1919, 1712: 1688, 1713: 1845, 1714: 1831, 1715: 1690, 1716: 1702, 1717: 1717, 1718: 1718, 1719: 1722, 1720: 1747, 1721: 1748, 1722: 1754, 1723: 1779, 1724: 1783, 1725: 915, 1726: 1806, 1727: 1812, 1728: 1816, 1729: 1456, 1730: 1798, 1731: 1427, 1732: 1129, 1733: 1081, 1734: 1215, 1735: 1441, 1736: 931, 1737: 933, 1738: 965, 1739: 984, 1740: 1016, 1741: 1021, 1742: 1047, 1743: 1238, 1744: 1359, 1745: 1367, 1746: 1372, 1747: 1373, 1748: 1376, 1749: 1380, 1750: 1394, 1751: 1407, 1752: 1409, 1753: 1378, 1754: 1355, 1755: 1379, 1756: 1346, 1757: 1257, 1758: 1285, 1759: 1269, 1760: 1322, 1761: 1324, 1762: 1345, 1763: 1342, 1764: 1330, 1765: 1333, 1766: 1297, 1767: 1339, 1768: 4232, 1769: 4161, 1770: 4090, 1771: 4054, 1772: 4039, 1773: 4270, 1774: 4154, 1775: 4299, 1776: 4378, 1777: 4344, 1778: 4366, 1779: 4367, 1780: 4369, 1781: 4446, 1782: 4449, 1783: 4519, 1784: 4025, 1785: 4638, 1786: 4016, 1787: 3549, 1788: 3565, 1789: 3615, 1790: 3755, 1791: 3852, 1792: 3948, 1793: 3972, 1794: 3986, 1795: 3988, 1796: 3990, 1797: 3999, 1798: 4019, 1799: 4718, 1800: 5419, 1801: 5463, 1802: 5504, 1803: 5630, 1804: 5693, 1805: 5785, 1806: 6143, 1807: 6156, 1808: 6157, 1809: 6166, 1810: 6170, 1811: 6297, 1812: 6345, 1813: 6358, 1814: 5388, 1815: 4734, 1816: 4776, 1817: 4783, 1818: 4821, 1819: 4846, 1820: 4848, 1821: 4865, 1822: 4901, 1823: 4979, 1824: 4990, 1825: 5013, 1826: 5014, 1827: 5015, 1828: 5103, 1829: 5110, 1830: 5171, 1831: 5254, 1832: 5293, 1833: 5299, 1834: 5313, 1835: 5364, 1836: 1015, 1837: 1018, 1838: 1022, 1839: 1035, 1840: 1013, 1841: 1547, 1842: 1012, 1843: 1010, 1844: 2941, 1845: 3157, 1846: 3159, 1847: 3189, 1848: 3410, 1849: 3438, 1850: 2565, 1851: 2430, 1852: 2059, 1853: 3512, 1854: 2083, 1855: 2087, 1856: 2089, 1857: 2006, 1858: 2135, 1859: 86068, 1860: 87520, 1861: 88125, 1862: 79134, 1863: 85259, 1864: 88744, 1865: 90249, 1866: 88405, 1867: 82202, 1868: 81834, 1869: 81591, 1870: 81229, 1871: 80166, 1872: 79185, 1873: 81564, 1874: 91630, 1875: 103141, 1876: 102993, 1877: 102716, 1878: 102481, 1879: 99532, 1880: 91535, 1881: 97913, 1882: 96004, 1883: 95738, 1884: 95170, 1885: 95067, 1886: 94777, 1887: 94677, 1888: 94503, 1889: 93510, 1890: 96588, 1891: 78637, 1892: 59429, 1893: 59369, 1894: 58998, 1895: 58025, 1896: 56775, 1897: 59900, 1898: 54276, 1899: 53322, 1900: 53121, 1901: 52973, 1902: 52730, 1903: 51084, 1904: 50189, 1905: 103228, 1906: 76093, 1907: 73858, 1908: 73319, 1909: 73106, 1910: 72641, 1911: 61160, 1912: 69644, 1913: 69526, 1914: 68793, 1915: 68791, 1916: 64032, 1917: 117368, 1918: 134393, 1919: 134368, 1920: 133419, 1921: 132157, 1922: 130450, 1923: 126548, 1924: 122896, 1925: 119964, 1926: 119155, 1927: 119141, 1928: 117922, 1929: 117851, 1930: 117590, 1931: 117572, 1932: 117529, 1933: 135133, 1934: 135861, 1935: 173307, 1936: 168248, 1937: 167036, 1938: 166492, 1939: 164909, 1940: 160872, 1941: 160565, 1942: 149380, 1943: 135536, 1944: 148675, 1945: 143245, 1946: 142536, 1947: 140301, 1948: 139915, 1949: 139717, 1950: 139642, 1951: 138186, 1952: 138036, 1953: 136016, 1954: 135887, 1955: 115877, 1956: 115502, 1957: 107013, 1958: 106920, 1959: 106918, 1960: 106916, 1961: 106540, 1962: 106491, 1963: 105954, 1964: 105653, 1965: 105213, 1966: 104211, 1967: 103883, 1968: 103819, 1969: 103810, 1970: 103801, 1971: 103384, 1972: 103372, 1973: 105844, 1974: 115617, 1975: 107449, 1976: 108190, 1977: 114818, 1978: 114180, 1979: 112175, 1980: 112138, 1981: 111844, 1982: 111781, 1983: 111743, 1984: 108156, 1985: 111617, 1986: 111113, 1987: 110553, 1988: 110130, 1989: 109864, 1990: 109723, 1991: 109576, 1992: 108945, 1993: 108932, 1994: 63082, 1995: 47566, 1996: 2403, 1997: 2402, 1998: 2378, 1999: 2376, 2000: 2990, 2001: 2989, 2002: 2724, 2003: 47997, 2004: 38, 2005: 26340, 2006: 8946, 2007: 8574, 2008: 7701, 2009: 7573, 2010: 7570, 2011: 7569, 2012: 46972, 2013: 45672, 2014: 45447, 2015: 45186, 2016: 41566, 2017: 40815, 2018: 39715, 2019: 34162, 2020: 30825, 2021: 6503, 2022: 4621, 2023: 4545, 2024: 4489, 2025: 4085, 2026: 4040, 2027: 4005, 2028: 3984, 2029: 3697, 2030: 3638, 2031: 3635, 2032: 3633, 2033: 3868, 2034: 4701, 2035: 5796, 2036: 5219, 2037: 41997, 2038: 46976, 2039: 39183, 2040: 34437, 2041: 31410, 2042: 30707, 2043: 8622, 2044: 52281, 2045: 8464, 2046: 71464, 2047: 68536, 2048: 66097, 2049: 64575, 2050: 61323, 2051: 60766, 2052: 56788, 2053: 56782, 2054: 56171, 2055: 55820, 2056: 54503, 2057: 53519, 2058: 3006, 2059: 2160, 2060: 1952, 2061: 1953, 2062: 4017, 2063: 6711, 2064: 5673, 2065: 5617, 2066: 4036, 2067: 4903, 2068: 3181, 2069: 3265, 2070: 3822, 2071: 3030, 2072: 1884, 2073: 2912, 2074: 2730, 2075: 2726, 2076: 2686, 2077: 2579, 2078: 1960, 2079: 4235, 2080: 5333, 2081: 1859, 2082: 8370, 2083: 8228, 2084: 8012, 2085: 7932, 2086: 7924, 2087: 7587, 2088: 7123, 2089: 7069, 2090: 7064, 2091: 6989, 2092: 6920, 2093: 6857, 2094: 6790, 2095: 6773, 2096: 6721, 2097: 6387, 2098: 6234, 2099: 1809, 2100: 1711, 2101: 1050, 2102: 741, 2103: 334, 2104: 272, 2105: 175, 2106: 29, 2107: 1175, 2108: 1425, 2109: 1284, 2110: 1274, 2111: 1249, 2112: 1248, 2113: 1243, 2114: 1237, 2115: 1464, 2116: 1232, 2117: 1233, 2118: 1217, 2119: 1218, 2120: 35836, 2121: 57368, 2122: 47610, 2123: 31696, 2124: 5791, 2125: 61132, 2126: 132660, 2127: 102407, 2128: 61024, 2129: 86882, 2130: 5064, 2131: 4855, 2132: 3556, 2133: 2405, 2134: 122912, 2135: 187541, 2136: 176371, 2137: 187593, 2138: 122916, 2139: 2151, 2140: 2311, 2141: 2142, 2142: 2530, 2143: 2532, 2144: 2032, 2145: 2876, 2146: 1592, 2147: 3836, 2148: 3791, 2149: 3654, 2150: 3519, 2151: 3451, 2152: 3350, 2153: 2886, 2154: 3037, 2155: 808, 2156: 421, 2157: 238, 2158: 969, 2159: 1287, 2160: 1387, 2161: 1262, 2162: 1083, 2163: 27788, 2164: 27793, 2165: 31101, 2166: 31116, 2167: 31225, 2168: 31420, 2169: 27450, 2170: 27408, 2171: 8914, 2172: 26812, 2173: 33166, 2174: 8937, 2175: 8951, 2176: 26901, 2177: 8982, 2178: 8983, 2179: 26649, 2180: 26695, 2181: 26750, 2182: 8977, 2183: 43921, 2184: 33660, 2185: 39444, 2186: 40278, 2187: 40414, 2188: 40583, 2189: 39381, 2190: 41863, 2191: 42004, 2192: 43396, 2193: 8874, 2194: 43928, 2195: 41569, 2196: 33558, 2197: 38886, 2198: 36527, 2199: 37731, 2200: 37739, 2201: 34536, 2202: 8810, 2203: 6974, 2204: 6537, 2205: 6552, 2206: 6565, 2207: 6617, 2208: 6796, 2209: 6817, 2210: 6867, 2211: 6884, 2212: 6428, 2213: 5632, 2214: 5682, 2215: 5747, 2216: 5945, 2217: 6281, 2218: 5955, 2219: 6953, 2220: 7841, 2221: 7842, 2222: 7884, 2223: 8010, 2224: 8132, 2225: 7706, 2226: 8493, 2227: 8495, 2228: 8633, 2229: 8378, 2230: 6947, 2231: 7649, 2232: 6957, 2233: 43936, 2234: 6993, 2235: 6997, 2236: 7009, 2237: 7025, 2238: 7481, 2239: 7090, 2240: 7263, 2241: 61986, 2242: 61628, 2243: 61352, 2244: 61350, 2245: 61248, 2246: 61236, 2247: 61210, 2248: 61167, 2249: 61011, 2250: 60943, 2251: 60941, 2252: 60753, 2253: 60735, 2254: 58293, 2255: 58803, 2256: 59018, 2257: 59129, 2258: 62374, 2259: 60046, 2260: 60389, 2261: 60647, 2262: 60674, 2263: 59387, 2264: 62376, 2265: 62394, 2266: 62792, 2267: 65982, 2268: 67534, 2269: 68205, 2270: 65682, 2271: 70336, 2272: 71106, 2273: 71135, 2274: 69849, 2275: 65216, 2276: 64983, 2277: 62799, 2278: 62849, 2279: 63033, 2280: 63062, 2281: 63433, 2282: 64497, 2283: 64716, 2284: 64030, 2285: 49265, 2286: 49530, 2287: 49822, 2288: 48879, 2289: 49961, 2290: 50442, 2291: 51080, 2292: 51255, 2293: 51471, 2294: 51935, 2295: 50068, 2296: 52042, 2297: 44204, 2298: 44761, 2299: 45658, 2300: 46723, 2301: 47644, 2302: 47894, 2303: 48326, 2304: 48385, 2305: 48738, 2306: 47629, 2307: 44195, 2308: 52241, 2309: 52328, 2310: 55363, 2311: 55721, 2312: 55274, 2313: 55908, 2314: 56587, 2315: 56607, 2316: 56921, 2317: 56145, 2318: 55116, 2319: 52952, 2320: 53123, 2321: 53550, 2322: 53953, 2323: 54736, 2324: 54962, 2325: 54997, 2326: 55080, 2327: 55094, 2328: 36517, 2329: 1253, 2330: 1120, 2331: 1171, 2332: 1271, 2333: 1678, 2334: 1785, 2335: 1303, 2336: 1459, 2337: 1480, 2338: 428, 2339: 211, 2340: 5577, 2341: 23, 2342: 147, 2343: 635, 2344: 714, 2345: 851, 2346: 456, 2347: 481, 2348: 507, 2349: 2021, 2350: 3950, 2351: 3980, 2352: 4047, 2353: 3783, 2354: 3360, 2355: 3543, 2356: 4211, 2357: 5009, 2358: 5010, 2359: 5055, 2360: 5152, 2361: 5267, 2362: 5292, 2363: 5329, 2364: 4238, 2365: 4251, 2366: 4343, 2367: 4626, 2368: 4688, 2369: 4772, 2370: 4787, 2371: 5446, 2372: 2618, 2373: 2358, 2374: 2231, 2375: 2272, 2376: 2841, 2377: 2908, 2378: 3169, 2379: 3178, 2380: 3246, 2381: 3252, 2382: 3256, 2383: 3260, 2384: 3271, 2385: 3272, 2386: 3250, 2387: 3198, 2388: 2952, 2389: 3107, 2390: 3020, 2391: 3100, 2392: 3105, 2393: 4980, 2394: 7156, 2395: 3363, 2396: 7379, 2397: 26554, 2398: 98961, 2399: 87306, 2400: 64620, 2401: 26729, 2402: 1772, 2403: 2301, 2404: 953, 2405: 1204, 2406: 1939, 2407: 1792, 2408: 1945, 2409: 1242, 2410: 96821, 2411: 1231, 2412: 1099, 2413: 1363, 2414: 1353, 2415: 1361, 2416: 1393, 2417: 605, 2418: 612, 2419: 786, 2420: 1458, 2421: 1429, 2422: 1104, 2423: 78, 2424: 74, 2425: 194, 2426: 203, 2427: 471, 2428: 246, 2429: 1621, 2430: 1633, 2431: 1643, 2432: 1673, 2433: 1672, 2434: 1280, 2435: 1365, 2436: 1399, 2437: 1476, 2438: 1487, 2439: 2943, 2440: 1537, 2441: 1545, 2442: 1446, 2443: 1799, 2444: 2391, 2445: 2357, 2446: 2443, 2447: 2501, 2448: 2690, 2449: 2875, 2450: 1801, 2451: 2333, 2452: 2310, 2453: 1841, 2454: 2112, 2455: 249, 2456: 307, 2457: 308, 2458: 322, 2459: 28, 2460: 94, 2461: 613, 2462: 715, 2463: 805, 2464: 1027, 2465: 1056, 2466: 1177, 2467: 994, 2468: 446, 2469: 452, 2470: 385, 2471: 562, 2472: 580, 2473: 5449, 2474: 6242, 2475: 5146, 2476: 31184, 2477: 6618, 2478: 44974, 2479: 27801, 2480: 27728, 2481: 27193, 2482: 26606, 2483: 6567, 2484: 3997, 2485: 3270, 2486: 3066, 2487: 2794, 2488: 2735, 2489: 2269, 2490: 3347, 2491: 3362, 2492: 3766, 2493: 3861, 2494: 4220, 2495: 5312, 2496: 6662, 2497: 5093, 2498: 544, 2499: 585, 2500: 2342, 2501: 3019, 2502: 306, 2503: 685, 2504: 514, 2505: 121, 2506: 82, 2507: 228, 2508: 199, 2509: 55280, 2510: 54001, 2511: 65230, 2512: 59725, 2513: 61240, 2514: 56941, 2515: 7444, 2516: 8981, 2517: 111659, 2518: 111921, 2519: 112290, 2520: 115569, 2521: 116897, 2522: 125916, 2523: 128360, 2524: 136864, 2525: 103980, 2526: 71033, 2527: 85774, 2528: 86781, 2529: 89759, 2530: 93840, 2531: 96829, 2532: 97921, 2533: 100714, 2534: 101525, 2535: 87869, 2536: 7173, 2537: 4890, 2538: 6708, 2539: 6763, 2540: 3285, 2541: 3968, 2542: 2796, 2543: 2795, 2544: 2771, 2545: 2702, 2546: 2713, 2547: 2805, 2548: 2827, 2549: 2871, 2550: 3142, 2551: 3120, 2552: 3098, 2553: 2861, 2554: 2906, 2555: 2890, 2556: 2598, 2557: 2352, 2558: 2306, 2559: 2297, 2560: 2236, 2561: 2155, 2562: 2146, 2563: 2574, 2564: 2568, 2565: 2505, 2566: 2500, 2567: 2497, 2568: 2433, 2569: 2404, 2570: 3177, 2571: 3946, 2572: 3208, 2573: 4317, 2574: 4293, 2575: 4280, 2576: 4207, 2577: 4155, 2578: 4153, 2579: 4132, 2580: 4102, 2581: 4084, 2582: 4067, 2583: 4062, 2584: 4041, 2585: 4008, 2586: 4321, 2587: 4322, 2588: 4333, 2589: 4349, 2590: 4686, 2591: 4679, 2592: 4654, 2593: 4629, 2594: 4623, 2595: 4577, 2596: 4565, 2597: 4564, 2598: 4541, 2599: 3987, 2600: 4516, 2601: 4487, 2602: 4482, 2603: 4477, 2604: 4466, 2605: 4442, 2606: 4396, 2607: 4361, 2608: 4359, 2609: 4351, 2610: 4509, 2611: 3326, 2612: 3298, 2613: 3261, 2614: 3259, 2615: 3186, 2616: 3502, 2617: 3841, 2618: 3824, 2619: 3764, 2620: 3695, 2621: 3694, 2622: 3646, 2623: 3552, 2624: 459, 2625: 436, 2626: 433, 2627: 424, 2628: 418, 2629: 413, 2630: 408, 2631: 782, 2632: 639, 2633: 550, 2634: 144, 2635: 122, 2636: 227, 2637: 1667, 2638: 1513, 2639: 1488, 2640: 1976, 2641: 1975, 2642: 1835, 2643: 1810, 2644: 1726, 2645: 1191, 2646: 1468, 2647: 1453, 2648: 1431, 2649: 1343, 2650: 484, 2651: 519, 2652: 1105, 2653: 828, 2654: 57, 2655: 259, 2656: 833, 2657: 836, 2658: 889, 2659: 737, 2660: 18, 2661: 663, 2662: 3004, 2663: 3274, 2664: 3268, 2665: 3249, 2666: 3196, 2667: 2731, 2668: 2431, 2669: 2195, 2670: 2124, 2671: 2106, 2672: 3385, 2673: 2718, 2674: 2504, 2675: 5151, 2676: 5589, 2677: 5585, 2678: 5582, 2679: 5568, 2680: 5528, 2681: 5500, 2682: 5308, 2683: 5307, 2684: 5283, 2685: 5220, 2686: 53993, 2687: 33495, 2688: 7294, 2689: 4974, 2690: 4958, 2691: 4929, 2692: 4502, 2693: 4104, 2694: 1005, 2695: 934, 2696: 69, 2697: 1753, 2698: 1642, 2699: 1615, 2700: 1769, 2701: 1033, 2702: 2064, 2703: 2042, 2704: 1934, 2705: 1866, 2706: 1863, 2707: 1442, 2708: 1390, 2709: 68932, 2710: 69712, 2711: 72395, 2712: 82767, 2713: 63876, 2714: 79242, 2715: 47423, 2716: 45950, 2717: 51931, 2718: 53894, 2719: 140174, 2720: 140247, 2721: 140715, 2722: 145839, 2723: 146656, 2724: 137337, 2725: 163645, 2726: 166643, 2727: 171011, 2728: 159817, 2729: 96567, 2730: 132424, 2731: 112804, 2732: 96811, 2733: 97923, 2734: 100383, 2735: 117881, 2736: 108729, 2737: 106100, 2738: 2121, 2739: 391, 2740: 5108, 2741: 8966, 2742: 6765, 2743: 7160, 2744: 4975, 2745: 2942, 2746: 3969, 2747: 4474, 2748: 3844, 2749: 5882, 2750: 8371, 2751: 1320, 2752: 92475, 2753: 93326, 2754: 93114, 2755: 92427, 2756: 90522, 2757: 91094, 2758: 90746, 2759: 107338, 2760: 88911, 2761: 85796, 2762: 92046, 2763: 82848, 2764: 105250, 2765: 104913, 2766: 104283, 2767: 96606, 2768: 101072, 2769: 100498, 2770: 97304, 2771: 97225, 2772: 103171, 2773: 81562, 2774: 62336, 2775: 52885, 2776: 46862, 2777: 46062, 2778: 45880, 2779: 107565, 2780: 44719, 2781: 79224, 2782: 81018, 2783: 66335, 2784: 64278, 2785: 63312, 2786: 62644, 2787: 172461, 2788: 170705, 2789: 168492, 2790: 168254, 2791: 167370, 2792: 165969, 2793: 164280, 2794: 190183, 2795: 160569, 2796: 156607, 2797: 151759, 2798: 149406, 2799: 143969, 2800: 170875, 2801: 171701, 2802: 171759, 2803: 172013, 2804: 188301, 2805: 179073, 2806: 175781, 2807: 175743, 2808: 143859, 2809: 175707, 2810: 175693, 2811: 175661, 2812: 175485, 2813: 174737, 2814: 174403, 2815: 174141, 2816: 174055, 2817: 175705, 2818: 142997, 2819: 142961, 2820: 142602, 2821: 127146, 2822: 122898, 2823: 114335, 2824: 113374, 2825: 111732, 2826: 115203, 2827: 134170, 2828: 142448, 2829: 142074, 2830: 140928, 2831: 139644, 2832: 138208, 2833: 137857, 2834: 128695, 2835: 136305, 2836: 136018, 2837: 135456, 2838: 135143, 2839: 134515, 2840: 136564, 2841: 1289, 2842: 1273, 2843: 1251, 2844: 2732, 2845: 2553, 2846: 2164, 2847: 2925, 2848: 909, 2849: 8379, 2850: 8253, 2851: 8235, 2852: 8157, 2853: 8143, 2854: 7748, 2855: 7700, 2856: 7396, 2857: 7327, 2858: 7247, 2859: 7206, 2860: 7063, 2861: 8879, 2862: 8928, 2863: 26258, 2864: 37545, 2865: 33781, 2866: 32898, 2867: 32875, 2868: 32659, 2869: 6975, 2870: 32657, 2871: 27513, 2872: 27156, 2873: 26422, 2874: 26326, 2875: 8974, 2876: 4658, 2877: 4399, 2878: 4282, 2879: 3730, 2880: 3415, 2881: 3221, 2882: 4914, 2883: 6663, 2884: 6666, 2885: 6239, 2886: 5932, 2887: 5810, 2888: 5021, 2889: 5004, 2890: 4928, 2891: 3799, 2892: 3814, 2893: 3614, 2894: 3430, 2895: 4241, 2896: 3918, 2897: 3388, 2898: 4267, 2899: 4255, 2900: 4215, 2901: 3959, 2902: 3917, 2903: 2661, 2904: 2752, 2905: 2664, 2906: 2634, 2907: 2615, 2908: 2613, 2909: 4291, 2910: 3148, 2911: 3115, 2912: 2978, 2913: 52722, 2914: 26680, 2915: 8623, 2916: 34338, 2917: 7983, 2918: 7163, 2919: 7040, 2920: 7007, 2921: 7757, 2922: 39414, 2923: 60487, 2924: 59306, 2925: 57532, 2926: 48877, 2927: 45666, 2928: 42723, 2929: 7004, 2930: 7000, 2931: 6880, 2932: 5040, 2933: 4992, 2934: 4971, 2935: 4876, 2936: 4713, 2937: 4591, 2938: 4508, 2939: 4496, 2940: 4464, 2941: 4437, 2942: 5339, 2943: 6873, 2944: 6793, 2945: 6786, 2946: 6659, 2947: 6371, 2948: 6323, 2949: 5712, 2950: 5672, 2951: 5505, 2952: 4340, 2953: 1014, 2954: 1011, 2955: 781, 2956: 1301, 2957: 1244, 2958: 1235, 2959: 2587, 2960: 522, 2961: 482, 2962: 479, 2963: 387, 2964: 1350, 2965: 2265, 2966: 2159, 2967: 2183, 2968: 2322, 2969: 2356, 2970: 2363, 2971: 2554, 2972: 2533, 2973: 2524, 2974: 2454, 2975: 2408, 2976: 2380, 2977: 2379, 2978: 1999, 2979: 1997, 2980: 1873, 2981: 65514, 2982: 56801, 2983: 54999, 2984: 54995, 2985: 69481, 2986: 110501, 2987: 93838, 2988: 93721, 2989: 86892, 2990: 52245, 2991: 51077, 2992: 50794, 2993: 33646, 2994: 1125, 2995: 1982, 2996: 916, 2997: 748, 2998: 1293, 2999: 2202, 3000: 2289, 3001: 2102, 3002: 2476, 3003: 2429, 3004: 2067, 3005: 1670, 3006: 1646, 3007: 1564, 3008: 2009, 3009: 1858, 3010: 1912, 3011: 3507, 3012: 3494, 3013: 3446, 3014: 3334, 3015: 3426, 3016: 3937, 3017: 3901, 3018: 3811, 3019: 3774, 3020: 3773, 3021: 3769, 3022: 3593, 3023: 3643, 3024: 3632, 3025: 3628, 3026: 2917, 3027: 2922, 3028: 2681, 3029: 2759, 3030: 2935, 3031: 3045, 3032: 2961, 3033: 518, 3034: 473, 3035: 861, 3036: 728, 3037: 707, 3038: 198, 3039: 897, 3040: 1277, 3041: 1254, 3042: 1268, 3043: 1498, 3044: 1416, 3045: 1388, 3046: 955, 3047: 951, 3048: 942, 3049: 1184, 3050: 280, 3051: 1944, 3052: 2020, 3053: 2075, 3054: 1696, 3055: 1631, 3056: 1797, 3057: 3230, 3058: 6460, 3059: 1428, 3060: 3504, 3061: 3498, 3062: 3461, 3063: 3075, 3064: 1151, 3065: 928, 3066: 2739, 3067: 90866, 3068: 87430, 3069: 89492, 3070: 106002, 3071: 104863, 3072: 103341, 3073: 103042, 3074: 86911, 3075: 102123, 3076: 99149, 3077: 96861, 3078: 80693, 3079: 68848, 3080: 68554, 3081: 67734, 3082: 63072, 3083: 60126, 3084: 60072, 3085: 83369, 3086: 82461, 3087: 79357, 3088: 78105, 3089: 74228, 3090: 107406, 3091: 161131, 3092: 158966, 3093: 143355, 3094: 142222, 3095: 135518, 3096: 166534, 3097: 168250, 3098: 187595, 3099: 185031, 3100: 184471, 3101: 183611, 3102: 182715, 3103: 179819, 3104: 179401, 3105: 176601, 3106: 175303, 3107: 174053, 3108: 173925, 3109: 172591, 3110: 171763, 3111: 170827, 3112: 128512, 3113: 114935, 3114: 114678, 3115: 114662, 3116: 113741, 3117: 111360, 3118: 115210, 3119: 115680, 3120: 107348, 3121: 118696, 3122: 89864, 3123: 59501, 3124: 6058, 3125: 49130, 3126: 48043, 3127: 49649, 3128: 50804, 3129: 51086, 3130: 6564, 3131: 6541, 3132: 27808, 3133: 27706, 3134: 27660, 3135: 7387, 3136: 7022, 3137: 7980, 3138: 7132, 3139: 30810, 3140: 33779, 3141: 8376, 3142: 27904, 3143: 27846, 3144: 8873, 3145: 6104, 3146: 86504, 3147: 89753, 3148: 89904, 3149: 92494, 3150: 92535, 3151: 95858, 3152: 86290, 3153: 102217, 3154: 104069, 3155: 98491, 3156: 53000, 3157: 54259, 3158: 77800, 3159: 45728, 3160: 67997, 3161: 64285, 3162: 1202, 3163: 3088, 3164: 4105, 3165: 1965, 3166: 4128, 3167: 4023, 3168: 5026, 3169: 4964, 3170: 4773, 3171: 4448, 3172: 4380, 3173: 3041, 3174: 2905, 3175: 5225, 3176: 7360, 3177: 5291, 3178: 8832, 3179: 8795, 3180: 8645, 3181: 8093, 3182: 8014, 3183: 7982, 3184: 7930, 3185: 7743, 3186: 7411, 3187: 42632, 3188: 34072, 3189: 33683, 3190: 27869, 3191: 27523, 3192: 27266, 3193: 27020, 3194: 26504, 3195: 6188, 3196: 5954, 3197: 5878, 3198: 6214, 3199: 5690, 3200: 5417, 3201: 6218, 3202: 7235, 3203: 7162, 3204: 7139, 3205: 6944, 3206: 6936, 3207: 6385, 3208: 6331, 3209: 6296, 3210: 968, 3211: 1096, 3212: 365, 3213: 2313, 3214: 1889, 3215: 1762, 3216: 3262, 3217: 3444, 3218: 4203, 3219: 4611, 3220: 4585, 3221: 4581, 3222: 4572, 3223: 4537, 3224: 4499, 3225: 4465, 3226: 4231, 3227: 4158, 3228: 4149, 3229: 4079, 3230: 4616, 3231: 3201, 3232: 3074, 3233: 3029, 3234: 2966, 3235: 2956, 3236: 7127, 3237: 7048, 3238: 7046, 3239: 7028, 3240: 7027, 3241: 7015, 3242: 6996, 3243: 6979, 3244: 7325, 3245: 8024, 3246: 7766, 3247: 7647, 3248: 7624, 3249: 7493, 3250: 8158, 3251: 6832, 3252: 5644, 3253: 5548, 3254: 5265, 3255: 5023, 3256: 6754, 3257: 6636, 3258: 6313, 3259: 6124, 3260: 6025, 3261: 6022, 3262: 2257, 3263: 2401, 3264: 255, 3265: 535, 3266: 523, 3267: 1956, 3268: 2316, 3269: 2312, 3270: 1541, 3271: 1216, 3272: 1382, 3273: 1326, 3274: 5628, 3275: 8605, 3276: 8604, 3277: 47999, 3278: 8968, 3279: 8947, 3280: 8910, 3281: 27705, 3282: 27539, 3283: 27473, 3284: 26871, 3285: 26778, 3286: 26712, 3287: 8985, 3288: 8866, 3289: 8677, 3290: 7566, 3291: 7541, 3292: 7454, 3293: 8366, 3294: 7346, 3295: 7320, 3296: 8861, 3297: 8807, 3298: 8781, 3299: 30822, 3300: 33154, 3301: 45501, 3302: 45431, 3303: 44788, 3304: 44709, 3305: 44004, 3306: 42738, 3307: 42718, 3308: 45720, 3309: 45726, 3310: 45928, 3311: 47978, 3312: 47970, 3313: 42018, 3314: 46948, 3315: 46322, 3316: 41724, 3317: 41573, 3318: 33672, 3319: 34153, 3320: 32598, 3321: 33437, 3322: 31049, 3323: 34542, 3324: 41571, 3325: 40959, 3326: 40732, 3327: 7256, 3328: 5049, 3329: 5444, 3330: 4969, 3331: 5400, 3332: 4639, 3333: 4388, 3334: 4387, 3335: 4372, 3336: 5541, 3337: 4677, 3338: 4877, 3339: 4681, 3340: 4823, 3341: 5553, 3342: 6755, 3343: 6753, 3344: 6879, 3345: 6707, 3346: 6595, 3347: 7137, 3348: 6893, 3349: 7010, 3350: 6939, 3351: 6383, 3352: 6193, 3353: 59220, 3354: 80860, 3355: 79057, 3356: 78703, 3357: 78467, 3358: 76751, 3359: 86833, 3360: 86377, 3361: 86293, 3362: 85780, 3363: 84772, 3364: 74946, 3365: 83803, 3366: 81910, 3367: 83134, 3368: 74668, 3369: 74508, 3370: 69904, 3371: 69784, 3372: 69524, 3373: 69069, 3374: 68952, 3375: 68659, 3376: 69394, 3377: 74154, 3378: 73023, 3379: 72591, 3380: 72489, 3381: 71282, 3382: 70990, 3383: 70521, 3384: 70492, 3385: 72167, 3386: 114762, 3387: 90576, 3388: 89470, 3389: 89087, 3390: 93287, 3391: 96110, 3392: 95875, 3393: 95624, 3394: 92420, 3395: 94959, 3396: 95218, 3397: 48342, 3398: 67618, 3399: 54734, 3400: 54281, 3401: 54121, 3402: 54116, 3403: 54004, 3404: 54881, 3405: 56251, 3406: 56152, 3407: 55830, 3408: 55620, 3409: 55282, 3410: 55253, 3411: 55232, 3412: 55190, 3413: 55112, 3414: 55052, 3415: 55267, 3416: 53435, 3417: 50740, 3418: 50685, 3419: 50658, 3420: 49772, 3421: 50806, 3422: 49274, 3423: 48696, 3424: 56336, 3425: 52975, 3426: 52767, 3427: 52458, 3428: 52435, 3429: 51884, 3430: 51709, 3431: 52287, 3432: 56339, 3433: 56379, 3434: 62999, 3435: 62956, 3436: 62293, 3437: 62155, 3438: 60514, 3439: 67408, 3440: 67267, 3441: 67087, 3442: 66665, 3443: 60363, 3444: 66198, 3445: 65188, 3446: 64622, 3447: 58162, 3448: 58107, 3449: 58078, 3450: 57951, 3451: 58347, 3452: 58839, 3453: 59731, 3454: 59258, 3455: 59126, 3456: 59440, 3457: 4356, 3458: 1381, 3459: 1292, 3460: 1019, 3461: 1017, 3462: 1703, 3463: 1515, 3464: 1635, 3465: 932, 3466: 875, 3467: 3452, 3468: 3554, 3469: 3553, 3470: 3077, 3471: 3653, 3472: 4069, 3473: 4068, 3474: 4015, 3475: 4124, 3476: 4326, 3477: 4141, 3478: 3981, 3479: 3786, 3480: 3707, 3481: 3978, 3482: 3675, 3483: 2950, 3484: 2385, 3485: 2340, 3486: 2125, 3487: 2334, 3488: 2728, 3489: 2803, 3490: 2881, 3491: 2471, 3492: 2662, 3493: 2567, 3494: 2560, 3495: 4744, 3496: 4880, 3497: 3359, 3498: 3152, 3499: 1962, 3500: 1959, 3501: 1955, 3502: 3468, 3503: 91077, 3504: 1172, 3505: 1300, 3506: 2136, 3507: 87485, 3508: 92509, 3509: 93272, 3510: 69278, 3511: 71518, 3512: 72226, 3513: 74647, 3514: 75805, 3515: 76293, 3516: 99106, 3517: 101612, 3518: 113378, 3519: 114074, 3520: 123947, 3521: 131013, 3522: 138204, 3523: 149354, 3524: 151739, 3525: 127202, 3526: 112788, 3527: 112450, 3528: 105037, 3529: 109483, 3530: 111320, 3531: 128520, 3532: 55768, 3533: 68135, 3534: 53460, 3535: 44193, 3536: 45221, 3537: 47518, 3538: 47122, 3539: 50601, 3540: 48414, 3541: 8183, 3542: 7234, 3543: 7419, 3544: 7889, 3545: 7158, 3546: 8154, 3547: 8804, 3548: 8340, 3549: 8341, 3550: 8838, 3551: 26350, 3552: 26578, 3553: 27721, 3554: 7087, 3555: 6235, 3556: 6244, 3557: 6270, 3558: 6301, 3559: 6305, 3560: 6591, 3561: 6791, 3562: 6852, 3563: 6858, 3564: 31522, 3565: 52967, 3566: 55069, 3567: 55444, 3568: 55814, 3569: 57147, 3570: 58103, 3571: 5867, 3572: 58154, 3573: 50274, 3574: 39292, 3575: 44937, 3576: 48698, 3577: 5812, 3578: 1185, 3579: 926, 3580: 949, 3581: 1041, 3582: 2010, 3583: 4103, 3584: 4427, 3585: 5304, 3586: 5341, 3587: 5434, 3588: 4546, 3589: 5300, 3590: 3307, 3591: 2360, 3592: 2594, 3593: 3089, 3594: 7001, 3595: 6303, 3596: 7669, 3597: 39446, 3598: 81535, 3599: 72129, 3600: 63436, 3601: 55577, 3602: 2318, 3603: 2792, 3604: 20, 3605: 2659, 3606: 3197, 3607: 3266, 3608: 3576, 3609: 3425, 3610: 164, 3611: 1189, 3612: 1192, 3613: 60030, 3614: 69654, 3615: 75395, 3616: 78266, 3617: 91974, 3618: 93297, 3619: 96691, 3620: 96917, 3621: 98361, 3622: 100810, 3623: 103075, 3624: 103688, 3625: 78349, 3626: 80363, 3627: 80831, 3628: 81417, 3629: 82041, 3630: 84601, 3631: 85397, 3632: 90405, 3633: 90469, 3634: 84189, 3635: 4887, 3636: 6952, 3637: 6059, 3638: 4386, 3639: 4989, 3640: 5065, 3641: 5094, 3642: 5296, 3643: 5414, 3644: 5106, 3645: 6586, 3646: 6593, 3647: 6686, 3648: 6687, 3649: 6702, 3650: 6750, 3651: 6752, 3652: 6764, 3653: 6886, 3654: 6887, 3655: 6946, 3656: 6949, 3657: 6958, 3658: 7142, 3659: 6566, 3660: 5803, 3661: 5874, 3662: 5900, 3663: 6006, 3664: 6014, 3665: 6249, 3666: 6338, 3667: 6484, 3668: 6536, 3669: 6550, 3670: 2381, 3671: 2383, 3672: 2384, 3673: 27397, 3674: 55442, 3675: 58303, 3676: 3155, 3677: 1091, 3678: 1135, 3679: 1132, 3680: 1131, 3681: 900, 3682: 1187, 3683: 987, 3684: 971, 3685: 948, 3686: 1296, 3687: 1295, 3688: 1305, 3689: 1290, 3690: 1286, 3691: 1414, 3692: 1395, 3693: 1194, 3694: 1190, 3695: 214, 3696: 287, 3697: 321, 3698: 14, 3699: 154, 3700: 55, 3701: 324, 3702: 299, 3703: 331, 3704: 326, 3705: 726, 3706: 722, 3707: 691, 3708: 369, 3709: 406, 3710: 1596, 3711: 1624, 3712: 1683, 3713: 1694, 3714: 1730, 3715: 1519, 3716: 53, 3717: 1140, 3718: 74553, 3719: 72356, 3720: 3910, 3721: 7312, 3722: 6464, 3723: 26974, 3724: 74795, 3725: 83177, 3726: 102984, 3727: 102747, 3728: 103602, 3729: 104339, 3730: 106594, 3731: 105540, 3732: 105746, 3733: 106927, 3734: 102686, 3735: 104875, 3736: 101283, 3737: 100507, 3738: 100390, 3739: 99853, 3740: 99130, 3741: 99122, 3742: 99117, 3743: 98279, 3744: 97836, 3745: 96935, 3746: 107951, 3747: 96608, 3748: 102378, 3749: 108078, 3750: 113453, 3751: 121007, 3752: 120813, 3753: 119714, 3754: 118894, 3755: 118862, 3756: 118834, 3757: 118572, 3758: 118530, 3759: 118270, 3760: 117109, 3761: 116738, 3762: 116718, 3763: 115111, 3764: 95843, 3765: 113252, 3766: 111146, 3767: 109596, 3768: 109241, 3769: 108949, 3770: 116817, 3771: 95633, 3772: 91666, 3773: 83910, 3774: 82854, 3775: 81537, 3776: 81087, 3777: 80727, 3778: 79897, 3779: 79684, 3780: 78620, 3781: 78142, 3782: 77688, 3783: 76301, 3784: 76143, 3785: 74698, 3786: 74683, 3787: 74342, 3788: 73822, 3789: 73160, 3790: 73042, 3791: 73015, 3792: 83969, 3793: 84246, 3794: 84944, 3795: 94661, 3796: 93022, 3797: 93006, 3798: 92643, 3799: 121097, 3800: 91386, 3801: 91355, 3802: 90717, 3803: 89898, 3804: 88812, 3805: 88785, 3806: 88746, 3807: 88069, 3808: 87834, 3809: 86298, 3810: 86059, 3811: 85881, 3812: 85295, 3813: 84512, 3814: 121338, 3815: 127134, 3816: 121469, 3817: 157775, 3818: 157296, 3819: 156781, 3820: 156025, 3821: 155589, 3822: 153408, 3823: 153386, 3824: 150554, 3825: 149566, 3826: 149508, 3827: 158398, 3828: 149352, 3829: 148775, 3830: 148632, 3831: 147936, 3832: 147410, 3833: 146986, 3834: 146684, 3835: 146244, 3836: 145491, 3837: 144222, 3838: 143559, 3839: 143031, 3840: 142831, 3841: 142550, 3842: 149350, 3843: 158882, 3844: 159069, 3845: 160567, 3846: 184791, 3847: 184349, 3848: 182731, 3849: 182299, 3850: 182297, 3851: 182293, 3852: 181065, 3853: 179211, 3854: 177765, 3855: 177185, 3856: 176805, 3857: 176621, 3858: 174681, 3859: 173253, 3860: 172321, 3861: 171811, 3862: 171751, 3863: 170993, 3864: 170837, 3865: 169912, 3866: 167854, 3867: 167772, 3868: 167380, 3869: 167018, 3870: 164707, 3871: 164226, 3872: 164200, 3873: 163527, 3874: 142444, 3875: 121342, 3876: 142196, 3877: 141830, 3878: 131439, 3879: 131130, 3880: 131104, 3881: 131098, 3882: 130520, 3883: 130518, 3884: 130452, 3885: 129354, 3886: 129011, 3887: 128968, 3888: 128944, 3889: 128852, 3890: 128594, 3891: 131610, 3892: 128089, 3893: 128087, 3894: 72701, 3895: 127052, 3896: 126921, 3897: 126577, 3898: 126088, 3899: 125974, 3900: 125970, 3901: 124404, 3902: 124273, 3903: 122092, 3904: 121781, 3905: 128366, 3906: 131826, 3907: 132153, 3908: 132422, 3909: 141646, 3910: 141544, 3911: 141513, 3912: 140711, 3913: 140561, 3914: 140541, 3915: 140481, 3916: 140133, 3917: 139994, 3918: 139640, 3919: 139157, 3920: 136834, 3921: 136503, 3922: 136359, 3923: 136355, 3924: 136353, 3925: 136341, 3926: 135937, 3927: 135777, 3928: 134847, 3929: 134334, 3930: 134004, 3931: 133879, 3932: 133867, 3933: 133712, 3934: 132800, 3935: 132584, 3936: 132496, 3937: 141928, 3938: 72692, 3939: 72178, 3940: 3606, 3941: 3604, 3942: 3599, 3943: 3315, 3944: 3097, 3945: 3061, 3946: 3991, 3947: 5621, 3948: 5529, 3949: 5480, 3950: 5092, 3951: 4899, 3952: 4300, 3953: 950, 3954: 947, 3955: 946, 3956: 945, 3957: 936, 3958: 918, 3959: 905, 3960: 72624, 3961: 901, 3962: 6271, 3963: 55269, 3964: 53578, 3965: 53355, 3966: 53280, 3967: 51575, 3968: 51167, 3969: 50999, 3970: 50613, 3971: 49735, 3972: 49013, 3973: 48982, 3974: 48520, 3975: 47736, 3976: 47725, 3977: 46105, 3978: 44851, 3979: 44777, 3980: 44773, 3981: 70697, 3982: 69720, 3983: 69469, 3984: 69304, 3985: 69211, 3986: 67888, 3987: 66943, 3988: 66798, 3989: 65588, 3990: 64116, 3991: 62008, 3992: 60737, 3993: 60289, 3994: 58291, 3995: 48649, 3996: 42725, 3997: 8978, 3998: 8814, 3999: 8372, 4000: 8238, 4001: 7381, 4002: 42761, 4003: 7297, 4004: 25887, 4005: 7209, 4006: 6783, 4007: 6650, 4008: 6604, 4009: 6402, 4010: 7067, 4011: 26183, 4012: 26265, 4013: 42013, 4014: 41828, 4015: 26184, 4016: 40339, 4017: 37444, 4018: 37384, 4019: 35807, 4020: 34332, 4021: 34312, 4022: 33830, 4023: 40962, 4024: 33090, 4025: 26645, 4026: 27826, 4027: 31851, 4028: 27619, 4029: 31925, 4030: 32596, 4031: 26429, 4032: 32243, 4033: 32060, 4034: 1034, 4035: 896, 4036: 1144, 4037: 1366, 4038: 1411, 4039: 1417, 4040: 791, 4041: 1137, 4042: 1116, 4043: 766, 4044: 68, 4045: 81, 4046: 116, 4047: 735, 4048: 85, 4049: 617, 4050: 581, 4051: 3267, 4052: 3182, 4053: 2992, 4054: 3013, 4055: 3018, 4056: 3153, 4057: 3810, 4058: 3840, 4059: 3563, 4060: 3768, 4061: 3727, 4062: 2456, 4063: 2419, 4064: 2522, 4065: 2298, 4066: 2625, 4067: 2790, 4068: 2817, 4069: 2784, 4070: 2868, 4071: 2782, 4072: 2651, 4073: 4304, 4074: 6678, 4075: 6731, 4076: 6744, 4077: 6638, 4078: 6820, 4079: 6963, 4080: 6629, 4081: 6203, 4082: 6219, 4083: 6283, 4084: 6620, 4085: 6327, 4086: 6375, 4087: 6395, 4088: 6461, 4089: 8426, 4090: 8501, 4091: 8507, 4092: 8581, 4093: 27317, 4094: 27873, 4095: 7118, 4096: 7308, 4097: 8266, 4098: 7561, 4099: 7650, 4100: 7802, 4101: 8016, 4102: 8147, 4103: 7492, 4104: 5749, 4105: 4438, 4106: 4587, 4107: 4599, 4108: 4624, 4109: 4645, 4110: 4661, 4111: 4678, 4112: 4774, 4113: 4800, 4114: 4092, 4115: 4109, 4116: 4254, 4117: 4316, 4118: 4214, 4119: 4850, 4120: 5479, 4121: 5588, 4122: 5640, 4123: 5650, 4124: 5438, 4125: 4909, 4126: 4987, 4127: 5165, 4128: 5294, 4129: 5346, 4130: 2138, 4131: 533, 4132: 384, 4133: 464, 4134: 1760, 4135: 2117, 4136: 2122, 4137: 1974, 4138: 1981, 4139: 1771, 4140: 1321, 4141: 1337, 4142: 1340, 4143: 1241, 4144: 54190, 4145: 2398, 4146: 2114, 4147: 1606, 4148: 2103, 4149: 4732, 4150: 4954, 4151: 5027, 4152: 5072, 4153: 5246, 4154: 5247, 4155: 3071, 4156: 3690, 4157: 4126, 4158: 6367, 4159: 5619, 4160: 5792, 4161: 6051, 4162: 6288, 4163: 2280, 4164: 2600, 4165: 1529, 4166: 1659, 4167: 1942, 4168: 3819, 4169: 5109, 4170: 5420, 4171: 79139, 4172: 71745, 4173: 2262, 4174: 1958, 4175: 5380, 4176: 6183, 4177: 6785, 4178: 3244, 4179: 3179, 4180: 2337, 4181: 233, 4182: 59022, 4183: 58972, 4184: 57522, 4185: 7367, 4186: 50912, 4187: 4873, 4188: 91653, 4189: 91126, 4190: 90890, 4191: 88108, 4192: 87194, 4193: 91671, 4194: 91976, 4195: 96728, 4196: 134881, 4197: 132046, 4198: 86815, 4199: 116799, 4200: 106766, 4201: 99764, 4202: 86014, 4203: 70728, 4204: 69140, 4205: 65802, 4206: 65088, 4207: 64114, 4208: 62553, 4209: 65577, 4210: 81819, 4211: 81156, 4212: 80586, 4213: 80572, 4214: 79572, 4215: 77427, 4216: 77206, 4217: 6169, 4218: 6030, 4219: 6060, 4220: 6012, 4221: 7036, 4222: 6579, 4223: 7050, 4224: 7034, 4225: 4676, 4226: 7380, 4227: 4476, 4228: 4663, 4229: 4740, 4230: 5460, 4231: 4941, 4232: 4912, 4233: 69988, 4234: 80584, 4235: 85401, 4236: 93805, 4237: 94015, 4238: 94150, 4239: 94833, 4240: 54780, 4241: 8643, 4242: 8796, 4243: 25937, 4244: 32300, 4245: 53466, 4246: 45175, 4247: 938, 4248: 2837, 4249: 3746, 4250: 3719, 4251: 3325, 4252: 2551, 4253: 3163, 4254: 1833, 4255: 2325, 4256: 74324, 4257: 73881, 4258: 72104, 4259: 75341, 4260: 74727, 4261: 64993, 4262: 79333, 4263: 66371, 4264: 67923, 4265: 69134, 4266: 69529, 4267: 69685, 4268: 80124, 4269: 88235, 4270: 88345, 4271: 91261, 4272: 93790, 4273: 86347, 4274: 84156, 4275: 84844, 4276: 85316, 4277: 85736, 4278: 86066, 4279: 86320, 4280: 48872, 4281: 38159, 4282: 42191, 4283: 60904, 4284: 63515, 4285: 58554, 4286: 56060, 4287: 57183, 4288: 57504, 4289: 58425, 4290: 95311, 4291: 141816, 4292: 141818, 4293: 141820, 4294: 141836, 4295: 141844, 4296: 142020, 4297: 143511, 4298: 141810, 4299: 145994, 4300: 147196, 4301: 147250, 4302: 147282, 4303: 147286, 4304: 147300, 4305: 147326, 4306: 147328, 4307: 147330, 4308: 146028, 4309: 140265, 4310: 140038, 4311: 138835, 4312: 129514, 4313: 130970, 4314: 130976, 4315: 130978, 4316: 131237, 4317: 133716, 4318: 134041, 4319: 134095, 4320: 134109, 4321: 134184, 4322: 134252, 4323: 134326, 4324: 134849, 4325: 136445, 4326: 136447, 4327: 127098, 4328: 151769, 4329: 152591, 4330: 172793, 4331: 172825, 4332: 172909, 4333: 173351, 4334: 173355, 4335: 173535, 4336: 173619, 4337: 173963, 4338: 172637, 4339: 174551, 4340: 175387, 4341: 175397, 4342: 175401, 4343: 175431, 4344: 175435, 4345: 178613, 4346: 179133, 4347: 175293, 4348: 172589, 4349: 172587, 4350: 172585, 4351: 158402, 4352: 159811, 4353: 163072, 4354: 163112, 4355: 163134, 4356: 163386, 4357: 163925, 4358: 165959, 4359: 166183, 4360: 170411, 4361: 170597, 4362: 170777, 4363: 171749, 4364: 172577, 4365: 172583, 4366: 126430, 4367: 126426, 4368: 101962, 4369: 102602, 4370: 102666, 4371: 103235, 4372: 104780, 4373: 101088, 4374: 105593, 4375: 100553, 4376: 100302, 4377: 95313, 4378: 95377, 4379: 95654, 4380: 96020, 4381: 96373, 4382: 98604, 4383: 99145, 4384: 107159, 4385: 107408, 4386: 117444, 4387: 118166, 4388: 118888, 4389: 118896, 4390: 118985, 4391: 120138, 4392: 120478, 4393: 120625, 4394: 126090, 4395: 116411, 4396: 95175, 4397: 107410, 4398: 107412, 4399: 108540, 4400: 108727, 4401: 108981, 4402: 109633, 4403: 110586, 4404: 111622, 4405: 36401, 4406: 3306, 4407: 3310, 4408: 3592, 4409: 3629, 4410: 3677, 4411: 3687, 4412: 2495, 4413: 2931, 4414: 3742, 4415: 4325, 4416: 3821, 4417: 2131, 4418: 665, 4419: 935, 4420: 36363, 4421: 213, 4422: 1111, 4423: 1178, 4424: 1354, 4425: 4788, 4426: 8638, 4427: 8656, 4428: 8511, 4429: 7347, 4430: 7371, 4431: 8025, 4432: 8033, 4433: 8197, 4434: 9010, 4435: 26082, 4436: 26150, 4437: 32892, 4438: 33124, 4439: 30803, 4440: 26236, 4441: 26237, 4442: 26347, 4443: 26471, 4444: 26587, 4445: 26662, 4446: 26849, 4447: 26903, 4448: 27134, 4449: 27803, 4450: 27815, 4451: 27834, 4452: 5373, 4453: 5888, 4454: 6643, 4455: 5889, 4456: 6777, 4457: 6985, 4458: 6433, 4459: 6187, 4460: 5912, 4461: 99636, 4462: 5051, 4463: 5034, 4464: 5011, 4465: 4994, 4466: 5135, 4467: 4889, 4468: 4976, 4469: 6049, 4470: 5309, 4471: 5881, 4472: 5303, 4473: 5450, 4474: 5391, 4475: 5316, 4476: 5466, 4477: 4159, 4478: 156, 4479: 1684, 4480: 4024, 4481: 3795, 4482: 2585, 4483: 528, 4484: 346, 4485: 283, 4486: 7096, 4487: 26171, 4488: 40870, 4489: 87867, 4490: 87483, 4491: 87529, 4492: 91323, 4493: 85022, 4494: 85367, 4495: 92264, 4496: 82852, 4497: 93270, 4498: 93443, 4499: 100194, 4500: 101142, 4501: 100083, 4502: 104218, 4503: 102720, 4504: 99007, 4505: 93831, 4506: 94478, 4507: 94953, 4508: 95720, 4509: 80139, 4510: 96616, 4511: 97172, 4512: 98083, 4513: 79428, 4514: 61255, 4515: 62439, 4516: 63479, 4517: 104644, 4518: 55872, 4519: 56805, 4520: 59143, 4521: 58156, 4522: 65585, 4523: 73929, 4524: 74275, 4525: 74532, 4526: 78174, 4527: 78209, 4528: 71838, 4529: 69436, 4530: 70565, 4531: 70641, 4532: 71205, 4533: 71668, 4534: 104925, 4535: 162602, 4536: 161580, 4537: 162344, 4538: 162478, 4539: 165103, 4540: 165483, 4541: 165645, 4542: 165671, 4543: 165843, 4544: 166461, 4545: 167634, 4546: 167746, 4547: 165947, 4548: 168144, 4549: 161024, 4550: 160289, 4551: 155509, 4552: 155812, 4553: 156609, 4554: 157312, 4555: 157699, 4556: 159161, 4557: 159441, 4558: 159755, 4559: 160080, 4560: 160271, 4561: 158813, 4562: 168326, 4563: 168418, 4564: 176329, 4565: 178323, 4566: 179427, 4567: 179953, 4568: 180265, 4569: 175577, 4570: 181659, 4571: 182749, 4572: 183197, 4573: 183227, 4574: 183959, 4575: 184015, 4576: 55261, 4577: 181139, 4578: 174815, 4579: 174045, 4580: 173255, 4581: 168632, 4582: 168846, 4583: 170357, 4584: 170399, 4585: 170401, 4586: 170813, 4587: 170817, 4588: 170897, 4589: 170937, 4590: 170957, 4591: 171251, 4592: 171631, 4593: 171867, 4594: 171891, 4595: 172215, 4596: 172547, 4597: 148956, 4598: 116977, 4599: 118930, 4600: 121372, 4601: 121374, 4602: 121715, 4603: 119153, 4604: 109282, 4605: 110669, 4606: 110771, 4607: 110773, 4608: 111375, 4609: 112497, 4610: 135436, 4611: 136443, 4612: 136471, 4613: 135137, 4614: 136511, 4615: 142422, 4616: 148652, 4617: 136598, 4618: 134861, 4619: 127116, 4620: 127152, 4621: 127390, 4622: 128097, 4623: 128099, 4624: 128914, 4625: 128975, 4626: 129737, 4627: 130087, 4628: 184257, 4629: 123200, 4630: 55245, 4631: 54732, 4632: 4649, 4633: 4247, 4634: 3979, 4635: 4228, 4636: 2447, 4637: 1856, 4638: 4900, 4639: 40581, 4640: 44840, 4641: 44972, 4642: 42007, 4643: 34520, 4644: 34530, 4645: 32298, 4646: 47640, 4647: 48322, 4648: 49396, 4649: 5942, 4650: 6003, 4651: 5025, 4652: 5564, 4653: 5363, 4654: 5501, 4655: 5524, 4656: 7439, 4657: 8531, 4658: 6482, 4659: 7225, 4660: 7285, 4661: 2749, 4662: 2475, 4663: 3099, 4664: 2844, 4665: 2969, 4666: 2764, 4667: 1735, 4668: 3103, 4669: 1829, 4670: 1897, 4671: 2132, 4672: 2166, 4673: 2331, 4674: 3217, 4675: 4003, 4676: 4063, 4677: 4083, 4678: 4130, 4679: 3831, 4680: 3251, 4681: 3296, 4682: 3537, 4683: 3546, 4684: 779, 4685: 71, 4686: 1589, 4687: 1600, 4688: 1043, 4689: 127198, 4690: 141718, 4691: 167732, 4692: 2772, 4693: 487, 4694: 4792, 4695: 62383, 4696: 656, 4697: 73, 4698: 95105, 4699: 99112, 4700: 103984, 4701: 85020, 4702: 165551, 4703: 130578, 4704: 131023, 4705: 131714, 4706: 135532, 4707: 136562, 4708: 136666, 4709: 138210, 4710: 141004, 4711: 128488, 4712: 109846, 4713: 110718, 4714: 110730, 4715: 112868, 4716: 114184, 4717: 114795, 4718: 108689, 4719: 117533, 4720: 117887, 4721: 120635, 4722: 127184, 4723: 66511, 4724: 46337, 4725: 71530, 4726: 70599, 4727: 52319, 4728: 115122, 4729: 112515, 4730: 144976, 4731: 121231, 4732: 77866, 4733: 97306, 4734: 96737, 4735: 95088, 4736: 81782, 4737: 112171, 4738: 143458, 4739: 69306, 4740: 107630, 4741: 100882, 4742: 99437, 4743: 98607, 4744: 101112, 4745: 110330, 4746: 122890, 4747: 117466, 4748: 112623, 4749: 110882, 4750: 86721, 4751: 84952, 4752: 79553, 4753: 89190, 4754: 91470, 4755: 95761, 4756: 95690, 4757: 94931, 4758: 93855, 4759: 92694, 4760: 91947, 4761: 91690, 4762: 90403, 4763: 127096, 4764: 162082, 4765: 161966, 4766: 161634, 4767: 160563, 4768: 159717, 4769: 159415, 4770: 158783, 4771: 156387, 4772: 162578, 4773: 168266, 4774: 167790, 4775: 164881, 4776: 156371, 4777: 155064, 4778: 152970, 4779: 139855, 4780: 135567, 4781: 133771, 4782: 133217, 4783: 131920, 4784: 131749, 4785: 130490, 4786: 141408, 4787: 142420, 4788: 152284, 4789: 152091, 4790: 152083, 4791: 151695, 4792: 151455, 4793: 149902, 4794: 149830, 4795: 149146, 4796: 149144, 4797: 147142, 4798: 142509, 4799: 142456, 4800: 78218, 4801: 58301, 4802: 4864, 4803: 4738, 4804: 4082, 4805: 3342, 4806: 5088, 4807: 7265, 4808: 7008, 4809: 6902, 4810: 501, 4811: 1844, 4812: 65642, 4813: 65130, 4814: 63276, 4815: 67695, 4816: 75985, 4817: 73488, 4818: 71520, 4819: 71429, 4820: 71304, 4821: 69516, 4822: 8254, 4823: 33201, 4824: 27482, 4825: 27022, 4826: 26681, 4827: 40148, 4828: 55278, 4829: 43836, 4830: 50842, 4831: 45440, 4832: 1066, 4833: 6093, 4834: 5159, 4835: 37830, 4836: 5959, 4837: 5284, 4838: 5969, 4839: 5992, 4840: 5970, 4841: 5508, 4842: 4168, 4843: 6251, 4844: 44694, 4845: 27731, 4846: 48082, 4847: 6774, 4848: 6291, 4849: 26776, 4850: 8973, 4851: 7773, 4852: 3067, 4853: 567, 4854: 390, 4855: 2729, 4856: 1318, 4857: 1554, 4858: 2798, 4859: 4037, 4860: 4066, 4861: 4812, 4862: 3812, 4863: 4613, 4864: 4553, 4865: 4467, 4866: 4634, 4867: 3102, 4868: 3327, 4869: 893, 4870: 393, 4871: 1483, 4872: 1422, 4873: 132, 4874: 188, 4875: 2330, 4876: 2940, 4877: 1949, 4878: 6986, 4879: 6987, 4880: 7171, 4881: 7762, 4882: 26084, 4883: 5385, 4884: 3679, 4885: 5177, 4886: 2582, 4887: 59103, 4888: 2924, 4889: 8640, 4890: 4822, 4891: 4795, 4892: 4836, 4893: 4799, 4894: 4866, 4895: 4857, 4896: 4535, 4897: 4727, 4898: 4368, 4899: 4534, 4900: 4703, 4901: 4719, 4902: 4736, 4903: 5187, 4904: 5256, 4905: 5282, 4906: 5338, 4907: 5357, 4908: 4339, 4909: 5358, 4910: 5107, 4911: 4991, 4912: 4921, 4913: 5016, 4914: 5102, 4915: 4337, 4916: 3737, 4917: 3873, 4918: 3906, 4919: 3684, 4920: 3557, 4921: 3597, 4922: 3983, 4923: 4187, 4924: 4225, 4925: 4234, 4926: 4243, 4927: 4259, 4928: 4265, 4929: 4167, 4930: 4056, 4931: 3985, 4932: 3998, 4933: 4031, 4934: 4035, 4935: 4042, 4936: 26172, 4937: 26865, 4938: 27821, 4939: 31700, 4940: 32017, 4941: 7161, 4942: 7324, 4943: 8121, 4944: 8199, 4945: 43917, 4946: 44399, 4947: 47044, 4948: 49524, 4949: 49910, 4950: 3372, 4951: 42730, 4952: 34334, 4953: 34534, 4954: 37727, 4955: 39307, 4956: 42009, 4957: 5873, 4958: 5879, 4959: 5899, 4960: 5947, 4961: 6185, 4962: 5435, 4963: 5506, 4964: 5563, 4965: 5611, 4966: 5699, 4967: 6213, 4968: 6808, 4969: 6950, 4970: 7076, 4971: 6669, 4972: 6246, 4973: 6279, 4974: 6299, 4975: 6448, 4976: 6386, 4977: 2561, 4978: 373, 4979: 2775, 4980: 2819, 4981: 2889, 4982: 2590, 4983: 2682, 4984: 3185, 4985: 2996, 4986: 3011, 4987: 3055, 4988: 3093, 4989: 3117, 4990: 1661, 4991: 1465, 4992: 1344, 4993: 1401, 4994: 2077, 4995: 2344, 4996: 1727, 4997: 2070, 4998: 1950, 4999: 1957, 5000: 36525, 5001: 32289, 5002: 8827, 5003: 103606, 5004: 78316, 5005: 7316, 5006: 7255, 5007: 6619, 5008: 6332, 5009: 27416, 5010: 98243, 5011: 160718, 5012: 1334, 5013: 2038, 5014: 2091, 5015: 813, 5016: 840, 5017: 885, 5018: 1432, 5019: 9, 5020: 75, 5021: 634, 5022: 85885, 5023: 81456, 5024: 36535, 5025: 56715, 5026: 64034, 5027: 100843, 5028: 138396, 5029: 152270, 5030: 173145, 5031: 177615, 5032: 179709, 5033: 133780, 5034: 101973, 5035: 105355, 5036: 112454, 5037: 130634, 5038: 86644, 5039: 2880, 5040: 2879, 5041: 3618, 5042: 3286, 5043: 3287, 5044: 1516, 5045: 2734, 5046: 2750, 5047: 2779, 5048: 2511, 5049: 3076, 5050: 3028, 5051: 2863, 5052: 2970, 5053: 2946, 5054: 3096, 5055: 2361, 5056: 2349, 5057: 2290, 5058: 2247, 5059: 2239, 5060: 2130, 5061: 5847, 5062: 5788, 5063: 5637, 5064: 4784, 5065: 6509, 5066: 1948, 5067: 31038, 5068: 26313, 5069: 8614, 5070: 8571, 5071: 8128, 5072: 7107, 5073: 7089, 5074: 6684, 5075: 6658, 5076: 3467, 5077: 3341, 5078: 3283, 5079: 3224, 5080: 3223, 5081: 3200, 5082: 3167, 5083: 3141, 5084: 3134, 5085: 3130, 5086: 3473, 5087: 3492, 5088: 4205, 5089: 3506, 5090: 3503, 5091: 869, 5092: 764, 5093: 1078, 5094: 425, 5095: 1836, 5096: 1162, 5097: 1264, 5098: 2392, 5099: 55391, 5100: 66320, 5101: 27674, 5102: 2531, 5103: 2818, 5104: 2789, 5105: 2769, 5106: 2748, 5107: 2745, 5108: 2051, 5109: 2126, 5110: 2367, 5111: 2364, 5112: 2314, 5113: 2252, 5114: 2210, 5115: 2162, 5116: 2977, 5117: 2986, 5118: 4055, 5119: 3877, 5120: 3864, 5121: 4450, 5122: 6538, 5123: 6322, 5124: 6319, 5125: 6250, 5126: 3858, 5127: 4735, 5128: 3357, 5129: 3649, 5130: 3616, 5131: 3572, 5132: 1979, 5133: 990, 5134: 718, 5135: 242, 5136: 1627, 5137: 1969, 5138: 1713, 5139: 1163, 5140: 1107, 5141: 5643, 5142: 45732, 5143: 1837, 5144: 1821, 5145: 4440, 5146: 3404, 5147: 5485, 5148: 5415, 5149: 5527, 5150: 5530, 5151: 5993, 5152: 6480, 5153: 4406, 5154: 33564, 5155: 26131, 5156: 26078, 5157: 7934, 5158: 7333, 5159: 4951, 5160: 4936, 5161: 5222, 5162: 4867, 5163: 4373, 5164: 4193, 5165: 4142, 5166: 5472, 5167: 6568, 5168: 7045, 5169: 7060, 5170: 7080, 5171: 7614, 5172: 8008, 5173: 5941, 5174: 6005, 5175: 6252, 5176: 6324, 5177: 6339, 5178: 2084, 5179: 2017, 5180: 1051, 5181: 1454, 5182: 33880, 5183: 39427, 5184: 43904, 5185: 47382, 5186: 44613, 5187: 8911, 5188: 8362, 5189: 2526, 5190: 5410, 5191: 7259, 5192: 35957, 5193: 34336, 5194: 40826, 5195: 25746, 5196: 39449, 5197: 25750, 5198: 25771, 5199: 25797, 5200: 25827, 5201: 25856, 5202: 25906, 5203: 27772, 5204: 33669, 5205: 31297, 5206: 33499, 5207: 42015, 5208: 48412, 5209: 48593, 5210: 49389, 5211: 9008, 5212: 51925, 5213: 51939, 5214: 52694, 5215: 46974, 5216: 43560, 5217: 45081, 5218: 42011, 5219: 6624, 5220: 6856, 5221: 6212, 5222: 6412, 5223: 6429, 5224: 6483, 5225: 8600, 5226: 8609, 5227: 8695, 5228: 8860, 5229: 8948, 5230: 8718, 5231: 7728, 5232: 7065, 5233: 7078, 5234: 7121, 5235: 7164, 5236: 7215, 5237: 7222, 5238: 7243, 5239: 7302, 5240: 7366, 5241: 7369, 5242: 7054, 5243: 86487, 5244: 89804, 5245: 89939, 5246: 90647, 5247: 80126, 5248: 83132, 5249: 123545, 5250: 93008, 5251: 95558, 5252: 98154, 5253: 78574, 5254: 77846, 5255: 60161, 5256: 61406, 5257: 63853, 5258: 56176, 5259: 71970, 5260: 72731, 5261: 72733, 5262: 65261, 5263: 66297, 5264: 67788, 5265: 70159, 5266: 1929, 5267: 1931, 5268: 1936, 5269: 1938, 5270: 3801, 5271: 3909, 5272: 3964, 5273: 3364, 5274: 3564, 5275: 5264, 5276: 5387, 5277: 4920, 5278: 2176, 5279: 2013, 5280: 2847, 5281: 33903, 5282: 6380, 5283: 5665, 5284: 725, 5285: 453, 5286: 169, 5287: 4032, 5288: 4052, 5289: 4133, 5290: 4146, 5291: 4152, 5292: 4157, 5293: 4160, 5294: 4178, 5295: 3925, 5296: 3947, 5297: 3955, 5298: 3992, 5299: 3993, 5300: 4389, 5301: 4452, 5302: 4628, 5303: 4640, 5304: 4642, 5305: 4644, 5306: 4699, 5307: 4723, 5308: 4770, 5309: 4439, 5310: 4407, 5311: 4275, 5312: 4305, 5313: 4307, 5314: 4313, 5315: 4350, 5316: 3915, 5317: 3521, 5318: 3323, 5319: 3474, 5320: 3150, 5321: 3158, 5322: 4811, 5323: 3761, 5324: 3862, 5325: 3879, 5326: 3888, 5327: 3895, 5328: 3747, 5329: 3598, 5330: 4815, 5331: 6341, 5332: 6551, 5333: 6335, 5334: 6571, 5335: 6572, 5336: 6588, 5337: 6645, 5338: 6679, 5339: 6688, 5340: 6334, 5341: 6330, 5342: 5999, 5343: 6002, 5344: 6041, 5345: 6062, 5346: 6067, 5347: 6192, 5348: 6215, 5349: 6217, 5350: 6264, 5351: 6285, 5352: 6294, 5353: 7449, 5354: 7698, 5355: 8042, 5356: 7354, 5357: 7352, 5358: 6881, 5359: 6890, 5360: 6932, 5361: 6969, 5362: 6971, 5363: 6978, 5364: 7038, 5365: 7264, 5366: 7299, 5367: 5046, 5368: 5062, 5369: 5083, 5370: 5095, 5371: 5155, 5372: 5298, 5373: 5131, 5374: 4826, 5375: 4849, 5376: 4879, 5377: 4888, 5378: 4898, 5379: 4911, 5380: 4919, 5381: 4959, 5382: 4978, 5383: 5323, 5384: 5325, 5385: 5646, 5386: 5666, 5387: 5668, 5388: 5680, 5389: 5684, 5390: 5772, 5391: 5809, 5392: 5818, 5393: 5615, 5394: 5347, 5395: 5379, 5396: 5421, 5397: 5423, 5398: 5425, 5399: 5427, 5400: 5486, 5401: 5498, 5402: 5522, 5403: 5609, 5404: 5612, 5405: 3078, 5406: 1437, 5407: 1447, 5408: 166, 5409: 97, 5410: 600, 5411: 760, 5412: 2563, 5413: 2607, 5414: 2691, 5415: 2474, 5416: 2696, 5417: 2971, 5418: 2976, 5419: 3003, 5420: 2765, 5421: 2295, 5422: 1695, 5423: 1827, 5424: 1649, 5425: 1546, 5426: 1598, 5427: 1611, 5428: 2181, 5429: 2025, 5430: 2022, 5431: 1941, 5432: 2457, 5433: 2534, 5434: 3573, 5435: 3726, 5436: 1582, 5437: 162968, 5438: 162982, 5439: 164917, 5440: 166291, 5441: 165639, 5442: 161594, 5443: 168090, 5444: 168218, 5445: 165635, 5446: 157369, 5447: 148978, 5448: 127212, 5449: 170907, 5450: 158035, 5451: 178827, 5452: 172705, 5453: 193587, 5454: 193583, 5455: 193581, 5456: 193579, 5457: 193573, 5458: 193571, 5459: 193567, 5460: 193565, 5461: 191005, 5462: 189333, 5463: 184641, 5464: 183911, 5465: 181413, 5466: 180987, 5467: 180985, 5468: 180297, 5469: 178111, 5470: 177939, 5471: 177285, 5472: 175585, 5473: 175475, 5474: 174479, 5475: 173235, 5476: 180497, 5477: 193585, 5478: 122906, 5479: 84187, 5480: 74754, 5481: 68959, 5482: 70533, 5483: 109848, 5484: 117895, 5485: 109578, 5486: 103210, 5487: 104303, 5488: 106873, 5489: 2799, 5490: 5804, 5491: 1685, 5492: 1767, 5493: 3068, 5494: 2208, 5495: 2346, 5496: 2527, 5497: 4813, 5498: 5540, 5499: 5214, 5500: 5493, 5501: 5497, 5502: 5499, 5503: 5039, 5504: 3516, 5505: 3711, 5506: 3927, 5507: 952, 5508: 2035, 5509: 7044, 5510: 7844, 5511: 7976, 5512: 7981, 5513: 4785, 5514: 5244, 5515: 5570, 5516: 5909, 5517: 6368, 5518: 8491, 5519: 8607, 5520: 33896, 5521: 37240, 5522: 39869, 5523: 33421, 5524: 46572, 5525: 49263, 5526: 49932, 5527: 33138, 5528: 32387, 5529: 25788, 5530: 25825, 5531: 26122, 5532: 26840, 5533: 27592, 5534: 27850, 5535: 27865, 5536: 27879, 5537: 27912, 5538: 31364, 5539: 8582, 5540: 2557, 5541: 2810, 5542: 3091, 5543: 3627, 5544: 1951, 5545: 2967, 5546: 3469, 5547: 2436, 5548: 269, 5549: 496, 5550: 668, 5551: 99, 5552: 72, 5553: 229, 5554: 178, 5555: 155, 5556: 148, 5557: 26116, 5558: 1502, 5559: 1392, 5560: 1755, 5561: 2744, 5562: 3436, 5563: 2575, 5564: 4808, 5565: 4932, 5566: 3894, 5567: 3932, 5568: 4174, 5569: 5607, 5570: 1306, 5571: 3129, 5572: 4608, 5573: 2674, 5574: 2670, 5575: 2815, 5576: 8833, 5577: 8532, 5578: 45210, 5579: 57243, 5580: 56274, 5581: 5670, 5582: 731, 5583: 698, 5584: 1055, 5585: 2165, 5586: 4722, 5587: 5610, 5588: 5139, 5589: 50802, 5590: 62299, 5591: 27685, 5592: 45106, 5593: 34321, 5594: 2147, 5595: 2024, 5596: 3528, 5597: 3470, 5598: 3445, 5599: 3402, 5600: 3834, 5601: 3725, 5602: 3724, 5603: 3682, 5604: 2983, 5605: 3036, 5606: 3329, 5607: 3214, 5608: 3194, 5609: 3138, 5610: 574, 5611: 679, 5612: 49, 5613: 461, 5614: 1312, 5615: 1176, 5616: 58332, 5617: 54372, 5618: 59604, 5619: 27368, 5620: 83601, 5621: 79008, 5622: 67295, 5623: 81132, 5624: 27075, 5625: 8815, 5626: 5949, 5627: 71462, 5628: 179817, 5629: 140956, 5630: 185029, 5631: 100611, 5632: 106642, 5633: 189547, 5634: 117192, 5635: 77795, 5636: 117646, 5637: 147382, 5638: 184053, 5639: 180031, 5640: 179511, 5641: 166203, 5642: 159779, 5643: 150596, 5644: 147384, 5645: 147380, 5646: 147378, 5647: 147376, 5648: 147374, 5649: 147372, 5650: 146662, 5651: 119167, 5652: 128842, 5653: 130444, 5654: 140359, 5655: 123553, 5656: 4625, 5657: 51562, 5658: 56915, 5659: 62836, 5660: 65651, 5661: 62834, 5662: 7810, 5663: 7812, 5664: 7811, 5665: 34397, 5666: 40697, 5667: 92439, 5668: 106144, 5669: 107314, 5670: 87192, 5671: 87234, 5672: 161922, 5673: 168366, 5674: 170697, 5675: 174909, 5676: 175197, 5677: 182823, 5678: 183897, 5679: 188751, 5680: 113573, 5681: 43679, 5682: 89582, 5683: 86142, 5684: 57274, 5685: 83, 5686: 55451, 5687: 3963, 5688: 3422, 5689: 927, 5690: 2350, 5691: 2382, 5692: 2373, 5693: 2473, 5694: 2477, 5695: 2525, 5696: 2152, 5697: 1937, 5698: 1867, 5699: 1875, 5700: 2056, 5701: 3132, 5702: 6425, 5703: 3165, 5704: 3389, 5705: 3392, 5706: 3524, 5707: 3529, 5708: 3406, 5709: 3417, 5710: 3432, 5711: 3433, 5712: 3434, 5713: 3431, 5714: 2741, 5715: 2786, 5716: 2535, 5717: 2537, 5718: 3014, 5719: 2816, 5720: 1731, 5721: 517, 5722: 564, 5723: 504, 5724: 438, 5725: 444, 5726: 809, 5727: 870, 5728: 692, 5729: 429, 5730: 275, 5731: 1581, 5732: 1671, 5733: 1677, 5734: 1686, 5735: 1599, 5736: 1602, 5737: 1626, 5738: 1085, 5739: 1126, 5740: 1007, 5741: 7319, 5742: 4749, 5743: 5047, 5744: 8880, 5745: 54768, 5746: 55020, 5747: 55292, 5748: 61348, 5749: 61246, 5750: 56156, 5751: 31221, 5752: 46850, 5753: 46335, 5754: 41716, 5755: 37380, 5756: 36708, 5757: 3054, 5758: 1752, 5759: 2296, 5760: 4219, 5761: 60937, 5762: 62344, 5763: 62437, 5764: 64231, 5765: 63540, 5766: 1430, 5767: 4605, 5768: 4338, 5769: 5248, 5770: 3095, 5771: 3090, 5772: 25773, 5773: 27820, 5774: 27776, 5775: 27768, 5776: 26375, 5777: 25841, 5778: 9018, 5779: 27882, 5780: 32770, 5781: 32632, 5782: 32584, 5783: 32022, 5784: 31702, 5785: 31692, 5786: 31610, 5787: 31437, 5788: 30846, 5789: 30818, 5790: 27899, 5791: 5382, 5792: 8364, 5793: 6724, 5794: 6639, 5795: 6306, 5796: 8044, 5797: 7311, 5798: 7216, 5799: 7072, 5800: 7056, 5801: 7013, 5802: 2469, 5803: 59014, 5804: 62250, 5805: 26732, 5806: 5710, 5807: 6290, 5808: 26322, 5809: 8363, 5810: 97860, 5811: 95949, 5812: 96448, 5813: 97168, 5814: 101531, 5815: 103137, 5816: 5523, 5817: 95307, 5818: 66744, 5819: 81831, 5820: 91483, 5821: 91628, 5822: 2205, 5823: 55854, 5824: 2747, 5825: 3496, 5826: 2327, 5827: 3042, 5828: 2633, 5829: 1130, 5830: 4544, 5831: 4782, 5832: 5584, 5833: 5456, 5834: 3688, 5835: 4233, 5836: 4229, 5837: 3843, 5838: 45028, 5839: 37720, 5840: 32666, 5841: 51088, 5842: 6695, 5843: 6625, 5844: 6938, 5845: 6523, 5846: 6298, 5847: 7103, 5848: 7448, 5849: 63, 5850: 1236, 5851: 2514, 5852: 2432, 5853: 2515, 5854: 2984, 5855: 1655, 5856: 1887, 5857: 85342, 5858: 38304, 5859: 55241, 5860: 55553, 5861: 52715, 5862: 34330, 5863: 8626, 5864: 42728, 5865: 42732, 5866: 43556, 5867: 43871, 5868: 43932, 5869: 43919, 5870: 37853, 5871: 40946, 5872: 41769, 5873: 44397, 5874: 38798, 5875: 39231, 5876: 39435, 5877: 40851, 5878: 48161, 5879: 48596, 5880: 44731, 5881: 45208, 5882: 45442, 5883: 45662, 5884: 33158, 5885: 30883, 5886: 30894, 5887: 31114, 5888: 31223, 5889: 31427, 5890: 31431, 5891: 31445, 5892: 31867, 5893: 32009, 5894: 32011, 5895: 32019, 5896: 8939, 5897: 27434, 5898: 27790, 5899: 27816, 5900: 27837, 5901: 27839, 5902: 34271, 5903: 34532, 5904: 36509, 5905: 36533, 5906: 37477, 5907: 34129, 5908: 32589, 5909: 33148, 5910: 33164, 5911: 33639, 5912: 33815, 5913: 49220, 5914: 66509, 5915: 67186, 5916: 67197, 5917: 61705, 5918: 62081, 5919: 62511, 5920: 73515, 5921: 78893, 5922: 81512, 5923: 70301, 5924: 70334, 5925: 71252, 5926: 71254, 5927: 71823, 5928: 59985, 5929: 51698, 5930: 51933, 5931: 51937, 5932: 52283, 5933: 52712, 5934: 53127, 5935: 51412, 5936: 49276, 5937: 49284, 5938: 49793, 5939: 50005, 5940: 50158, 5941: 50445, 5942: 50798, 5943: 50923, 5944: 51082, 5945: 57326, 5946: 57526, 5947: 58105, 5948: 58627, 5949: 58876, 5950: 54256, 5951: 55995, 5952: 8918, 5953: 8916, 5954: 4789, 5955: 7258, 5956: 7261, 5957: 7262, 5958: 7150, 5959: 6862, 5960: 6951, 5961: 6959, 5962: 6615, 5963: 7376, 5964: 8799, 5965: 8830, 5966: 8835, 5967: 8836, 5968: 8864, 5969: 8912, 5970: 7440, 5971: 8369, 5972: 8530, 5973: 7257, 5974: 5458, 5975: 5478, 5976: 5572, 5977: 5573, 5978: 6374, 5979: 6013, 5980: 6057, 5981: 6040, 5982: 6186, 5983: 78103, 5984: 134214, 5985: 136912, 5986: 162600, 5987: 178061, 5988: 183011, 5989: 118198, 5990: 2566, 5991: 2050, 5992: 3672, 5993: 577, 5994: 42, 5995: 917, 5996: 1460, 5997: 1495, 5998: 1707, 5999: 1826, 6000: 1998, 6001: 4803, 6002: 4329, 6003: 4498, 6004: 4945, 6005: 4916, 6006: 4917, 6007: 4946, 6008: 4947, 6009: 4957, 6010: 4852, 6011: 81786, 6012: 118700, 6013: 3566, 6014: 2919, 6015: 547, 6016: 3106, 6017: 27320, 6018: 7486, 6019: 8327, 6020: 83613, 6021: 90888, 6022: 80969, 6023: 61026, 6024: 68486, 6025: 80615, 6026: 123, 6027: 757, 6028: 4956, 6029: 5279, 6030: 120799, 6031: 82169, 6032: 151763, 6033: 82053, 6034: 72605, 6035: 73431, 6036: 75813, 6037: 77667, 6038: 78039, 6039: 78088, 6040: 85056, 6041: 88699, 6042: 88954, 6043: 89047, 6044: 89840, 6045: 90057, 6046: 90430, 6047: 90439, 6048: 90531, 6049: 84637, 6050: 84942, 6051: 85131, 6052: 85510, 6053: 86295, 6054: 86835, 6055: 86960, 6056: 87298, 6057: 58315, 6058: 69606, 6059: 70361, 6060: 65810, 6061: 66171, 6062: 109042, 6063: 109673, 6064: 110297, 6065: 110350, 6066: 111364, 6067: 112070, 6068: 160954, 6069: 169984, 6070: 173941, 6071: 175569, 6072: 184253, 6073: 185435, 6074: 143365, 6075: 143367, 6076: 146210, 6077: 148888, 6078: 108928, 6079: 107953, 6080: 95207, 6081: 95309, 6082: 95583, 6083: 95873, 6084: 96411, 6085: 96417, 6086: 94780, 6087: 91622, 6088: 91978, 6089: 92008, 6090: 92507, 6091: 93363, 6092: 93512, 6093: 93563, 6094: 93766, 6095: 94266, 6096: 98239, 6097: 103539, 6098: 103624, 6099: 103655, 6100: 104243, 6101: 105351, 6102: 99750, 6103: 99910, 6104: 100163, 6105: 101025, 6106: 101076, 6107: 101362, 6108: 102033, 6109: 102684, 6110: 80862, 6111: 51037, 6112: 32213, 6113: 33085, 6114: 27478, 6115: 47254, 6116: 47810, 6117: 38294, 6118: 39400, 6119: 26686, 6120: 4470, 6121: 4531, 6122: 7016, 6123: 5784, 6124: 6983, 6125: 142115, 6126: 58309, 6127: 26524, 6128: 44633, 6129: 4217, 6130: 26366, 6131: 5319, 6132: 48883, 6133: 44929, 6134: 2907, 6135: 3929, 6136: 4480, 6137: 1739, 6138: 146024, 6139: 121171, 6140: 131656, 6141: 140725, 6142: 4711, 6143: 5820, 6144: 4529, 6145: 6027, 6146: 7564, 6147: 7815, 6148: 8011, 6149: 8015, 6150: 6337, 6151: 6370, 6152: 6713, 6153: 5137, 6154: 128, 6155: 2348, 6156: 2766, 6157: 2859, 6158: 294, 6159: 7879, 6160: 8535, 6161: 988, 6162: 1415, 6163: 7303, 6164: 2445, 6165: 2377, 6166: 1807, 6167: 2240, 6168: 3733, 6169: 3807, 6170: 388, 6171: 2812, 6172: 476, 6173: 2178, 6174: 2182, 6175: 1964, 6176: 2829, 6177: 1791, 6178: 2630, 6179: 2593, 6180: 7362, 6181: 7236, 6182: 7321, 6183: 7646, 6184: 7894, 6185: 7846, 6186: 7845, 6187: 7228, 6188: 7368, 6189: 6794, 6190: 6715, 6191: 6868, 6192: 6872, 6193: 7117, 6194: 7024, 6195: 8142, 6196: 8225, 6197: 27618, 6198: 27604, 6199: 27311, 6200: 26870, 6201: 26736, 6202: 26629, 6203: 26523, 6204: 26492, 6205: 26242, 6206: 31193, 6207: 30745, 6208: 27822, 6209: 8578, 6210: 8967, 6211: 8241, 6212: 8906, 6213: 8831, 6214: 5080, 6215: 5076, 6216: 5127, 6217: 5401, 6218: 5452, 6219: 4683, 6220: 4533, 6221: 4771, 6222: 4748, 6223: 6220, 6224: 6196, 6225: 6379, 6226: 6559, 6227: 6405, 6228: 5667, 6229: 5569, 6230: 5556, 6231: 6664, 6232: 5853, 6233: 5833, 6234: 31909, 6235: 60979, 6236: 60538, 6237: 60522, 6238: 60291, 6239: 60037, 6240: 59727, 6241: 65126, 6242: 56012, 6243: 58870, 6244: 57910, 6245: 57536, 6246: 66427, 6247: 66783, 6248: 78041, 6249: 77364, 6250: 74851, 6251: 79274, 6252: 80846, 6253: 74685, 6254: 69275, 6255: 69251, 6256: 70994, 6257: 74075, 6258: 71500, 6259: 71379, 6260: 71211, 6261: 54785, 6262: 42285, 6263: 40723, 6264: 38992, 6265: 44828, 6266: 43549, 6267: 37475, 6268: 33834, 6269: 33132, 6270: 37382, 6271: 34323, 6272: 51498, 6273: 51091, 6274: 54648, 6275: 53468, 6276: 50800, 6277: 50440, 6278: 45361, 6279: 50147, 6280: 1255, 6281: 1327, 6282: 1993, 6283: 1992, 6284: 1503, 6285: 1497, 6286: 886, 6287: 619, 6288: 3511, 6289: 3696, 6290: 3676, 6291: 3652, 6292: 3235, 6293: 4224, 6294: 4143, 6295: 4248, 6296: 4030, 6297: 3908, 6298: 3857, 6299: 3938, 6300: 2448, 6301: 2170, 6302: 2846, 6303: 2498, 6304: 2974, 6305: 2517, 6306: 3384, 6307: 3302, 6308: 3914, 6309: 3192, 6310: 3794, 6311: 3480, 6312: 3728, 6313: 2624, 6314: 3046, 6315: 3038, 6316: 2964, 6317: 2937, 6318: 2824, 6319: 5272, 6320: 5258, 6321: 5241, 6322: 5147, 6323: 6254, 6324: 6122, 6325: 5938, 6326: 5884, 6327: 5745, 6328: 5723, 6329: 5603, 6330: 4285, 6331: 4116, 6332: 4061, 6333: 4809, 6334: 4384, 6335: 4345, 6336: 4334, 6337: 1123, 6338: 298, 6339: 556, 6340: 1904, 6341: 2323, 6342: 2073, 6343: 2069, 6344: 2212, 6345: 1594, 6346: 1574, 6347: 1571, 6348: 1533, 6349: 1406, 6350: 1167, 6351: 107069, 6352: 73266, 6353: 86817, 6354: 91079, 6355: 70984, 6356: 60293, 6357: 71619, 6358: 113207, 6359: 4091, 6360: 6086, 6361: 5876, 6362: 3689, 6363: 3767, 6364: 3771, 6365: 3525, 6366: 4010, 6367: 4009, 6368: 4043, 6369: 4110, 6370: 4412, 6371: 4443, 6372: 4459, 6373: 4000, 6374: 3833, 6375: 3846, 6376: 3806, 6377: 3926, 6378: 3928, 6379: 3930, 6380: 3957, 6381: 3971, 6382: 3974, 6383: 2903, 6384: 3015, 6385: 2902, 6386: 2852, 6387: 2866, 6388: 3313, 6389: 3331, 6390: 3345, 6391: 3368, 6392: 3161, 6393: 4473, 6394: 4492, 6395: 31923, 6396: 34528, 6397: 37736, 6398: 7619, 6399: 8959, 6400: 60760, 6401: 48416, 6402: 42418, 6403: 43460, 6404: 43869, 6405: 46967, 6406: 47261, 6407: 47950, 6408: 5428, 6409: 5462, 6410: 5543, 6411: 5544, 6412: 4506, 6413: 4522, 6414: 4709, 6415: 4953, 6416: 4966, 6417: 5638, 6418: 1128, 6419: 1389, 6420: 963, 6421: 1008, 6422: 2347, 6423: 2365, 6424: 2400, 6425: 2163, 6426: 2241, 6427: 2259, 6428: 2286, 6429: 2460, 6430: 2462, 6431: 2120, 6432: 1660, 6433: 1983, 6434: 1984, 6435: 2095, 6436: 2098, 6437: 2057, 6438: 1995, 6439: 2055, 6440: 2043, 6441: 6453, 6442: 26704, 6443: 6125, 6444: 2494, 6445: 2439, 6446: 2549, 6447: 2660, 6448: 1699, 6449: 2066, 6450: 3559, 6451: 3634, 6452: 3713, 6453: 3738, 6454: 3849, 6455: 2988, 6456: 3007, 6457: 2932, 6458: 129, 6459: 341, 6460: 102007, 6461: 68597, 6462: 33677, 6463: 4830, 6464: 8383, 6465: 7720, 6466: 97470, 6467: 96121, 6468: 165549, 6469: 130576, 6470: 129937, 6471: 127323, 6472: 115231, 6473: 113345, 6474: 92192, 6475: 80839, 6476: 87522, 6477: 3871, 6478: 3086, 6479: 2828, 6480: 2149, 6481: 3412, 6482: 3544, 6483: 3710, 6484: 3667, 6485: 2736, 6486: 3043, 6487: 499, 6488: 470, 6489: 278, 6490: 1440, 6491: 998, 6492: 169034, 6493: 160848, 6494: 171765, 6495: 61729, 6496: 62113, 6497: 58655, 6498: 58806, 6499: 70663, 6500: 71248, 6501: 72405, 6502: 67799, 6503: 68600, 6504: 36537, 6505: 74452, 6506: 34523, 6507: 54745, 6508: 54934, 6509: 50610, 6510: 109895, 6511: 112370, 6512: 103048, 6513: 26887, 6514: 134528, 6515: 134783, 6516: 134808, 6517: 136449, 6518: 138798, 6519: 112911, 6520: 116138, 6521: 127108, 6522: 84615, 6523: 74916, 6524: 76060, 6525: 90376, 6526: 91128, 6527: 1439, 6528: 1526, 6529: 1746, 6530: 6554, 6531: 6811, 6532: 7460, 6533: 7926, 6534: 4733, 6535: 4757, 6536: 4845, 6537: 5128, 6538: 8261, 6539: 944, 6540: 72294, 6541: 80590, 6542: 85788, 6543: 79251, 6544: 74624, 6545: 74868, 6546: 64501, 6547: 49347, 6548: 60516, 6549: 64499, 6550: 118706, 6551: 131796, 6552: 112818, 6553: 112897, 6554: 114246, 6555: 132796, 6556: 160400, 6557: 163985, 6558: 177763, 6559: 185585, 6560: 158027, 6561: 148671, 6562: 140627, 6563: 145418, 6564: 91842, 6565: 94018, 6566: 89118, 6567: 106441, 6568: 106785, 6569: 105585, 6570: 105197, 6571: 109850, 6572: 6818, 6573: 26249, 6574: 115664, 6575: 122884, 6576: 105731, 6577: 104908, 6578: 140016, 6579: 183295, 6580: 175199, 6581: 159858, 6582: 158528, 6583: 156726, 6584: 149334, 6585: 92391, 6586: 6153, 6587: 6265, 6588: 6316, 6589: 5539, 6590: 5538, 6591: 5590, 6592: 5664, 6593: 5696, 6594: 5735, 6595: 5736, 6596: 5883, 6597: 5927, 6598: 6850, 6599: 6999, 6600: 7026, 6601: 7030, 6602: 6827, 6603: 6558, 6604: 6705, 6605: 4371, 6606: 4403, 6607: 4520, 6608: 4584, 6609: 4602, 6610: 4619, 6611: 4662, 6612: 7282, 6613: 4127, 6614: 4181, 6615: 4673, 6616: 4697, 6617: 5170, 6618: 5255, 6619: 5099, 6620: 5361, 6621: 5443, 6622: 5454, 6623: 4750, 6624: 4835, 6625: 4862, 6626: 4885, 6627: 4893, 6628: 4915, 6629: 52867, 6630: 53956, 6631: 52375, 6632: 49314, 6633: 48142, 6634: 48518, 6635: 48678, 6636: 53974, 6637: 58287, 6638: 65601, 6639: 65738, 6640: 65740, 6641: 65882, 6642: 55272, 6643: 55729, 6644: 56003, 6645: 9005, 6646: 26133, 6647: 26792, 6648: 8506, 6649: 7636, 6650: 7708, 6651: 7781, 6652: 8169, 6653: 8402, 6654: 27555, 6655: 27838, 6656: 37857, 6657: 39234, 6658: 30848, 6659: 31422, 6660: 31424, 6661: 33171, 6662: 33681, 6663: 34143, 6664: 34326, 6665: 1328, 6666: 1325, 6667: 1323, 6668: 1490, 6669: 3943, 6670: 409, 6671: 2962, 6672: 3051, 6673: 2787, 6674: 2506, 6675: 2516, 6676: 2559, 6677: 2639, 6678: 3145, 6679: 3830, 6680: 3280, 6681: 3423, 6682: 3478, 6683: 2332, 6684: 2154, 6685: 2190, 6686: 3171, 6687: 3872, 6688: 4432, 6689: 25886, 6690: 7943, 6691: 7218, 6692: 6706, 6693: 6452, 6694: 5398, 6695: 973, 6696: 1946, 6697: 4483, 6698: 3330, 6699: 6410, 6700: 7184, 6701: 7305, 6702: 6561, 6703: 40, 6704: 5433, 6705: 5925, 6706: 3732, 6707: 4117, 6708: 4754, 6709: 680, 6710: 2275, 6711: 4210, 6712: 4180, 6713: 3889, 6714: 618, 6715: 703, 6716: 2896, 6717: 74545, 6718: 104272, 6719: 110387, 6720: 121253, 6721: 133115, 6722: 81158, 6723: 82667, 6724: 69953, 6725: 69746, 6726: 71494, 6727: 71147, 6728: 71453, 6729: 71468, 6730: 71131, 6731: 65225, 6732: 71867, 6733: 65037, 6734: 65631, 6735: 67508, 6736: 68444, 6737: 80478, 6738: 72171, 6739: 78836, 6740: 79073, 6741: 80553, 6742: 81191, 6743: 77233, 6744: 77191, 6745: 76738, 6746: 72714, 6747: 72921, 6748: 74089, 6749: 74791, 6750: 76054, 6751: 76173, 6752: 74226, 6753: 44931, 6754: 53574, 6755: 53883, 6756: 54185, 6757: 54354, 6758: 51174, 6759: 49917, 6760: 48001, 6761: 48638, 6762: 47446, 6763: 60408, 6764: 60885, 6765: 61394, 6766: 62208, 6767: 64167, 6768: 57772, 6769: 58376, 6770: 117364, 6771: 117531, 6772: 117545, 6773: 117849, 6774: 118784, 6775: 118880, 6776: 120761, 6777: 121169, 6778: 124853, 6779: 127114, 6780: 127172, 6781: 127180, 6782: 127204, 6783: 127298, 6784: 128900, 6785: 128902, 6786: 106648, 6787: 109187, 6788: 128991, 6789: 109383, 6790: 109968, 6791: 111817, 6792: 113348, 6793: 114847, 6794: 116505, 6795: 105254, 6796: 134019, 6797: 159976, 6798: 160684, 6799: 168612, 6800: 170355, 6801: 171495, 6802: 173197, 6803: 173291, 6804: 173317, 6805: 179135, 6806: 184245, 6807: 188675, 6808: 188833, 6809: 189381, 6810: 158842, 6811: 155774, 6812: 152065, 6813: 134796, 6814: 136024, 6815: 138966, 6816: 140162, 6817: 133802, 6818: 140737, 6819: 143525, 6820: 143896, 6821: 144478, 6822: 145080, 6823: 148424, 6824: 150696, 6825: 140816, 6826: 87304, 6827: 87444, 6828: 87660, 6829: 89030, 6830: 89945, 6831: 90245, 6832: 90357, 6833: 90528, 6834: 90630, 6835: 90769, 6836: 86922, 6837: 83827, 6838: 83976, 6839: 84273, 6840: 84716, 6841: 85213, 6842: 86237, 6843: 86279, 6844: 97904, 6845: 100044, 6846: 100106, 6847: 100277, 6848: 102742, 6849: 102823, 6850: 101741, 6851: 91784, 6852: 91860, 6853: 92422, 6854: 92637, 6855: 94735, 6856: 96084, 6857: 1419, 6858: 3569, 6859: 773, 6860: 823, 6861: 8484, 6862: 8724, 6863: 8748, 6864: 26003, 6865: 26048, 6866: 26059, 6867: 26073, 6868: 26158, 6869: 26225, 6870: 26317, 6871: 8190, 6872: 7124, 6873: 7238, 6874: 7459, 6875: 7979, 6876: 26713, 6877: 27003, 6878: 40955, 6879: 42176, 6880: 27176, 6881: 27186, 6882: 27328, 6883: 26928, 6884: 31952, 6885: 32511, 6886: 32554, 6887: 32906, 6888: 32917, 6889: 31545, 6890: 7071, 6891: 4612, 6892: 4708, 6893: 4825, 6894: 4256, 6895: 3736, 6896: 3845, 6897: 6197, 6898: 6241, 6899: 6329, 6900: 5238, 6901: 5475, 6902: 5202, 6903: 5838, 6904: 26555, 6905: 2882, 6906: 111443, 6907: 110127, 6908: 3912, 6909: 3899, 6910: 3884, 6911: 2425, 6912: 2848, 6913: 2894, 6914: 4714, 6915: 4927, 6916: 5033, 6917: 5075, 6918: 5980, 6919: 4086, 6920: 4717, 6921: 4263, 6922: 4294, 6923: 4471, 6924: 4500, 6925: 4523, 6926: 30, 6927: 80, 6928: 183, 6929: 70451, 6930: 73344, 6931: 102194, 6932: 81257, 6933: 84240, 6934: 27866, 6935: 165101, 6936: 130482, 6937: 136850, 6938: 26528, 6939: 193609, 6940: 7925, 6941: 5226, 6942: 26564, 6943: 3420, 6944: 80917, 6945: 92938, 6946: 93610, 6947: 97757, 6948: 3567, 6949: 3580, 6950: 30850, 6951: 59118, 6952: 47404, 6953: 190221, 6954: 189043, 6955: 189111, 6956: 190207, 6957: 190209, 6958: 190213, 6959: 190215, 6960: 190219, 6961: 77177, 6962: 58842, 6963: 56869, 6964: 115969, 6965: 109687, 6966: 176751, 6967: 166946, 6968: 156783, 6969: 141890, 6970: 141749, 6971: 82378, 6972: 90345, 6973: 92243, 6974: 6869, 6975: 94405, 6976: 2975, 6977: 2188, 6978: 2676, 6979: 2370, 6980: 4419, 6981: 4195, 6982: 5707, 6983: 27751, 6984: 38164, 6985: 5404, 6986: 6530, 6987: 5951, 6988: 6023, 6989: 6286, 6990: 4297, 6991: 4404, 6992: 4422, 6993: 8405, 6994: 32179, 6995: 7940, 6996: 7937, 6997: 7084, 6998: 7115, 6999: 7178, 7000: 7179, 7001: 7820, 7002: 521, 7003: 2442, 7004: 1572, 7005: 60857, 7006: 60894, 7007: 52579, 7008: 54787, 7009: 55555, 7010: 57843, 7011: 90471, 7012: 88932, 7013: 89028, 7014: 89761, 7015: 90353, 7016: 92048, 7017: 88179, 7018: 88272, 7019: 40412, 7020: 6263, 7021: 6223, 7022: 7122, 7023: 5074, 7024: 58492, 7025: 59141, 7026: 34164, 7027: 48744, 7028: 44889, 7029: 4354, 7030: 4622, 7031: 59810, 7032: 53024, 7033: 96563, 7034: 93040, 7035: 74282, 7036: 73854, 7037: 6612, 7038: 8580, 7039: 27329, 7040: 8998, 7041: 1996, 7042: 65350, 7043: 89386, 7044: 70687, 7045: 85334, 7046: 87028, 7047: 2226, 7048: 26095, 7049: 26472, 7050: 1647, 7051: 161127, 7052: 176389, 7053: 176579, 7054: 96964, 7055: 101415, 7056: 145935, 7057: 148172, 7058: 155820, 7059: 155288, 7060: 106062, 7061: 107997, 7062: 109569, 7063: 132888, 7064: 114494, 7065: 113604, 7066: 3299, 7067: 3453, 7068: 4505, 7069: 4517, 7070: 4053, 7071: 4078, 7072: 2695, 7073: 1565, 7074: 2399, 7075: 2307, 7076: 3758, 7077: 3731, 7078: 3716, 7079: 3922, 7080: 3162, 7081: 3127, 7082: 3545, 7083: 33312, 7084: 55167, 7085: 112512, 7086: 1601, 7087: 1351, 7088: 1352, 7089: 335, 7090: 882, 7091: 5468, 7092: 5706, 7093: 5979, 7094: 6836, 7095: 6654, 7096: 6656, 7097: 5288, 7098: 6021, 7099: 5113, 7100: 4942, 7101: 4434, 7102: 6899, 7103: 7304, 7104: 94262, 7105: 92760, 7106: 87287, 7107: 84799, 7108: 80748, 7109: 71999, 7110: 71302, 7111: 56837, 7112: 7104, 7113: 32139, 7114: 27692, 7115: 25959, 7116: 8610, 7117: 8138, 7118: 7834, 7119: 7756, 7120: 42556, 7121: 3648, 7122: 40617, 7123: 40614, 7124: 44020, 7125: 32743, 7126: 32456, 7127: 33644, 7128: 52950, 7129: 58404, 7130: 47124, 7131: 51927, 7132: 31698, 7133: 6889, 7134: 7310, 7135: 27584, 7136: 26999, 7137: 26585, 7138: 27683, 7139: 27802, 7140: 8526, 7141: 31804, 7142: 108795, 7143: 113278, 7144: 107723, 7145: 102084, 7146: 102058, 7147: 101739, 7148: 103233, 7149: 104457, 7150: 104419, 7151: 104141, 7152: 103449, 7153: 172497, 7154: 169982, 7155: 166558, 7156: 163056, 7157: 172875, 7158: 162598, 7159: 172881, 7160: 182639, 7161: 179119, 7162: 176935, 7163: 172887, 7164: 161354, 7165: 137863, 7166: 134524, 7167: 152173, 7168: 74750, 7169: 72601, 7170: 71129, 7171: 77798, 7172: 63222, 7173: 60818, 7174: 68194, 7175: 65133, 7176: 64249, 7177: 95149, 7178: 95147, 7179: 95004, 7180: 94985, 7181: 94160, 7182: 95182, 7183: 95473, 7184: 97785, 7185: 97643, 7186: 96815, 7187: 96007, 7188: 95497, 7189: 95475, 7190: 84414, 7191: 82744, 7192: 90603, 7193: 88515, 7194: 152, 7195: 4444, 7196: 4814, 7197: 5476, 7198: 5134, 7199: 2656, 7200: 31435, 7201: 63808, 7202: 55259, 7203: 43376, 7204: 45074, 7205: 53326, 7206: 72696, 7207: 65685, 7208: 52279, 7209: 50003, 7210: 49647, 7211: 48598, 7212: 47952, 7213: 46865, 7214: 126482, 7215: 122902, 7216: 116887, 7217: 114713, 7218: 112460, 7219: 130686, 7220: 131934, 7221: 170289, 7222: 158254, 7223: 152079, 7224: 142372, 7225: 91660, 7226: 88356, 7227: 93139, 7228: 95796, 7229: 104076, 7230: 104074, 7231: 100737, 7232: 1003, 7233: 26765, 7234: 26764, 7235: 8387, 7236: 4632, 7237: 4580, 7238: 2546, 7239: 2856, 7240: 4355, 7241: 4323, 7242: 4276, 7243: 2669, 7244: 206, 7245: 5156, 7246: 5397, 7247: 5531, 7248: 5489, 7249: 5515, 7250: 5465, 7251: 4985, 7252: 4988, 7253: 5121, 7254: 5780, 7255: 6035, 7256: 6465, 7257: 6533, 7258: 6577, 7259: 6710, 7260: 6748, 7261: 5974, 7262: 5984, 7263: 6100, 7264: 6123, 7265: 6184, 7266: 6063, 7267: 3813, 7268: 3838, 7269: 3865, 7270: 3919, 7271: 3765, 7272: 3587, 7273: 3680, 7274: 4441, 7275: 4527, 7276: 4552, 7277: 4563, 7278: 4614, 7279: 4687, 7280: 4833, 7281: 4429, 7282: 4426, 7283: 4409, 7284: 4064, 7285: 4065, 7286: 4191, 7287: 4289, 7288: 4298, 7289: 4390, 7290: 4392, 7291: 4393, 7292: 4408, 7293: 7951, 7294: 33188, 7295: 40966, 7296: 41617, 7297: 25963, 7298: 26002, 7299: 26052, 7300: 26124, 7301: 26151, 7302: 26231, 7303: 26303, 7304: 26694, 7305: 31590, 7306: 31737, 7307: 32314, 7308: 32392, 7309: 44657, 7310: 52462, 7311: 52644, 7312: 44759, 7313: 44864, 7314: 46772, 7315: 47465, 7316: 25898, 7317: 7205, 7318: 7301, 7319: 7116, 7320: 7328, 7321: 7336, 7322: 7386, 7323: 7394, 7324: 7450, 7325: 6885, 7326: 6918, 7327: 7102, 7328: 6981, 7329: 7088, 7330: 7091, 7331: 7581, 7332: 7616, 7333: 8270, 7334: 8290, 7335: 8512, 7336: 8542, 7337: 8596, 7338: 8670, 7339: 8239, 7340: 7745, 7341: 7749, 7342: 7895, 7343: 7936, 7344: 7938, 7345: 7939, 7346: 7987, 7347: 7993, 7348: 8188, 7349: 8195, 7350: 8196, 7351: 4278, 7352: 1161, 7353: 1329, 7354: 363, 7355: 841, 7356: 2488, 7357: 2632, 7358: 3455, 7359: 1977, 7360: 1770, 7361: 1662, 7362: 2303, 7363: 2071, 7364: 2074, 7365: 104245, 7366: 63239, 7367: 6158, 7368: 7208, 7369: 6344, 7370: 59995, 7371: 44943, 7372: 27695, 7373: 2708, 7374: 5575, 7375: 4965, 7376: 4562, 7377: 5537, 7378: 5477, 7379: 5470, 7380: 4237, 7381: 695, 7382: 1900, 7383: 1150, 7384: 130842, 7385: 1701, 7386: 8738, 7387: 6408, 7388: 26147, 7389: 26631, 7390: 60333, 7391: 42734, 7392: 170939, 7393: 61465, 7394: 61697, 7395: 7134, 7396: 26810, 7397: 77266, 7398: 70708, 7399: 59814, 7400: 27664, 7401: 85412, 7402: 70305, 7403: 87785, 7404: 136540, 7405: 103596, 7406: 6776, 7407: 3760, 7408: 3590, 7409: 4077, 7410: 4175, 7411: 4268, 7412: 3823, 7413: 3855, 7414: 389, 7415: 670, 7416: 824, 7417: 549, 7418: 6216, 7419: 6222, 7420: 6517, 7421: 6268, 7422: 6269, 7423: 6280, 7424: 6036, 7425: 6039, 7426: 6078, 7427: 6116, 7428: 6141, 7429: 6159, 7430: 6162, 7431: 6195, 7432: 6349, 7433: 6442, 7434: 6493, 7435: 6510, 7436: 6295, 7437: 6308, 7438: 6314, 7439: 6315, 7440: 6033, 7441: 5663, 7442: 5678, 7443: 5685, 7444: 5688, 7445: 5636, 7446: 5635, 7447: 5562, 7448: 5625, 7449: 5633, 7450: 5968, 7451: 5994, 7452: 5817, 7453: 5829, 7454: 5880, 7455: 5896, 7456: 7315, 7457: 7340, 7458: 7251, 7459: 7248, 7460: 7165, 7461: 7175, 7462: 7176, 7463: 7193, 7464: 8119, 7465: 7348, 7466: 7364, 7467: 7390, 7468: 6628, 7469: 6631, 7470: 6670, 7471: 6689, 7472: 6696, 7473: 6699, 7474: 6718, 7475: 6720, 7476: 6598, 7477: 6542, 7478: 6547, 7479: 6549, 7480: 6560, 7481: 6563, 7482: 6574, 7483: 6582, 7484: 6616, 7485: 6883, 7486: 6898, 7487: 6954, 7488: 7033, 7489: 6780, 7490: 6797, 7491: 6809, 7492: 6810, 7493: 6812, 7494: 6816, 7495: 6851, 7496: 4666, 7497: 4672, 7498: 4675, 7499: 4721, 7500: 4745, 7501: 4595, 7502: 4600, 7503: 4610, 7504: 4617, 7505: 4636, 7506: 4583, 7507: 4777, 7508: 4780, 7509: 4818, 7510: 4847, 7511: 4573, 7512: 4312, 7513: 4353, 7514: 4242, 7515: 4290, 7516: 4488, 7517: 4524, 7518: 4478, 7519: 4475, 7520: 4451, 7521: 4458, 7522: 4462, 7523: 4463, 7524: 5345, 7525: 5390, 7526: 5337, 7527: 5416, 7528: 5285, 7529: 5297, 7530: 5321, 7531: 5322, 7532: 5324, 7533: 5328, 7534: 5278, 7535: 5471, 7536: 5483, 7537: 5521, 7538: 5461, 7539: 5422, 7540: 5424, 7541: 5437, 7542: 4961, 7543: 4962, 7544: 5068, 7545: 5071, 7546: 5178, 7547: 5209, 7548: 5237, 7549: 5240, 7550: 5073, 7551: 5081, 7552: 4926, 7553: 5112, 7554: 8587, 7555: 70862, 7556: 76763, 7557: 56908, 7558: 58879, 7559: 59037, 7560: 61401, 7561: 60128, 7562: 60141, 7563: 154358, 7564: 127130, 7565: 176423, 7566: 180045, 7567: 173209, 7568: 166024, 7569: 166568, 7570: 167570, 7571: 169992, 7572: 173205, 7573: 115828, 7574: 95135, 7575: 112940, 7576: 55250, 7577: 34540, 7578: 33725, 7579: 33826, 7580: 33838, 7581: 41527, 7582: 42602, 7583: 8915, 7584: 8919, 7585: 8952, 7586: 8954, 7587: 30820, 7588: 31162, 7589: 32116, 7590: 25834, 7591: 51694, 7592: 52299, 7593: 49280, 7594: 49957, 7595: 50792, 7596: 52668, 7597: 54771, 7598: 55110, 7599: 52724, 7600: 52784, 7601: 53447, 7602: 49132, 7603: 45635, 7604: 45062, 7605: 43912, 7606: 46347, 7607: 48319, 7608: 48560, 7609: 46559, 7610: 1332, 7611: 1121, 7612: 1040, 7613: 1870, 7614: 1922, 7615: 1484, 7616: 1609, 7617: 1656, 7618: 1605, 7619: 119, 7620: 650, 7621: 386, 7622: 3378, 7623: 3391, 7624: 3625, 7625: 3581, 7626: 3539, 7627: 2007, 7628: 3111, 7629: 3206, 7630: 4012, 7631: 4221, 7632: 4147, 7633: 4081, 7634: 4139, 7635: 4089, 7636: 4115, 7637: 4123, 7638: 4125, 7639: 4138, 7640: 3790, 7641: 3951, 7642: 3953, 7643: 3900, 7644: 3898, 7645: 3847, 7646: 2271, 7647: 2260, 7648: 2264, 7649: 2172, 7650: 2119, 7651: 2835, 7652: 2884, 7653: 2891, 7654: 3008, 7655: 2893, 7656: 2979, 7657: 2928, 7658: 2751, 7659: 2552, 7660: 2570, 7661: 2472, 7662: 2482, 7663: 90374, 7664: 27704, 7665: 79677, 7666: 85394, 7667: 86668, 7668: 90943, 7669: 97866, 7670: 89580, 7671: 69860, 7672: 50851, 7673: 2807, 7674: 4093, 7675: 1412, 7676: 8337, 7677: 8577, 7678: 6210, 7679: 59295, 7680: 26693, 7681: 3973, 7682: 3447, 7683: 5063, 7684: 4939, 7685: 4925, 7686: 4802, 7687: 4190, 7688: 2665, 7689: 136469, 7690: 91325, 7691: 6348, 7692: 6347, 7693: 6055, 7694: 6597, 7695: 8588, 7696: 7306, 7697: 27708, 7698: 33893, 7699: 45503, 7700: 5532, 7701: 71902, 7702: 80880, 7703: 89208, 7704: 92348, 7705: 68347, 7706: 66090, 7707: 568, 7708: 5580, 7709: 5675, 7710: 5787, 7711: 4743, 7712: 4453, 7713: 5409, 7714: 30898, 7715: 36276, 7716: 43708, 7717: 7192, 7718: 6992, 7719: 7017, 7720: 8782, 7721: 1675, 7722: 2540, 7723: 8690, 7724: 4402, 7725: 96430, 7726: 80864, 7727: 79879, 7728: 80241, 7729: 79946, 7730: 79590, 7731: 81949, 7732: 82093, 7733: 84696, 7734: 85025, 7735: 84950, 7736: 82095, 7737: 83374, 7738: 82527, 7739: 79259, 7740: 72694, 7741: 72224, 7742: 71732, 7743: 71466, 7744: 85399, 7745: 73386, 7746: 70545, 7747: 78116, 7748: 78034, 7749: 77421, 7750: 75816, 7751: 75803, 7752: 93242, 7753: 92665, 7754: 92198, 7755: 91935, 7756: 91873, 7757: 91688, 7758: 91273, 7759: 95201, 7760: 94919, 7761: 94896, 7762: 94494, 7763: 94323, 7764: 94011, 7765: 93982, 7766: 93980, 7767: 86593, 7768: 86028, 7769: 87876, 7770: 90738, 7771: 90719, 7772: 90343, 7773: 89427, 7774: 89388, 7775: 89343, 7776: 89305, 7777: 88672, 7778: 58351, 7779: 34018, 7780: 32291, 7781: 31000, 7782: 43558, 7783: 173751, 7784: 37211, 7785: 26700, 7786: 8447, 7787: 8137, 7788: 8136, 7789: 26464, 7790: 26386, 7791: 26152, 7792: 8743, 7793: 63393, 7794: 61289, 7795: 61123, 7796: 69604, 7797: 69453, 7798: 69118, 7799: 67361, 7800: 66785, 7801: 65135, 7802: 50064, 7803: 49688, 7804: 48262, 7805: 55294, 7806: 53808, 7807: 53453, 7808: 143255, 7809: 95508, 7810: 133782, 7811: 133545, 7812: 133377, 7813: 133365, 7814: 133281, 7815: 133195, 7816: 132618, 7817: 132488, 7818: 132462, 7819: 132333, 7820: 131480, 7821: 130083, 7822: 129659, 7823: 129657, 7824: 133798, 7825: 134021, 7826: 134158, 7827: 136859, 7828: 136816, 7829: 136800, 7830: 136786, 7831: 136778, 7832: 136664, 7833: 136654, 7834: 134859, 7835: 137517, 7836: 129333, 7837: 128592, 7838: 119655, 7839: 119068, 7840: 118997, 7841: 118924, 7842: 118814, 7843: 118702, 7844: 118512, 7845: 118354, 7846: 118326, 7847: 118248, 7848: 117511, 7849: 117107, 7850: 116985, 7851: 129250, 7852: 120783, 7853: 127319, 7854: 127194, 7855: 127136, 7856: 127132, 7857: 126420, 7858: 125221, 7859: 124859, 7860: 122932, 7861: 122490, 7862: 120637, 7863: 158022, 7864: 157432, 7865: 157407, 7866: 157340, 7867: 157270, 7868: 157200, 7869: 157172, 7870: 157130, 7871: 157122, 7872: 156706, 7873: 156553, 7874: 155892, 7875: 155743, 7876: 155659, 7877: 155358, 7878: 154065, 7879: 152658, 7880: 152105, 7881: 152085, 7882: 159077, 7883: 169180, 7884: 168456, 7885: 168350, 7886: 165347, 7887: 165343, 7888: 165139, 7889: 165075, 7890: 164753, 7891: 164647, 7892: 164375, 7893: 162828, 7894: 161918, 7895: 161830, 7896: 161290, 7897: 160730, 7898: 160646, 7899: 160573, 7900: 160440, 7901: 159690, 7902: 159193, 7903: 158956, 7904: 151777, 7905: 143257, 7906: 143001, 7907: 142424, 7908: 141422, 7909: 140850, 7910: 140525, 7911: 140237, 7912: 139857, 7913: 139415, 7914: 139052, 7915: 138546, 7916: 143410, 7917: 143472, 7918: 151745, 7919: 151653, 7920: 151559, 7921: 151501, 7922: 151317, 7923: 151315, 7924: 150604, 7925: 150401, 7926: 149612, 7927: 149590, 7928: 148709, 7929: 148592, 7930: 148482, 7931: 146730, 7932: 146688, 7933: 145150, 7934: 144716, 7935: 144714, 7936: 144620, 7937: 144262, 7938: 116849, 7939: 116419, 7940: 102880, 7941: 102819, 7942: 102278, 7943: 102165, 7944: 102025, 7945: 101895, 7946: 101884, 7947: 101577, 7948: 101529, 7949: 101360, 7950: 100487, 7951: 104906, 7952: 104760, 7953: 104129, 7954: 104078, 7955: 103865, 7956: 103755, 7957: 103543, 7958: 103502, 7959: 103221, 7960: 100326, 7961: 100304, 7962: 97858, 7963: 97742, 7964: 97328, 7965: 96726, 7966: 96530, 7967: 96281, 7968: 96114, 7969: 95744, 7970: 97870, 7971: 100226, 7972: 99992, 7973: 99846, 7974: 99574, 7975: 99415, 7976: 99005, 7977: 98908, 7978: 98296, 7979: 98230, 7980: 98175, 7981: 98160, 7982: 97936, 7983: 98836, 7984: 112749, 7985: 112303, 7986: 111795, 7987: 111680, 7988: 111663, 7989: 113186, 7990: 113225, 7991: 113350, 7992: 116413, 7993: 116207, 7994: 115216, 7995: 115170, 7996: 115151, 7997: 114925, 7998: 114601, 7999: 114028, 8000: 113532, 8001: 113416, 8002: 110826, 8003: 107962, 8004: 107945, 8005: 107702, 8006: 106883, 8007: 106542, 8008: 106438, 8009: 106330, 8010: 105755, 8011: 108188, 8012: 108601, 8013: 108715, 8014: 110655, 8015: 110611, 8016: 105121, 8017: 109416, 8018: 109372, 8019: 109317, 8020: 109295, 8021: 109191, 8022: 109183, 8023: 1839, 8024: 2693, 8025: 2887, 8026: 2368, 8027: 2523, 8028: 2521, 8029: 2520, 8030: 7372, 8031: 941, 8032: 5334, 8033: 5250, 8034: 4981, 8035: 5490, 8036: 5356, 8037: 4660, 8038: 4630, 8039: 4526, 8040: 4952, 8041: 4775, 8042: 4756, 8043: 6814, 8044: 6798, 8045: 6760, 8046: 7245, 8047: 7101, 8048: 6514, 8049: 5915, 8050: 5779, 8051: 5752, 8052: 5700, 8053: 6476, 8054: 6427, 8055: 6424, 8056: 6302, 8057: 3390, 8058: 3284, 8059: 3596, 8060: 3276, 8061: 3057, 8062: 4212, 8063: 4198, 8064: 4397, 8065: 4156, 8066: 3933, 8067: 4051, 8068: 3568, 8069: 3241, 8070: 3240, 8071: 3756, 8072: 3787, 8073: 2839, 8074: 1341, 8075: 706, 8076: 89039, 8077: 7181, 8078: 7620, 8079: 7786, 8080: 7920, 8081: 7767, 8082: 189713, 8083: 6935, 8084: 6966, 8085: 6945, 8086: 6775, 8087: 32582, 8088: 27563, 8089: 26838, 8090: 26359, 8091: 8848, 8092: 8620, 8093: 6611, 8094: 4977, 8095: 4863, 8096: 4236, 8097: 3989, 8098: 5205, 8099: 6528, 8100: 6466, 8101: 6064, 8102: 5986, 8103: 5239, 8104: 5224, 8105: 5212, 8106: 109161, 8107: 105835, 8108: 103107, 8109: 100556, 8110: 188189, 8111: 187717, 8112: 184721, 8113: 183317, 8114: 183199, 8115: 179813, 8116: 167064, 8117: 164655, 8118: 162414, 8119: 160644, 8120: 152711, 8121: 151311, 8122: 148982, 8123: 89090, 8124: 58191, 8125: 55156, 8126: 46855, 8127: 45382, 8128: 38198, 8129: 82857, 8130: 71640, 8131: 67665, 8132: 3859, 8133: 1757, 8134: 2677, 8135: 60832, 8136: 74580, 8137: 90384, 8138: 74530, 8139: 59738, 8140: 56169, 8141: 3723, 8142: 2493, 8143: 3832, 8144: 3405, 8145: 3619, 8146: 3658, 8147: 1180, 8148: 451, 8149: 5799, 8150: 5801, 8151: 5802, 8152: 5836, 8153: 6090, 8154: 5826, 8155: 5771, 8156: 5694, 8157: 5863, 8158: 5649, 8159: 5755, 8160: 6042, 8161: 6031, 8162: 6020, 8163: 5963, 8164: 5875, 8165: 5629, 8166: 6101, 8167: 5384, 8168: 5375, 8169: 5353, 8170: 5311, 8171: 5604, 8172: 5602, 8173: 5601, 8174: 5581, 8175: 5525, 8176: 5512, 8177: 5455, 8178: 5440, 8179: 6614, 8180: 6609, 8181: 6603, 8182: 6592, 8183: 6584, 8184: 6581, 8185: 6545, 8186: 6527, 8187: 6515, 8188: 6477, 8189: 6454, 8190: 6434, 8191: 6422, 8192: 6660, 8193: 6667, 8194: 6837, 8195: 6788, 8196: 6772, 8197: 6770, 8198: 6768, 8199: 6732, 8200: 6400, 8201: 6273, 8202: 6245, 8203: 6232, 8204: 6228, 8205: 6225, 8206: 6201, 8207: 6181, 8208: 6178, 8209: 6163, 8210: 6407, 8211: 6289, 8212: 6390, 8213: 6382, 8214: 6376, 8215: 6357, 8216: 6336, 8217: 5231, 8218: 4204, 8219: 4189, 8220: 4184, 8221: 4171, 8222: 4164, 8223: 4129, 8224: 4113, 8225: 4080, 8226: 4218, 8227: 4296, 8228: 4292, 8229: 3965, 8230: 3870, 8231: 3816, 8232: 3966, 8233: 4046, 8234: 4871, 8235: 4860, 8236: 4970, 8237: 5213, 8238: 5168, 8239: 5116, 8240: 5114, 8241: 5077, 8242: 5012, 8243: 5007, 8244: 4998, 8245: 4804, 8246: 4801, 8247: 4521, 8248: 4495, 8249: 4484, 8250: 4433, 8251: 4578, 8252: 4798, 8253: 4796, 8254: 4769, 8255: 4704, 8256: 4635, 8257: 4589, 8258: 8191, 8259: 26965, 8260: 26791, 8261: 25999, 8262: 31903, 8263: 31694, 8264: 31260, 8265: 31083, 8266: 31030, 8267: 25996, 8268: 25952, 8269: 8943, 8270: 8938, 8271: 8921, 8272: 8920, 8273: 8875, 8274: 8813, 8275: 8809, 8276: 8778, 8277: 8774, 8278: 8773, 8279: 8771, 8280: 8754, 8281: 8753, 8282: 8730, 8283: 8714, 8284: 8712, 8285: 25962, 8286: 8955, 8287: 25940, 8288: 25927, 8289: 25870, 8290: 25865, 8291: 25850, 8292: 25826, 8293: 25795, 8294: 25769, 8295: 25757, 8296: 25753, 8297: 25752, 8298: 8989, 8299: 8987, 8300: 8979, 8301: 8711, 8302: 34359, 8303: 48741, 8304: 49666, 8305: 56563, 8306: 55687, 8307: 55071, 8308: 53921, 8309: 50514, 8310: 50160, 8311: 35015, 8312: 44511, 8313: 43333, 8314: 42740, 8315: 7141, 8316: 7093, 8317: 7092, 8318: 7086, 8319: 7085, 8320: 7083, 8321: 7082, 8322: 7079, 8323: 7167, 8324: 7190, 8325: 7357, 8326: 7326, 8327: 7223, 8328: 7219, 8329: 7217, 8330: 7212, 8331: 7211, 8332: 7177, 8333: 7382, 8334: 7075, 8335: 7073, 8336: 6982, 8337: 6970, 8338: 6965, 8339: 6962, 8340: 6948, 8341: 6912, 8342: 6911, 8343: 6909, 8344: 6984, 8345: 7074, 8346: 7070, 8347: 7062, 8348: 7061, 8349: 7059, 8350: 7058, 8351: 7057, 8352: 7055, 8353: 7053, 8354: 7052, 8355: 7051, 8356: 7049, 8357: 7019, 8358: 7012, 8359: 6990, 8360: 8684, 8361: 8458, 8362: 8451, 8363: 8450, 8364: 8446, 8365: 8424, 8366: 8410, 8367: 8385, 8368: 8382, 8369: 8375, 8370: 8338, 8371: 8336, 8372: 8331, 8373: 8302, 8374: 8293, 8375: 8275, 8376: 8232, 8377: 8167, 8378: 8459, 8379: 8461, 8380: 8463, 8381: 8650, 8382: 8617, 8383: 8611, 8384: 8591, 8385: 8575, 8386: 8534, 8387: 8521, 8388: 8518, 8389: 8502, 8390: 8492, 8391: 8487, 8392: 8482, 8393: 8481, 8394: 8465, 8395: 8462, 8396: 7414, 8397: 8153, 8398: 8125, 8399: 7727, 8400: 7716, 8401: 7714, 8402: 7713, 8403: 7705, 8404: 7702, 8405: 7618, 8406: 7584, 8407: 7579, 8408: 7572, 8409: 7560, 8410: 7479, 8411: 7772, 8412: 8094, 8413: 8057, 8414: 8019, 8415: 7944, 8416: 7900, 8417: 7896, 8418: 7888, 8419: 7883, 8420: 7882, 8421: 7840, 8422: 7839, 8423: 7835, 8424: 7833, 8425: 7832, 8426: 7831, 8427: 7826, 8428: 7822, 8429: 7789, 8430: 1068, 8431: 1650, 8432: 1629, 8433: 1933, 8434: 1932, 8435: 1928, 8436: 1926, 8437: 1913, 8438: 1902, 8439: 1893, 8440: 1398, 8441: 1507, 8442: 1496, 8443: 1423, 8444: 1413, 8445: 488, 8446: 96, 8447: 929, 8448: 907, 8449: 993, 8450: 982, 8451: 976, 8452: 970, 8453: 959, 8454: 956, 8455: 638, 8456: 3109, 8457: 3211, 8458: 3135, 8459: 3125, 8460: 3112, 8461: 2801, 8462: 2757, 8463: 2930, 8464: 2929, 8465: 2927, 8466: 3739, 8467: 3715, 8468: 3714, 8469: 3641, 8470: 3609, 8471: 3475, 8472: 3281, 8473: 3789, 8474: 2743, 8475: 2211, 8476: 2201, 8477: 2187, 8478: 2185, 8479: 2180, 8480: 2179, 8481: 2177, 8482: 1940, 8483: 2611, 8484: 2612, 8485: 2697, 8486: 2652, 8487: 6148, 8488: 82242, 8489: 7335, 8490: 5348, 8491: 3720, 8492: 5069, 8493: 4454, 8494: 4557, 8495: 4725, 8496: 8126, 8497: 72308, 8498: 78746, 8499: 68945, 8500: 27537, 8501: 31660, 8502: 42422, 8503: 3428, 8504: 4111, 8505: 5365, 8506: 5389, 8507: 5448, 8508: 5651, 8509: 5773, 8510: 5197, 8511: 4410, 8512: 4831, 8513: 2362, 8514: 6436, 8515: 6853, 8516: 43914, 8517: 44197, 8518: 37844, 8519: 47646, 8520: 27830, 8521: 8131, 8522: 32294, 8523: 36477, 8524: 6320, 8525: 8268, 8526: 2068, 8527: 8632, 8528: 36397, 8529: 27370, 8530: 31617, 8531: 91890, 8532: 93723, 8533: 94810, 8534: 95939, 8535: 96283, 8536: 88448, 8537: 89586, 8538: 90863, 8539: 105325, 8540: 109941, 8541: 109971, 8542: 112316, 8543: 115065, 8544: 97665, 8545: 99087, 8546: 100068, 8547: 101765, 8548: 68522, 8549: 72554, 8550: 2483, 8551: 5786, 8552: 4759, 8553: 71268, 8554: 93320, 8555: 8593, 8556: 26900, 8557: 72874, 8558: 54796, 8559: 73501, 8560: 91488, 8561: 92730, 8562: 94130, 8563: 87413, 8564: 77881, 8565: 79299, 8566: 79536, 8567: 80454, 8568: 80551, 8569: 84553, 8570: 86000, 8571: 40597, 8572: 50954, 8573: 78544, 8574: 78160, 8575: 180231, 8576: 103, 8577: 467, 8578: 876, 8579: 1170, 8580: 73290, 8581: 140523, 8582: 131739, 8583: 56286, 8584: 1910, 8585: 1824, 8586: 449, 8587: 7455, 8588: 79798, 8589: 46231, 8590: 32914, 8591: 6927, 8592: 6596, 8593: 68269, 8594: 65193, 8595: 50796, 8596: 95193, 8597: 136838, 8598: 130073, 8599: 129229, 8600: 126142, 8601: 117133, 8602: 94799, 8603: 110781, 8604: 82088, 8605: 80834, 8606: 74677, 8607: 84847, 8608: 93988, 8609: 136840, 8610: 93134, 8611: 91337, 8612: 90809, 8613: 89678, 8614: 91266, 8615: 5613, 8616: 34148, 8617: 6145, 8618: 5797, 8619: 5704, 8620: 188797, 8621: 6746, 8622: 5189, 8623: 6821, 8624: 31150, 8625: 26198, 8626: 8894, 8627: 7891, 8628: 7730, 8629: 7477, 8630: 5041, 8631: 4202, 8632: 38583, 8633: 159510, 8634: 158830, 8635: 149330, 8636: 141994, 8637: 136958, 8638: 135216, 8639: 124484, 8640: 160571, 8641: 167538, 8642: 3294, 8643: 187031, 8644: 186587, 8645: 185473, 8646: 185033, 8647: 184987, 8648: 184931, 8649: 182727, 8650: 180263, 8651: 40478, 8652: 62586, 8653: 1335, 8654: 2878, 8655: 1978, 8656: 8772, 8657: 26761, 8658: 4646, 8659: 97194, 8660: 96520, 8661: 96518, 8662: 96471, 8663: 93740, 8664: 91414, 8665: 88267, 8666: 165489, 8667: 162590, 8668: 160422, 8669: 152037, 8670: 144352, 8671: 121099, 8672: 107780, 8673: 83270, 8674: 32469, 8675: 7266, 8676: 66544, 8677: 27006, 8678: 27369, 8679: 79006, 8680: 120130, 8681: 8264, 8682: 106889, 8683: 120807, 8684: 164540, 8685: 163653, 8686: 159849, 8687: 148667, 8688: 146682, 8689: 134248, 8690: 127164, 8691: 96150, 8692: 98122, 8693: 91869, 8694: 39516, 8695: 135198, 8696: 176413, 8697: 176415, 8698: 2742, 8699: 5560, 8700: 4445, 8701: 3673, 8702: 3674, 8703: 4284, 8704: 125914, 8705: 76743, 8706: 73804, 8707: 85261, 8708: 85179, 8709: 83480, 8710: 69805, 8711: 58297, 8712: 64695, 8713: 116529, 8714: 112580, 8715: 116668, 8716: 116724, 8717: 164367, 8718: 150993, 8719: 144734, 8720: 135885, 8721: 134775, 8722: 128542, 8723: 91353, 8724: 53138, 8725: 53140, 8726: 36289, 8727: 27251, 8728: 51024, 8729: 2573, 8730: 121129, 8731: 55946, 8732: 2107, 8733: 626, 8734: 3939, 8735: 3940, 8736: 3941, 8737: 3942, 8738: 3958, 8739: 3626, 8740: 1990, 8741: 1986, 8742: 168712, 8743: 1477, 8744: 142056, 8745: 167296, 8746: 5059, 8747: 7457, 8748: 5513, 8749: 61257, 8750: 43684, 8751: 1825, 8752: 2820, 8753: 2597, 8754: 2256, 8755: 2862, 8756: 2451, 8757: 3678, 8758: 3691, 8759: 3663, 8760: 3574, 8761: 3577, 8762: 3664, 8763: 3660, 8764: 3661, 8765: 3442, 8766: 790, 8767: 633, 8768: 1985, 8769: 1336, 8770: 1397, 8771: 48045, 8772: 59026, 8773: 31123, 8774: 26308, 8775: 38095, 8776: 37495, 8777: 111384, 8778: 109313, 8779: 105246, 8780: 96945, 8781: 154975, 8782: 148881, 8783: 148238, 8784: 142558, 8785: 141866, 8786: 130498, 8787: 73681, 8788: 68886, 8789: 81383, 8790: 54617, 8791: 6119, 8792: 5840, 8793: 5839, 8794: 168174, 8795: 6800, 8796: 105468, 8797: 4135, 8798: 73211, 8799: 99191, 8800: 100306, 8801: 26357, 8802: 27140, 8803: 27667, 8804: 74688, 8805: 77414, 8806: 78264, 8807: 80858, 8808: 82152, 8809: 61071, 8810: 62718, 8811: 70932, 8812: 72919, 8813: 115667, 8814: 128832, 8815: 139747, 8816: 90524, 8817: 94325, 8818: 95199, 8819: 100527, 8820: 96975, 8821: 43930, 8822: 44225, 8823: 47516, 8824: 50942, 8825: 109897, 8826: 110603, 8827: 122888, 8828: 122246, 8829: 117877, 8830: 114627, 8831: 114554, 8832: 114396, 8833: 113705, 8834: 102800, 8835: 102088, 8836: 101070, 8837: 99917, 8838: 104944, 8839: 104337, 8840: 179815, 8841: 156605, 8842: 153070, 8843: 166526, 8844: 179749, 8845: 179491, 8846: 176419, 8847: 170945, 8848: 166705, 8849: 152071, 8850: 152063, 8851: 135288, 8852: 134246, 8853: 132335, 8854: 136602, 8855: 150254, 8856: 142507, 8857: 141668, 8858: 151687, 8859: 5028, 8860: 26743, 8861: 26717, 8862: 25782, 8863: 8477, 8864: 8335, 8865: 8189, 8866: 82684, 8867: 81681, 8868: 92681, 8869: 92234, 8870: 57502, 8871: 51573, 8872: 40491, 8873: 71438, 8874: 70015, 8875: 2655, 8876: 2740, 8877: 3021, 8878: 2982, 8879: 1331, 8880: 1980, 8881: 1623, 8882: 3073, 8883: 2623, 8884: 2629, 8885: 430, 8886: 2538, 8887: 3143, 8888: 2415, 8889: 56389, 8890: 75446, 8891: 6751, 8892: 7395, 8893: 2965, 8894: 5828, 8895: 5767, 8896: 6692, 8897: 6583, 8898: 6342, 8899: 7349, 8900: 8092, 8901: 8236, 8902: 26819, 8903: 8844, 8904: 8800, 8905: 8494, 8906: 8427, 8907: 27373, 8908: 136556, 8909: 2738, 8910: 3414, 8911: 3449, 8912: 3403, 8913: 4710, 8914: 4794, 8915: 4715, 8916: 4200, 8917: 4374, 8918: 4827, 8919: 5657, 8920: 5105, 8921: 2589, 8922: 3353, 8923: 6140, 8924: 7345, 8925: 7742, 8926: 7782, 8927: 8035, 8928: 8118, 8929: 8727, 8930: 6417, 8931: 6665, 8932: 6723, 8933: 6967, 8934: 6994, 8935: 7023, 8936: 7031, 8937: 7032, 8938: 7114, 8939: 284, 8940: 1652, 8941: 2175, 8942: 2196, 8943: 68835, 8944: 70637, 8945: 69495, 8946: 59667, 8947: 59549, 8948: 33649, 8949: 32799, 8950: 27246, 8951: 55844, 8952: 43744, 8953: 141131, 8954: 7615, 8955: 133645, 8956: 132454, 8957: 129397, 8958: 128908, 8959: 151557, 8960: 184997, 8961: 183635, 8962: 182793, 8963: 181719, 8964: 178615, 8965: 176051, 8966: 168026, 8967: 163639, 8968: 171917, 8969: 92954, 8970: 120919, 8971: 113280, 8972: 111913, 8973: 111800, 8974: 7260, 8975: 6769, 8976: 4342, 8977: 3094, 8978: 2774, 8979: 4424, 8980: 615, 8981: 1112, 8982: 124851, 8983: 114265, 8984: 113829, 8985: 7704, 8986: 7657, 8987: 7707, 8988: 7307, 8989: 7443, 8990: 8500, 8991: 7986, 8992: 7988, 8993: 8043, 8994: 8045, 8995: 8380, 8996: 8425, 8997: 6882, 8998: 6860, 8999: 6734, 9000: 6804, 9001: 7108, 9002: 7125, 9003: 7191, 9004: 7047, 9005: 6998, 9006: 7005, 9007: 7041, 9008: 8720, 9009: 27420, 9010: 27441, 9011: 27549, 9012: 27595, 9013: 27722, 9014: 27762, 9015: 27769, 9016: 27306, 9017: 26913, 9018: 26940, 9019: 26947, 9020: 27002, 9021: 27008, 9022: 27032, 9023: 27074, 9024: 27105, 9025: 27124, 9026: 27155, 9027: 27784, 9028: 32442, 9029: 32515, 9030: 33126, 9031: 33294, 9032: 33435, 9033: 33629, 9034: 32440, 9035: 27829, 9036: 31367, 9037: 31664, 9038: 31921, 9039: 32058, 9040: 31553, 9041: 26861, 9042: 26854, 9043: 26828, 9044: 9004, 9045: 26142, 9046: 26159, 9047: 26176, 9048: 26195, 9049: 26283, 9050: 26285, 9051: 26344, 9052: 26365, 9053: 8905, 9054: 8934, 9055: 8755, 9056: 26453, 9057: 26676, 9058: 26696, 9059: 26701, 9060: 26726, 9061: 26741, 9062: 26745, 9063: 26782, 9064: 26797, 9065: 26630, 9066: 26467, 9067: 26510, 9068: 26539, 9069: 26542, 9070: 26547, 9071: 26413, 9072: 26567, 9073: 26590, 9074: 26593, 9075: 26612, 9076: 26622, 9077: 26562, 9078: 6722, 9079: 5198, 9080: 5221, 9081: 5268, 9082: 5136, 9083: 5111, 9084: 5053, 9085: 5054, 9086: 5096, 9087: 4511, 9088: 4568, 9089: 4574, 9090: 4504, 9091: 4490, 9092: 4594, 9093: 4597, 9094: 4603, 9095: 4593, 9096: 4670, 9097: 6267, 9098: 6310, 9099: 6204, 9100: 6691, 9101: 6587, 9102: 6506, 9103: 6557, 9104: 5442, 9105: 5961, 9106: 5768, 9107: 5591, 9108: 5596, 9109: 5597, 9110: 5689, 9111: 33801, 9112: 97230, 9113: 97950, 9114: 98499, 9115: 98503, 9116: 98623, 9117: 98697, 9118: 98799, 9119: 95499, 9120: 95519, 9121: 95717, 9122: 95771, 9123: 95780, 9124: 95839, 9125: 95965, 9126: 104017, 9127: 104837, 9128: 105020, 9129: 105720, 9130: 103609, 9131: 103366, 9132: 103245, 9133: 99638, 9134: 101074, 9135: 101423, 9136: 102590, 9137: 102735, 9138: 102749, 9139: 102852, 9140: 103027, 9141: 95165, 9142: 95163, 9143: 86898, 9144: 87197, 9145: 87960, 9146: 88593, 9147: 88697, 9148: 86864, 9149: 84523, 9150: 89085, 9151: 85438, 9152: 86286, 9153: 86355, 9154: 91981, 9155: 92309, 9156: 92674, 9157: 93208, 9158: 93502, 9159: 94122, 9160: 95145, 9161: 91571, 9162: 89862, 9163: 90243, 9164: 90945, 9165: 90428, 9166: 107999, 9167: 108192, 9168: 158388, 9169: 158874, 9170: 159061, 9171: 159403, 9172: 160978, 9173: 161008, 9174: 161032, 9175: 161044, 9176: 163809, 9177: 165529, 9178: 157865, 9179: 156675, 9180: 151781, 9181: 138702, 9182: 139130, 9183: 139859, 9184: 140852, 9185: 144522, 9186: 145724, 9187: 145745, 9188: 151479, 9189: 153236, 9190: 167706, 9191: 173873, 9192: 174727, 9193: 178129, 9194: 179053, 9195: 181315, 9196: 172253, 9197: 172233, 9198: 172229, 9199: 168608, 9200: 169670, 9201: 169904, 9202: 137859, 9203: 169958, 9204: 170297, 9205: 170551, 9206: 171695, 9207: 137345, 9208: 137218, 9209: 115819, 9210: 116044, 9211: 116169, 9212: 116941, 9213: 116963, 9214: 117630, 9215: 118290, 9216: 114126, 9217: 113849, 9218: 110541, 9219: 119218, 9220: 111785, 9221: 112326, 9222: 108090, 9223: 119828, 9224: 121035, 9225: 129779, 9226: 131578, 9227: 132084, 9228: 132362, 9229: 135787, 9230: 136012, 9231: 136297, 9232: 128736, 9233: 128197, 9234: 123310, 9235: 122260, 9236: 122433, 9237: 122627, 9238: 120827, 9239: 83086, 9240: 47721, 9241: 47793, 9242: 49110, 9243: 45648, 9244: 45969, 9245: 46367, 9246: 46574, 9247: 183301, 9248: 53450, 9249: 54274, 9250: 54908, 9251: 55036, 9252: 53161, 9253: 53143, 9254: 53022, 9255: 51545, 9256: 39801, 9257: 40578, 9258: 36850, 9259: 33966, 9260: 34292, 9261: 34800, 9262: 34811, 9263: 55061, 9264: 44238, 9265: 44241, 9266: 44243, 9267: 44849, 9268: 45183, 9269: 42559, 9270: 42638, 9271: 41627, 9272: 42946, 9273: 43419, 9274: 43677, 9275: 43908, 9276: 42943, 9277: 83796, 9278: 55205, 9279: 73569, 9280: 73808, 9281: 74095, 9282: 74696, 9283: 75416, 9284: 75947, 9285: 72479, 9286: 76030, 9287: 70703, 9288: 71327, 9289: 71484, 9290: 71550, 9291: 71810, 9292: 81791, 9293: 82534, 9294: 77201, 9295: 77709, 9296: 78959, 9297: 79895, 9298: 80083, 9299: 69227, 9300: 69131, 9301: 59016, 9302: 59336, 9303: 59947, 9304: 60365, 9305: 58306, 9306: 55207, 9307: 56022, 9308: 57499, 9309: 60803, 9310: 67193, 9311: 68552, 9312: 68650, 9313: 66915, 9314: 61073, 9315: 62662, 9316: 62970, 9317: 4394, 9318: 1114, 9319: 1794, 9320: 1426, 9321: 806, 9322: 478, 9323: 3379, 9324: 3571, 9325: 3669, 9326: 4197, 9327: 4240, 9328: 3700, 9329: 3709, 9330: 3962, 9331: 2281, 9332: 2339, 9333: 2292, 9334: 2698, 9335: 2586, 9336: 2800, 9337: 25905, 9338: 25923, 9339: 25947, 9340: 59131, 9341: 46664, 9342: 141846, 9343: 2725, 9344: 2727, 9345: 2813, 9346: 2609, 9347: 2620, 9348: 2577, 9349: 2972, 9350: 2865, 9351: 2885, 9352: 2892, 9353: 2283, 9354: 2304, 9355: 2104, 9356: 2512, 9357: 2544, 9358: 2435, 9359: 2417, 9360: 3002, 9361: 3637, 9362: 3655, 9363: 3792, 9364: 4766, 9365: 4786, 9366: 4810, 9367: 4420, 9368: 4428, 9369: 4436, 9370: 4690, 9371: 4695, 9372: 4705, 9373: 3586, 9374: 3183, 9375: 3514, 9376: 3531, 9377: 3459, 9378: 3303, 9379: 3344, 9380: 3374, 9381: 602, 9382: 645, 9383: 649, 9384: 803, 9385: 495, 9386: 506, 9387: 526, 9388: 2008, 9389: 1053, 9390: 149, 9391: 184, 9392: 108, 9393: 77, 9394: 301, 9395: 320, 9396: 1585, 9397: 1612, 9398: 1613, 9399: 1549, 9400: 1475, 9401: 1514, 9402: 1759, 9403: 1119, 9404: 1310, 9405: 1349, 9406: 285, 9407: 311, 9408: 636, 9409: 117, 9410: 220, 9411: 27036, 9412: 35347, 9413: 65359, 9414: 71160, 9415: 72165, 9416: 72982, 9417: 47384, 9418: 54686, 9419: 66240, 9420: 1654, 9421: 5856, 9422: 5922, 9423: 5929, 9424: 5741, 9425: 5742, 9426: 5733, 9427: 5849, 9428: 5975, 9429: 5990, 9430: 6070, 9431: 5720, 9432: 6107, 9433: 6111, 9434: 5372, 9435: 5550, 9436: 5503, 9437: 5614, 9438: 6182, 9439: 6782, 9440: 6789, 9441: 6803, 9442: 6973, 9443: 6961, 9444: 5269, 9445: 6644, 9446: 6202, 9447: 6237, 9448: 6578, 9449: 6573, 9450: 6553, 9451: 6516, 9452: 6415, 9453: 6449, 9454: 4357, 9455: 3808, 9456: 3920, 9457: 4395, 9458: 4828, 9459: 4840, 9460: 4883, 9461: 4689, 9462: 4671, 9463: 4615, 9464: 4653, 9465: 41014, 9466: 44189, 9467: 44301, 9468: 30890, 9469: 30994, 9470: 31309, 9471: 31973, 9472: 32234, 9473: 32600, 9474: 32620, 9475: 32649, 9476: 33310, 9477: 33237, 9478: 32862, 9479: 32728, 9480: 55805, 9481: 56333, 9482: 58783, 9483: 72603, 9484: 69224, 9485: 68872, 9486: 68480, 9487: 47202, 9488: 47538, 9489: 47774, 9490: 48032, 9491: 48214, 9492: 51314, 9493: 50354, 9494: 50356, 9495: 7292, 9496: 7344, 9497: 7487, 9498: 7916, 9499: 7037, 9500: 7131, 9501: 7109, 9502: 25946, 9503: 26038, 9504: 26394, 9505: 26527, 9506: 26599, 9507: 26777, 9508: 26796, 9509: 26875, 9510: 26985, 9511: 27178, 9512: 27744, 9513: 27644, 9514: 27627, 9515: 27255, 9516: 25805, 9517: 8391, 9518: 8454, 9519: 8456, 9520: 8601, 9521: 8685, 9522: 8713, 9523: 8964, 9524: 25833, 9525: 8933, 9526: 6671, 9527: 1117, 9528: 1156, 9529: 961, 9530: 1493, 9531: 202, 9532: 263, 9533: 632, 9534: 583, 9535: 579, 9536: 573, 9537: 563, 9538: 2897, 9539: 3010, 9540: 2481, 9541: 2503, 9542: 3640, 9543: 3295, 9544: 3289, 9545: 1857, 9546: 2388, 9547: 2156, 9548: 2207, 9549: 2737, 9550: 241, 9551: 7377, 9552: 8667, 9553: 51903, 9554: 32302, 9555: 5901, 9556: 137, 9557: 71341, 9558: 70208, 9559: 70206, 9560: 73741, 9561: 73676, 9562: 72424, 9563: 72142, 9564: 71910, 9565: 66310, 9566: 64010, 9567: 63826, 9568: 63768, 9569: 63179, 9570: 73876, 9571: 67168, 9572: 74370, 9573: 82765, 9574: 82641, 9575: 82366, 9576: 81520, 9577: 77931, 9578: 77893, 9579: 76091, 9580: 75389, 9581: 78626, 9582: 80162, 9583: 80094, 9584: 79868, 9585: 79501, 9586: 61818, 9587: 51666, 9588: 52831, 9589: 48150, 9590: 47937, 9591: 59915, 9592: 58975, 9593: 58964, 9594: 58826, 9595: 61692, 9596: 61319, 9597: 61262, 9598: 60471, 9599: 60303, 9600: 55492, 9601: 55067, 9602: 54910, 9603: 57637, 9604: 57421, 9605: 56620, 9606: 118082, 9607: 117867, 9608: 115727, 9609: 130050, 9610: 129313, 9611: 128838, 9612: 44597, 9613: 114707, 9614: 114670, 9615: 111551, 9616: 110591, 9617: 110286, 9618: 110281, 9619: 110746, 9620: 114044, 9621: 113862, 9622: 113780, 9623: 113565, 9624: 113313, 9625: 113159, 9626: 112727, 9627: 130052, 9628: 130840, 9629: 152372, 9630: 148166, 9631: 147662, 9632: 147657, 9633: 146309, 9634: 145951, 9635: 149011, 9636: 158721, 9637: 163981, 9638: 163937, 9639: 160836, 9640: 160527, 9641: 160341, 9642: 142598, 9643: 135815, 9644: 135803, 9645: 135534, 9646: 133832, 9647: 142366, 9648: 141799, 9649: 141400, 9650: 140267, 9651: 139655, 9652: 139511, 9653: 138632, 9654: 138610, 9655: 94867, 9656: 98061, 9657: 97988, 9658: 97701, 9659: 97285, 9660: 97188, 9661: 96832, 9662: 93819, 9663: 93598, 9664: 93193, 9665: 89281, 9666: 89072, 9667: 88327, 9668: 89837, 9669: 91233, 9670: 103685, 9671: 103483, 9672: 105801, 9673: 107771, 9674: 107462, 9675: 107447, 9676: 107436, 9677: 98633, 9678: 100906, 9679: 100579, 9680: 100397, 9681: 100159, 9682: 99721, 9683: 99030, 9684: 103219, 9685: 103085, 9686: 102802, 9687: 102760, 9688: 102338, 9689: 102070, 9690: 102066, 9691: 4497, 9692: 3945, 9693: 1054, 9694: 26401, 9695: 26399, 9696: 26391, 9697: 26169, 9698: 26498, 9699: 27491, 9700: 27480, 9701: 27426, 9702: 26603, 9703: 8840, 9704: 7984, 9705: 7562, 9706: 27746, 9707: 36931, 9708: 43289, 9709: 41712, 9710: 34450, 9711: 31086, 9712: 27905, 9713: 27778, 9714: 5953, 9715: 5275, 9716: 7202, 9717: 6095, 9718: 6009}\n"
          ]
        }
      ]
    },
    {
      "cell_type": "markdown",
      "metadata": {
        "id": "6Kq2Y8bEfpLE"
      },
      "source": [
        "#### Mapping"
      ]
    },
    {
      "cell_type": "code",
      "metadata": {
        "id": "Ql6unfLafpLE"
      },
      "source": [
        "# Mapping user_id ke dataframe user\n",
        "df['user'] = df['userId'].map(user_to_user_encoded)\n",
        " \n",
        "# Mapping movie_id ke dataframe movie\n",
        "df['movie'] = df['movieId'].map(movie_to_movie_encoded)"
      ],
      "execution_count": null,
      "outputs": []
    },
    {
      "cell_type": "code",
      "metadata": {
        "colab": {
          "base_uri": "https://localhost:8080/",
          "height": 419
        },
        "id": "3ZS0qCHlfpLF",
        "scrolled": true,
        "outputId": "9b97e2db-e46b-4d7d-809d-73b5043be31c"
      },
      "source": [
        "df"
      ],
      "execution_count": null,
      "outputs": [
        {
          "data": {
            "text/html": [
              "<div>\n",
              "<style scoped>\n",
              "    .dataframe tbody tr th:only-of-type {\n",
              "        vertical-align: middle;\n",
              "    }\n",
              "\n",
              "    .dataframe tbody tr th {\n",
              "        vertical-align: top;\n",
              "    }\n",
              "\n",
              "    .dataframe thead th {\n",
              "        text-align: right;\n",
              "    }\n",
              "</style>\n",
              "<table border=\"1\" class=\"dataframe\">\n",
              "  <thead>\n",
              "    <tr style=\"text-align: right;\">\n",
              "      <th></th>\n",
              "      <th>userId</th>\n",
              "      <th>movieId</th>\n",
              "      <th>rating</th>\n",
              "      <th>title</th>\n",
              "      <th>genres</th>\n",
              "      <th>user</th>\n",
              "      <th>movie</th>\n",
              "    </tr>\n",
              "  </thead>\n",
              "  <tbody>\n",
              "    <tr>\n",
              "      <th>0</th>\n",
              "      <td>1</td>\n",
              "      <td>1</td>\n",
              "      <td>4</td>\n",
              "      <td>Toy Story (1995)</td>\n",
              "      <td>Adventure|Animation|Children|Comedy|Fantasy</td>\n",
              "      <td>0</td>\n",
              "      <td>0</td>\n",
              "    </tr>\n",
              "    <tr>\n",
              "      <th>1</th>\n",
              "      <td>1</td>\n",
              "      <td>2329</td>\n",
              "      <td>5</td>\n",
              "      <td>American History X (1998)</td>\n",
              "      <td>Crime|Drama</td>\n",
              "      <td>0</td>\n",
              "      <td>1</td>\n",
              "    </tr>\n",
              "    <tr>\n",
              "      <th>2</th>\n",
              "      <td>1</td>\n",
              "      <td>2338</td>\n",
              "      <td>2</td>\n",
              "      <td>I Still Know What You Did Last Summer (1998)</td>\n",
              "      <td>Horror|Mystery|Thriller</td>\n",
              "      <td>0</td>\n",
              "      <td>2</td>\n",
              "    </tr>\n",
              "    <tr>\n",
              "      <th>3</th>\n",
              "      <td>1</td>\n",
              "      <td>2353</td>\n",
              "      <td>5</td>\n",
              "      <td>Enemy of the State (1998)</td>\n",
              "      <td>Action|Thriller</td>\n",
              "      <td>0</td>\n",
              "      <td>3</td>\n",
              "    </tr>\n",
              "    <tr>\n",
              "      <th>4</th>\n",
              "      <td>1</td>\n",
              "      <td>2366</td>\n",
              "      <td>4</td>\n",
              "      <td>King Kong (1933)</td>\n",
              "      <td>Action|Adventure|Fantasy|Horror</td>\n",
              "      <td>0</td>\n",
              "      <td>4</td>\n",
              "    </tr>\n",
              "    <tr>\n",
              "      <th>...</th>\n",
              "      <td>...</td>\n",
              "      <td>...</td>\n",
              "      <td>...</td>\n",
              "      <td>...</td>\n",
              "      <td>...</td>\n",
              "      <td>...</td>\n",
              "      <td>...</td>\n",
              "    </tr>\n",
              "    <tr>\n",
              "      <th>100831</th>\n",
              "      <td>610</td>\n",
              "      <td>6387</td>\n",
              "      <td>3</td>\n",
              "      <td>Once a Thief (Zong heng si hai) (1991)</td>\n",
              "      <td>Action|Comedy|Crime|Thriller</td>\n",
              "      <td>609</td>\n",
              "      <td>2097</td>\n",
              "    </tr>\n",
              "    <tr>\n",
              "      <th>100832</th>\n",
              "      <td>610</td>\n",
              "      <td>6383</td>\n",
              "      <td>2</td>\n",
              "      <td>2 Fast 2 Furious (Fast and the Furious 2, The)...</td>\n",
              "      <td>Action|Crime|Thriller</td>\n",
              "      <td>609</td>\n",
              "      <td>3351</td>\n",
              "    </tr>\n",
              "    <tr>\n",
              "      <th>100833</th>\n",
              "      <td>610</td>\n",
              "      <td>6378</td>\n",
              "      <td>3</td>\n",
              "      <td>Italian Job, The (2003)</td>\n",
              "      <td>Action|Crime</td>\n",
              "      <td>609</td>\n",
              "      <td>1370</td>\n",
              "    </tr>\n",
              "    <tr>\n",
              "      <th>100834</th>\n",
              "      <td>610</td>\n",
              "      <td>6708</td>\n",
              "      <td>3</td>\n",
              "      <td>Matchstick Men (2003)</td>\n",
              "      <td>Comedy|Crime|Drama</td>\n",
              "      <td>609</td>\n",
              "      <td>2538</td>\n",
              "    </tr>\n",
              "    <tr>\n",
              "      <th>100835</th>\n",
              "      <td>610</td>\n",
              "      <td>170875</td>\n",
              "      <td>3</td>\n",
              "      <td>The Fate of the Furious (2017)</td>\n",
              "      <td>Action|Crime|Drama|Thriller</td>\n",
              "      <td>609</td>\n",
              "      <td>2800</td>\n",
              "    </tr>\n",
              "  </tbody>\n",
              "</table>\n",
              "<p>100830 rows × 7 columns</p>\n",
              "</div>"
            ],
            "text/plain": [
              "        userId  movieId  ...  user movie\n",
              "0            1        1  ...     0     0\n",
              "1            1     2329  ...     0     1\n",
              "2            1     2338  ...     0     2\n",
              "3            1     2353  ...     0     3\n",
              "4            1     2366  ...     0     4\n",
              "...        ...      ...  ...   ...   ...\n",
              "100831     610     6387  ...   609  2097\n",
              "100832     610     6383  ...   609  3351\n",
              "100833     610     6378  ...   609  1370\n",
              "100834     610     6708  ...   609  2538\n",
              "100835     610   170875  ...   609  2800\n",
              "\n",
              "[100830 rows x 7 columns]"
            ]
          },
          "execution_count": 45,
          "metadata": {},
          "output_type": "execute_result"
        }
      ]
    },
    {
      "cell_type": "markdown",
      "metadata": {
        "id": "pfsHBtMmoGB7"
      },
      "source": [
        "#### Cek jumlah user, jumlah movie, dan mengubah nilai rating menjadi float."
      ]
    },
    {
      "cell_type": "code",
      "metadata": {
        "colab": {
          "base_uri": "https://localhost:8080/"
        },
        "id": "eAFTmZL2fpLF",
        "outputId": "cb33bc57-b0b7-4c6b-b1a2-f3d95d1f8880"
      },
      "source": [
        "# Mendapatkan jumlah user\n",
        "num_users = len(user_to_user_encoded)\n",
        " \n",
        "# Mendapatkan jumlah movie\n",
        "num_movie = len(movie_encoded_to_movie)\n",
        "\n",
        "# Mengubah rating menjadi nilai float\n",
        "df['rating'] = df['rating'].values.astype(np.float32)\n",
        " \n",
        "# Nilai minimum rating\n",
        "min_rating = min(df['rating'])\n",
        " \n",
        "# Nilai maksimal rating\n",
        "max_rating = max(df['rating'])\n",
        "print(f'Number of User : {num_users}')\n",
        "print(f'Number of Movie : {num_movie}')\n",
        "print(f'Min rating : {min_rating}')\n",
        "print(f'Max rating : {max_rating}')"
      ],
      "execution_count": null,
      "outputs": [
        {
          "name": "stdout",
          "output_type": "stream",
          "text": [
            "Number of User : 610\n",
            "Number of Movie : 9719\n",
            "Min rating : 0.0\n",
            "Max rating : 5.0\n"
          ]
        }
      ]
    },
    {
      "cell_type": "markdown",
      "metadata": {
        "id": "ckNe2qytomtc"
      },
      "source": [
        "#### Membagi Data untuk Training dan Validasi"
      ]
    },
    {
      "cell_type": "code",
      "metadata": {
        "colab": {
          "base_uri": "https://localhost:8080/",
          "height": 419
        },
        "id": "0q-g6goXfpLF",
        "outputId": "2e00d358-e972-4e46-c682-383deca80f3f"
      },
      "source": [
        "# Mengacak dataset\n",
        "df = df.sample(frac=1, random_state=42)\n",
        "df"
      ],
      "execution_count": null,
      "outputs": [
        {
          "data": {
            "text/html": [
              "<div>\n",
              "<style scoped>\n",
              "    .dataframe tbody tr th:only-of-type {\n",
              "        vertical-align: middle;\n",
              "    }\n",
              "\n",
              "    .dataframe tbody tr th {\n",
              "        vertical-align: top;\n",
              "    }\n",
              "\n",
              "    .dataframe thead th {\n",
              "        text-align: right;\n",
              "    }\n",
              "</style>\n",
              "<table border=\"1\" class=\"dataframe\">\n",
              "  <thead>\n",
              "    <tr style=\"text-align: right;\">\n",
              "      <th></th>\n",
              "      <th>userId</th>\n",
              "      <th>movieId</th>\n",
              "      <th>rating</th>\n",
              "      <th>title</th>\n",
              "      <th>genres</th>\n",
              "      <th>user</th>\n",
              "      <th>movie</th>\n",
              "    </tr>\n",
              "  </thead>\n",
              "  <tbody>\n",
              "    <tr>\n",
              "      <th>27969</th>\n",
              "      <td>191</td>\n",
              "      <td>99</td>\n",
              "      <td>5.0</td>\n",
              "      <td>Heidi Fleiss: Hollywood Madam (1995)</td>\n",
              "      <td>Documentary</td>\n",
              "      <td>190</td>\n",
              "      <td>5551</td>\n",
              "    </tr>\n",
              "    <tr>\n",
              "      <th>44012</th>\n",
              "      <td>294</td>\n",
              "      <td>2060</td>\n",
              "      <td>2.0</td>\n",
              "      <td>BASEketball (1998)</td>\n",
              "      <td>Comedy</td>\n",
              "      <td>293</td>\n",
              "      <td>1463</td>\n",
              "    </tr>\n",
              "    <tr>\n",
              "      <th>70876</th>\n",
              "      <td>453</td>\n",
              "      <td>3536</td>\n",
              "      <td>4.0</td>\n",
              "      <td>Keeping the Faith (2000)</td>\n",
              "      <td>Comedy|Drama|Romance</td>\n",
              "      <td>452</td>\n",
              "      <td>1520</td>\n",
              "    </tr>\n",
              "    <tr>\n",
              "      <th>6188</th>\n",
              "      <td>42</td>\n",
              "      <td>292</td>\n",
              "      <td>3.0</td>\n",
              "      <td>Outbreak (1995)</td>\n",
              "      <td>Action|Drama|Sci-Fi|Thriller</td>\n",
              "      <td>41</td>\n",
              "      <td>660</td>\n",
              "    </tr>\n",
              "    <tr>\n",
              "      <th>34902</th>\n",
              "      <td>233</td>\n",
              "      <td>2858</td>\n",
              "      <td>3.0</td>\n",
              "      <td>American Beauty (1999)</td>\n",
              "      <td>Drama|Romance</td>\n",
              "      <td>232</td>\n",
              "      <td>96</td>\n",
              "    </tr>\n",
              "    <tr>\n",
              "      <th>...</th>\n",
              "      <td>...</td>\n",
              "      <td>...</td>\n",
              "      <td>...</td>\n",
              "      <td>...</td>\n",
              "      <td>...</td>\n",
              "      <td>...</td>\n",
              "      <td>...</td>\n",
              "    </tr>\n",
              "    <tr>\n",
              "      <th>6266</th>\n",
              "      <td>42</td>\n",
              "      <td>1101</td>\n",
              "      <td>5.0</td>\n",
              "      <td>Top Gun (1986)</td>\n",
              "      <td>Action|Romance</td>\n",
              "      <td>41</td>\n",
              "      <td>797</td>\n",
              "    </tr>\n",
              "    <tr>\n",
              "      <th>54890</th>\n",
              "      <td>364</td>\n",
              "      <td>783</td>\n",
              "      <td>3.0</td>\n",
              "      <td>Hunchback of Notre Dame, The (1996)</td>\n",
              "      <td>Animation|Children|Drama|Musical|Romance</td>\n",
              "      <td>363</td>\n",
              "      <td>552</td>\n",
              "    </tr>\n",
              "    <tr>\n",
              "      <th>76824</th>\n",
              "      <td>480</td>\n",
              "      <td>597</td>\n",
              "      <td>3.0</td>\n",
              "      <td>Pretty Woman (1990)</td>\n",
              "      <td>Comedy|Romance</td>\n",
              "      <td>479</td>\n",
              "      <td>468</td>\n",
              "    </tr>\n",
              "    <tr>\n",
              "      <th>860</th>\n",
              "      <td>6</td>\n",
              "      <td>261</td>\n",
              "      <td>4.0</td>\n",
              "      <td>Little Women (1994)</td>\n",
              "      <td>Drama</td>\n",
              "      <td>5</td>\n",
              "      <td>479</td>\n",
              "    </tr>\n",
              "    <tr>\n",
              "      <th>15797</th>\n",
              "      <td>103</td>\n",
              "      <td>1179</td>\n",
              "      <td>4.0</td>\n",
              "      <td>Grifters, The (1990)</td>\n",
              "      <td>Crime|Drama|Film-Noir</td>\n",
              "      <td>102</td>\n",
              "      <td>455</td>\n",
              "    </tr>\n",
              "  </tbody>\n",
              "</table>\n",
              "<p>100830 rows × 7 columns</p>\n",
              "</div>"
            ],
            "text/plain": [
              "       userId  movieId  ...  user movie\n",
              "27969     191       99  ...   190  5551\n",
              "44012     294     2060  ...   293  1463\n",
              "70876     453     3536  ...   452  1520\n",
              "6188       42      292  ...    41   660\n",
              "34902     233     2858  ...   232    96\n",
              "...       ...      ...  ...   ...   ...\n",
              "6266       42     1101  ...    41   797\n",
              "54890     364      783  ...   363   552\n",
              "76824     480      597  ...   479   468\n",
              "860         6      261  ...     5   479\n",
              "15797     103     1179  ...   102   455\n",
              "\n",
              "[100830 rows x 7 columns]"
            ]
          },
          "execution_count": 47,
          "metadata": {},
          "output_type": "execute_result"
        }
      ]
    },
    {
      "cell_type": "code",
      "metadata": {
        "id": "h5V6qR4BfpLG"
      },
      "source": [
        "# Membuat variabel x untuk mencocokkan data user dan movie menjadi satu value\n",
        "x = df[['user', 'movie']].values\n",
        " \n",
        "# Membuat variabel y untuk membuat rating dari hasil \n",
        "y = df['rating'].apply(lambda x: (x - min_rating) / (max_rating - min_rating)).values\n",
        " \n",
        "# Membagi menjadi 80% data train dan 20% data validasi\n",
        "train_indices = int(0.8 * df.shape[0])\n",
        "x_train, x_val, y_train, y_val = (\n",
        "    x[:train_indices],\n",
        "    x[train_indices:],\n",
        "    y[:train_indices],\n",
        "    y[train_indices:]\n",
        ")"
      ],
      "execution_count": null,
      "outputs": []
    },
    {
      "cell_type": "markdown",
      "metadata": {
        "id": "N43SLay6oqEa"
      },
      "source": [
        "#### Model Training"
      ]
    },
    {
      "cell_type": "code",
      "metadata": {
        "id": "Zr-JKjqCfpLG"
      },
      "source": [
        "import tensorflow as tf\n",
        "from tensorflow import keras\n",
        "from tensorflow.keras import layers\n",
        "from keras.callbacks import  EarlyStopping\n",
        "\n",
        "class RecommenderNet(tf.keras.Model):\n",
        " \n",
        "  # Insialisasi fungsi\n",
        "  def __init__(self, num_users, num_movie, embedding_size, **kwargs):\n",
        "    super(RecommenderNet, self).__init__(**kwargs)\n",
        "    self.num_users = num_users\n",
        "    self.num_movie = num_movie\n",
        "    self.embedding_size = embedding_size\n",
        "    self.user_embedding = layers.Embedding( # layer embedding user\n",
        "        num_users,\n",
        "        embedding_size,\n",
        "        embeddings_initializer = 'he_normal',\n",
        "        embeddings_regularizer = keras.regularizers.l2(5e-7)\n",
        "    )\n",
        "    self.user_bias = layers.Embedding(num_users, 1) # layer embedding user bias\n",
        "    self.movie_embedding = layers.Embedding( # layer embeddings movie\n",
        "        num_movie,\n",
        "        embedding_size,\n",
        "        embeddings_initializer = 'he_normal',\n",
        "        embeddings_regularizer = keras.regularizers.l2(5e-7)\n",
        "    )\n",
        "    self.movie_bias = layers.Embedding(num_movie, 1) # layer embedding movie bias\n",
        " \n",
        "  def call(self, inputs):\n",
        "    user_vector = self.user_embedding(inputs[:,0]) # memanggil layer embedding 1\n",
        "    user_bias = self.user_bias(inputs[:, 0]) # memanggil layer embedding 2\n",
        "    movie_vector = self.movie_embedding(inputs[:, 1]) # memanggil layer embedding 3\n",
        "    movie_bias = self.movie_bias(inputs[:, 1]) # memanggil layer embedding 4\n",
        " \n",
        "    dot_user_movie = tf.tensordot(user_vector, movie_vector, 2) \n",
        " \n",
        "    x = dot_user_movie + user_bias + movie_bias\n",
        "    \n",
        "    return tf.nn.sigmoid(x) # activation sigmoid"
      ],
      "execution_count": null,
      "outputs": []
    },
    {
      "cell_type": "code",
      "metadata": {
        "id": "gWo2uPt0gVbu"
      },
      "source": [
        "model = RecommenderNet(num_users, num_movie, 50) # inisialisasi model\n",
        " \n",
        "# model compile\n",
        "model.compile(\n",
        "    loss = tf.keras.losses.BinaryCrossentropy(),\n",
        "    optimizer = keras.optimizers.Adam(learning_rate=0.001),\n",
        "    metrics=[[tf.keras.metrics.MeanAbsoluteError(),tf.keras.metrics.RootMeanSquaredError()]]\n",
        ")\n",
        "callbacks = EarlyStopping(\n",
        "    min_delta=0.0001,\n",
        "    patience=7,\n",
        "    restore_best_weights=True,\n",
        ")"
      ],
      "execution_count": null,
      "outputs": []
    },
    {
      "cell_type": "code",
      "metadata": {
        "colab": {
          "base_uri": "https://localhost:8080/"
        },
        "id": "zBl1nTA6hCEh",
        "outputId": "091ed64f-1789-4d82-c556-8e317fe86455"
      },
      "source": [
        "history = model.fit(\n",
        "    x = x_train,\n",
        "    y = y_train,\n",
        "    batch_size = 8,\n",
        "    epochs = 100,\n",
        "    validation_data = (x_val, y_val),\n",
        "    callbacks=[callbacks]\n",
        ")"
      ],
      "execution_count": null,
      "outputs": [
        {
          "name": "stdout",
          "output_type": "stream",
          "text": [
            "Epoch 1/100\n",
            "10083/10083 [==============================] - 64s 6ms/step - loss: 0.6267 - mean_absolute_error: 0.1671 - root_mean_squared_error: 0.2104 - val_loss: 0.6120 - val_mean_absolute_error: 0.1515 - val_root_mean_squared_error: 0.1938\n",
            "Epoch 2/100\n",
            "10083/10083 [==============================] - 63s 6ms/step - loss: 0.6065 - mean_absolute_error: 0.1459 - root_mean_squared_error: 0.1873 - val_loss: 0.6092 - val_mean_absolute_error: 0.1485 - val_root_mean_squared_error: 0.1905\n",
            "Epoch 3/100\n",
            "10083/10083 [==============================] - 62s 6ms/step - loss: 0.6024 - mean_absolute_error: 0.1412 - root_mean_squared_error: 0.1824 - val_loss: 0.6081 - val_mean_absolute_error: 0.1469 - val_root_mean_squared_error: 0.1891\n",
            "Epoch 4/100\n",
            "10083/10083 [==============================] - 62s 6ms/step - loss: 0.6006 - mean_absolute_error: 0.1394 - root_mean_squared_error: 0.1801 - val_loss: 0.6084 - val_mean_absolute_error: 0.1474 - val_root_mean_squared_error: 0.1894\n",
            "Epoch 5/100\n",
            "10083/10083 [==============================] - 61s 6ms/step - loss: 0.5987 - mean_absolute_error: 0.1374 - root_mean_squared_error: 0.1778 - val_loss: 0.6080 - val_mean_absolute_error: 0.1468 - val_root_mean_squared_error: 0.1887\n",
            "Epoch 6/100\n",
            "10083/10083 [==============================] - 62s 6ms/step - loss: 0.5980 - mean_absolute_error: 0.1366 - root_mean_squared_error: 0.1768 - val_loss: 0.6078 - val_mean_absolute_error: 0.1468 - val_root_mean_squared_error: 0.1884\n",
            "Epoch 7/100\n",
            "10083/10083 [==============================] - 65s 6ms/step - loss: 0.5970 - mean_absolute_error: 0.1353 - root_mean_squared_error: 0.1756 - val_loss: 0.6078 - val_mean_absolute_error: 0.1463 - val_root_mean_squared_error: 0.1884\n",
            "Epoch 8/100\n",
            "10083/10083 [==============================] - 66s 7ms/step - loss: 0.5964 - mean_absolute_error: 0.1347 - root_mean_squared_error: 0.1748 - val_loss: 0.6074 - val_mean_absolute_error: 0.1458 - val_root_mean_squared_error: 0.1879\n",
            "Epoch 9/100\n",
            "10083/10083 [==============================] - 64s 6ms/step - loss: 0.5957 - mean_absolute_error: 0.1338 - root_mean_squared_error: 0.1739 - val_loss: 0.6078 - val_mean_absolute_error: 0.1458 - val_root_mean_squared_error: 0.1882\n",
            "Epoch 10/100\n",
            "10083/10083 [==============================] - 64s 6ms/step - loss: 0.5956 - mean_absolute_error: 0.1336 - root_mean_squared_error: 0.1737 - val_loss: 0.6084 - val_mean_absolute_error: 0.1458 - val_root_mean_squared_error: 0.1887\n",
            "Epoch 11/100\n",
            "10083/10083 [==============================] - 62s 6ms/step - loss: 0.5954 - mean_absolute_error: 0.1334 - root_mean_squared_error: 0.1734 - val_loss: 0.6082 - val_mean_absolute_error: 0.1458 - val_root_mean_squared_error: 0.1885\n",
            "Epoch 12/100\n",
            "10083/10083 [==============================] - 63s 6ms/step - loss: 0.5948 - mean_absolute_error: 0.1327 - root_mean_squared_error: 0.1726 - val_loss: 0.6081 - val_mean_absolute_error: 0.1457 - val_root_mean_squared_error: 0.1884\n",
            "Epoch 13/100\n",
            "10083/10083 [==============================] - 63s 6ms/step - loss: 0.5946 - mean_absolute_error: 0.1323 - root_mean_squared_error: 0.1724 - val_loss: 0.6083 - val_mean_absolute_error: 0.1453 - val_root_mean_squared_error: 0.1884\n",
            "Epoch 14/100\n",
            "10083/10083 [==============================] - 63s 6ms/step - loss: 0.5941 - mean_absolute_error: 0.1317 - root_mean_squared_error: 0.1717 - val_loss: 0.6082 - val_mean_absolute_error: 0.1452 - val_root_mean_squared_error: 0.1882\n",
            "Epoch 15/100\n",
            "10083/10083 [==============================] - 65s 6ms/step - loss: 0.5941 - mean_absolute_error: 0.1319 - root_mean_squared_error: 0.1718 - val_loss: 0.6081 - val_mean_absolute_error: 0.1450 - val_root_mean_squared_error: 0.1881\n"
          ]
        }
      ]
    },
    {
      "cell_type": "markdown",
      "metadata": {
        "id": "PlMjZTXQo905"
      },
      "source": [
        "#### Rekomendasi Movies dengan Collaborative Filtering"
      ]
    },
    {
      "cell_type": "code",
      "metadata": {
        "id": "3_-xCiCzhV7r"
      },
      "source": [
        "# Mengambil sample user\n",
        "user_ID = df.userId.sample(1).iloc[0]\n",
        "movie_watched_by_user = df[df.userId == user_ID]\n",
        " \n",
        "movie_not_watched = movies[~movies['movieId'].isin(movie_watched_by_user.movieId.values)]['movieId'] \n",
        "movie_not_watched = list(\n",
        "    set(movie_not_watched)\n",
        "    .intersection(set(movie_to_movie_encoded.keys()))\n",
        ")\n",
        "\n",
        " \n",
        "movie_not_watched = [[movie_to_movie_encoded.get(x)] for x in movie_not_watched]\n",
        "user_encoder = user_to_user_encoded.get(user_ID)\n",
        "user_movie_array = np.hstack(\n",
        "    ([[user_encoder]] * len(movie_not_watched), movie_not_watched)\n",
        ")"
      ],
      "execution_count": null,
      "outputs": []
    },
    {
      "cell_type": "code",
      "metadata": {
        "colab": {
          "base_uri": "https://localhost:8080/"
        },
        "id": "6jwyAsFKhhVR",
        "outputId": "6b7dd20c-3eb6-4117-c8fb-ee7f3835f0ae"
      },
      "source": [
        "ratings = model.predict(user_movie_array).flatten()\n",
        " \n",
        "top_ratings_indices = ratings.argsort()[-10:][::-1]\n",
        "recommended_movie_ids = [\n",
        "    movie_encoded_to_movie.get(movie_not_watched[x][0]) for x in top_ratings_indices\n",
        "]\n",
        " \n",
        "print('Showing recommendations for users: {}'.format(user_ID))\n",
        "print('====' * 10)\n",
        "print('movie with high ratings from user')\n",
        "print('----' * 8)\n",
        " \n",
        "top_movie_user = (\n",
        "    movie_watched_by_user.sort_values(\n",
        "        by = 'rating',\n",
        "        ascending=False\n",
        "    )\n",
        "    .head(5)\n",
        "    .movieId.values\n",
        ")\n",
        " \n",
        "movie_df_rows = movies[movies['movieId'].isin(top_movie_user)]\n",
        "for row in movie_df_rows.itertuples():\n",
        "    print(row.title)\n",
        " \n",
        "print('----' * 8)\n",
        "print('Top 10 movie recommendation')\n",
        "print('----' * 8)\n",
        " \n",
        "recommended_movie = movies[movies['movieId'].isin(recommended_movie_ids)]\n",
        "for row in recommended_movie.itertuples():\n",
        "    print(row.title)"
      ],
      "execution_count": null,
      "outputs": [
        {
          "name": "stdout",
          "output_type": "stream",
          "text": [
            "Showing recommendations for users: 474\n",
            "========================================\n",
            "movie with high ratings from user\n",
            "--------------------------------\n",
            "Remains of the Day, The (1993)\n",
            "Godfather, The (1972)\n",
            "Gaslight (1944)\n",
            "King and I, The (1956)\n",
            "Sixth Sense, The (1999)\n",
            "--------------------------------\n",
            "Top 10 movie recommendation\n",
            "--------------------------------\n",
            "Angels and Insects (1995)\n",
            "Ghost in the Shell (Kôkaku kidôtai) (1995)\n",
            "Bound (1996)\n",
            "Deconstructing Harry (1997)\n",
            "Buena Vista Social Club (1999)\n",
            "Bicycle Thieves (a.k.a. The Bicycle Thief) (a.k.a. The Bicycle Thieves) (Ladri di biciclette) (1948)\n",
            "Girl with the Dragon Tattoo, The (Män som hatar kvinnor) (2009)\n",
            "Moon (2009)\n",
            "Harry Potter and the Deathly Hallows: Part 1 (2010)\n",
            "Split (2017)\n"
          ]
        }
      ]
    },
    {
      "cell_type": "markdown",
      "metadata": {
        "id": "-vDutWYjMNr_"
      },
      "source": [
        "## Evaluation\n",
        "Pada evaluation saya menggunakan dua teknik yaitu :\n",
        "* Mean Absolute Error (MAE)\n",
        "* Root Mean Squared Error (RMSE)\n",
        "\n",
        "Dan untuk Sistem Rekomendasi Content Based Filtering Saya menggunakan `Precision`"
      ]
    },
    {
      "cell_type": "markdown",
      "metadata": {
        "id": "AEckIqpWnoLW"
      },
      "source": [
        "### Plot MAE"
      ]
    },
    {
      "cell_type": "code",
      "metadata": {
        "colab": {
          "base_uri": "https://localhost:8080/",
          "height": 376
        },
        "id": "rszCXSEcmaAJ",
        "outputId": "0e9dabb6-b5f8-4003-b950-b924145a3536"
      },
      "source": [
        "plt.plot(history.history['mean_absolute_error'])\n",
        "plt.plot(history.history['val_mean_absolute_error'])\n",
        "plt.title('model_metrics')\n",
        "plt.ylabel('mean_absolute_error')\n",
        "plt.xlabel('epoch')\n",
        "plt.legend(['mean_absolute_error', 'val_mean_absolute_error'])\n",
        "plt.show()"
      ],
      "execution_count": null,
      "outputs": [
        {
          "data": {
            "image/png": "[encoded data removed]",
            "text/plain": [
              "<Figure size 576x396 with 1 Axes>"
            ]
          },
          "metadata": {},
          "output_type": "display_data"
        }
      ]
    },
    {
      "cell_type": "markdown",
      "metadata": {
        "id": "FjUGM5S_nrVt"
      },
      "source": [
        "### Plot RMSE"
      ]
    },
    {
      "cell_type": "code",
      "metadata": {
        "colab": {
          "base_uri": "https://localhost:8080/",
          "height": 376
        },
        "id": "kbom3EtSnt-3",
        "outputId": "9ddfef6e-4c48-4102-d26e-213b0c0bf49c"
      },
      "source": [
        "plt.plot(history.history['root_mean_squared_error'])\n",
        "plt.plot(history.history['val_root_mean_squared_error'])\n",
        "plt.title('model_metrics')\n",
        "plt.ylabel('root_mean_squared_error')\n",
        "plt.xlabel('epoch')\n",
        "plt.legend(['root_mean_squared_error', 'val_root_mean_squared_error'])\n",
        "plt.show()"
      ],
      "execution_count": null,
      "outputs": [
        {
          "data": {
            "image/png": "[encoded data removed]",
            "text/plain": [
              "<Figure size 576x396 with 1 Axes>"
            ]
          },
          "metadata": {},
          "output_type": "display_data"
        }
      ]
    },
    {
      "cell_type": "markdown",
      "metadata": {
        "id": "jpWN3TV1I1IA"
      },
      "source": [
        "### Precision Content Based Filtering"
      ]
    },
    {
      "cell_type": "markdown",
      "metadata": {
        "id": "ODuM6eGSfpLB"
      },
      "source": [
        "#### Membuat Function untuk merekomendasikan 10 movies yang mirip"
      ]
    },
    {
      "cell_type": "code",
      "metadata": {
        "id": "40MwBg0ZfpLC"
      },
      "source": [
        "def MovieRecommendations(movies_title, similarity_data=cosine_sim_df, \n",
        "                         items=movies[['movieId','title','genres']], k=10):\n",
        "  \n",
        "    ''' Mengambil data menggunakan argpartition untuk partisi secara tidak langsung,\n",
        "    sepanjang sumbu yang diberikan, kemudian dataframe diubah menjadi numpy Range \n",
        "    dengan parameter sebagai berikut (start, stop, step) '''\n",
        "    index = similarity_data.loc[:, movies_title].to_numpy().argpartition(\n",
        "        range(-1, -k, -1)\n",
        "    )\n",
        "\n",
        "    # Mengambil data dengan similarity terbesar dari index yang ada\n",
        "    closest = similarity_data.columns[index[-1:-(k+2):-1]]\n",
        "\n",
        "    # Drop movie_title agar nama movie yang dicari tidak muncul dalam daftar rekomendasi\n",
        "    closest = closest.drop(movies_title, errors='ignore')\n",
        "\n",
        "    return pd.DataFrame(closest).merge(items).head(k)"
      ],
      "execution_count": null,
      "outputs": []
    },
    {
      "cell_type": "markdown",
      "metadata": {
        "id": "GIg4hQ23JFrp"
      },
      "source": [
        "##### Rekomendasi movies dengan Content Based Filtering\n"
      ]
    },
    {
      "cell_type": "code",
      "metadata": {
        "colab": {
          "base_uri": "https://localhost:8080/",
          "height": 80
        },
        "id": "ZW8JZQPhJLNi",
        "outputId": "9654f001-c250-45fd-ce58-d933b4fb965e"
      },
      "source": [
        "# Check data lengkap sebuah title \n",
        "find_title = movies[movies['title'] == 'Mean Streets (1973)']\n",
        "find_title"
      ],
      "execution_count": null,
      "outputs": [
        {
          "output_type": "execute_result",
          "data": {
            "text/html": [
              "<div>\n",
              "<style scoped>\n",
              "    .dataframe tbody tr th:only-of-type {\n",
              "        vertical-align: middle;\n",
              "    }\n",
              "\n",
              "    .dataframe tbody tr th {\n",
              "        vertical-align: top;\n",
              "    }\n",
              "\n",
              "    .dataframe thead th {\n",
              "        text-align: right;\n",
              "    }\n",
              "</style>\n",
              "<table border=\"1\" class=\"dataframe\">\n",
              "  <thead>\n",
              "    <tr style=\"text-align: right;\">\n",
              "      <th></th>\n",
              "      <th>movieId</th>\n",
              "      <th>title</th>\n",
              "      <th>genres</th>\n",
              "    </tr>\n",
              "  </thead>\n",
              "  <tbody>\n",
              "    <tr>\n",
              "      <th>5094</th>\n",
              "      <td>8042</td>\n",
              "      <td>Mean Streets (1973)</td>\n",
              "      <td>Crime|Drama</td>\n",
              "    </tr>\n",
              "  </tbody>\n",
              "</table>\n",
              "</div>"
            ],
            "text/plain": [
              "      movieId                title       genres\n",
              "5094     8042  Mean Streets (1973)  Crime|Drama"
            ]
          },
          "metadata": {},
          "execution_count": 20
        }
      ]
    },
    {
      "cell_type": "markdown",
      "metadata": {
        "id": "ifcbchnNJWBq"
      },
      "source": [
        "> Dapat dilihat bahwa judul film `Mean Streets (1973)` memiliki genre Crime & Drama"
      ]
    },
    {
      "cell_type": "code",
      "metadata": {
        "colab": {
          "base_uri": "https://localhost:8080/",
          "height": 359
        },
        "id": "wJRJerKkJLnE",
        "outputId": "c0368f20-4c25-4dc7-a566-9ead0caf1db7"
      },
      "source": [
        "movie_title = 'Mean Streets (1973)'\n",
        "movie_recomend = MovieRecommendations(movie_title)\n",
        "movie_recomend"
      ],
      "execution_count": null,
      "outputs": [
        {
          "output_type": "execute_result",
          "data": {
            "text/html": [
              "<div>\n",
              "<style scoped>\n",
              "    .dataframe tbody tr th:only-of-type {\n",
              "        vertical-align: middle;\n",
              "    }\n",
              "\n",
              "    .dataframe tbody tr th {\n",
              "        vertical-align: top;\n",
              "    }\n",
              "\n",
              "    .dataframe thead th {\n",
              "        text-align: right;\n",
              "    }\n",
              "</style>\n",
              "<table border=\"1\" class=\"dataframe\">\n",
              "  <thead>\n",
              "    <tr style=\"text-align: right;\">\n",
              "      <th></th>\n",
              "      <th>title</th>\n",
              "      <th>movieId</th>\n",
              "      <th>genres</th>\n",
              "    </tr>\n",
              "  </thead>\n",
              "  <tbody>\n",
              "    <tr>\n",
              "      <th>0</th>\n",
              "      <td>People I Know (2002)</td>\n",
              "      <td>6330</td>\n",
              "      <td>Crime|Drama</td>\n",
              "    </tr>\n",
              "    <tr>\n",
              "      <th>1</th>\n",
              "      <td>United States of Leland, The (2003)</td>\n",
              "      <td>7377</td>\n",
              "      <td>Crime|Drama</td>\n",
              "    </tr>\n",
              "    <tr>\n",
              "      <th>2</th>\n",
              "      <td>Above the Rim (1994)</td>\n",
              "      <td>409</td>\n",
              "      <td>Crime|Drama</td>\n",
              "    </tr>\n",
              "    <tr>\n",
              "      <th>3</th>\n",
              "      <td>Road to Perdition (2002)</td>\n",
              "      <td>5464</td>\n",
              "      <td>Crime|Drama</td>\n",
              "    </tr>\n",
              "    <tr>\n",
              "      <th>4</th>\n",
              "      <td>Virgin Spring, The (Jungfrukällan) (1960)</td>\n",
              "      <td>7820</td>\n",
              "      <td>Crime|Drama</td>\n",
              "    </tr>\n",
              "    <tr>\n",
              "      <th>5</th>\n",
              "      <td>Who'll Stop the Rain (1978)</td>\n",
              "      <td>4695</td>\n",
              "      <td>Crime|Drama</td>\n",
              "    </tr>\n",
              "    <tr>\n",
              "      <th>6</th>\n",
              "      <td>Prophet, A (Un Prophète) (2009)</td>\n",
              "      <td>73344</td>\n",
              "      <td>Crime|Drama</td>\n",
              "    </tr>\n",
              "    <tr>\n",
              "      <th>7</th>\n",
              "      <td>Tsotsi (2005)</td>\n",
              "      <td>44204</td>\n",
              "      <td>Crime|Drama</td>\n",
              "    </tr>\n",
              "    <tr>\n",
              "      <th>8</th>\n",
              "      <td>Godfather: Part II, The (1974)</td>\n",
              "      <td>1221</td>\n",
              "      <td>Crime|Drama</td>\n",
              "    </tr>\n",
              "    <tr>\n",
              "      <th>9</th>\n",
              "      <td>Tattooed Life (Irezumi ichidai) (1965)</td>\n",
              "      <td>63768</td>\n",
              "      <td>Crime|Drama</td>\n",
              "    </tr>\n",
              "  </tbody>\n",
              "</table>\n",
              "</div>"
            ],
            "text/plain": [
              "                                       title  movieId       genres\n",
              "0                       People I Know (2002)     6330  Crime|Drama\n",
              "1        United States of Leland, The (2003)     7377  Crime|Drama\n",
              "2                       Above the Rim (1994)      409  Crime|Drama\n",
              "3                   Road to Perdition (2002)     5464  Crime|Drama\n",
              "4  Virgin Spring, The (Jungfrukällan) (1960)     7820  Crime|Drama\n",
              "5                Who'll Stop the Rain (1978)     4695  Crime|Drama\n",
              "6            Prophet, A (Un Prophète) (2009)    73344  Crime|Drama\n",
              "7                              Tsotsi (2005)    44204  Crime|Drama\n",
              "8             Godfather: Part II, The (1974)     1221  Crime|Drama\n",
              "9     Tattooed Life (Irezumi ichidai) (1965)    63768  Crime|Drama"
            ]
          },
          "metadata": {},
          "execution_count": 21
        }
      ]
    },
    {
      "cell_type": "markdown",
      "metadata": {
        "id": "0xO6DIQCJRlv"
      },
      "source": [
        "> Dari 10 rekomendasi yang sistem berikan, 10 judul movie tersebut memiliki genre yang sama dengan `Mean Streets (1973)` yaitu Crime & Drama"
      ]
    }
  ]
}